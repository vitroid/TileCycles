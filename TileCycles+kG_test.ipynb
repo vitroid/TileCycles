{
 "cells": [
  {
   "cell_type": "markdown",
   "metadata": {
    "colab_type": "text",
    "id": "view-in-github"
   },
   "source": [
    "<a href=\"https://colab.research.google.com/github/vitroid/TileCycles/blob/main/TileCycles.ipynb\" target=\"_parent\"><img src=\"https://colab.research.google.com/assets/colab-badge.svg\" alt=\"Open In Colab\"/></a>"
   ]
  },
  {
   "cell_type": "code",
   "execution_count": 2,
   "metadata": {
    "colab": {
     "base_uri": "https://localhost:8080/"
    },
    "id": "Bo8eSXMuECsU",
    "outputId": "9759f76e-a822-4da9-b6b3-acd7fa7ee1dc"
   },
   "outputs": [
    {
     "name": "stdout",
     "output_type": "stream",
     "text": [
      "Collecting genice2\n",
      "\u001b[?25l  Downloading https://files.pythonhosted.org/packages/98/13/a8dbe8a6f1833e50e45668fd6677882903fc6a64740b22b5b9f4eac71804/GenIce2-2.1b3.tar.gz (694kB)\n",
      "\u001b[K     |████████████████████████████████| 696kB 5.5MB/s \n",
      "\u001b[?25hRequirement already satisfied: networkx>=2 in /usr/local/lib/python3.7/dist-packages (from genice2) (2.5.1)\n",
      "Collecting cycless\n",
      "  Downloading https://files.pythonhosted.org/packages/3f/21/cfd53149cc03cacfb9485e0d113091a8bf613526e5eb775b74732db3b7e4/cycless-0.1.4-py2.py3-none-any.whl\n",
      "Collecting pairlist>=0.2.11.1\n",
      "  Downloading https://files.pythonhosted.org/packages/5a/75/8edea732c97737fc59363026a2a6f23936b227e13612505120a135f1792d/PairList-0.2.11.1.tar.gz\n",
      "Collecting yaplotlib>=0.1\n",
      "  Downloading https://files.pythonhosted.org/packages/00/61/9939682d23a1384a2f0fd54e3e7c9d3397846bff203eff8f0716229fbc4f/yaplotlib-0.1.2-py2.py3-none-any.whl\n",
      "Requirement already satisfied: numpy in /usr/local/lib/python3.7/dist-packages (from genice2) (1.19.5)\n",
      "Requirement already satisfied: wheel in /usr/local/lib/python3.7/dist-packages (from genice2) (0.36.2)\n",
      "Collecting openpyscad\n",
      "  Downloading https://files.pythonhosted.org/packages/18/7a/ded2e0274762842e7fdffe62229cdaaa8102a35c793a44727b7900db159c/openpyscad-0.4.0-py3-none-any.whl\n",
      "Collecting graphstat\n",
      "  Downloading https://files.pythonhosted.org/packages/1b/d2/28744fa6f3fd0f06f3a43eb040592df196fa605bfd14631546673ef2096f/graphstat-0.2.1-py2.py3-none-any.whl\n",
      "Requirement already satisfied: decorator<5,>=4.3 in /usr/local/lib/python3.7/dist-packages (from networkx>=2->genice2) (4.4.2)\n",
      "Collecting methodtools\n",
      "  Downloading https://files.pythonhosted.org/packages/cf/08/b0557009f7b0e8038a7982fa13fd87ea94b8b8c32e6026eb3a0bbaa03ae8/methodtools-0.4.2.tar.gz\n",
      "Requirement already satisfied: six<2.0.0,>=1.14.0 in /usr/local/lib/python3.7/dist-packages (from openpyscad->genice2) (1.15.0)\n",
      "Collecting wirerope>=0.4.2\n",
      "  Downloading https://files.pythonhosted.org/packages/9d/dd/05bf03320c45e8831c3b88388a9457205939d5e9a802fc6f1252ea0c9a7f/wirerope-0.4.2.tar.gz\n",
      "Building wheels for collected packages: genice2, pairlist, methodtools, wirerope\n",
      "  Building wheel for genice2 (setup.py) ... \u001b[?25l\u001b[?25hdone\n",
      "  Created wheel for genice2: filename=GenIce2-2.1b3-py2.py3-none-any.whl size=836944 sha256=f783af608bb2be10b19724097893170adec6dd4e57fa94d9897511b25c3f939c\n",
      "  Stored in directory: /root/.cache/pip/wheels/b2/c4/db/0ae48f964fbb8179e85be5292912d1a491f8f35f5560d1d1a5\n",
      "  Building wheel for pairlist (setup.py) ... \u001b[?25l\u001b[?25hdone\n",
      "  Created wheel for pairlist: filename=PairList-0.2.11.1-cp37-cp37m-linux_x86_64.whl size=35272 sha256=721d813ae4f22138d5f8c92f6403dd1f8adbcdd7af61790ea39e93853c1a7432\n",
      "  Stored in directory: /root/.cache/pip/wheels/74/20/2f/64c940bb1f1046f7859faad73d7ea02597b5f224153795e2d1\n",
      "  Building wheel for methodtools (setup.py) ... \u001b[?25l\u001b[?25hdone\n",
      "  Created wheel for methodtools: filename=methodtools-0.4.2-cp37-none-any.whl size=2986 sha256=979da1ec92e8ce367433b3046ce187d1107ad8647b43f9597c5d7fd64d9e5132\n",
      "  Stored in directory: /root/.cache/pip/wheels/94/6a/63/a364e72d0abc8869f68b3fd19d701b428b9a0d2579d06f78ae\n",
      "  Building wheel for wirerope (setup.py) ... \u001b[?25l\u001b[?25hdone\n",
      "  Created wheel for wirerope: filename=wirerope-0.4.2-cp37-none-any.whl size=8749 sha256=8a98fe70c8935fa3f216009f5bf12eff16fb2a15dbdaae969e5a63fe23ad718c\n",
      "  Stored in directory: /root/.cache/pip/wheels/0f/96/85/60a4f8d39c55f2f54dc322249a1ba526aae558a007b224e053\n",
      "Successfully built genice2 pairlist methodtools wirerope\n",
      "Installing collected packages: wirerope, methodtools, cycless, pairlist, yaplotlib, openpyscad, graphstat, genice2\n",
      "Successfully installed cycless-0.1.4 genice2-2.1b3 graphstat-0.2.1 methodtools-0.4.2 openpyscad-0.4.0 pairlist-0.2.11.1 wirerope-0.4.2 yaplotlib-0.1.2\n"
     ]
    }
   ],
   "source": [
    "# install genice to generate the structure of ice.\n",
    "! pip install genice2"
   ]
  },
  {
   "cell_type": "markdown",
   "metadata": {
    "id": "EXCoWxdvXGTZ"
   },
   "source": [
    "## benchmark test"
   ]
  },
  {
   "cell_type": "code",
   "execution_count": 14,
   "metadata": {
    "id": "5OZQGRPxW0DE"
   },
   "outputs": [],
   "source": [
    "from genice2.genice import GenIce\n",
    "from genice2.plugin import Lattice, Format, Molecule\n",
    "\n",
    "import networkx as nx\n",
    "import numpy as np\n",
    "import random\n",
    "import time\n",
    "\n",
    "\n",
    "# sampling parameters for benchmarking\n",
    "# Accurate\n",
    "maxRepeat = 100  # loops\n",
    "maxAccum  = 25   # sec\n",
    "maxProc   = 100  # sec\n",
    "maxNode   = 1000000\n",
    "\n",
    "# Rough estimate\n",
    "# maxRepeat = 10  # loops\n",
    "# maxAccum  = 5   # sec\n",
    "# maxProc   = 10  # sec\n",
    "# maxNode   = 100000"
   ]
  },
  {
   "cell_type": "code",
   "execution_count": 3,
   "metadata": {
    "id": "ysFVcLaoY8h5"
   },
   "outputs": [],
   "source": [
    "def test_icerule(d, N):\n",
    "    assert d.number_of_nodes() == N\n",
    "    for node in d:\n",
    "        assert d.in_degree(node) == 2\n",
    "        assert d.in_degree(node) == 2        "
   ]
  },
  {
   "cell_type": "markdown",
   "metadata": {
    "id": "pEvBXxOJY8h6"
   },
   "source": [
    "## Buch's algorithm\n",
    "\n",
    "There are two hydrogen sites between two neighboring oxygens, and Buch's algorithm assumes that the initial configuration is one in which all the hydrogens randomly occupy one of the two sites.\n",
    "\n",
    "In the initial configuration, there are many oxygen atoms with excess hydrogen. The algorithm migrates hydrogen from such an oxygen atom to a neighboring oxygen atom, and repeats the process randomly until there are two hydrogen species in every oxygen atom.\n"
   ]
  },
  {
   "cell_type": "code",
   "execution_count": 20,
   "metadata": {
    "colab": {
     "base_uri": "https://localhost:8080/"
    },
    "id": "L33jRCUTY8h7",
    "outputId": "d8e087cf-ee59-495b-e265-12633478a0a2"
   },
   "outputs": [],
   "source": [
    "def migrate(d, excess):\n",
    "    \"\"\"\n",
    "    excess is a set of nodes having more than two outgoing edges\n",
    "    \"\"\"\n",
    "    while len(excess) > 0:\n",
    "        # random choice from candidates;\n",
    "        # there may be faster ways\n",
    "        head = random.choice(list(excess))\n",
    "        nexts = list(d.successors(head))\n",
    "        next = random.choice(nexts)\n",
    "        d.remove_edge(head, next)\n",
    "        d.add_edge(next, head)\n",
    "        # if head's outgoing order was three\n",
    "        if len(nexts) == 3:\n",
    "            # remove from the excess list\n",
    "            excess.remove(head)\n",
    "        # if next's outgoing orderis three\n",
    "        if d.out_degree(next) == 3:\n",
    "            # it becomes a new excess\n",
    "            excess.add(next)"
   ]
  },
  {
   "cell_type": "code",
   "execution_count": 4,
   "metadata": {
    "colab": {
     "base_uri": "https://localhost:8080/"
    },
    "id": "L33jRCUTY8h7",
    "outputId": "d8e087cf-ee59-495b-e265-12633478a0a2"
   },
   "outputs": [
    {
     "name": "stdout",
     "output_type": "stream",
     "text": [
      "64 molecules 0.0009599018096923828 s avg. 100 reps.\n",
      "216 molecules 0.0036502838134765624 s avg. 100 reps.\n",
      "512 molecules 0.010582818984985351 s avg. 100 reps.\n",
      "1000 molecules 0.0255122971534729 s avg. 100 reps.\n",
      "1728 molecules 0.051926758289337155 s avg. 100 reps.\n",
      "2744 molecules 0.09509040594100952 s avg. 100 reps.\n",
      "4096 molecules 0.17122009992599488 s avg. 100 reps.\n",
      "5832 molecules 0.27808052433861624 s avg. 90 reps.\n",
      "8000 molecules 0.4515446594783238 s avg. 56 reps.\n",
      "10648 molecules 0.8088009511270831 s avg. 31 reps.\n",
      "17576 molecules 2.3172121914950283 s avg. 11 reps.\n",
      "21952 molecules 3.5371090471744537 s avg. 8 reps.\n",
      "32768 molecules 7.8803165555000305 s avg. 4 reps.\n",
      "46656 molecules 15.422428131103516 s avg. 2 reps.\n",
      "64000 molecules 31.83476972579956 s avg. 1 reps.\n",
      "97336 molecules 69.93647599220276 s avg. 1 reps.\n",
      "125000 molecules 120.56298804283142 s avg. 1 reps.\n"
     ]
    }
   ],
   "source": [
    "lattice = Lattice(\"1c\")\n",
    "formatter = Format(\"raw\", stage=(2,))  # generates an undirected graph\n",
    "water = Molecule(\"spce\")\n",
    "\n",
    "buch = []\n",
    "lastN = 0\n",
    "for NN in range(8, 100):\n",
    "    N = int(1.4**(NN/3))\n",
    "    if N == lastN:\n",
    "        continue\n",
    "    lastN = N\n",
    "    raw = GenIce(lattice, rep=[N, N, N]).generate_ice(water, formatter)\n",
    "    g = raw['graph']\n",
    "    Nnode = g.number_of_nodes()\n",
    "\n",
    "    delta = 0.0\n",
    "    Nrep = 0\n",
    "    while delta < maxAccum and Nrep < maxRepeat:\n",
    "        dd = nx.DiGraph()\n",
    "        for a, b in g.edges():\n",
    "            if random.randint(0, 1) == 1:\n",
    "                dd.add_edge(a, b)\n",
    "            else:\n",
    "                dd.add_edge(b, a)\n",
    "\n",
    "        now = time.time()\n",
    "        migrate(dd, set([x for x in dd.nodes if dd.out_degree(x) > 2]))\n",
    "        delta += time.time() - now\n",
    "        Nrep += 1\n",
    "    delta /= Nrep\n",
    "    buch.append([Nnode, delta, Nrep])\n",
    "    print(f\"{Nnode} molecules {delta} s avg. {Nrep} reps.\")\n",
    "    test_icerule(dd, Nnode)\n",
    "    if delta > maxProc:\n",
    "        break\n",
    "    if Nnode > maxNode:\n",
    "        break"
   ]
  },
  {
   "cell_type": "markdown",
   "metadata": {
    "id": "ca3K1ckFY8h8"
   },
   "source": [
    "## GenIce algorithm\n",
    "\n",
    "Tiling by cycles."
   ]
  },
  {
   "cell_type": "code",
   "execution_count": 23,
   "metadata": {
    "colab": {
     "base_uri": "https://localhost:8080/"
    },
    "id": "kac5T4NGC9DL",
    "outputId": "93e8e4a0-c945-4759-8257-de9539d1cc7a"
   },
   "outputs": [],
   "source": [
    "from collections import defaultdict\n",
    "\n",
    "\n",
    "def find_cycle(g, chain, order):\n",
    "    # head of the snake\n",
    "    head = chain[-1]\n",
    "    # neck is the vertex next to head\n",
    "    neck = -1\n",
    "    if len(chain) > 1:\n",
    "        neck = chain[-2]\n",
    "    while True:\n",
    "        # candidates for the next step\n",
    "        candids = [i for i in g[head] if i != neck]\n",
    "        # go ahead\n",
    "        neck = head\n",
    "        head = random.choice(candids)\n",
    "        # lookup the new head in the markers\n",
    "        i = order[head]\n",
    "        # if it is marked as the tail end of the snake,\n",
    "        if i == 0:\n",
    "            # the random walk returns to the first node of the chain;\n",
    "            # unmark the head.\n",
    "            order[head] = -1\n",
    "            # return an empty chain and a cycle\n",
    "            return [], chain\n",
    "        # if the random walk crosses at an intermediate node of the chain,\n",
    "        elif i > 0:\n",
    "            # return a chain and a cycle\n",
    "            return chain[:i+1], chain[i:]\n",
    "        # otherwise, mark the new head position\n",
    "        order[head] = len(chain)\n",
    "        chain.append(head)\n",
    "\n",
    "\n",
    "def remove_cycle(g, cycle, order):\n",
    "    # unmark vertices in the cycle (except for the first vertecx)\n",
    "    for i in range(1, len(cycle)):\n",
    "        order[cycle[i]] = -1\n",
    "    # remove edges of the cycle\n",
    "    for i in range(len(cycle)):\n",
    "        a = cycle[i-1]\n",
    "        b = cycle[i]\n",
    "        g.remove_edge(a, b)\n",
    "    # remove edgeless vertices in the graph\n",
    "    for a in cycle:\n",
    "        if g.degree(a) == 0:\n",
    "            g.remove_node(a)\n",
    "\n",
    "\n",
    "def tileByCycles(g):\n",
    "    # random walk path\n",
    "    chain = []\n",
    "    # markers that indicate the orders in the path\n",
    "    order = -np.ones(g.number_of_nodes(), dtype=np.int)\n",
    "    while g.number_of_nodes() > 0:\n",
    "        # if the chain is empty\n",
    "        if len(chain) == 0:\n",
    "            # randomly select the \"head\" node.\n",
    "            head = random.choice(list(g.nodes()))\n",
    "            chain = [head]\n",
    "            # mark it as the first node.\n",
    "            order[head] = 0\n",
    "        # walk randomly to find a cycle.\n",
    "        chain, cycle = find_cycle(g, chain, order)\n",
    "        # found.\n",
    "        yield cycle\n",
    "        # remove it from the graph and unmark.\n",
    "        remove_cycle(g, cycle, order)"
   ]
  },
  {
   "cell_type": "code",
   "execution_count": 5,
   "metadata": {
    "colab": {
     "base_uri": "https://localhost:8080/"
    },
    "id": "kac5T4NGC9DL",
    "outputId": "93e8e4a0-c945-4759-8257-de9539d1cc7a"
   },
   "outputs": [
    {
     "name": "stdout",
     "output_type": "stream",
     "text": [
      "64 molecules 0.001320033073425293 s avg. 100 reps.\n",
      "216 molecules 0.0016901969909667968 s avg. 100 reps.\n",
      "512 molecules 0.004071691036224365 s avg. 100 reps.\n",
      "1000 molecules 0.008070731163024902 s avg. 100 reps.\n",
      "1728 molecules 0.014325029850006103 s avg. 100 reps.\n",
      "4096 molecules 0.0364236855506897 s avg. 100 reps.\n",
      "8000 molecules 0.07333219051361084 s avg. 100 reps.\n",
      "13824 molecules 0.13124616146087648 s avg. 100 reps.\n",
      "32768 molecules 0.3698941889931174 s avg. 68 reps.\n",
      "64000 molecules 0.8066396713256836 s avg. 31 reps.\n",
      "125000 molecules 1.7406960169474284 s avg. 15 reps.\n",
      "262144 molecules 3.959371328353882 s avg. 7 reps.\n",
      "512000 molecules 8.440053701400757 s avg. 3 reps.\n",
      "1000000 molecules 21.166125535964966 s avg. 2 reps.\n"
     ]
    }
   ],
   "source": [
    "lattice = Lattice(\"1c\")\n",
    "formatter = Format(\"raw\", stage=(2,))  # generates an undirected graph\n",
    "water = Molecule(\"spce\")\n",
    "\n",
    "gen = []\n",
    "for NN in range(4, 100):\n",
    "    N = int(2**(NN/3))\n",
    "    raw = GenIce(lattice, rep=[N, N, N]).generate_ice(water, formatter)\n",
    "    g0 = raw['graph']\n",
    "    Nnode = g0.number_of_nodes()\n",
    "\n",
    "    delta = 0.0\n",
    "    Nrep = 0\n",
    "    while delta < maxAccum and Nrep < maxRepeat:\n",
    "        g = nx.Graph(g0)\n",
    "\n",
    "        now = time.time()\n",
    "        dd = nx.DiGraph()\n",
    "        for cycle in tileByCycles(g):\n",
    "            nx.add_cycle(dd, cycle)\n",
    "        delta += time.time() - now\n",
    "        Nrep += 1\n",
    "    delta /= Nrep\n",
    "    gen.append([Nnode, delta, Nrep])\n",
    "    print(f\"{Nnode} molecules {delta} s avg. {Nrep} reps.\")\n",
    "    test_icerule(dd, Nnode)\n",
    "    if Nnode >= maxNode:\n",
    "        break"
   ]
  },
  {
   "cell_type": "markdown",
   "metadata": {
    "id": "5MAt2xo6Y8h9"
   },
   "source": [
    "## Rahman's algorithm\n",
    "\n",
    "The algorithm prepares a depolarized structure in advance and generates a hydrogen-disordered structure by successively reversing randomly chosen homodromic cycles.\n",
    "\n",
    "Here, the ice Ic structure generated by GenIce is used as an initial structure, and the procedure is repeated until all the edges are inverted at least once."
   ]
  },
  {
   "cell_type": "code",
   "execution_count": 7,
   "metadata": {
    "colab": {
     "base_uri": "https://localhost:8080/"
    },
    "id": "pb1gv00kY8h-",
    "outputId": "72d99704-1eb0-4737-945f-4c8acb35847f"
   },
   "outputs": [],
   "source": [
    "import random\n",
    "\n",
    "\n",
    "def six(d, Nnode):\n",
    "    \"\"\"\n",
    "    find a cyclic path in the given digraph.\n",
    "    d: digraph (networkx.DiGraph)\n",
    "    \"\"\"\n",
    "    head = random.randint(0, Nnode-1)\n",
    "    path = [head]\n",
    "    while True:\n",
    "        nexts = list(d.neighbors(head))\n",
    "        next = random.choice(nexts)\n",
    "        if next in path:\n",
    "            i = path.index(next)\n",
    "            return path[i:]\n",
    "        path.append(next)\n",
    "        head = next\n",
    "\n",
    "\n",
    "def invertCycle(d, cycle, g):\n",
    "    for i in range(len(cycle)):\n",
    "        a, b = cycle[i-1], cycle[i]\n",
    "        d.remove_edge(a, b)\n",
    "        d.add_edge(b, a)\n",
    "        # footprint\n",
    "        if g.has_edge(a, b):\n",
    "            g.remove_edge(a, b)"
   ]
  },
  {
   "cell_type": "code",
   "execution_count": 6,
   "metadata": {
    "colab": {
     "base_uri": "https://localhost:8080/"
    },
    "id": "pb1gv00kY8h-",
    "outputId": "72d99704-1eb0-4737-945f-4c8acb35847f"
   },
   "outputs": [
    {
     "name": "stdout",
     "output_type": "stream",
     "text": [
      "8 molecules 0.0004302978515625 s avg. 100 reps.\n",
      "64 molecules 0.006420538425445556 s avg. 100 reps.\n",
      "216 molecules 0.035842728614807126 s avg. 100 reps.\n",
      "512 molecules 0.15043798923492432 s avg. 100 reps.\n",
      "1000 molecules 0.549211683480636 s avg. 46 reps.\n",
      "1728 molecules 1.4913478318382711 s avg. 17 reps.\n",
      "2744 molecules 2.9520905282762318 s avg. 9 reps.\n",
      "4096 molecules 5.943412446975708 s avg. 5 reps.\n",
      "5832 molecules 11.085352102915445 s avg. 3 reps.\n",
      "8000 molecules 20.083874940872192 s avg. 2 reps.\n",
      "10648 molecules 33.21415185928345 s avg. 1 reps.\n",
      "13824 molecules 70.66308379173279 s avg. 1 reps.\n",
      "17576 molecules 97.26869082450867 s avg. 1 reps.\n",
      "21952 molecules 187.14283204078674 s avg. 1 reps.\n"
     ]
    }
   ],
   "source": [
    "lattice = Lattice(\"1c\")\n",
    "formatter = Format(\"raw\", stage=(3,))  # We need the directed graph of ice!\n",
    "water = Molecule(\"spce\")\n",
    "\n",
    "rahman = []\n",
    "for N in range(1, 20):\n",
    "    raw = GenIce(lattice, rep=[N, N, N]).generate_ice(water, formatter)\n",
    "    d = nx.DiGraph(raw['digraph'].edges())\n",
    "    Nnode = d.number_of_nodes()\n",
    "\n",
    "    delta = 0.0\n",
    "    Nrep = 0\n",
    "    while delta < maxAccum and Nrep < maxRepeat:\n",
    "        # footprint\n",
    "        g = nx.Graph(d)\n",
    "\n",
    "        now = time.time()\n",
    "        while g.number_of_edges() > 0:\n",
    "            cycle = six(d, d.number_of_nodes())\n",
    "            invertCycle(d, cycle, g)\n",
    "        delta += time.time() - now\n",
    "        Nrep += 1\n",
    "    delta /= Nrep\n",
    "    rahman.append([Nnode, delta, Nrep])\n",
    "    print(f\"{Nnode} molecules {delta} s avg. {Nrep} reps.\")\n",
    "    test_icerule(d, Nnode)\n",
    "    if delta > maxProc:\n",
    "        break"
   ]
  },
  {
   "cell_type": "code",
   "execution_count": 7,
   "metadata": {
    "colab": {
     "base_uri": "https://localhost:8080/"
    },
    "id": "KIFEzT3BYD8w",
    "outputId": "103be0b2-8a8c-40b1-8550-d7befc8ade55"
   },
   "outputs": [
    {
     "data": {
      "image/png": "[encoded data removed]",
      "text/plain": [
       "<Figure size 432x288 with 1 Axes>"
      ]
     },
     "metadata": {
      "needs_background": "light"
     },
     "output_type": "display_data"
    }
   ],
   "source": [
    "from matplotlib import pyplot as plt\n",
    "\n",
    "\n",
    "buch = np.array(buch)\n",
    "gen = np.array(gen)\n",
    "rahman = np.array(rahman)\n",
    "\n",
    "\n",
    "fig1, ax = plt.subplots()\n",
    "\n",
    "# ax.set_aspect('square') #, adjustable='box')\n",
    "\n",
    "plt.plot(rahman[:, 0], rahman[:, 1], label=\"Rahman\")\n",
    "plt.plot(buch[:, 0], buch[:, 1], label=\"Buch\")\n",
    "plt.plot(gen[:, 0], gen[:, 1], label=\"This work\")\n",
    "plt.xlim(0, 130000)\n",
    "plt.legend()\n",
    "plt.xlabel(\"Number of molecules\")\n",
    "plt.ylabel(\"Time / s\")\n",
    "plt.ylim(0, 100)\n",
    "plt.show()\n",
    "\n",
    "fig1.savefig(\"benchmark.pdf\")"
   ]
  },
  {
   "cell_type": "code",
   "execution_count": 8,
   "metadata": {
    "colab": {
     "base_uri": "https://localhost:8080/"
    },
    "id": "HzBzS47LZysp",
    "outputId": "d99331ab-0d83-407f-ee9e-5cb8a7ef8744"
   },
   "outputs": [
    {
     "data": {
      "image/png": "[encoded data removed]",
      "text/plain": [
       "<Figure size 432x288 with 1 Axes>"
      ]
     },
     "metadata": {
      "needs_background": "light"
     },
     "output_type": "display_data"
    }
   ],
   "source": [
    "fig1, ax = plt.subplots()\n",
    "\n",
    "lin = np.linspace(1e2, 1e5, 100)\n",
    "plt.loglog(rahman[:, 0], rahman[:, 1], label=\"Rahman\")\n",
    "plt.loglog(buch[:, 0], buch[:, 1], label=\"Buch\")\n",
    "plt.loglog(gen[:, 0], gen[:, 1], label=\"This work\")\n",
    "plt.loglog(lin, lin*1e-5, label=r\"y=A x\")\n",
    "plt.legend()\n",
    "plt.xlabel(\"Number of molecules\")\n",
    "plt.ylabel(\"Time / s\")\n",
    "\n",
    "fig1.savefig(\"benchmark-loglog.pdf\")\n"
   ]
  },
  {
   "cell_type": "code",
   "execution_count": 9,
   "metadata": {
    "colab": {
     "base_uri": "https://localhost:8080/"
    },
    "id": "ReSCKrZYZ4ND",
    "outputId": "80ce1ba3-f696-4625-811f-8cf23311bf4a"
   },
   "outputs": [
    {
     "name": "stdout",
     "output_type": "stream",
     "text": [
      "128\n"
     ]
    },
    {
     "data": {
      "image/png": "[encoded data removed]",
      "text/plain": [
       "<Figure size 432x288 with 1 Axes>"
      ]
     },
     "metadata": {
      "needs_background": "light"
     },
     "output_type": "display_data"
    },
    {
     "name": "stderr",
     "output_type": "stream",
     "text": [
      "<ipython-input-9-f40769049690>:54: MatplotlibDeprecationWarning: savefig() got unexpected keyword argument \"bbox\" which is no longer supported as of 3.3 and will become an error two minor releases later\n",
      "  fig1.savefig(\"map.pdf\", bbox='tight')\n"
     ]
    }
   ],
   "source": [
    "# for TOC graphics\n",
    "\n",
    "from matplotlib import pyplot as plt\n",
    "\n",
    "\n",
    "# make a 2D 6x6 ice.\n",
    "def draw_cycle(cycle, pos, N, col):\n",
    "    threshold = 1.1/N**2\n",
    "    cm = plt.get_cmap('rainbow')\n",
    "    for i in range(len(cycle)):\n",
    "        a = cycle[i-1]\n",
    "        b = cycle[i]\n",
    "        va = pos[a]\n",
    "        vb = pos[b]\n",
    "        d = vb - va\n",
    "        if d@d > threshold:\n",
    "            d -= np.floor(d+0.5)\n",
    "            seg = np.vstack([vb-d, vb])\n",
    "            plt.plot(seg[:, 0], seg[:, 1], color=cm(col))\n",
    "        seg = np.vstack([va, va+d])\n",
    "        plt.plot(seg[:, 0], seg[:, 1], color=cm(col))\n",
    "\n",
    "\n",
    "N = 8\n",
    "X = np.arange(N)\n",
    "Y = np.arange(N)\n",
    "X, Y = np.meshgrid(X, Y)\n",
    "X = X.reshape(N * N)\n",
    "Y = Y.reshape(N * N)\n",
    "pos = np.vstack([X, Y]).T / N  # fractional coordinate\n",
    "g = nx.Graph()\n",
    "for a in range(N*N):\n",
    "    for b in range(a):\n",
    "        d = pos[a] - pos[b]\n",
    "        d -= np.floor(d+0.5)\n",
    "        if (d@d)*N*N < 1.1:\n",
    "            g.add_edge(a, b)\n",
    "\n",
    "print(g.number_of_edges())\n",
    "\n",
    "\n",
    "fig1, ax = plt.subplots()\n",
    "\n",
    "cycles = []\n",
    "dd = nx.DiGraph()\n",
    "for cycle in tileByCycles(g):\n",
    "    cycles.append(cycle)\n",
    "\n",
    "for i, cycle in enumerate(cycles):\n",
    "    draw_cycle(cycle, pos, N, i/len(cycles))\n",
    "\n",
    "ax.set_aspect('equal', adjustable='box')\n",
    "plt.show()\n",
    "fig1.savefig(\"map.pdf\", bbox='tight')"
   ]
  },
  {
   "cell_type": "code",
   "execution_count": 14,
   "metadata": {
    "colab": {
     "base_uri": "https://localhost:8080/"
    },
    "id": "MXKWtxSb_eI-",
    "outputId": "6644b491-ee6f-4394-aed1-a7d04267fff1"
   },
   "outputs": [
    {
     "name": "stdout",
     "output_type": "stream",
     "text": [
      "Collecting tilecycles\n",
      "  Downloading https://files.pythonhosted.org/packages/63/ef/ddf462399bdb9e153bc2731db113ace7e32b9b5122085391989f0741b3fa/TileCycles-0.1.3.tar.gz\n",
      "Requirement already satisfied: numpy in /usr/local/lib/python3.7/dist-packages (from tilecycles) (1.19.5)\n",
      "Building wheels for collected packages: tilecycles\n",
      "  Building wheel for tilecycles (setup.py) ... \u001b[?25l\u001b[?25hdone\n",
      "  Created wheel for tilecycles: filename=TileCycles-0.1.3-cp37-cp37m-linux_x86_64.whl size=97017 sha256=b1270a7012b4308d528f6848dd1d40b4d5bb4683ad680da36fffe367b6b33796\n",
      "  Stored in directory: /root/.cache/pip/wheels/92/b8/e1/1d9df05efa5dffd9e7e1b3650a2844e857e5fdd1dfa245cdbc\n",
      "Successfully built tilecycles\n",
      "Installing collected packages: tilecycles\n",
      "Successfully installed tilecycles-0.1.3\n"
     ]
    }
   ],
   "source": [
    "!pip install tilecycles"
   ]
  },
  {
   "cell_type": "code",
   "execution_count": null,
   "metadata": {
    "colab": {
     "base_uri": "https://localhost:8080/"
    },
    "id": "fHJIT5e8Di3C",
    "outputId": "6730229a-8e36-403b-f378-212861d8d2f2"
   },
   "outputs": [
    {
     "name": "stdout",
     "output_type": "stream",
     "text": [
      "64 molecules 0.00013041257858276367 s avg. 100 reps.\n",
      "216 molecules 0.00043094635009765625 s avg. 100 reps.\n",
      "512 molecules 0.0010037732124328614 s avg. 100 reps.\n",
      "1000 molecules 0.0019905233383178712 s avg. 100 reps.\n",
      "1728 molecules 0.0033107757568359374 s avg. 100 reps.\n",
      "4096 molecules 0.00972919464111328 s avg. 100 reps.\n",
      "8000 molecules 0.029241757392883302 s avg. 100 reps.\n",
      "13824 molecules 0.0573698902130127 s avg. 100 reps.\n",
      "32768 molecules 0.15115628480911256 s avg. 100 reps.\n",
      "64000 molecules 0.3217358405773456 s avg. 78 reps.\n",
      "125000 molecules 0.6451614453242376 s avg. 39 reps.\n",
      "262144 molecules 1.4254716767205133 s avg. 18 reps.\n",
      "512000 molecules 2.9338805145687528 s avg. 9 reps.\n"
     ]
    }
   ],
   "source": [
    "# C++ implementation\n",
    "\n",
    "import tilecycles as tc\n",
    "import numpy as np\n",
    "\n",
    "lattice = Lattice(\"1c\")\n",
    "formatter = Format(\"raw\", stage=(2,))  # generates an undirected graph\n",
    "water = Molecule(\"spce\")\n",
    "\n",
    "seed = 1111\n",
    "\n",
    "cpp = []\n",
    "for NN in range(4, 100):\n",
    "    N = int(2**(NN/3))\n",
    "    raw = GenIce(lattice, rep=[N, N, N]).generate_ice(water, formatter)\n",
    "    g0 = raw['graph']\n",
    "    Nnode = g0.number_of_nodes()\n",
    "\n",
    "    pairs = np.array([(i, j) for i, j in g0.edges()], dtype=np.int32)\n",
    "\n",
    "    delta = 0.0\n",
    "    Nrep = 0\n",
    "    while delta < maxAccum and Nrep < maxRepeat:\n",
    "        now = time.time()\n",
    "        dd = nx.DiGraph()\n",
    "        for cycle in tc.tile(pairs, Nnode, seed):\n",
    "            nx.add_cycle(dd, cycle)\n",
    "        delta += time.time() - now\n",
    "        Nrep += 1\n",
    "    delta /= Nrep\n",
    "    cpp.append([Nnode, delta, Nrep])\n",
    "    print(f\"{Nnode} molecules {delta} s avg. {Nrep} reps.\")\n",
    "    test_icerule(dd, Nnode)\n",
    "    if Nnode >= maxNode:\n",
    "        break"
   ]
  },
  {
   "cell_type": "markdown",
   "metadata": {},
   "source": [
    "The C++ implementation is not quite fast because the data conversion between python always take a linear time against the system size."
   ]
  },
  {
   "cell_type": "code",
   "execution_count": null,
   "metadata": {
    "colab": {
     "base_uri": "https://localhost:8080/"
    },
    "id": "9fsJgRZ932FK",
    "outputId": "779b22e0-f576-48f2-d291-b83d603aa45f"
   },
   "outputs": [],
   "source": [
    "from matplotlib import pyplot as plt\n",
    "\n",
    "\n",
    "gen = np.array(gen)\n",
    "cpp = np.array(cpp)\n",
    "\n",
    "\n",
    "fig1, ax = plt.subplots()\n",
    "\n",
    "lin = np.linspace(1e2, 1e5, 100)\n",
    "plt.loglog(gen[:, 0], gen[:, 1], label=\"Python\")\n",
    "plt.loglog(cpp[:, 0], cpp[:, 1], label=\"C++\")\n",
    "\n",
    "plt.loglog(lin, lin*1e-5, label=r\"y=A x\")\n",
    "plt.legend()\n",
    "plt.xlabel(\"Number of molecules\")\n",
    "plt.ylabel(\"Time / s\")\n",
    "\n",
    "fig1.savefig(\"benchmark-cp-loglog.pdf\")\n",
    "\n",
    "# C++ is four times faster than python,\n",
    "# but Python is fast enough..."
   ]
  },
  {
   "cell_type": "markdown",
   "metadata": {},
   "source": [
    "## 検定\n",
    "\n",
    "生成した氷の構造が十分にランダムであるかどうかを確認するために、サイクルを構成する水素結合の向きの統計をとる。\n",
    "\n",
    "氷の結晶構造はさまざまなサイズのirreducible ringsで構成されている。氷Iは6員環のみで構成されている。アイスルールを満たすネットワークに含まれる1つの6員環に注目すると、それを構成する水素結合の配向パターンには統計的な特徴がある。ここでは計算を簡単にするために次のようなBethe tree 近似を導入する。ある4-connectedな無限無向グラフ$g$が、6-cycleを1つだけもち、ほかにはサイクルを持たないものとする。このグラフ$g$にアイスルールを導入して有向グラフに変換した時、6-cycleに沿った辺の配向パターンの分布は表1のようになる。(誰かすでにやってそうなものだ。Stillinger?)\n",
    "\n",
    "*Table 1 アイスルールを満たす有向グラフの六員環の配向パターンと、Bethe tree近似による出現確率*\n",
    "\n",
    "| pattern| probability|\n",
    "|------|--------|\n",
    "|→→→→→→| 64/365 |\n",
    "|→→→→→←| 96/365 |\n",
    "|→→→→←←| 96/365 |\n",
    "|→→→←→←| 24/365 |\n",
    "|→→→←←←| 48/365 |\n",
    "|→→←→→←| 12/365 |\n",
    "|→→←→←←| 24/365 |\n",
    "|→←→←→←|  1/365 |\n",
    "\n",
    "現実の氷には無数の六員環が含まれているが、均質にランダムな水素無秩序氷では、上の分布に極めて近い分布が得られる。そこで、表1の分布と、生成した氷構造での配向パターンの分布を比較し、それらの分布の間のKullback-Leibler divergence $d_{KL}$を、氷構造の均質さの尺度とみなす。均質にランダムな水素無秩序氷では、$d_{KL}$は0に近付くが、配向パターンに偏りがあると、より大きな値になる。\n",
    "\n",
    "Rahmanらのアルゴリズムと、Buchらのアルゴリズムはどちらも収束的なアルゴリズムで、計算サイクルを増やすほど均質な分布に近付く。Rahmanらのアルゴリズムに関しては、初期配置を氷XI構造とする。また、Buchのアルゴリズムでは、初期配置はice ruleを満たさない完全ランダムな有向グラフとする。そして、ステップを重ねるごとに、上の分布にどのように近接するかを観察する。\n",
    "\n",
    "\n",
    "## Test\n",
    "\n",
    "To check whether the structure of the generated ice is sufficiently random, we take the statistics of the orientation of the hydrogen bonds that make up the cycle.\n",
    "\n",
    "The crystal structure of ice consists of irreducible rings of various sizes. Ice I consists of only six-membered rings. If we focus on a single six-membered ring in the network that satisfies the ice rules, the orientation pattern of the hydrogen bonds that make up the ring has a statistical characteristic. To simplify the calculation, we introduce the following Bethe tree approximation. Suppose that a 4-connected infinite undirected graph $g$ has only one 6-cycle and no other cycles. When this graph $g$ is transformed into a directed graph by introducing the ice rules, the distribution of  edge orientation patterns along the 6-cycle is as shown in Table 1.\n",
    "\n",
    "*Table 1 Orientation patterns of six-membered rings in directed graphs satisfying the ice rules and their probability of occurrence using the Bethe tree approximation*.\n",
    "\n",
    "| pattern| probability|\n",
    "|------|--------|\n",
    "|→→→→→→| 64/365 |\n",
    "|→→→→→←| 96/365 |\n",
    "|→→→→←←| 96/365 |\n",
    "|→→→←→←| 24/365 |\n",
    "|→→→←←←| 48/365 |\n",
    "|→→←→→←| 12/365 |\n",
    "|→→←→←←| 24/365 |\n",
    "|→←→←→←|  1/365 |\n",
    "\n",
    "Although real ice contains innumerable six-membered rings, homogeneously random hydrogen-disordered ice yields a distribution very close to the above one. Therefore, we compare the distributions in Table 1 with the distributions of the orientation patterns in the generated ice structure, and consider the Kullback-Leibler divergence $d_{KL}$ between these distributions as a measure of the homogeneity of the ice structure. For homogeneously random hydrogen-disordered ice, $d_{KL}$ approaches zero, while biases in the orientation pattern lead to larger values.\n",
    "\n",
    "Both Rahman et al.'s and Buch et al.'s algorithms are convergent algorithms, approaching a homogeneous distribution with increasing number of computational cycles. For Rahman et al.'s algorithm, we choose the ice XI structure as the initial configuration. For Buch's algorithm, the initial configuration is a completely random directed graph that does not satisfy the ice rules. Then, with each step, we observe how it approaches the distribution above."
   ]
  },
  {
   "cell_type": "code",
   "execution_count": 15,
   "metadata": {},
   "outputs": [],
   "source": [
    "# Taken from GenIce/_ringstat.py\n",
    "from genice2.formats._ringstat import probabilities, orientations, encode\n",
    "\n",
    "\n",
    "def KLdiv(d, pos):\n",
    "    graph = nx.Graph(d)  # undirected\n",
    "    prob = probabilities(6)\n",
    "    stat = defaultdict(int)\n",
    "\n",
    "    for ring in cycles_iter(graph, 6,  pos=pos):\n",
    "        ori = orientations(ring, d)\n",
    "        c   = encode(ori)\n",
    "        n   = len(ring)\n",
    "        stat[c] += 1\n",
    "\n",
    "    #size code code(binary) Approx. Stat.\n",
    "    denom = 0\n",
    "    for c in stat:\n",
    "        denom += stat[c]\n",
    "    dKL = 0.0\n",
    "    for c in prob:\n",
    "        q = stat[c]/denom\n",
    "        p = prob[c]\n",
    "        if q > 0.0:\n",
    "            dKL += q*(log(q) - log(p))\n",
    "    dKL /= log(2.0)  #bit\n",
    "    return dKL"
   ]
  },
  {
   "cell_type": "code",
   "execution_count": 47,
   "metadata": {},
   "outputs": [
    {
     "name": "stdout",
     "output_type": "stream",
     "text": [
      "1 0.8230307782265128\n",
      "101 0.46683523667930915\n",
      "201 0.2870459895577991\n",
      "301 0.16959492265426093\n",
      "401 0.120607158643624\n",
      "501 0.0863366204624626\n",
      "601 0.05969701766662183\n",
      "701 0.04469211101361994\n",
      "801 0.0324634997947819\n",
      "901 0.019914520862471388\n",
      "1001 0.01483859709309217\n",
      "1101 0.011018126378635367\n",
      "1201 0.010015569667034686\n",
      "1301 0.008673652414289546\n",
      "1401 0.006812642375119498\n",
      "1501 0.005007804135077274\n",
      "1601 0.004421655833669552\n",
      "1701 0.0027397732428371515\n",
      "1801 0.0021014292517241456\n",
      "1901 0.002251944910601663\n",
      "2001 0.001837493302079593\n",
      "2101 0.0012832981142612274\n",
      "2201 0.0017067981629903316\n",
      "2301 0.0021939435718139767\n",
      "2401 0.001787351073828499\n",
      "2501 0.001453351736270308\n",
      "2601 0.000916636574024932\n",
      "2701 0.0006775658043458106\n",
      "2801 0.0006510131425695527\n",
      "2901 0.00039923155478159566\n",
      "3001 0.0005021080058194804\n",
      "3101 0.0004937518204501783\n",
      "3201 0.0004719695558261731\n",
      "3301 0.0007660393205576534\n",
      "3401 0.0005295642259018764\n",
      "3501 0.000324835322550262\n",
      "3601 0.00039907673001252076\n",
      "3701 0.0003374341923117791\n",
      "3801 0.00022665950151830465\n",
      "3901 0.00015259360611871345\n",
      "4001 9.340305693060684e-05\n",
      "4101 0.00012548175812623116\n",
      "4201 0.0003096862116407964\n",
      "4301 0.00046266179783805876\n",
      "4401 0.00037191481368358415\n",
      "4501 0.0005327033530241324\n",
      "4601 0.00045764990026962694\n",
      "4701 0.000713940197148147\n",
      "4801 0.0008919409908981037\n",
      "4901 0.0009203712909549733\n",
      "5001 0.0005423763493375989\n",
      "5101 0.00027159003854384503\n",
      "5201 0.0005745110456799053\n",
      "5301 0.00036152433612929004\n",
      "5401 0.00041876893121976897\n",
      "5501 0.0005295948480429067\n",
      "5601 0.0008480877819367226\n",
      "5701 0.0005860375412134816\n",
      "5801 0.0007415858585100681\n",
      "5901 0.0007590013240990392\n",
      "6001 0.0007391659577630125\n",
      "6101 0.0007926257556327614\n",
      "6201 0.0006511007056673541\n",
      "6301 0.0011738338247045557\n",
      "6401 0.0007757249476569727\n",
      "6501 0.0007254445969240846\n",
      "6601 0.0003386132997074943\n",
      "6701 0.00036543161407280887\n",
      "6801 0.0006150510760009873\n",
      "6901 0.0005318199878729969\n",
      "7001 0.0004954520129579193\n",
      "7101 0.0003263125963854684\n",
      "7201 0.00025483190124682924\n",
      "7301 0.0001942567794015231\n",
      "7401 0.0002709920483702089\n",
      "7501 0.00048412518141948476\n",
      "7601 0.00043534162443440626\n",
      "7701 0.000777455467077423\n",
      "7801 0.0009444793912047757\n",
      "7901 0.0004546946460096227\n",
      "8001 0.00058591486017579\n",
      "8101 0.00042480682629192617\n",
      "8201 0.0003879945404514529\n",
      "8301 0.0003048311409314381\n",
      "8401 0.00018733877245455667\n",
      "8501 0.00025930686677481945\n",
      "8601 0.00017832801683618775\n",
      "8701 0.00041241613576038544\n",
      "8801 0.00035529308458447193\n",
      "8901 0.00019230949733649007\n",
      "9001 0.00025126650097713043\n",
      "9101 7.377214296677896e-05\n",
      "9201 0.0001877086666141683\n",
      "9301 0.00017981475973511974\n",
      "9401 0.0003173199279626979\n",
      "9501 0.00017884598564396435\n",
      "9601 0.0002323933324140949\n",
      "9701 0.0001943409431675563\n",
      "9801 0.00011552956381111089\n",
      "9901 0.00022981419779781774\n",
      "10001 0.00022626433670016328\n",
      "10101 0.00038288514736347555\n",
      "10201 0.0003713523475660318\n",
      "10301 0.0005265626454487609\n",
      "10401 0.000620293214603691\n",
      "10501 0.0009176545254431014\n",
      "10601 0.0006340147385282393\n",
      "10701 0.0005604169684640289\n",
      "10801 0.0006366940434369415\n",
      "10901 0.0007945536394498646\n",
      "11001 0.0004973972136249995\n",
      "11101 0.0006800380205007297\n",
      "11201 0.0003213628796304876\n",
      "11301 0.00025049752360663794\n",
      "11401 0.00033168057133731274\n",
      "11501 0.00014955892243574275\n",
      "11601 0.00014174537705086306\n",
      "11701 0.00015916056569181724\n",
      "11801 0.0003580872226938989\n",
      "11901 0.00035273723676723477\n",
      "12001 0.0002847286157488871\n",
      "12101 0.0002068645779534869\n",
      "12201 0.00018836974823787682\n",
      "12301 0.0002272135739570244\n",
      "12401 0.00041328368980936265\n",
      "12501 0.00043581175113531105\n",
      "12601 0.00044662994128138474\n",
      "12701 0.00041145689778161114\n",
      "12801 0.0003948772182830633\n",
      "12901 0.0003720865772072586\n",
      "13001 0.0005204212901166087\n",
      "13101 0.0006077519998558948\n",
      "13201 0.0006830228869363653\n",
      "13301 0.00044271856391060526\n",
      "13401 0.0004980087083100816\n",
      "13501 0.0005428975604093132\n",
      "13601 0.0008483476511452687\n",
      "13701 0.0007476610965293415\n",
      "13801 0.000627081421707541\n",
      "13901 0.00043226075716025015\n",
      "14001 0.0004698289386310573\n",
      "14101 0.0005109227500211715\n",
      "14201 0.000491714655109799\n",
      "14301 0.00028866767206447253\n",
      "14401 0.0004009595233843825\n",
      "14501 0.0004746657489583585\n",
      "14601 0.0005061714220587219\n",
      "14701 0.00016847263949305497\n",
      "14801 0.0003338860985374368\n",
      "14901 0.0002208166016300209\n",
      "15001 0.0006887902500982296\n",
      "15101 0.0006858711767429622\n",
      "15201 0.0006179609281833796\n",
      "15301 0.0008384994945959938\n",
      "15401 0.0003693450022066959\n",
      "15501 0.0006657103172822362\n",
      "15601 0.0008770756887929354\n",
      "15701 0.0007858694802471792\n",
      "15801 0.0004905477833740238\n",
      "15901 0.00026125183939184346\n"
     ]
    },
    {
     "ename": "KeyboardInterrupt",
     "evalue": "",
     "output_type": "error",
     "traceback": [
      "\u001b[0;31m---------------------------------------------------------------------------\u001b[0m",
      "\u001b[0;31mKeyboardInterrupt\u001b[0m                         Traceback (most recent call last)",
      "\u001b[0;32m<ipython-input-47-48566802cfeb>\u001b[0m in \u001b[0;36m<module>\u001b[0;34m\u001b[0m\n\u001b[1;32m     21\u001b[0m     \u001b[0;32mif\u001b[0m \u001b[0mwatch\u001b[0m \u001b[0;34m==\u001b[0m \u001b[0msteps\u001b[0m\u001b[0;34m:\u001b[0m\u001b[0;34m\u001b[0m\u001b[0;34m\u001b[0m\u001b[0m\n\u001b[1;32m     22\u001b[0m         \u001b[0;31m# ring stat\u001b[0m\u001b[0;34m\u001b[0m\u001b[0;34m\u001b[0m\u001b[0;34m\u001b[0m\u001b[0m\n\u001b[0;32m---> 23\u001b[0;31m         \u001b[0mdKL\u001b[0m \u001b[0;34m=\u001b[0m \u001b[0mKLdiv\u001b[0m\u001b[0;34m(\u001b[0m\u001b[0md\u001b[0m\u001b[0;34m,\u001b[0m \u001b[0mrpos\u001b[0m\u001b[0;34m)\u001b[0m\u001b[0;34m\u001b[0m\u001b[0;34m\u001b[0m\u001b[0m\n\u001b[0m\u001b[1;32m     24\u001b[0m         \u001b[0mprint\u001b[0m\u001b[0;34m(\u001b[0m\u001b[0msteps\u001b[0m\u001b[0;34m,\u001b[0m \u001b[0mdKL\u001b[0m\u001b[0;34m)\u001b[0m\u001b[0;34m\u001b[0m\u001b[0;34m\u001b[0m\u001b[0m\n\u001b[1;32m     25\u001b[0m         \u001b[0mrahman_conv\u001b[0m\u001b[0;34m.\u001b[0m\u001b[0mappend\u001b[0m\u001b[0;34m(\u001b[0m\u001b[0;34m[\u001b[0m\u001b[0msteps\u001b[0m\u001b[0;34m,\u001b[0m \u001b[0mdKL\u001b[0m\u001b[0;34m]\u001b[0m\u001b[0;34m)\u001b[0m\u001b[0;34m\u001b[0m\u001b[0;34m\u001b[0m\u001b[0m\n",
      "\u001b[0;32m<ipython-input-15-03a4bdead002>\u001b[0m in \u001b[0;36mKLdiv\u001b[0;34m(d, pos)\u001b[0m\n\u001b[1;32m      8\u001b[0m     \u001b[0mstat\u001b[0m \u001b[0;34m=\u001b[0m \u001b[0mdefaultdict\u001b[0m\u001b[0;34m(\u001b[0m\u001b[0mint\u001b[0m\u001b[0;34m)\u001b[0m\u001b[0;34m\u001b[0m\u001b[0;34m\u001b[0m\u001b[0m\n\u001b[1;32m      9\u001b[0m \u001b[0;34m\u001b[0m\u001b[0m\n\u001b[0;32m---> 10\u001b[0;31m     \u001b[0;32mfor\u001b[0m \u001b[0mring\u001b[0m \u001b[0;32min\u001b[0m \u001b[0mcycles_iter\u001b[0m\u001b[0;34m(\u001b[0m\u001b[0mgraph\u001b[0m\u001b[0;34m,\u001b[0m \u001b[0;36m6\u001b[0m\u001b[0;34m,\u001b[0m  \u001b[0mpos\u001b[0m\u001b[0;34m=\u001b[0m\u001b[0mpos\u001b[0m\u001b[0;34m)\u001b[0m\u001b[0;34m:\u001b[0m\u001b[0;34m\u001b[0m\u001b[0;34m\u001b[0m\u001b[0m\n\u001b[0m\u001b[1;32m     11\u001b[0m         \u001b[0mori\u001b[0m \u001b[0;34m=\u001b[0m \u001b[0morientations\u001b[0m\u001b[0;34m(\u001b[0m\u001b[0mring\u001b[0m\u001b[0;34m,\u001b[0m \u001b[0md\u001b[0m\u001b[0;34m)\u001b[0m\u001b[0;34m\u001b[0m\u001b[0;34m\u001b[0m\u001b[0m\n\u001b[1;32m     12\u001b[0m         \u001b[0mc\u001b[0m   \u001b[0;34m=\u001b[0m \u001b[0mencode\u001b[0m\u001b[0;34m(\u001b[0m\u001b[0mori\u001b[0m\u001b[0;34m)\u001b[0m\u001b[0;34m\u001b[0m\u001b[0;34m\u001b[0m\u001b[0m\n",
      "\u001b[0;32m~/venvs/test-tilecycles/lib/python3.9/site-packages/cycless/cycles.py\u001b[0m in \u001b[0;36mcycles_iter\u001b[0;34m(graph, maxsize, pos)\u001b[0m\n\u001b[1;32m     89\u001b[0m         \u001b[0;32mfor\u001b[0m \u001b[0my\u001b[0m\u001b[0;34m,\u001b[0m\u001b[0mz\u001b[0m \u001b[0;32min\u001b[0m \u001b[0mitertools\u001b[0m\u001b[0;34m.\u001b[0m\u001b[0mcombinations\u001b[0m\u001b[0;34m(\u001b[0m\u001b[0mneis\u001b[0m\u001b[0;34m,\u001b[0m \u001b[0;36m2\u001b[0m\u001b[0;34m)\u001b[0m\u001b[0;34m:\u001b[0m\u001b[0;34m\u001b[0m\u001b[0;34m\u001b[0m\u001b[0m\n\u001b[1;32m     90\u001b[0m             \u001b[0mtriplet\u001b[0m \u001b[0;34m=\u001b[0m \u001b[0;34m[\u001b[0m\u001b[0my\u001b[0m\u001b[0;34m,\u001b[0m\u001b[0mx\u001b[0m\u001b[0;34m,\u001b[0m\u001b[0mz\u001b[0m\u001b[0;34m]\u001b[0m\u001b[0;34m\u001b[0m\u001b[0;34m\u001b[0m\u001b[0m\n\u001b[0;32m---> 91\u001b[0;31m             \u001b[0;34m(\u001b[0m\u001b[0mmax\u001b[0m\u001b[0;34m,\u001b[0m \u001b[0mresults\u001b[0m\u001b[0;34m)\u001b[0m \u001b[0;34m=\u001b[0m \u001b[0m_findring\u001b[0m\u001b[0;34m(\u001b[0m \u001b[0mgraph\u001b[0m\u001b[0;34m,\u001b[0m \u001b[0mtriplet\u001b[0m\u001b[0;34m,\u001b[0m \u001b[0mmaxsize\u001b[0m \u001b[0;34m)\u001b[0m\u001b[0;34m\u001b[0m\u001b[0;34m\u001b[0m\u001b[0m\n\u001b[0m\u001b[1;32m     92\u001b[0m             \u001b[0;32mfor\u001b[0m \u001b[0mi\u001b[0m \u001b[0;32min\u001b[0m \u001b[0mresults\u001b[0m\u001b[0;34m:\u001b[0m\u001b[0;34m\u001b[0m\u001b[0;34m\u001b[0m\u001b[0m\n\u001b[1;32m     93\u001b[0m                 \u001b[0;31m#Make i immutable for the key.\u001b[0m\u001b[0;34m\u001b[0m\u001b[0;34m\u001b[0m\u001b[0;34m\u001b[0m\u001b[0m\n",
      "\u001b[0;32m~/venvs/test-tilecycles/lib/python3.9/site-packages/cycless/cycles.py\u001b[0m in \u001b[0;36m_findring\u001b[0;34m(graph, members, max)\u001b[0m\n\u001b[1;32m     63\u001b[0m                     \u001b[0;32mpass\u001b[0m\u001b[0;34m\u001b[0m\u001b[0;34m\u001b[0m\u001b[0m\n\u001b[1;32m     64\u001b[0m             \u001b[0;32melse\u001b[0m\u001b[0;34m:\u001b[0m\u001b[0;34m\u001b[0m\u001b[0;34m\u001b[0m\u001b[0m\n\u001b[0;32m---> 65\u001b[0;31m                 \u001b[0;34m(\u001b[0m\u001b[0mnewmax\u001b[0m\u001b[0;34m,\u001b[0m\u001b[0mnewres\u001b[0m\u001b[0;34m)\u001b[0m \u001b[0;34m=\u001b[0m \u001b[0m_findring\u001b[0m\u001b[0;34m(\u001b[0m \u001b[0mgraph\u001b[0m\u001b[0;34m,\u001b[0m \u001b[0mmembers\u001b[0m \u001b[0;34m+\u001b[0m \u001b[0;34m[\u001b[0m\u001b[0madj\u001b[0m\u001b[0;34m]\u001b[0m\u001b[0;34m,\u001b[0m \u001b[0mmax\u001b[0m \u001b[0;34m)\u001b[0m\u001b[0;34m\u001b[0m\u001b[0;34m\u001b[0m\u001b[0m\n\u001b[0m\u001b[1;32m     66\u001b[0m                 \u001b[0;32mif\u001b[0m \u001b[0mnewmax\u001b[0m \u001b[0;34m<\u001b[0m \u001b[0mmax\u001b[0m\u001b[0;34m:\u001b[0m\u001b[0;34m\u001b[0m\u001b[0;34m\u001b[0m\u001b[0m\n\u001b[1;32m     67\u001b[0m                     \u001b[0mmax\u001b[0m \u001b[0;34m=\u001b[0m \u001b[0mnewmax\u001b[0m\u001b[0;34m\u001b[0m\u001b[0;34m\u001b[0m\u001b[0m\n",
      "\u001b[0;32m~/venvs/test-tilecycles/lib/python3.9/site-packages/cycless/cycles.py\u001b[0m in \u001b[0;36m_findring\u001b[0;34m(graph, members, max)\u001b[0m\n\u001b[1;32m     63\u001b[0m                     \u001b[0;32mpass\u001b[0m\u001b[0;34m\u001b[0m\u001b[0;34m\u001b[0m\u001b[0m\n\u001b[1;32m     64\u001b[0m             \u001b[0;32melse\u001b[0m\u001b[0;34m:\u001b[0m\u001b[0;34m\u001b[0m\u001b[0;34m\u001b[0m\u001b[0m\n\u001b[0;32m---> 65\u001b[0;31m                 \u001b[0;34m(\u001b[0m\u001b[0mnewmax\u001b[0m\u001b[0;34m,\u001b[0m\u001b[0mnewres\u001b[0m\u001b[0;34m)\u001b[0m \u001b[0;34m=\u001b[0m \u001b[0m_findring\u001b[0m\u001b[0;34m(\u001b[0m \u001b[0mgraph\u001b[0m\u001b[0;34m,\u001b[0m \u001b[0mmembers\u001b[0m \u001b[0;34m+\u001b[0m \u001b[0;34m[\u001b[0m\u001b[0madj\u001b[0m\u001b[0;34m]\u001b[0m\u001b[0;34m,\u001b[0m \u001b[0mmax\u001b[0m \u001b[0;34m)\u001b[0m\u001b[0;34m\u001b[0m\u001b[0;34m\u001b[0m\u001b[0m\n\u001b[0m\u001b[1;32m     66\u001b[0m                 \u001b[0;32mif\u001b[0m \u001b[0mnewmax\u001b[0m \u001b[0;34m<\u001b[0m \u001b[0mmax\u001b[0m\u001b[0;34m:\u001b[0m\u001b[0;34m\u001b[0m\u001b[0;34m\u001b[0m\u001b[0m\n\u001b[1;32m     67\u001b[0m                     \u001b[0mmax\u001b[0m \u001b[0;34m=\u001b[0m \u001b[0mnewmax\u001b[0m\u001b[0;34m\u001b[0m\u001b[0;34m\u001b[0m\u001b[0m\n",
      "\u001b[0;32m~/venvs/test-tilecycles/lib/python3.9/site-packages/cycless/cycles.py\u001b[0m in \u001b[0;36m_findring\u001b[0;34m(graph, members, max)\u001b[0m\n\u001b[1;32m     52\u001b[0m         \u001b[0mlast\u001b[0m \u001b[0;34m=\u001b[0m \u001b[0mmembers\u001b[0m\u001b[0;34m[\u001b[0m\u001b[0;34m-\u001b[0m\u001b[0;36m1\u001b[0m\u001b[0;34m]\u001b[0m\u001b[0;34m\u001b[0m\u001b[0;34m\u001b[0m\u001b[0m\n\u001b[1;32m     53\u001b[0m         \u001b[0mresults\u001b[0m \u001b[0;34m=\u001b[0m \u001b[0;34m[\u001b[0m\u001b[0;34m]\u001b[0m\u001b[0;34m\u001b[0m\u001b[0;34m\u001b[0m\u001b[0m\n\u001b[0;32m---> 54\u001b[0;31m         \u001b[0;32mfor\u001b[0m \u001b[0madj\u001b[0m \u001b[0;32min\u001b[0m \u001b[0mgraph\u001b[0m\u001b[0;34m[\u001b[0m\u001b[0mlast\u001b[0m\u001b[0;34m]\u001b[0m\u001b[0;34m:\u001b[0m\u001b[0;34m\u001b[0m\u001b[0;34m\u001b[0m\u001b[0m\n\u001b[0m\u001b[1;32m     55\u001b[0m             \u001b[0;32mif\u001b[0m \u001b[0madj\u001b[0m \u001b[0;32min\u001b[0m \u001b[0ms\u001b[0m\u001b[0;34m:\u001b[0m\u001b[0;34m\u001b[0m\u001b[0;34m\u001b[0m\u001b[0m\n\u001b[1;32m     56\u001b[0m                 \u001b[0;32mif\u001b[0m \u001b[0madj\u001b[0m \u001b[0;34m==\u001b[0m \u001b[0mmembers\u001b[0m\u001b[0;34m[\u001b[0m\u001b[0;36m0\u001b[0m\u001b[0;34m]\u001b[0m\u001b[0;34m:\u001b[0m\u001b[0;34m\u001b[0m\u001b[0;34m\u001b[0m\u001b[0m\n",
      "\u001b[0;32m~/venvs/test-tilecycles/lib/python3.9/site-packages/networkx/classes/graph.py\u001b[0m in \u001b[0;36m__getitem__\u001b[0;34m(self, n)\u001b[0m\n\u001b[1;32m    463\u001b[0m         \u001b[0mAtlasView\u001b[0m\u001b[0;34m(\u001b[0m\u001b[0;34m{\u001b[0m\u001b[0;36m1\u001b[0m\u001b[0;34m:\u001b[0m \u001b[0;34m{\u001b[0m\u001b[0;34m}\u001b[0m\u001b[0;34m}\u001b[0m\u001b[0;34m)\u001b[0m\u001b[0;34m\u001b[0m\u001b[0;34m\u001b[0m\u001b[0m\n\u001b[1;32m    464\u001b[0m         \"\"\"\n\u001b[0;32m--> 465\u001b[0;31m         \u001b[0;32mreturn\u001b[0m \u001b[0mself\u001b[0m\u001b[0;34m.\u001b[0m\u001b[0madj\u001b[0m\u001b[0;34m[\u001b[0m\u001b[0mn\u001b[0m\u001b[0;34m]\u001b[0m\u001b[0;34m\u001b[0m\u001b[0;34m\u001b[0m\u001b[0m\n\u001b[0m\u001b[1;32m    466\u001b[0m \u001b[0;34m\u001b[0m\u001b[0m\n\u001b[1;32m    467\u001b[0m     \u001b[0;32mdef\u001b[0m \u001b[0madd_node\u001b[0m\u001b[0;34m(\u001b[0m\u001b[0mself\u001b[0m\u001b[0;34m,\u001b[0m \u001b[0mnode_for_adding\u001b[0m\u001b[0;34m,\u001b[0m \u001b[0;34m**\u001b[0m\u001b[0mattr\u001b[0m\u001b[0;34m)\u001b[0m\u001b[0;34m:\u001b[0m\u001b[0;34m\u001b[0m\u001b[0;34m\u001b[0m\u001b[0m\n",
      "\u001b[0;31mKeyboardInterrupt\u001b[0m: "
     ]
    }
   ],
   "source": [
    "# Rahman's\n",
    "\n",
    "lattice = Lattice(\"11\")\n",
    "formatter = Format(\"raw\", stage=(1,3,))\n",
    "water = Molecule(\"spce\")\n",
    "\n",
    "N = 8\n",
    "raw = GenIce(lattice, rep=[N, N, N]).generate_ice(water, formatter)\n",
    "d = nx.DiGraph(raw['digraph'].edges())\n",
    "Nnode = d.number_of_nodes()\n",
    "rpos = raw['reppositions']\n",
    "\n",
    "# footprint\n",
    "g = nx.Graph(d)\n",
    "\n",
    "steps = 0\n",
    "watch = 1\n",
    "rahman_conv = []\n",
    "while g.number_of_edges() > 0:\n",
    "    steps += 1\n",
    "    if watch == steps:\n",
    "        # ring stat\n",
    "        dKL = KLdiv(d, rpos)\n",
    "        print(steps, dKL)\n",
    "        rahman_conv.append([steps, dKL])\n",
    "        # next watch interval\n",
    "        watch += 100  # watch\n",
    "\n",
    "    cycle = six(d, d.number_of_nodes())\n",
    "    invertCycle(d, cycle, g)\n",
    "\n",
    "dKL = KLdiv(d, rpos)\n",
    "print(steps, dKL)\n",
    "rahman_conv.append([steps, dKL])\n"
   ]
  },
  {
   "cell_type": "code",
   "execution_count": 46,
   "metadata": {},
   "outputs": [
    {
     "name": "stdout",
     "output_type": "stream",
     "text": [
      "1 0.49849786970104853\n",
      "1001 0.3514532074724364\n",
      "2001 0.24442242069908862\n",
      "3001 0.17926997378358023\n",
      "4001 0.13369107225880802\n",
      "5001 0.098626190197658\n",
      "6001 0.0739823828469744\n",
      "7001 0.05475108360157109\n",
      "8001 0.04225702640686071\n",
      "9001 0.034042103293595534\n",
      "10001 0.026932279303484255\n",
      "11001 0.021401898625665536\n",
      "12001 0.01662531440293121\n",
      "13001 0.012466214427154136\n",
      "14001 0.010690352869881724\n",
      "15001 0.008508649145552804\n",
      "16001 0.0074239357264809765\n",
      "17001 0.006171603567587445\n",
      "18001 0.0052798299873485065\n",
      "19001 0.004534286321251155\n",
      "20001 0.0043431187897710185\n",
      "21001 0.003729460409414698\n",
      "22001 0.003296792864725474\n",
      "23001 0.002635434262261646\n",
      "24001 0.002574606214101003\n",
      "25001 0.0020509841244979754\n",
      "26001 0.0021574137267309063\n",
      "27001 0.001833664482201879\n",
      "28001 0.0014571915350640192\n",
      "29001 0.0013014494477027734\n",
      "30001 0.0009479473235550179\n",
      "31001 0.0010804361120841455\n",
      "32001 0.0009481950393369475\n",
      "33001 0.0008220471412784902\n",
      "34001 0.0007594468726664843\n",
      "35001 0.0006533682667337737\n",
      "36001 0.0008336406416566394\n",
      "37001 0.0007536283624029647\n",
      "38001 0.0006462214377899932\n",
      "39001 0.0007460359794413746\n",
      "40001 0.0006045580116052467\n",
      "41001 0.0005670536408329276\n",
      "42001 0.0006435503323570739\n",
      "43001 0.0005438089227172261\n",
      "44001 0.0005048397147423198\n",
      "45001 0.00046333734942753544\n",
      "46001 0.0004202451351691787\n",
      "47001 0.00037388947272999645\n",
      "48001 0.00060704228029949\n",
      "49001 0.0004433086675167057\n",
      "50001 0.0003503274848131815\n",
      "51001 0.0005071818429367683\n",
      "52001 0.00040217501795470034\n",
      "53001 0.0007890108637068939\n",
      "54001 0.0007670270930614892\n",
      "55001 0.000684521100409466\n",
      "56001 0.0009075584749776885\n",
      "57001 0.0009536444506175262\n",
      "58001 0.0009820678667929145\n",
      "59001 0.0006479978787032657\n",
      "60001 0.0005727315829549267\n",
      "61001 0.0006274111440096343\n",
      "62001 0.0008044892870095906\n",
      "63001 0.0007358816893388778\n",
      "64001 0.0007739043658218642\n",
      "65001 0.0007940023503095827\n",
      "66001 0.0007028043508361147\n",
      "67001 0.0007061907383399393\n",
      "68001 0.0008081645329371931\n",
      "69001 0.0007145478133390897\n",
      "70001 0.0006311408136175881\n",
      "71001 0.0007877234832301622\n",
      "72001 0.0008689176735962757\n",
      "73001 0.001087113391571314\n",
      "74001 0.0009173411859649472\n",
      "75001 0.0010450417880329562\n",
      "76001 0.001274153519606478\n",
      "77001 0.0011397158621165816\n",
      "78001 0.0011083959957999708\n",
      "79001 0.0011633120582814846\n",
      "80001 0.0011441137232172083\n",
      "81001 0.0010845281486467247\n",
      "82001 0.0012313726492897616\n",
      "83001 0.0014628346470680336\n",
      "84001 0.0014699181292889994\n",
      "85001 0.001789050455938536\n",
      "86001 0.0016034788096302476\n",
      "87001 0.0017170034077970805\n",
      "88001 0.0017151858184208276\n",
      "89001 0.0014592310720067257\n",
      "90001 0.0013809567607470982\n",
      "91001 0.0013462319766538494\n",
      "92001 0.0012843893853544217\n",
      "93001 0.001140448747691875\n",
      "94001 0.000931565697721398\n",
      "95001 0.0008833128545676275\n",
      "96001 0.0010449483391786292\n",
      "97001 0.0011703595977455065\n",
      "98001 0.0012955999188538373\n",
      "99001 0.0011981723852587916\n",
      "100001 0.0014045920231763997\n",
      "101001 0.0012538772513826138\n",
      "102001 0.00113235292557914\n",
      "103001 0.001234700861983091\n",
      "104001 0.000868002242366449\n",
      "105001 0.0008416412757744996\n",
      "106001 0.0005374213179684934\n",
      "107001 0.0006905446427627486\n",
      "108001 0.0006405183573060188\n",
      "109001 0.0006160969756144963\n",
      "110001 0.0008407414347913001\n",
      "111001 0.0007193828230403422\n",
      "112001 0.0005601113486519373\n",
      "113001 0.00041608101301803\n",
      "114001 0.0005107175500567939\n",
      "115001 0.0005516842108427372\n",
      "116001 0.0007239307481309009\n",
      "117001 0.0006548226035930306\n",
      "117808 0.0006518336670799822\n"
     ]
    }
   ],
   "source": [
    "# Buch's\n",
    "\n",
    "buch_conv = []\n",
    "\n",
    "def migrate2(d, excess):\n",
    "    \"\"\"\n",
    "    excess is a set of nodes having more than two outgoing edges\n",
    "    \"\"\"\n",
    "    steps = 0\n",
    "    watch = 1\n",
    "    while len(excess) > 0:\n",
    "        steps += 1\n",
    "        if watch <= steps:\n",
    "            # ring stat\n",
    "            dKL = KLdiv(d, rpos)\n",
    "            print(steps, dKL)\n",
    "            buch_conv.append([steps, dKL])\n",
    "            # next watch interval\n",
    "            watch += 1000  # watch / 2\n",
    "\n",
    "        head = random.choice(list(excess))\n",
    "        nexts = list(d.successors(head))\n",
    "        next = random.choice(nexts)\n",
    "        d.remove_edge(head, next)\n",
    "        d.add_edge(next, head)\n",
    "        # if head's outgoing order was three\n",
    "        if len(nexts) == 3:\n",
    "            # remove from the excess list\n",
    "            excess.remove(head)\n",
    "        # if next's outgoing orderis three\n",
    "        if d.out_degree(next) == 3:\n",
    "            # it becomes a new excess\n",
    "            excess.add(next)\n",
    "    dKL = KLdiv(d, rpos)\n",
    "    print(steps, dKL)\n",
    "    buch_conv.append([steps, dKL])\n",
    "\n",
    "\n",
    "lattice = Lattice(\"1h\")\n",
    "formatter = Format(\"raw\", stage=(1,2,))  # generates an undirected graph\n",
    "water = Molecule(\"spce\")\n",
    "\n",
    "\n",
    "N = 8\n",
    "raw = GenIce(lattice, rep=[N, N, N]).generate_ice(water, formatter)\n",
    "g = raw['graph']\n",
    "rpos = raw['reppositions']\n",
    "Nnode = g.number_of_nodes()\n",
    "\n",
    "dd = nx.DiGraph()\n",
    "for a, b in g.edges():\n",
    "    if random.randint(0, 1) == 1:\n",
    "        dd.add_edge(a, b)\n",
    "    else:\n",
    "        dd.add_edge(b, a)\n",
    "\n",
    "migrate2(dd, set([x for x in dd.nodes if dd.out_degree(x) > 2]))\n"
   ]
  },
  {
   "cell_type": "code",
   "execution_count": 29,
   "metadata": {},
   "outputs": [
    {
     "name": "stdout",
     "output_type": "stream",
     "text": [
      "{'reppositions': array([[0.02115152, 0.03053264, 0.04660404],\n",
      "       [0.08388937, 0.07665353, 0.01529109],\n",
      "       [0.10480198, 0.0922079 , 0.04639721],\n",
      "       ...,\n",
      "       [0.9791171 , 0.88938525, 0.98396796],\n",
      "       [0.97981791, 0.96752983, 0.98370598],\n",
      "       [0.89615152, 0.90583763, 0.98391281]]), 'repcell': array([[6.25827101, 0.        , 0.        ],\n",
      "       [0.        , 5.88285812, 0.        ],\n",
      "       [0.        , 0.        , 7.22921481]]), 'repcagetype': None, 'repcagepos': None, 'cagetypes': None, 'dopants': {}, 'groups': defaultdict(<class 'dict'>, {}), 'filled_cages': set(), 'graph': <genice2.digraph.IceGraph object at 0x11dc28490>}\n",
      "0.0005141507548805231\n"
     ]
    }
   ],
   "source": [
    "# GenIce's\n",
    "\n",
    "lattice = Lattice(\"1h\")\n",
    "formatter = Format(\"raw\", stage=(1,2,))  # generates an undirected graph\n",
    "water = Molecule(\"spce\")\n",
    "N=8\n",
    "raw = GenIce(lattice, rep=[N, N, N]).generate_ice(water, formatter)\n",
    "g = nx.Graph(raw['graph'])\n",
    "print(raw)\n",
    "rpos = raw['reppositions']\n",
    "\n",
    "d = nx.DiGraph()\n",
    "for cycle in tileByCycles(g):\n",
    "    nx.add_cycle(d, cycle)\n",
    "\n",
    "genice_dKL = KLdiv(d, rpos)\n",
    "print(genice_dKL)\n"
   ]
  },
  {
   "cell_type": "code",
   "execution_count": 50,
   "metadata": {},
   "outputs": [
    {
     "data": {
      "image/png": "[encoded data removed]",
      "text/plain": [
       "<Figure size 432x288 with 1 Axes>"
      ]
     },
     "metadata": {
      "needs_background": "light"
     },
     "output_type": "display_data"
    }
   ],
   "source": [
    "from matplotlib import pyplot as plt\n",
    "\n",
    "\n",
    "buch_conv = np.array(buch_conv)\n",
    "rahman_conv = np.array(rahman_conv)\n",
    "\n",
    "fig1, ax = plt.subplots()\n",
    "\n",
    "lin = np.linspace(1e2, 1e5, 100)\n",
    "plt.plot(rahman_conv[:, 0] / rahman_conv[-1, 0]*100, rahman_conv[:, 1], label=\"Rahman\")\n",
    "plt.plot(buch_conv[:, 0] / buch_conv[-1, 0]*100, buch_conv[:, 1], label=\"Buch\")\n",
    "plt.plot(100, genice_dKL, 'o', label=\"This work\")\n",
    "plt.yscale('log')\n",
    "plt.legend()\n",
    "plt.xlabel(\"Progress (%)\")\n",
    "plt.ylabel(r\"$d_\\mathrm{KL}$\")\n",
    "\n",
    "fig1.savefig(\"ringstat-log.pdf\")"
   ]
  },
  {
   "cell_type": "markdown",
   "metadata": {},
   "source": [
    "別の検定として、双極子の遠距離相関を比較する。距離に依存するKirkwood g因子を次のように定義する。\n",
    "\n",
    "$$g(r)={\\sum_{j|r_{1j}<r}\\left<\\mathbf\\mu_1\\cdot\\mathbf\\mu_j\\right>\\over |\\mathbf\\mu|^2}$$\n",
    "\n",
    "ここで、総和は双極子$\\mathbf\\mu_1$を原点として半径$r$以内のすべての双極子に対して実施する。"
   ]
  },
  {
   "cell_type": "code",
   "execution_count": 78,
   "metadata": {},
   "outputs": [
    {
     "data": {
      "image/png": "[encoded data removed]",
      "text/plain": [
       "<Figure size 432x288 with 1 Axes>"
      ]
     },
     "metadata": {
      "needs_background": "light"
     },
     "output_type": "display_data"
    }
   ],
   "source": [
    "import pairlist as pl\n",
    "\n",
    "def dipoles(dg, rpos):\n",
    "    vecs = []\n",
    "    cpos = []\n",
    "    for a, b in dg.edges():\n",
    "        d = rpos[b] - rpos[a]\n",
    "        d -= np.floor(d + 0.5)\n",
    "        c = rpos[a] + d/2\n",
    "        cpos.append(c)  # cell-relative\n",
    "        vecs.append(d)  # cell-relative\n",
    "    vecs = np.array(vecs)\n",
    "    cpos = np.array(cpos)\n",
    "    return vecs, cpos\n",
    "\n",
    "\n",
    "def dipole_products(vecs, cpos, rmax, cell):\n",
    "    \"\"\"\n",
    "    vecs must be unit vectors in real scale.\n",
    "    \"\"\"\n",
    "    N = cpos.shape[0]\n",
    "    pairs = [[0.0, N]]  # self\n",
    "    for i,j,d in pl.pairs_iter(cpos, rmax, cell):\n",
    "        p = vecs[i] @ vecs[j]\n",
    "        pairs.append([d, p])\n",
    "    pairs = np.array(pairs)\n",
    "    return pairs\n",
    "\n",
    "\n",
    "# test case\n",
    "\n",
    "lattice = Lattice(\"1h\")\n",
    "formatter = Format(\"raw\", stage=(1,3,))\n",
    "water = Molecule(\"spce\")\n",
    "N=4\n",
    "for seed in range(1000,1100):\n",
    "    raw = GenIce(lattice, rep=[N, N, N], seed=seed).generate_ice(water, formatter)\n",
    "    dg = nx.Graph(raw['digraph'])\n",
    "    rpos = raw['reppositions']\n",
    "    cell = raw['repcell']\n",
    "\n",
    "    vecs, cpos = dipoles(dg, rpos)\n",
    "    vecs = vecs @ cell\n",
    "    L = np.linalg.norm(vecs, axis=1)\n",
    "    vecs /= L[:, np.newaxis]\n",
    "\n",
    "    pairs = dipole_products(vecs, cpos, cell[0,0]/2, cell)\n",
    "    order = np.argsort(pairs[:,0])\n",
    "    integ = np.cumsum(pairs[order,1])\n",
    "    plt.plot(pairs[order,0], integ)"
   ]
  },
  {
   "cell_type": "code",
   "execution_count": 18,
   "metadata": {
    "colab": {
     "base_uri": "https://localhost:8080/"
    },
    "id": "at0t2yvG32FK",
    "outputId": "f538764f-237c-418d-8339-99237b7eaec2"
   },
   "outputs": [
    {
     "name": "stdout",
     "output_type": "stream",
     "text": [
      "Collecting pycodestyle\n",
      "\u001b[?25l  Downloading https://files.pythonhosted.org/packages/de/cc/227251b1471f129bc35e966bb0fceb005969023926d744139642d847b7ae/pycodestyle-2.7.0-py2.py3-none-any.whl (41kB)\n",
      "\u001b[K     |████████████████████████████████| 51kB 2.5MB/s \n",
      "\u001b[?25hCollecting flake8\n",
      "\u001b[?25l  Downloading https://files.pythonhosted.org/packages/a0/b0/3b5820728d687f2c000476216a3fccc7a03baac1034afc0284ccde25e26d/flake8-3.9.1-py2.py3-none-any.whl (73kB)\n",
      "\u001b[K     |████████████████████████████████| 81kB 3.9MB/s \n",
      "\u001b[?25hCollecting pycodestyle_magic\n",
      "  Downloading https://files.pythonhosted.org/packages/ec/6f/f206894604a44b522bfa3b6264ca6c213bf89f119942dc3f35fc6589954c/pycodestyle_magic-0.5-py2.py3-none-any.whl\n",
      "Requirement already satisfied: importlib-metadata; python_version < \"3.8\" in /usr/local/lib/python3.7/dist-packages (from flake8) (3.10.1)\n",
      "Collecting mccabe<0.7.0,>=0.6.0\n",
      "  Downloading https://files.pythonhosted.org/packages/87/89/479dc97e18549e21354893e4ee4ef36db1d237534982482c3681ee6e7b57/mccabe-0.6.1-py2.py3-none-any.whl\n",
      "Collecting pyflakes<2.4.0,>=2.3.0\n",
      "\u001b[?25l  Downloading https://files.pythonhosted.org/packages/6c/11/2a745612f1d3cbbd9c69ba14b1b43a35a2f5c3c81cd0124508c52c64307f/pyflakes-2.3.1-py2.py3-none-any.whl (68kB)\n",
      "\u001b[K     |████████████████████████████████| 71kB 4.3MB/s \n",
      "\u001b[?25hRequirement already satisfied: zipp>=0.5 in /usr/local/lib/python3.7/dist-packages (from importlib-metadata; python_version < \"3.8\"->flake8) (3.4.1)\n",
      "Requirement already satisfied: typing-extensions>=3.6.4; python_version < \"3.8\" in /usr/local/lib/python3.7/dist-packages (from importlib-metadata; python_version < \"3.8\"->flake8) (3.7.4.3)\n",
      "Installing collected packages: pycodestyle, mccabe, pyflakes, flake8, pycodestyle-magic\n",
      "Successfully installed flake8-3.9.1 mccabe-0.6.1 pycodestyle-2.7.0 pycodestyle-magic-0.5 pyflakes-2.3.1\n"
     ]
    }
   ],
   "source": [
    "!pip install pycodestyle flake8 pycodestyle_magic"
   ]
  },
  {
   "cell_type": "code",
   "execution_count": 19,
   "metadata": {
    "id": "nL82ivXZBBUo"
   },
   "outputs": [],
   "source": [
    "%load_ext pycodestyle_magic"
   ]
  },
  {
   "cell_type": "code",
   "execution_count": null,
   "metadata": {
    "id": "CH4HtfTGBGPg"
   },
   "outputs": [],
   "source": []
  }
 ],
 "metadata": {
  "colab": {
   "collapsed_sections": [],
   "include_colab_link": true,
   "name": "TileCycles.ipynb",
   "provenance": [],
   "toc_visible": true
  },
  "kernelspec": {
   "display_name": "Python 3",
   "language": "python",
   "name": "python3"
  },
  "language_info": {
   "codemirror_mode": {
    "name": "ipython",
    "version": 3
   },
   "file_extension": ".py",
   "mimetype": "text/x-python",
   "name": "python",
   "nbconvert_exporter": "python",
   "pygments_lexer": "ipython3",
   "version": "3.9.1rc1"
  }
 },
 "nbformat": 4,
 "nbformat_minor": 1
}
