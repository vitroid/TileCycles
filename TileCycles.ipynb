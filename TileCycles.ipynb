{
 "cells": [
  {
   "cell_type": "markdown",
   "metadata": {
    "colab_type": "text",
    "id": "view-in-github"
   },
   "source": [
    "<a href=\"https://colab.research.google.com/github/vitroid/TileCycles/blob/main/TileCycles.ipynb\" target=\"_parent\"><img src=\"https://colab.research.google.com/assets/colab-badge.svg\" alt=\"Open In Colab\"/></a>"
   ]
  },
  {
   "cell_type": "code",
   "execution_count": 2,
   "metadata": {
    "colab": {
     "base_uri": "https://localhost:8080/"
    },
    "id": "Bo8eSXMuECsU",
    "outputId": "9759f76e-a822-4da9-b6b3-acd7fa7ee1dc"
   },
   "outputs": [
    {
     "name": "stdout",
     "output_type": "stream",
     "text": [
      "Collecting genice2\n",
      "\u001b[?25l  Downloading https://files.pythonhosted.org/packages/98/13/a8dbe8a6f1833e50e45668fd6677882903fc6a64740b22b5b9f4eac71804/GenIce2-2.1b3.tar.gz (694kB)\n",
      "\u001b[K     |████████████████████████████████| 696kB 5.5MB/s \n",
      "\u001b[?25hRequirement already satisfied: networkx>=2 in /usr/local/lib/python3.7/dist-packages (from genice2) (2.5.1)\n",
      "Collecting cycless\n",
      "  Downloading https://files.pythonhosted.org/packages/3f/21/cfd53149cc03cacfb9485e0d113091a8bf613526e5eb775b74732db3b7e4/cycless-0.1.4-py2.py3-none-any.whl\n",
      "Collecting pairlist>=0.2.11.1\n",
      "  Downloading https://files.pythonhosted.org/packages/5a/75/8edea732c97737fc59363026a2a6f23936b227e13612505120a135f1792d/PairList-0.2.11.1.tar.gz\n",
      "Collecting yaplotlib>=0.1\n",
      "  Downloading https://files.pythonhosted.org/packages/00/61/9939682d23a1384a2f0fd54e3e7c9d3397846bff203eff8f0716229fbc4f/yaplotlib-0.1.2-py2.py3-none-any.whl\n",
      "Requirement already satisfied: numpy in /usr/local/lib/python3.7/dist-packages (from genice2) (1.19.5)\n",
      "Requirement already satisfied: wheel in /usr/local/lib/python3.7/dist-packages (from genice2) (0.36.2)\n",
      "Collecting openpyscad\n",
      "  Downloading https://files.pythonhosted.org/packages/18/7a/ded2e0274762842e7fdffe62229cdaaa8102a35c793a44727b7900db159c/openpyscad-0.4.0-py3-none-any.whl\n",
      "Collecting graphstat\n",
      "  Downloading https://files.pythonhosted.org/packages/1b/d2/28744fa6f3fd0f06f3a43eb040592df196fa605bfd14631546673ef2096f/graphstat-0.2.1-py2.py3-none-any.whl\n",
      "Requirement already satisfied: decorator<5,>=4.3 in /usr/local/lib/python3.7/dist-packages (from networkx>=2->genice2) (4.4.2)\n",
      "Collecting methodtools\n",
      "  Downloading https://files.pythonhosted.org/packages/cf/08/b0557009f7b0e8038a7982fa13fd87ea94b8b8c32e6026eb3a0bbaa03ae8/methodtools-0.4.2.tar.gz\n",
      "Requirement already satisfied: six<2.0.0,>=1.14.0 in /usr/local/lib/python3.7/dist-packages (from openpyscad->genice2) (1.15.0)\n",
      "Collecting wirerope>=0.4.2\n",
      "  Downloading https://files.pythonhosted.org/packages/9d/dd/05bf03320c45e8831c3b88388a9457205939d5e9a802fc6f1252ea0c9a7f/wirerope-0.4.2.tar.gz\n",
      "Building wheels for collected packages: genice2, pairlist, methodtools, wirerope\n",
      "  Building wheel for genice2 (setup.py) ... \u001b[?25l\u001b[?25hdone\n",
      "  Created wheel for genice2: filename=GenIce2-2.1b3-py2.py3-none-any.whl size=836944 sha256=f783af608bb2be10b19724097893170adec6dd4e57fa94d9897511b25c3f939c\n",
      "  Stored in directory: /root/.cache/pip/wheels/b2/c4/db/0ae48f964fbb8179e85be5292912d1a491f8f35f5560d1d1a5\n",
      "  Building wheel for pairlist (setup.py) ... \u001b[?25l\u001b[?25hdone\n",
      "  Created wheel for pairlist: filename=PairList-0.2.11.1-cp37-cp37m-linux_x86_64.whl size=35272 sha256=721d813ae4f22138d5f8c92f6403dd1f8adbcdd7af61790ea39e93853c1a7432\n",
      "  Stored in directory: /root/.cache/pip/wheels/74/20/2f/64c940bb1f1046f7859faad73d7ea02597b5f224153795e2d1\n",
      "  Building wheel for methodtools (setup.py) ... \u001b[?25l\u001b[?25hdone\n",
      "  Created wheel for methodtools: filename=methodtools-0.4.2-cp37-none-any.whl size=2986 sha256=979da1ec92e8ce367433b3046ce187d1107ad8647b43f9597c5d7fd64d9e5132\n",
      "  Stored in directory: /root/.cache/pip/wheels/94/6a/63/a364e72d0abc8869f68b3fd19d701b428b9a0d2579d06f78ae\n",
      "  Building wheel for wirerope (setup.py) ... \u001b[?25l\u001b[?25hdone\n",
      "  Created wheel for wirerope: filename=wirerope-0.4.2-cp37-none-any.whl size=8749 sha256=8a98fe70c8935fa3f216009f5bf12eff16fb2a15dbdaae969e5a63fe23ad718c\n",
      "  Stored in directory: /root/.cache/pip/wheels/0f/96/85/60a4f8d39c55f2f54dc322249a1ba526aae558a007b224e053\n",
      "Successfully built genice2 pairlist methodtools wirerope\n",
      "Installing collected packages: wirerope, methodtools, cycless, pairlist, yaplotlib, openpyscad, graphstat, genice2\n",
      "Successfully installed cycless-0.1.4 genice2-2.1b3 graphstat-0.2.1 methodtools-0.4.2 openpyscad-0.4.0 pairlist-0.2.11.1 wirerope-0.4.2 yaplotlib-0.1.2\n"
     ]
    }
   ],
   "source": [
    "# install genice to generate the structure of ice.\n",
    "! pip install genice2"
   ]
  },
  {
   "cell_type": "markdown",
   "metadata": {
    "id": "EXCoWxdvXGTZ"
   },
   "source": [
    "## benchmark test"
   ]
  },
  {
   "cell_type": "code",
   "execution_count": 2,
   "metadata": {
    "id": "5OZQGRPxW0DE"
   },
   "outputs": [],
   "source": [
    "from genice2.genice import GenIce\n",
    "from genice2.plugin import Lattice, Format, Molecule\n",
    "\n",
    "import networkx as nx\n",
    "import numpy as np\n",
    "import random\n",
    "import time\n",
    "\n",
    "\n",
    "# sampling parameters for benchmarking\n",
    "# Accurate\n",
    "maxRepeat = 100  # loops\n",
    "maxAccum  = 25   # sec\n",
    "maxProc   = 100  # sec\n",
    "maxNode   = 1000000\n",
    "\n",
    "# Rough estimate\n",
    "# maxRepeat = 10  # loops\n",
    "# maxAccum  = 5   # sec\n",
    "# maxProc   = 10  # sec\n",
    "# maxNode   = 100000"
   ]
  },
  {
   "cell_type": "code",
   "execution_count": 3,
   "metadata": {
    "id": "ysFVcLaoY8h5"
   },
   "outputs": [],
   "source": [
    "def test_icerule(d, N):\n",
    "    assert d.number_of_nodes() == N\n",
    "    for node in d:\n",
    "        assert d.in_degree(node) == 2\n",
    "        assert d.in_degree(node) == 2        "
   ]
  },
  {
   "cell_type": "markdown",
   "metadata": {
    "id": "pEvBXxOJY8h6"
   },
   "source": [
    "## Buch's algorithm\n",
    "\n",
    "There are two hydrogen sites between two neighboring oxygens, and Buch's algorithm assumes that the initial configuration is one in which all the hydrogens randomly occupy one of the two sites.\n",
    "\n",
    "In the initial configuration, there are many oxygen atoms with excess hydrogen. The algorithm migrates hydrogen from such an oxygen atom to a neighboring oxygen atom, and repeats the process randomly until there are two hydrogen species in every oxygen atom.\n"
   ]
  },
  {
   "cell_type": "code",
   "execution_count": 4,
   "metadata": {
    "colab": {
     "base_uri": "https://localhost:8080/"
    },
    "id": "L33jRCUTY8h7",
    "outputId": "d8e087cf-ee59-495b-e265-12633478a0a2"
   },
   "outputs": [
    {
     "name": "stdout",
     "output_type": "stream",
     "text": [
      "64 molecules 0.0009599018096923828 s avg. 100 reps.\n",
      "216 molecules 0.0036502838134765624 s avg. 100 reps.\n",
      "512 molecules 0.010582818984985351 s avg. 100 reps.\n",
      "1000 molecules 0.0255122971534729 s avg. 100 reps.\n",
      "1728 molecules 0.051926758289337155 s avg. 100 reps.\n",
      "2744 molecules 0.09509040594100952 s avg. 100 reps.\n",
      "4096 molecules 0.17122009992599488 s avg. 100 reps.\n",
      "5832 molecules 0.27808052433861624 s avg. 90 reps.\n",
      "8000 molecules 0.4515446594783238 s avg. 56 reps.\n",
      "10648 molecules 0.8088009511270831 s avg. 31 reps.\n",
      "17576 molecules 2.3172121914950283 s avg. 11 reps.\n",
      "21952 molecules 3.5371090471744537 s avg. 8 reps.\n",
      "32768 molecules 7.8803165555000305 s avg. 4 reps.\n",
      "46656 molecules 15.422428131103516 s avg. 2 reps.\n",
      "64000 molecules 31.83476972579956 s avg. 1 reps.\n",
      "97336 molecules 69.93647599220276 s avg. 1 reps.\n",
      "125000 molecules 120.56298804283142 s avg. 1 reps.\n"
     ]
    }
   ],
   "source": [
    "def migrate(d, excess):\n",
    "    \"\"\"\n",
    "    excess is a set of nodes having more than two outgoing edges\n",
    "    \"\"\"\n",
    "    while len(excess) > 0:\n",
    "        # random choice from candidates;\n",
    "        # there may be faster ways\n",
    "        head = random.choice(list(excess))\n",
    "        nexts = list(d.successors(head))\n",
    "        next = random.choice(nexts)\n",
    "        d.remove_edge(head, next)\n",
    "        d.add_edge(next, head)\n",
    "        # if head's outgoing order was three\n",
    "        if len(nexts) == 3:\n",
    "            # remove from the excess list\n",
    "            excess.remove(head)\n",
    "        # if next's outgoing orderis three\n",
    "        if d.out_degree(next) == 3:\n",
    "            # it becomes a new excess\n",
    "            excess.add(next)\n",
    "\n",
    "\n",
    "lattice = Lattice(\"1c\")\n",
    "formatter = Format(\"raw\", stage=(2,))  # generates an undirected graph\n",
    "water = Molecule(\"spce\")\n",
    "\n",
    "buch = []\n",
    "lastN = 0\n",
    "for NN in range(8, 100):\n",
    "    N = int(1.4**(NN/3))\n",
    "    if N == lastN:\n",
    "        continue\n",
    "    lastN = N\n",
    "    raw = GenIce(lattice, rep=[N, N, N]).generate_ice(water, formatter)\n",
    "    g = raw['graph']\n",
    "    Nnode = g.number_of_nodes()\n",
    "\n",
    "    delta = 0.0\n",
    "    Nrep = 0\n",
    "    while delta < maxAccum and Nrep < maxRepeat:\n",
    "        dd = nx.DiGraph()\n",
    "        for a, b in g.edges():\n",
    "            if random.randint(0, 1) == 1:\n",
    "                dd.add_edge(a, b)\n",
    "            else:\n",
    "                dd.add_edge(b, a)\n",
    "\n",
    "        now = time.time()\n",
    "        migrate(dd, set([x for x in dd.nodes if dd.out_degree(x) > 2]))\n",
    "        delta += time.time() - now\n",
    "        Nrep += 1\n",
    "    delta /= Nrep\n",
    "    buch.append([Nnode, delta, Nrep])\n",
    "    print(f\"{Nnode} molecules {delta} s avg. {Nrep} reps.\")\n",
    "    test_icerule(dd, Nnode)\n",
    "    if delta > maxProc:\n",
    "        break\n",
    "    if Nnode > maxNode:\n",
    "        break"
   ]
  },
  {
   "cell_type": "markdown",
   "metadata": {
    "id": "ca3K1ckFY8h8"
   },
   "source": [
    "## GenIce algorithm\n",
    "\n",
    "Tiling by cycles."
   ]
  },
  {
   "cell_type": "code",
   "execution_count": 5,
   "metadata": {
    "colab": {
     "base_uri": "https://localhost:8080/"
    },
    "id": "kac5T4NGC9DL",
    "outputId": "93e8e4a0-c945-4759-8257-de9539d1cc7a"
   },
   "outputs": [
    {
     "name": "stdout",
     "output_type": "stream",
     "text": [
      "64 molecules 0.001320033073425293 s avg. 100 reps.\n",
      "216 molecules 0.0016901969909667968 s avg. 100 reps.\n",
      "512 molecules 0.004071691036224365 s avg. 100 reps.\n",
      "1000 molecules 0.008070731163024902 s avg. 100 reps.\n",
      "1728 molecules 0.014325029850006103 s avg. 100 reps.\n",
      "4096 molecules 0.0364236855506897 s avg. 100 reps.\n",
      "8000 molecules 0.07333219051361084 s avg. 100 reps.\n",
      "13824 molecules 0.13124616146087648 s avg. 100 reps.\n",
      "32768 molecules 0.3698941889931174 s avg. 68 reps.\n",
      "64000 molecules 0.8066396713256836 s avg. 31 reps.\n",
      "125000 molecules 1.7406960169474284 s avg. 15 reps.\n",
      "262144 molecules 3.959371328353882 s avg. 7 reps.\n",
      "512000 molecules 8.440053701400757 s avg. 3 reps.\n",
      "1000000 molecules 21.166125535964966 s avg. 2 reps.\n"
     ]
    }
   ],
   "source": [
    "from collections import defaultdict\n",
    "\n",
    "\n",
    "def find_cycle(g, chain, order):\n",
    "    # head of the snake\n",
    "    head = chain[-1]\n",
    "    # neck is the vertex next to head\n",
    "    neck = -1\n",
    "    if len(chain) > 1:\n",
    "        neck = chain[-2]\n",
    "    while True:\n",
    "        # candidates for the next step\n",
    "        candids = [i for i in g[head] if i != neck]\n",
    "        # go ahead\n",
    "        neck = head\n",
    "        head = random.choice(candids)\n",
    "        # lookup the new head in the markers\n",
    "        i = order[head]\n",
    "        # if it is marked as the tail end of the snake,\n",
    "        if i == 0:\n",
    "            # the random walk returns to the first node of the chain;\n",
    "            # unmark the head.\n",
    "            order[head] = -1\n",
    "            # return an empty chain and a cycle\n",
    "            return [], chain\n",
    "        # if the random walk crosses at an intermediate node of the chain,\n",
    "        elif i > 0:\n",
    "            # return a chain and a cycle\n",
    "            return chain[:i+1], chain[i:]\n",
    "        # otherwise, mark the new head position\n",
    "        order[head] = len(chain)\n",
    "        chain.append(head)\n",
    "\n",
    "\n",
    "def remove_cycle(g, cycle, order):\n",
    "    # unmark vertices in the cycle (except for the first vertecx)\n",
    "    for i in range(1, len(cycle)):\n",
    "        order[cycle[i]] = -1\n",
    "    # remove edges of the cycle\n",
    "    for i in range(len(cycle)):\n",
    "        a = cycle[i-1]\n",
    "        b = cycle[i]\n",
    "        g.remove_edge(a, b)\n",
    "    # remove edgeless vertices in the graph\n",
    "    for a in cycle:\n",
    "        if g.degree(a) == 0:\n",
    "            g.remove_node(a)\n",
    "\n",
    "\n",
    "def tileByCycles(g):\n",
    "    # random walk path\n",
    "    chain = []\n",
    "    # markers that indicate the orders in the path\n",
    "    order = -np.ones(g.number_of_nodes(), dtype=np.int)\n",
    "    while g.number_of_nodes() > 0:\n",
    "        # if the chain is empty\n",
    "        if len(chain) == 0:\n",
    "            # randomly select the \"head\" node.\n",
    "            head = random.choice(list(g.nodes()))\n",
    "            chain = [head]\n",
    "            # mark it as the first node.\n",
    "            order[head] = 0\n",
    "        # walk randomly to find a cycle.\n",
    "        chain, cycle = find_cycle(g, chain, order)\n",
    "        # found.\n",
    "        yield cycle\n",
    "        # remove it from the graph and unmark.\n",
    "        remove_cycle(g, cycle, order)\n",
    "\n",
    "\n",
    "lattice = Lattice(\"1c\")\n",
    "formatter = Format(\"raw\", stage=(2,))  # generates an undirected graph\n",
    "water = Molecule(\"spce\")\n",
    "\n",
    "gen = []\n",
    "for NN in range(4, 100):\n",
    "    N = int(2**(NN/3))\n",
    "    raw = GenIce(lattice, rep=[N, N, N]).generate_ice(water, formatter)\n",
    "    g0 = raw['graph']\n",
    "    Nnode = g0.number_of_nodes()\n",
    "\n",
    "    delta = 0.0\n",
    "    Nrep = 0\n",
    "    while delta < maxAccum and Nrep < maxRepeat:\n",
    "        g = nx.Graph(g0)\n",
    "\n",
    "        now = time.time()\n",
    "        dd = nx.DiGraph()\n",
    "        for cycle in tileByCycles(g):\n",
    "            nx.add_cycle(dd, cycle)\n",
    "        delta += time.time() - now\n",
    "        Nrep += 1\n",
    "    delta /= Nrep\n",
    "    gen.append([Nnode, delta, Nrep])\n",
    "    print(f\"{Nnode} molecules {delta} s avg. {Nrep} reps.\")\n",
    "    test_icerule(dd, Nnode)\n",
    "    if Nnode >= maxNode:\n",
    "        break"
   ]
  },
  {
   "cell_type": "markdown",
   "metadata": {
    "id": "5MAt2xo6Y8h9"
   },
   "source": [
    "## Rahman's algorithm\n",
    "\n",
    "The algorithm prepares a depolarized structure in advance and generates a hydrogen-disordered structure by successively reversing randomly chosen homodromic cycles.\n",
    "\n",
    "Here, the ice Ic structure generated by GenIce is used as an initial structure, and the procedure is repeated until all the edges are inverted at least once."
   ]
  },
  {
   "cell_type": "code",
   "execution_count": 6,
   "metadata": {
    "colab": {
     "base_uri": "https://localhost:8080/"
    },
    "id": "pb1gv00kY8h-",
    "outputId": "72d99704-1eb0-4737-945f-4c8acb35847f"
   },
   "outputs": [
    {
     "name": "stdout",
     "output_type": "stream",
     "text": [
      "8 molecules 0.0004302978515625 s avg. 100 reps.\n",
      "64 molecules 0.006420538425445556 s avg. 100 reps.\n",
      "216 molecules 0.035842728614807126 s avg. 100 reps.\n",
      "512 molecules 0.15043798923492432 s avg. 100 reps.\n",
      "1000 molecules 0.549211683480636 s avg. 46 reps.\n",
      "1728 molecules 1.4913478318382711 s avg. 17 reps.\n",
      "2744 molecules 2.9520905282762318 s avg. 9 reps.\n",
      "4096 molecules 5.943412446975708 s avg. 5 reps.\n",
      "5832 molecules 11.085352102915445 s avg. 3 reps.\n",
      "8000 molecules 20.083874940872192 s avg. 2 reps.\n",
      "10648 molecules 33.21415185928345 s avg. 1 reps.\n",
      "13824 molecules 70.66308379173279 s avg. 1 reps.\n",
      "17576 molecules 97.26869082450867 s avg. 1 reps.\n",
      "21952 molecules 187.14283204078674 s avg. 1 reps.\n"
     ]
    }
   ],
   "source": [
    "import random\n",
    "\n",
    "\n",
    "def six(d, Nnode):\n",
    "    \"\"\"\n",
    "    find a cyclic path in the given digraph.\n",
    "    d: digraph (networkx.DiGraph)\n",
    "    \"\"\"\n",
    "    head = random.randint(0, Nnode-1)\n",
    "    path = [head]\n",
    "    while True:\n",
    "        nexts = list(d.neighbors(head))\n",
    "        next = random.choice(nexts)\n",
    "        if next in path:\n",
    "            i = path.index(next)\n",
    "            return path[i:]\n",
    "        path.append(next)\n",
    "        head = next\n",
    "\n",
    "\n",
    "def invertCycle(d, cycle, g):\n",
    "    for i in range(len(cycle)):\n",
    "        a, b = cycle[i-1], cycle[i]\n",
    "        d.remove_edge(a, b)\n",
    "        d.add_edge(b, a)\n",
    "        # footprint\n",
    "        if g.has_edge(a, b):\n",
    "            g.remove_edge(a, b)\n",
    "\n",
    "\n",
    "lattice = Lattice(\"1c\")\n",
    "formatter = Format(\"raw\", stage=(3,))  # We need the directed graph of ice!\n",
    "water = Molecule(\"spce\")\n",
    "\n",
    "rahman = []\n",
    "for N in range(1, 20):\n",
    "    raw = GenIce(lattice, rep=[N, N, N]).generate_ice(water, formatter)\n",
    "    d = nx.DiGraph(raw['digraph'].edges())\n",
    "    Nnode = d.number_of_nodes()\n",
    "\n",
    "    delta = 0.0\n",
    "    Nrep = 0\n",
    "    while delta < maxAccum and Nrep < maxRepeat:\n",
    "        # footprint\n",
    "        g = nx.Graph(d)\n",
    "\n",
    "        now = time.time()\n",
    "        while g.number_of_edges() > 0:\n",
    "            cycle = six(d, d.number_of_nodes())\n",
    "            invertCycle(d, cycle, g)\n",
    "        delta += time.time() - now\n",
    "        Nrep += 1\n",
    "    delta /= Nrep\n",
    "    rahman.append([Nnode, delta, Nrep])\n",
    "    print(f\"{Nnode} molecules {delta} s avg. {Nrep} reps.\")\n",
    "    test_icerule(d, Nnode)\n",
    "    if delta > maxProc:\n",
    "        break\n"
   ]
  },
  {
   "cell_type": "code",
   "execution_count": 7,
   "metadata": {
    "colab": {
     "base_uri": "https://localhost:8080/"
    },
    "id": "KIFEzT3BYD8w",
    "outputId": "103be0b2-8a8c-40b1-8550-d7befc8ade55"
   },
   "outputs": [
    {
     "data": {
      "image/png": "[encoded data removed]",
      "text/plain": [
       "<Figure size 432x288 with 1 Axes>"
      ]
     },
     "metadata": {
      "needs_background": "light"
     },
     "output_type": "display_data"
    }
   ],
   "source": [
    "from matplotlib import pyplot as plt\n",
    "\n",
    "\n",
    "buch = np.array(buch)\n",
    "gen = np.array(gen)\n",
    "rahman = np.array(rahman)\n",
    "\n",
    "\n",
    "fig1, ax = plt.subplots()\n",
    "\n",
    "# ax.set_aspect('square') #, adjustable='box')\n",
    "\n",
    "plt.plot(rahman[:, 0], rahman[:, 1], label=\"Rahman\")\n",
    "plt.plot(buch[:, 0], buch[:, 1], label=\"Buch\")\n",
    "plt.plot(gen[:, 0], gen[:, 1], label=\"This work\")\n",
    "plt.xlim(0, 130000)\n",
    "plt.legend()\n",
    "plt.xlabel(\"Number of molecules\")\n",
    "plt.ylabel(\"Time / s\")\n",
    "plt.ylim(0, 100)\n",
    "plt.show()\n",
    "\n",
    "fig1.savefig(\"benchmark.pdf\")"
   ]
  },
  {
   "cell_type": "code",
   "execution_count": 8,
   "metadata": {
    "colab": {
     "base_uri": "https://localhost:8080/"
    },
    "id": "HzBzS47LZysp",
    "outputId": "d99331ab-0d83-407f-ee9e-5cb8a7ef8744"
   },
   "outputs": [
    {
     "data": {
      "image/png": "[encoded data removed]",
      "text/plain": [
       "<Figure size 432x288 with 1 Axes>"
      ]
     },
     "metadata": {
      "needs_background": "light"
     },
     "output_type": "display_data"
    }
   ],
   "source": [
    "fig1, ax = plt.subplots()\n",
    "\n",
    "lin = np.linspace(1e2, 1e5, 100)\n",
    "plt.loglog(rahman[:, 0], rahman[:, 1], label=\"Rahman\")\n",
    "plt.loglog(buch[:, 0], buch[:, 1], label=\"Buch\")\n",
    "plt.loglog(gen[:, 0], gen[:, 1], label=\"This work\")\n",
    "plt.loglog(lin, lin*1e-5, label=r\"y=A x\")\n",
    "plt.legend()\n",
    "plt.xlabel(\"Number of molecules\")\n",
    "plt.ylabel(\"Time / s\")\n",
    "\n",
    "fig1.savefig(\"benchmark-loglog.pdf\")\n"
   ]
  },
  {
   "cell_type": "code",
   "execution_count": 9,
   "metadata": {
    "colab": {
     "base_uri": "https://localhost:8080/"
    },
    "id": "ReSCKrZYZ4ND",
    "outputId": "80ce1ba3-f696-4625-811f-8cf23311bf4a"
   },
   "outputs": [
    {
     "name": "stdout",
     "output_type": "stream",
     "text": [
      "128\n"
     ]
    },
    {
     "data": {
      "image/png": "[encoded data removed]",
      "text/plain": [
       "<Figure size 432x288 with 1 Axes>"
      ]
     },
     "metadata": {
      "needs_background": "light"
     },
     "output_type": "display_data"
    },
    {
     "name": "stderr",
     "output_type": "stream",
     "text": [
      "<ipython-input-9-f40769049690>:54: MatplotlibDeprecationWarning: savefig() got unexpected keyword argument \"bbox\" which is no longer supported as of 3.3 and will become an error two minor releases later\n",
      "  fig1.savefig(\"map.pdf\", bbox='tight')\n"
     ]
    }
   ],
   "source": [
    "# for TOC graphics\n",
    "\n",
    "from matplotlib import pyplot as plt\n",
    "\n",
    "\n",
    "# make a 2D 6x6 ice.\n",
    "def draw_cycle(cycle, pos, N, col):\n",
    "    threshold = 1.1/N**2\n",
    "    cm = plt.get_cmap('rainbow')\n",
    "    for i in range(len(cycle)):\n",
    "        a = cycle[i-1]\n",
    "        b = cycle[i]\n",
    "        va = pos[a]\n",
    "        vb = pos[b]\n",
    "        d = vb - va\n",
    "        if d@d > threshold:\n",
    "            d -= np.floor(d+0.5)\n",
    "            seg = np.vstack([vb-d, vb])\n",
    "            plt.plot(seg[:, 0], seg[:, 1], color=cm(col))\n",
    "        seg = np.vstack([va, va+d])\n",
    "        plt.plot(seg[:, 0], seg[:, 1], color=cm(col))\n",
    "\n",
    "\n",
    "N = 8\n",
    "X = np.arange(N)\n",
    "Y = np.arange(N)\n",
    "X, Y = np.meshgrid(X, Y)\n",
    "X = X.reshape(N * N)\n",
    "Y = Y.reshape(N * N)\n",
    "pos = np.vstack([X, Y]).T / N  # fractional coordinate\n",
    "g = nx.Graph()\n",
    "for a in range(N*N):\n",
    "    for b in range(a):\n",
    "        d = pos[a] - pos[b]\n",
    "        d -= np.floor(d+0.5)\n",
    "        if (d@d)*N*N < 1.1:\n",
    "            g.add_edge(a, b)\n",
    "\n",
    "print(g.number_of_edges())\n",
    "\n",
    "\n",
    "fig1, ax = plt.subplots()\n",
    "\n",
    "cycles = []\n",
    "dd = nx.DiGraph()\n",
    "for cycle in tileByCycles(g):\n",
    "    cycles.append(cycle)\n",
    "\n",
    "for i, cycle in enumerate(cycles):\n",
    "    draw_cycle(cycle, pos, N, i/len(cycles))\n",
    "\n",
    "ax.set_aspect('equal', adjustable='box')\n",
    "plt.show()\n",
    "fig1.savefig(\"map.pdf\", bbox='tight')"
   ]
  },
  {
   "cell_type": "code",
   "execution_count": 14,
   "metadata": {
    "colab": {
     "base_uri": "https://localhost:8080/"
    },
    "id": "MXKWtxSb_eI-",
    "outputId": "6644b491-ee6f-4394-aed1-a7d04267fff1"
   },
   "outputs": [
    {
     "name": "stdout",
     "output_type": "stream",
     "text": [
      "Collecting tilecycles\n",
      "  Downloading https://files.pythonhosted.org/packages/63/ef/ddf462399bdb9e153bc2731db113ace7e32b9b5122085391989f0741b3fa/TileCycles-0.1.3.tar.gz\n",
      "Requirement already satisfied: numpy in /usr/local/lib/python3.7/dist-packages (from tilecycles) (1.19.5)\n",
      "Building wheels for collected packages: tilecycles\n",
      "  Building wheel for tilecycles (setup.py) ... \u001b[?25l\u001b[?25hdone\n",
      "  Created wheel for tilecycles: filename=TileCycles-0.1.3-cp37-cp37m-linux_x86_64.whl size=97017 sha256=b1270a7012b4308d528f6848dd1d40b4d5bb4683ad680da36fffe367b6b33796\n",
      "  Stored in directory: /root/.cache/pip/wheels/92/b8/e1/1d9df05efa5dffd9e7e1b3650a2844e857e5fdd1dfa245cdbc\n",
      "Successfully built tilecycles\n",
      "Installing collected packages: tilecycles\n",
      "Successfully installed tilecycles-0.1.3\n"
     ]
    }
   ],
   "source": [
    "!pip install tilecycles"
   ]
  },
  {
   "cell_type": "code",
   "execution_count": null,
   "metadata": {
    "colab": {
     "base_uri": "https://localhost:8080/"
    },
    "id": "fHJIT5e8Di3C",
    "outputId": "6730229a-8e36-403b-f378-212861d8d2f2"
   },
   "outputs": [
    {
     "name": "stdout",
     "output_type": "stream",
     "text": [
      "64 molecules 0.00013041257858276367 s avg. 100 reps.\n",
      "216 molecules 0.00043094635009765625 s avg. 100 reps.\n",
      "512 molecules 0.0010037732124328614 s avg. 100 reps.\n",
      "1000 molecules 0.0019905233383178712 s avg. 100 reps.\n",
      "1728 molecules 0.0033107757568359374 s avg. 100 reps.\n",
      "4096 molecules 0.00972919464111328 s avg. 100 reps.\n",
      "8000 molecules 0.029241757392883302 s avg. 100 reps.\n",
      "13824 molecules 0.0573698902130127 s avg. 100 reps.\n",
      "32768 molecules 0.15115628480911256 s avg. 100 reps.\n",
      "64000 molecules 0.3217358405773456 s avg. 78 reps.\n",
      "125000 molecules 0.6451614453242376 s avg. 39 reps.\n",
      "262144 molecules 1.4254716767205133 s avg. 18 reps.\n",
      "512000 molecules 2.9338805145687528 s avg. 9 reps.\n"
     ]
    }
   ],
   "source": [
    "# C++ implementation\n",
    "\n",
    "import tilecycles as tc\n",
    "import numpy as np\n",
    "\n",
    "lattice = Lattice(\"1c\")\n",
    "formatter = Format(\"raw\", stage=(2,))  # generates an undirected graph\n",
    "water = Molecule(\"spce\")\n",
    "\n",
    "seed = 1111\n",
    "\n",
    "cpp = []\n",
    "for NN in range(4, 100):\n",
    "    N = int(2**(NN/3))\n",
    "    raw = GenIce(lattice, rep=[N, N, N]).generate_ice(water, formatter)\n",
    "    g0 = raw['graph']\n",
    "    Nnode = g0.number_of_nodes()\n",
    "\n",
    "    pairs = np.array([(i, j) for i, j in g0.edges()], dtype=np.int32)\n",
    "\n",
    "    delta = 0.0\n",
    "    Nrep = 0\n",
    "    while delta < maxAccum and Nrep < maxRepeat:\n",
    "        now = time.time()\n",
    "        dd = nx.DiGraph()\n",
    "        for cycle in tc.tile(pairs, Nnode, seed):\n",
    "            nx.add_cycle(dd, cycle)\n",
    "        delta += time.time() - now\n",
    "        Nrep += 1\n",
    "    delta /= Nrep\n",
    "    cpp.append([Nnode, delta, Nrep])\n",
    "    print(f\"{Nnode} molecules {delta} s avg. {Nrep} reps.\")\n",
    "    test_icerule(dd, Nnode)\n",
    "    if Nnode >= maxNode:\n",
    "        break"
   ]
  },
  {
   "cell_type": "code",
   "execution_count": null,
   "metadata": {
    "colab": {
     "base_uri": "https://localhost:8080/"
    },
    "id": "9fsJgRZ932FK",
    "outputId": "779b22e0-f576-48f2-d291-b83d603aa45f"
   },
   "outputs": [],
   "source": [
    "from matplotlib import pyplot as plt\n",
    "\n",
    "\n",
    "gen = np.array(gen)\n",
    "cpp = np.array(cpp)\n",
    "\n",
    "\n",
    "fig1, ax = plt.subplots()\n",
    "\n",
    "lin = np.linspace(1e2, 1e5, 100)\n",
    "plt.loglog(gen[:, 0], gen[:, 1], label=\"Python\")\n",
    "plt.loglog(cpp[:, 0], cpp[:, 1], label=\"C++\")\n",
    "\n",
    "plt.loglog(lin, lin*1e-5, label=r\"y=A x\")\n",
    "plt.legend()\n",
    "plt.xlabel(\"Number of molecules\")\n",
    "plt.ylabel(\"Time / s\")\n",
    "\n",
    "fig1.savefig(\"benchmark-cp-loglog.pdf\")\n",
    "\n",
    "# C++ is four times faster than python,\n",
    "# but Python is fast enough..."
   ]
  },
  {
   "cell_type": "code",
   "execution_count": 18,
   "metadata": {
    "colab": {
     "base_uri": "https://localhost:8080/"
    },
    "id": "at0t2yvG32FK",
    "outputId": "f538764f-237c-418d-8339-99237b7eaec2"
   },
   "outputs": [
    {
     "name": "stdout",
     "output_type": "stream",
     "text": [
      "Collecting pycodestyle\n",
      "\u001b[?25l  Downloading https://files.pythonhosted.org/packages/de/cc/227251b1471f129bc35e966bb0fceb005969023926d744139642d847b7ae/pycodestyle-2.7.0-py2.py3-none-any.whl (41kB)\n",
      "\u001b[K     |████████████████████████████████| 51kB 2.5MB/s \n",
      "\u001b[?25hCollecting flake8\n",
      "\u001b[?25l  Downloading https://files.pythonhosted.org/packages/a0/b0/3b5820728d687f2c000476216a3fccc7a03baac1034afc0284ccde25e26d/flake8-3.9.1-py2.py3-none-any.whl (73kB)\n",
      "\u001b[K     |████████████████████████████████| 81kB 3.9MB/s \n",
      "\u001b[?25hCollecting pycodestyle_magic\n",
      "  Downloading https://files.pythonhosted.org/packages/ec/6f/f206894604a44b522bfa3b6264ca6c213bf89f119942dc3f35fc6589954c/pycodestyle_magic-0.5-py2.py3-none-any.whl\n",
      "Requirement already satisfied: importlib-metadata; python_version < \"3.8\" in /usr/local/lib/python3.7/dist-packages (from flake8) (3.10.1)\n",
      "Collecting mccabe<0.7.0,>=0.6.0\n",
      "  Downloading https://files.pythonhosted.org/packages/87/89/479dc97e18549e21354893e4ee4ef36db1d237534982482c3681ee6e7b57/mccabe-0.6.1-py2.py3-none-any.whl\n",
      "Collecting pyflakes<2.4.0,>=2.3.0\n",
      "\u001b[?25l  Downloading https://files.pythonhosted.org/packages/6c/11/2a745612f1d3cbbd9c69ba14b1b43a35a2f5c3c81cd0124508c52c64307f/pyflakes-2.3.1-py2.py3-none-any.whl (68kB)\n",
      "\u001b[K     |████████████████████████████████| 71kB 4.3MB/s \n",
      "\u001b[?25hRequirement already satisfied: zipp>=0.5 in /usr/local/lib/python3.7/dist-packages (from importlib-metadata; python_version < \"3.8\"->flake8) (3.4.1)\n",
      "Requirement already satisfied: typing-extensions>=3.6.4; python_version < \"3.8\" in /usr/local/lib/python3.7/dist-packages (from importlib-metadata; python_version < \"3.8\"->flake8) (3.7.4.3)\n",
      "Installing collected packages: pycodestyle, mccabe, pyflakes, flake8, pycodestyle-magic\n",
      "Successfully installed flake8-3.9.1 mccabe-0.6.1 pycodestyle-2.7.0 pycodestyle-magic-0.5 pyflakes-2.3.1\n"
     ]
    }
   ],
   "source": [
    "!pip install pycodestyle flake8 pycodestyle_magic"
   ]
  },
  {
   "cell_type": "code",
   "execution_count": 19,
   "metadata": {
    "id": "nL82ivXZBBUo"
   },
   "outputs": [],
   "source": [
    "%load_ext pycodestyle_magic"
   ]
  },
  {
   "cell_type": "code",
   "execution_count": null,
   "metadata": {
    "id": "CH4HtfTGBGPg"
   },
   "outputs": [],
   "source": []
  }
 ],
 "metadata": {
  "colab": {
   "collapsed_sections": [],
   "include_colab_link": true,
   "name": "TileCycles.ipynb",
   "provenance": [],
   "toc_visible": true
  },
  "kernelspec": {
   "display_name": "Python 3",
   "language": "python",
   "name": "python3"
  },
  "language_info": {
   "codemirror_mode": {
    "name": "ipython",
    "version": 3
   },
   "file_extension": ".py",
   "mimetype": "text/x-python",
   "name": "python",
   "nbconvert_exporter": "python",
   "pygments_lexer": "ipython3",
   "version": "3.9.1rc1"
  }
 },
 "nbformat": 4,
 "nbformat_minor": 1
}
