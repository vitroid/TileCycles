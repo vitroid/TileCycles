{
 "cells": [
  {
   "cell_type": "markdown",
   "metadata": {
    "colab_type": "text",
    "id": "view-in-github"
   },
   "source": [
    "<a href=\"https://colab.research.google.com/github/vitroid/TileCycles/blob/main/TileCycles.ipynb\" target=\"_parent\"><img src=\"https://colab.research.google.com/assets/colab-badge.svg\" alt=\"Open In Colab\"/></a>"
   ]
  },
  {
   "cell_type": "code",
   "execution_count": null,
   "metadata": {
    "colab": {
     "base_uri": "https://localhost:8080/"
    },
    "id": "Bo8eSXMuECsU",
    "outputId": "9759f76e-a822-4da9-b6b3-acd7fa7ee1dc"
   },
   "outputs": [],
   "source": [
    "# install genice to generate the structure of ice.\n",
    "! pip install --index-url https://test.pypi.org/simple/ 'genice2>=2.1b8'"
   ]
  },
  {
   "cell_type": "markdown",
   "metadata": {
    "id": "EXCoWxdvXGTZ"
   },
   "source": [
    "## benchmark test"
   ]
  },
  {
   "cell_type": "code",
   "execution_count": null,
   "metadata": {
    "id": "5OZQGRPxW0DE"
   },
   "outputs": [],
   "source": [
    "from genice2.genice import GenIce\n",
    "from genice2.plugin import Lattice, Format, Molecule\n",
    "\n",
    "import networkx as nx\n",
    "import numpy as np\n",
    "import random\n",
    "import time\n",
    "\n",
    "\n",
    "# sampling parameters for benchmarking\n",
    "# Accurate\n",
    "maxRepeat = 100  # loops\n",
    "maxAccum  = 25   # sec\n",
    "maxProc   = 100  # sec\n",
    "maxNode   = 1000000\n",
    "\n",
    "# Rough estimate\n",
    "# maxRepeat = 10  # loops\n",
    "# maxAccum  = 5   # sec\n",
    "# maxProc   = 10  # sec\n",
    "# maxNode   = 100000"
   ]
  },
  {
   "cell_type": "code",
   "execution_count": null,
   "metadata": {
    "id": "ysFVcLaoY8h5"
   },
   "outputs": [],
   "source": [
    "def test_icerule(d, N):\n",
    "    assert d.number_of_nodes() == N\n",
    "    for node in d:\n",
    "        assert d.in_degree(node) == 2\n",
    "        assert d.in_degree(node) == 2        "
   ]
  },
  {
   "cell_type": "markdown",
   "metadata": {
    "id": "pEvBXxOJY8h6"
   },
   "source": [
    "## Buch's algorithm\n",
    "\n",
    "There are two hydrogen sites between two neighboring oxygens, and Buch's algorithm assumes that the initial configuration is one in which all the hydrogens randomly occupy one of the two sites.\n",
    "\n",
    "In the initial configuration, there are many oxygen atoms with excess hydrogen. The algorithm migrates hydrogen from such an oxygen atom to a neighboring oxygen atom, and repeats the process randomly until there are two hydrogen species in every oxygen atom.\n"
   ]
  },
  {
   "cell_type": "code",
   "execution_count": null,
   "metadata": {
    "colab": {
     "base_uri": "https://localhost:8080/"
    },
    "id": "L33jRCUTY8h7",
    "outputId": "d8e087cf-ee59-495b-e265-12633478a0a2"
   },
   "outputs": [],
   "source": [
    "def migrate(d, excess):\n",
    "    \"\"\"\n",
    "    excess is a set of nodes having more than two outgoing edges\n",
    "    \"\"\"\n",
    "    while len(excess) > 0:\n",
    "        # random choice from candidates;\n",
    "        # there may be faster ways\n",
    "        head = random.choice(list(excess))\n",
    "        nexts = list(d.successors(head))\n",
    "        next = random.choice(nexts)\n",
    "        d.remove_edge(head, next)\n",
    "        d.add_edge(next, head)\n",
    "        # if head's outgoing order was three\n",
    "        if len(nexts) == 3:\n",
    "            # remove from the excess list\n",
    "            excess.remove(head)\n",
    "        # if next's outgoing orderis three\n",
    "        if d.out_degree(next) == 3:\n",
    "            # it becomes a new excess\n",
    "            excess.add(next)"
   ]
  },
  {
   "cell_type": "code",
   "execution_count": null,
   "metadata": {
    "colab": {
     "base_uri": "https://localhost:8080/"
    },
    "id": "L33jRCUTY8h7",
    "outputId": "d8e087cf-ee59-495b-e265-12633478a0a2"
   },
   "outputs": [],
   "source": [
    "lattice = Lattice(\"1c\")\n",
    "formatter = Format(\"raw\", stage=(2,))  # generates an undirected graph\n",
    "\n",
    "buch = []\n",
    "lastN = 0\n",
    "for NN in range(8, 100):\n",
    "    N = int(1.4**(NN/3))\n",
    "    if N == lastN:\n",
    "        continue\n",
    "    lastN = N\n",
    "    raw = GenIce(lattice, rep=[N, N, N]).generate_ice(formatter)\n",
    "    g = raw['graph']\n",
    "    Nnode = g.number_of_nodes()\n",
    "\n",
    "    delta = 0.0\n",
    "    Nrep = 0\n",
    "    while delta < maxAccum and Nrep < maxRepeat:\n",
    "        dd = nx.DiGraph()\n",
    "        for a, b in g.edges():\n",
    "            if random.randint(0, 1) == 1:\n",
    "                dd.add_edge(a, b)\n",
    "            else:\n",
    "                dd.add_edge(b, a)\n",
    "\n",
    "        now = time.time()\n",
    "        migrate(dd, set([x for x in dd.nodes if dd.out_degree(x) > 2]))\n",
    "        delta += time.time() - now\n",
    "        Nrep += 1\n",
    "    delta /= Nrep\n",
    "    buch.append([Nnode, delta, Nrep])\n",
    "    print(f\"{Nnode} molecules {delta} s avg. {Nrep} reps.\")\n",
    "    test_icerule(dd, Nnode)\n",
    "    if delta > maxProc:\n",
    "        break\n",
    "    if Nnode > maxNode:\n",
    "        break"
   ]
  },
  {
   "cell_type": "markdown",
   "metadata": {
    "id": "ca3K1ckFY8h8"
   },
   "source": [
    "## GenIce algorithm\n",
    "\n",
    "Tiling by cycles."
   ]
  },
  {
   "cell_type": "code",
   "execution_count": null,
   "metadata": {
    "colab": {
     "base_uri": "https://localhost:8080/"
    },
    "id": "kac5T4NGC9DL",
    "outputId": "93e8e4a0-c945-4759-8257-de9539d1cc7a"
   },
   "outputs": [],
   "source": [
    "from collections import defaultdict\n",
    "\n",
    "\n",
    "def find_cycle(g, chain, order):\n",
    "    # head of the snake\n",
    "    head = chain[-1]\n",
    "    # neck is the vertex next to head\n",
    "    neck = -1\n",
    "    if len(chain) > 1:\n",
    "        neck = chain[-2]\n",
    "    while True:\n",
    "        # candidates for the next step\n",
    "        candids = [i for i in g[head] if i != neck]\n",
    "        # go ahead\n",
    "        neck = head\n",
    "        head = random.choice(candids)\n",
    "        # lookup the new head in the markers\n",
    "        i = order[head]\n",
    "        # if it is marked as the tail end of the snake,\n",
    "        if i == 0:\n",
    "            # the random walk returns to the first node of the chain;\n",
    "            # unmark the head.\n",
    "            order[head] = -1\n",
    "            # return an empty chain and a cycle\n",
    "            return [], chain\n",
    "        # if the random walk crosses at an intermediate node of the chain,\n",
    "        elif i > 0:\n",
    "            # return a chain and a cycle\n",
    "            return chain[:i+1], chain[i:]\n",
    "        # otherwise, mark the new head position\n",
    "        order[head] = len(chain)\n",
    "        chain.append(head)\n",
    "\n",
    "\n",
    "def remove_cycle(g, cycle, order):\n",
    "    # unmark vertices in the cycle (except for the first vertecx)\n",
    "    for i in range(1, len(cycle)):\n",
    "        order[cycle[i]] = -1\n",
    "    # remove edges of the cycle\n",
    "    for i in range(len(cycle)):\n",
    "        a = cycle[i-1]\n",
    "        b = cycle[i]\n",
    "        g.remove_edge(a, b)\n",
    "    # remove edgeless vertices in the graph\n",
    "    for a in cycle:\n",
    "        if g.degree(a) == 0:\n",
    "            g.remove_node(a)\n",
    "\n",
    "\n",
    "def tileByCycles(g):\n",
    "    # random walk path\n",
    "    chain = []\n",
    "    # markers that indicate the orders in the path\n",
    "    order = -np.ones(g.number_of_nodes(), dtype=np.int)\n",
    "    while g.number_of_nodes() > 0:\n",
    "        # if the chain is empty\n",
    "        if len(chain) == 0:\n",
    "            # randomly select the \"head\" node.\n",
    "            head = random.choice(list(g.nodes()))\n",
    "            chain = [head]\n",
    "            # mark it as the first node.\n",
    "            order[head] = 0\n",
    "        # walk randomly to find a cycle.\n",
    "        chain, cycle = find_cycle(g, chain, order)\n",
    "        # found.\n",
    "        yield cycle\n",
    "        # remove it from the graph and unmark.\n",
    "        remove_cycle(g, cycle, order)"
   ]
  },
  {
   "cell_type": "code",
   "execution_count": null,
   "metadata": {
    "colab": {
     "base_uri": "https://localhost:8080/"
    },
    "id": "kac5T4NGC9DL",
    "outputId": "93e8e4a0-c945-4759-8257-de9539d1cc7a"
   },
   "outputs": [],
   "source": [
    "lattice = Lattice(\"1c\")\n",
    "formatter = Format(\"raw\", stage=(2,))  # generates an undirected graph\n",
    "\n",
    "gen = []\n",
    "for NN in range(4, 100):\n",
    "    N = int(2**(NN/3))\n",
    "    raw = GenIce(lattice, rep=[N, N, N]).generate_ice(formatter)\n",
    "    g0 = raw['graph']\n",
    "    Nnode = g0.number_of_nodes()\n",
    "\n",
    "    delta = 0.0\n",
    "    Nrep = 0\n",
    "    while delta < maxAccum and Nrep < maxRepeat:\n",
    "        g = nx.Graph(g0)\n",
    "\n",
    "        now = time.time()\n",
    "        dd = nx.DiGraph()\n",
    "        for cycle in tileByCycles(g):\n",
    "            nx.add_cycle(dd, cycle)\n",
    "        delta += time.time() - now\n",
    "        Nrep += 1\n",
    "    delta /= Nrep\n",
    "    gen.append([Nnode, delta, Nrep])\n",
    "    print(f\"{Nnode} molecules {delta} s avg. {Nrep} reps.\")\n",
    "    test_icerule(dd, Nnode)\n",
    "    if Nnode >= maxNode:\n",
    "        break"
   ]
  },
  {
   "cell_type": "markdown",
   "metadata": {
    "id": "5MAt2xo6Y8h9"
   },
   "source": [
    "## Rahman's algorithm\n",
    "\n",
    "The algorithm prepares a depolarized structure in advance and generates a hydrogen-disordered structure by successively reversing randomly chosen homodromic cycles.\n",
    "\n",
    "Here, the ice Ic structure generated by GenIce is used as an initial structure, and the procedure is repeated until all the edges are inverted at least once."
   ]
  },
  {
   "cell_type": "code",
   "execution_count": null,
   "metadata": {
    "colab": {
     "base_uri": "https://localhost:8080/"
    },
    "id": "pb1gv00kY8h-",
    "outputId": "72d99704-1eb0-4737-945f-4c8acb35847f"
   },
   "outputs": [],
   "source": [
    "import random\n",
    "\n",
    "\n",
    "def six(d, Nnode):\n",
    "    \"\"\"\n",
    "    find a cyclic path in the given digraph.\n",
    "    d: digraph (networkx.DiGraph)\n",
    "    \"\"\"\n",
    "    head = random.randint(0, Nnode-1)\n",
    "    path = [head]\n",
    "    while True:\n",
    "        nexts = list(d.neighbors(head))\n",
    "        next = random.choice(nexts)\n",
    "        if next in path:\n",
    "            i = path.index(next)\n",
    "            return path[i:]\n",
    "        path.append(next)\n",
    "        head = next\n",
    "\n",
    "\n",
    "def invertCycle(d, cycle, g):\n",
    "    for i in range(len(cycle)):\n",
    "        a, b = cycle[i-1], cycle[i]\n",
    "        d.remove_edge(a, b)\n",
    "        d.add_edge(b, a)\n",
    "        # footprint\n",
    "        if g.has_edge(a, b):\n",
    "            g.remove_edge(a, b)"
   ]
  },
  {
   "cell_type": "code",
   "execution_count": null,
   "metadata": {
    "colab": {
     "base_uri": "https://localhost:8080/"
    },
    "id": "pb1gv00kY8h-",
    "outputId": "72d99704-1eb0-4737-945f-4c8acb35847f"
   },
   "outputs": [],
   "source": [
    "lattice = Lattice(\"1c\")\n",
    "formatter = Format(\"raw\", stage=(3,))  # We need the directed graph of ice!\n",
    "\n",
    "rahman = []\n",
    "for N in range(1, 20):\n",
    "    raw = GenIce(lattice, rep=[N, N, N]).generate_ice(formatter)\n",
    "    d = nx.DiGraph(raw['digraph'].edges())\n",
    "    Nnode = d.number_of_nodes()\n",
    "\n",
    "    delta = 0.0\n",
    "    Nrep = 0\n",
    "    while delta < maxAccum and Nrep < maxRepeat:\n",
    "        # footprint\n",
    "        g = nx.Graph(d)\n",
    "\n",
    "        now = time.time()\n",
    "        while g.number_of_edges() > 0:\n",
    "            cycle = six(d, d.number_of_nodes())\n",
    "            invertCycle(d, cycle, g)\n",
    "        delta += time.time() - now\n",
    "        Nrep += 1\n",
    "    delta /= Nrep\n",
    "    rahman.append([Nnode, delta, Nrep])\n",
    "    print(f\"{Nnode} molecules {delta} s avg. {Nrep} reps.\")\n",
    "    test_icerule(d, Nnode)\n",
    "    if delta > maxProc:\n",
    "        break"
   ]
  },
  {
   "cell_type": "code",
   "execution_count": null,
   "metadata": {
    "colab": {
     "base_uri": "https://localhost:8080/"
    },
    "id": "KIFEzT3BYD8w",
    "outputId": "103be0b2-8a8c-40b1-8550-d7befc8ade55"
   },
   "outputs": [],
   "source": [
    "from matplotlib import pyplot as plt\n",
    "\n",
    "\n",
    "buch = np.array(buch)\n",
    "gen = np.array(gen)\n",
    "rahman = np.array(rahman)\n",
    "\n",
    "\n",
    "fig1, ax = plt.subplots()\n",
    "\n",
    "# ax.set_aspect('square') #, adjustable='box')\n",
    "\n",
    "plt.plot(rahman[:, 0], rahman[:, 1], label=\"Rahman\")\n",
    "plt.plot(buch[:, 0], buch[:, 1], label=\"Buch\")\n",
    "plt.plot(gen[:, 0], gen[:, 1], label=\"This work\")\n",
    "plt.xlim(0, 130000)\n",
    "plt.legend()\n",
    "plt.xlabel(\"Number of molecules\")\n",
    "plt.ylabel(\"Time / s\")\n",
    "plt.ylim(0, 100)\n",
    "plt.show()\n",
    "\n",
    "fig1.savefig(\"benchmark.pdf\")"
   ]
  },
  {
   "cell_type": "code",
   "execution_count": null,
   "metadata": {
    "colab": {
     "base_uri": "https://localhost:8080/"
    },
    "id": "HzBzS47LZysp",
    "outputId": "d99331ab-0d83-407f-ee9e-5cb8a7ef8744"
   },
   "outputs": [],
   "source": [
    "fig1, ax = plt.subplots()\n",
    "\n",
    "lin = np.linspace(1e2, 1e5, 100)\n",
    "plt.loglog(rahman[:, 0], rahman[:, 1], label=\"Rahman\")\n",
    "plt.loglog(buch[:, 0], buch[:, 1], label=\"Buch\")\n",
    "plt.loglog(gen[:, 0], gen[:, 1], label=\"This work\")\n",
    "plt.loglog(lin, lin*1e-5, label=r\"y=A x\")\n",
    "plt.legend()\n",
    "plt.xlabel(\"Number of molecules\")\n",
    "plt.ylabel(\"Time / s\")\n",
    "\n",
    "fig1.savefig(\"benchmark-loglog.pdf\")\n"
   ]
  },
  {
   "cell_type": "code",
   "execution_count": null,
   "metadata": {
    "colab": {
     "base_uri": "https://localhost:8080/"
    },
    "id": "ReSCKrZYZ4ND",
    "outputId": "80ce1ba3-f696-4625-811f-8cf23311bf4a"
   },
   "outputs": [],
   "source": [
    "# for TOC graphics\n",
    "\n",
    "from matplotlib import pyplot as plt\n",
    "\n",
    "\n",
    "# make a 2D 6x6 ice.\n",
    "def draw_cycle(cycle, pos, N, col):\n",
    "    threshold = 1.1/N**2\n",
    "    cm = plt.get_cmap('rainbow')\n",
    "    for i in range(len(cycle)):\n",
    "        a = cycle[i-1]\n",
    "        b = cycle[i]\n",
    "        va = pos[a]\n",
    "        vb = pos[b]\n",
    "        d = vb - va\n",
    "        if d@d > threshold:\n",
    "            d -= np.floor(d+0.5)\n",
    "            seg = np.vstack([vb-d, vb])\n",
    "            plt.plot(seg[:, 0], seg[:, 1], color=cm(col))\n",
    "        seg = np.vstack([va, va+d])\n",
    "        plt.plot(seg[:, 0], seg[:, 1], color=cm(col))\n",
    "\n",
    "\n",
    "N = 8\n",
    "X = np.arange(N)\n",
    "Y = np.arange(N)\n",
    "X, Y = np.meshgrid(X, Y)\n",
    "X = X.reshape(N * N)\n",
    "Y = Y.reshape(N * N)\n",
    "pos = np.vstack([X, Y]).T / N  # fractional coordinate\n",
    "g = nx.Graph()\n",
    "for a in range(N*N):\n",
    "    for b in range(a):\n",
    "        d = pos[a] - pos[b]\n",
    "        d -= np.floor(d+0.5)\n",
    "        if (d@d)*N*N < 1.1:\n",
    "            g.add_edge(a, b)\n",
    "\n",
    "print(g.number_of_edges())\n",
    "\n",
    "\n",
    "fig1, ax = plt.subplots()\n",
    "\n",
    "cycles = []\n",
    "dd = nx.DiGraph()\n",
    "for cycle in tileByCycles(g):\n",
    "    cycles.append(cycle)\n",
    "\n",
    "for i, cycle in enumerate(cycles):\n",
    "    draw_cycle(cycle, pos, N, i/len(cycles))\n",
    "\n",
    "ax.set_aspect('equal', adjustable='box')\n",
    "plt.show()\n",
    "fig1.savefig(\"map.pdf\", bbox='tight')"
   ]
  },
  {
   "cell_type": "code",
   "execution_count": null,
   "metadata": {
    "colab": {
     "base_uri": "https://localhost:8080/"
    },
    "id": "MXKWtxSb_eI-",
    "outputId": "6644b491-ee6f-4394-aed1-a7d04267fff1"
   },
   "outputs": [],
   "source": [
    "!pip install tilecycles"
   ]
  },
  {
   "cell_type": "code",
   "execution_count": null,
   "metadata": {
    "colab": {
     "base_uri": "https://localhost:8080/"
    },
    "id": "fHJIT5e8Di3C",
    "outputId": "6730229a-8e36-403b-f378-212861d8d2f2"
   },
   "outputs": [],
   "source": [
    "# C++ implementation\n",
    "\n",
    "import tilecycles as tc\n",
    "import numpy as np\n",
    "\n",
    "lattice = Lattice(\"1c\")\n",
    "formatter = Format(\"raw\", stage=(2,))  # generates an undirected graph\n",
    "\n",
    "seed = 1111\n",
    "\n",
    "cpp = []\n",
    "for NN in range(4, 100):\n",
    "    N = int(2**(NN/3))\n",
    "    raw = GenIce(lattice, rep=[N, N, N]).generate_ice(formatter)\n",
    "    g0 = raw['graph']\n",
    "    Nnode = g0.number_of_nodes()\n",
    "\n",
    "    pairs = np.array([(i, j) for i, j in g0.edges()], dtype=np.int32)\n",
    "\n",
    "    delta = 0.0\n",
    "    Nrep = 0\n",
    "    while delta < maxAccum and Nrep < maxRepeat:\n",
    "        now = time.time()\n",
    "        dd = nx.DiGraph()\n",
    "        for cycle in tc.tile(pairs, Nnode, seed):\n",
    "            nx.add_cycle(dd, cycle)\n",
    "        delta += time.time() - now\n",
    "        Nrep += 1\n",
    "    delta /= Nrep\n",
    "    cpp.append([Nnode, delta, Nrep])\n",
    "    print(f\"{Nnode} molecules {delta} s avg. {Nrep} reps.\")\n",
    "    test_icerule(dd, Nnode)\n",
    "    if Nnode >= maxNode:\n",
    "        break"
   ]
  },
  {
   "cell_type": "markdown",
   "metadata": {},
   "source": [
    "The C++ implementation is not quite fast because the data conversion between python always take a linear time against the system size."
   ]
  },
  {
   "cell_type": "code",
   "execution_count": null,
   "metadata": {
    "colab": {
     "base_uri": "https://localhost:8080/"
    },
    "id": "9fsJgRZ932FK",
    "outputId": "779b22e0-f576-48f2-d291-b83d603aa45f"
   },
   "outputs": [],
   "source": [
    "from matplotlib import pyplot as plt\n",
    "\n",
    "\n",
    "gen = np.array(gen)\n",
    "cpp = np.array(cpp)\n",
    "\n",
    "\n",
    "fig1, ax = plt.subplots()\n",
    "\n",
    "lin = np.linspace(1e2, 1e5, 100)\n",
    "plt.loglog(gen[:, 0], gen[:, 1], label=\"Python\")\n",
    "plt.loglog(cpp[:, 0], cpp[:, 1], label=\"C++\")\n",
    "\n",
    "plt.loglog(lin, lin*1e-5, label=r\"y=A x\")\n",
    "plt.legend()\n",
    "plt.xlabel(\"Number of molecules\")\n",
    "plt.ylabel(\"Time / s\")\n",
    "\n",
    "fig1.savefig(\"benchmark-cp-loglog.pdf\")\n",
    "\n",
    "# C++ is four times faster than python,\n",
    "# but Python is fast enough..."
   ]
  },
  {
   "cell_type": "markdown",
   "metadata": {},
   "source": [
    "## 検定\n",
    "\n",
    "生成した氷の構造が十分にランダムであるかどうかを確認するために、サイクルを構成する水素結合の向きの統計をとる。\n",
    "\n",
    "氷の結晶構造はさまざまなサイズのirreducible ringsで構成されている。氷Iは6員環のみで構成されている。アイスルールを満たすネットワークに含まれる1つの6員環に注目すると、それを構成する水素結合の配向パターンには統計的な特徴がある。ここでは計算を簡単にするために次のようなBethe tree 近似を導入する。ある4-connectedな無限無向グラフ$g$が、6-cycleを1つだけもち、ほかにはサイクルを持たないものとする。このグラフ$g$にアイスルールを導入して有向グラフに変換した時、6-cycleに沿った辺の配向パターンの分布は表1のようになる。(誰かすでにやってそうなものだ。Stillinger?)\n",
    "\n",
    "*Table 1 アイスルールを満たす有向グラフの六員環の配向パターンと、Bethe tree近似による出現確率*\n",
    "\n",
    "| pattern| probability|\n",
    "|------|--------|\n",
    "|→→→→→→| 64/365 |\n",
    "|→→→→→←| 96/365 |\n",
    "|→→→→←←| 96/365 |\n",
    "|→→→←→←| 24/365 |\n",
    "|→→→←←←| 48/365 |\n",
    "|→→←→→←| 12/365 |\n",
    "|→→←→←←| 24/365 |\n",
    "|→←→←→←|  1/365 |\n",
    "\n",
    "現実の氷には無数の六員環が含まれているが、均質にランダムな水素無秩序氷では、上の分布に極めて近い分布が得られる。そこで、表1の分布と、生成した氷構造での配向パターンの分布を比較し、それらの分布の間のKullback-Leibler divergence $d_{KL}$を、氷構造の均質さの尺度とみなす。均質にランダムな水素無秩序氷では、$d_{KL}$は0に近付くが、配向パターンに偏りがあると、より大きな値になる。\n",
    "\n",
    "Rahmanらのアルゴリズムと、Buchらのアルゴリズムはどちらも収束的なアルゴリズムで、計算サイクルを増やすほど均質な分布に近付く。Rahmanらのアルゴリズムに関しては、初期配置を氷XI構造とする。また、Buchのアルゴリズムでは、初期配置はice ruleを満たさない完全ランダムな有向グラフとする。そして、ステップを重ねるごとに、上の分布にどのように近接するかを観察する。\n",
    "\n",
    "\n",
    "## Test\n",
    "\n",
    "To check whether the structure of the generated ice is sufficiently random, we take the statistics of the orientation of the hydrogen bonds that make up the cycle.\n",
    "\n",
    "The crystal structure of ice consists of irreducible rings of various sizes. Ice I consists of only six-membered rings. If we focus on a single six-membered ring in the network that satisfies the ice rules, the orientation pattern of the hydrogen bonds that make up the ring has a statistical characteristic. To simplify the calculation, we introduce the following Bethe tree approximation. Suppose that a 4-connected infinite undirected graph $g$ has only one 6-cycle and no other cycles. When this graph $g$ is transformed into a directed graph by introducing the ice rules, the distribution of  edge orientation patterns along the 6-cycle is as shown in Table 1.\n",
    "\n",
    "*Table 1 Orientation patterns of six-membered rings in directed graphs satisfying the ice rules and their probability of occurrence using the Bethe tree approximation*.\n",
    "\n",
    "| pattern| probability|\n",
    "|------|--------|\n",
    "|→→→→→→| 64/365 |\n",
    "|→→→→→←| 96/365 |\n",
    "|→→→→←←| 96/365 |\n",
    "|→→→←→←| 24/365 |\n",
    "|→→→←←←| 48/365 |\n",
    "|→→←→→←| 12/365 |\n",
    "|→→←→←←| 24/365 |\n",
    "|→←→←→←|  1/365 |\n",
    "\n",
    "Although real ice contains innumerable six-membered rings, homogeneously random hydrogen-disordered ice yields a distribution very close to the above one. Therefore, we compare the distributions in Table 1 with the distributions of the orientation patterns in the generated ice structure, and consider the Kullback-Leibler divergence $d_{KL}$ between these distributions as a measure of the homogeneity of the ice structure. For homogeneously random hydrogen-disordered ice, $d_{KL}$ approaches zero, while biases in the orientation pattern lead to larger values.\n",
    "\n",
    "Both Rahman et al.'s and Buch et al.'s algorithms are convergent algorithms, approaching a homogeneous distribution with increasing number of computational cycles. For Rahman et al.'s algorithm, we choose the ice XI structure as the initial configuration. For Buch's algorithm, the initial configuration is a completely random directed graph that does not satisfy the ice rules. Then, with each step, we observe how it approaches the distribution above."
   ]
  },
  {
   "cell_type": "code",
   "execution_count": null,
   "metadata": {},
   "outputs": [],
   "source": [
    "# Taken from GenIce/_ringstat.py\n",
    "from genice2.formats._ringstat import probabilities, orientations, encode\n",
    "\n",
    "\n",
    "def KLdiv(d, pos):\n",
    "    graph = nx.Graph(d)  # undirected\n",
    "    prob = probabilities(6)\n",
    "    stat = defaultdict(int)\n",
    "\n",
    "    for ring in cycles_iter(graph, 6,  pos=pos):\n",
    "        ori = orientations(ring, d)\n",
    "        c   = encode(ori)\n",
    "        n   = len(ring)\n",
    "        stat[c] += 1\n",
    "\n",
    "    #size code code(binary) Approx. Stat.\n",
    "    denom = 0\n",
    "    for c in stat:\n",
    "        denom += stat[c]\n",
    "    dKL = 0.0\n",
    "    for c in prob:\n",
    "        q = stat[c]/denom\n",
    "        p = prob[c]\n",
    "        if q > 0.0:\n",
    "            dKL += q*(log(q) - log(p))\n",
    "    dKL /= log(2.0)  #bit\n",
    "    return dKL"
   ]
  },
  {
   "cell_type": "code",
   "execution_count": null,
   "metadata": {},
   "outputs": [],
   "source": [
    "# Rahman's\n",
    "\n",
    "lattice = Lattice(\"11\")\n",
    "formatter = Format(\"raw\", stage=(1,3,))\n",
    "\n",
    "N = 8\n",
    "raw = GenIce(lattice, rep=[N, N, N]).generate_ice(formatter)\n",
    "d = nx.DiGraph(raw['digraph'].edges())\n",
    "Nnode = d.number_of_nodes()\n",
    "rpos = raw['reppositions']\n",
    "\n",
    "# footprint\n",
    "g = nx.Graph(d)\n",
    "\n",
    "steps = 0\n",
    "watch = 1\n",
    "rahman_conv = []\n",
    "while g.number_of_edges() > 0:\n",
    "    steps += 1\n",
    "    if watch == steps:\n",
    "        # ring stat\n",
    "        dKL = KLdiv(d, rpos)\n",
    "        print(steps, dKL)\n",
    "        rahman_conv.append([steps, dKL])\n",
    "        # next watch interval\n",
    "        watch += 100  # watch\n",
    "\n",
    "    cycle = six(d, d.number_of_nodes())\n",
    "    invertCycle(d, cycle, g)\n",
    "\n",
    "dKL = KLdiv(d, rpos)\n",
    "print(steps, dKL)\n",
    "rahman_conv.append([steps, dKL])\n"
   ]
  },
  {
   "cell_type": "code",
   "execution_count": null,
   "metadata": {},
   "outputs": [],
   "source": [
    "# Buch's\n",
    "\n",
    "buch_conv = []\n",
    "\n",
    "def migrate2(d, excess):\n",
    "    \"\"\"\n",
    "    excess is a set of nodes having more than two outgoing edges\n",
    "    \"\"\"\n",
    "    steps = 0\n",
    "    watch = 1\n",
    "    while len(excess) > 0:\n",
    "        steps += 1\n",
    "        if watch <= steps:\n",
    "            # ring stat\n",
    "            dKL = KLdiv(d, rpos)\n",
    "            print(steps, dKL)\n",
    "            buch_conv.append([steps, dKL])\n",
    "            # next watch interval\n",
    "            watch += 1000  # watch / 2\n",
    "\n",
    "        head = random.choice(list(excess))\n",
    "        nexts = list(d.successors(head))\n",
    "        next = random.choice(nexts)\n",
    "        d.remove_edge(head, next)\n",
    "        d.add_edge(next, head)\n",
    "        # if head's outgoing order was three\n",
    "        if len(nexts) == 3:\n",
    "            # remove from the excess list\n",
    "            excess.remove(head)\n",
    "        # if next's outgoing orderis three\n",
    "        if d.out_degree(next) == 3:\n",
    "            # it becomes a new excess\n",
    "            excess.add(next)\n",
    "    dKL = KLdiv(d, rpos)\n",
    "    print(steps, dKL)\n",
    "    buch_conv.append([steps, dKL])\n",
    "\n",
    "\n",
    "lattice = Lattice(\"1h\")\n",
    "formatter = Format(\"raw\", stage=(1,2,))  # generates an undirected graph\n",
    "water = Molecule(\"spce\")\n",
    "\n",
    "\n",
    "N = 8\n",
    "raw = GenIce(lattice, rep=[N, N, N]).generate_ice(water, formatter)\n",
    "g = raw['graph']\n",
    "rpos = raw['reppositions']\n",
    "Nnode = g.number_of_nodes()\n",
    "\n",
    "dd = nx.DiGraph()\n",
    "for a, b in g.edges():\n",
    "    if random.randint(0, 1) == 1:\n",
    "        dd.add_edge(a, b)\n",
    "    else:\n",
    "        dd.add_edge(b, a)\n",
    "\n",
    "migrate2(dd, set([x for x in dd.nodes if dd.out_degree(x) > 2]))\n"
   ]
  },
  {
   "cell_type": "code",
   "execution_count": null,
   "metadata": {},
   "outputs": [],
   "source": [
    "# GenIce's\n",
    "\n",
    "lattice = Lattice(\"1h\")\n",
    "formatter = Format(\"raw\", stage=(1,2,))  # generates an undirected graph\n",
    "water = Molecule(\"spce\")\n",
    "N=8\n",
    "raw = GenIce(lattice, rep=[N, N, N]).generate_ice(water, formatter)\n",
    "g = nx.Graph(raw['graph'])\n",
    "print(raw)\n",
    "rpos = raw['reppositions']\n",
    "\n",
    "d = nx.DiGraph()\n",
    "for cycle in tileByCycles(g):\n",
    "    nx.add_cycle(d, cycle)\n",
    "\n",
    "genice_dKL = KLdiv(d, rpos)\n",
    "print(genice_dKL)\n"
   ]
  },
  {
   "cell_type": "code",
   "execution_count": null,
   "metadata": {},
   "outputs": [],
   "source": [
    "from matplotlib import pyplot as plt\n",
    "\n",
    "\n",
    "buch_conv = np.array(buch_conv)\n",
    "rahman_conv = np.array(rahman_conv)\n",
    "\n",
    "fig1, ax = plt.subplots()\n",
    "\n",
    "lin = np.linspace(1e2, 1e5, 100)\n",
    "plt.plot(rahman_conv[:, 0] / rahman_conv[-1, 0]*100, rahman_conv[:, 1], label=\"Rahman\")\n",
    "plt.plot(buch_conv[:, 0] / buch_conv[-1, 0]*100, buch_conv[:, 1], label=\"Buch\")\n",
    "plt.plot(100, genice_dKL, 'o', label=\"This work\")\n",
    "plt.yscale('log')\n",
    "plt.legend()\n",
    "plt.xlabel(\"Progress (%)\")\n",
    "plt.ylabel(r\"$d_\\mathrm{KL}$\")\n",
    "\n",
    "fig1.savefig(\"ringstat-log.pdf\")"
   ]
  },
  {
   "cell_type": "code",
   "execution_count": null,
   "metadata": {
    "colab": {
     "base_uri": "https://localhost:8080/"
    },
    "id": "at0t2yvG32FK",
    "outputId": "f538764f-237c-418d-8339-99237b7eaec2"
   },
   "outputs": [],
   "source": [
    "!pip install pycodestyle flake8 pycodestyle_magic"
   ]
  },
  {
   "cell_type": "code",
   "execution_count": null,
   "metadata": {
    "id": "nL82ivXZBBUo"
   },
   "outputs": [],
   "source": [
    "%load_ext pycodestyle_magic"
   ]
  },
  {
   "cell_type": "code",
   "execution_count": null,
   "metadata": {
    "id": "CH4HtfTGBGPg"
   },
   "outputs": [],
   "source": []
  }
 ],
 "metadata": {
  "colab": {
   "collapsed_sections": [],
   "include_colab_link": true,
   "name": "TileCycles.ipynb",
   "provenance": [],
   "toc_visible": true
  },
  "kernelspec": {
   "display_name": "Python 3",
   "language": "python",
   "name": "python3"
  },
  "language_info": {
   "codemirror_mode": {
    "name": "ipython",
    "version": 3
   },
   "file_extension": ".py",
   "mimetype": "text/x-python",
   "name": "python",
   "nbconvert_exporter": "python",
   "pygments_lexer": "ipython3",
   "version": "3.9.1rc1"
  }
 },
 "nbformat": 4,
 "nbformat_minor": 1
}
