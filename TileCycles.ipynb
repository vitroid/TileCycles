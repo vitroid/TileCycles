{
  "nbformat": 4,
  "nbformat_minor": 0,
  "metadata": {
    "colab": {
      "name": "TileCycles.ipynb",
      "provenance": [],
      "collapsed_sections": [],
      "toc_visible": true,
      "include_colab_link": true
    },
    "kernelspec": {
      "display_name": "Python 3",
      "language": "python",
      "name": "python3"
    },
    "language_info": {
      "codemirror_mode": {
        "name": "ipython",
        "version": 3
      },
      "file_extension": ".py",
      "mimetype": "text/x-python",
      "name": "python",
      "nbconvert_exporter": "python",
      "pygments_lexer": "ipython3",
      "version": "3.9.1rc1"
    }
  },
  "cells": [
    {
      "cell_type": "markdown",
      "metadata": {
        "id": "view-in-github",
        "colab_type": "text"
      },
      "source": [
        "<a href=\"https://colab.research.google.com/github/vitroid/TileCycles/blob/main/TileCycles.ipynb\" target=\"_parent\"><img src=\"https://colab.research.google.com/assets/colab-badge.svg\" alt=\"Open In Colab\"/></a>"
      ]
    },
    {
      "cell_type": "markdown",
      "metadata": {
        "id": "00whe-vEfdLW"
      },
      "source": [
        "# Preparations to run it on Google Colaboratory"
      ]
    },
    {
      "cell_type": "code",
      "metadata": {
        "colab": {
          "base_uri": "https://localhost:8080/"
        },
        "id": "Bo8eSXMuECsU",
        "outputId": "73abecc7-4e88-4231-cc35-6315dfd0dbe5"
      },
      "source": [
        "# Obtain the source tree and install from that\n",
        "! mkdir github; cd github && git clone https://github.com/vitroid/TileCycles.git\n",
        "! cd github/TileCycles; make install\n",
        "\n",
        "# install genice to generate the structure of ice.\n",
        "! pip install genice2\n"
      ],
      "execution_count": 1,
      "outputs": [
        {
          "output_type": "stream",
          "text": [
            "mkdir: cannot create directory ‘github’: File exists\n",
            "fatal: destination path 'TileCycles' already exists and is not an empty directory.\n",
            "python setup.py install\n",
            "\u001b[39mrunning install\u001b[0m\n",
            "\u001b[39mrunning bdist_egg\u001b[0m\n",
            "\u001b[39mrunning egg_info\u001b[0m\n",
            "\u001b[39mwriting TileCycles.egg-info/PKG-INFO\u001b[0m\n",
            "\u001b[39mwriting dependency_links to TileCycles.egg-info/dependency_links.txt\u001b[0m\n",
            "\u001b[39mwriting requirements to TileCycles.egg-info/requires.txt\u001b[0m\n",
            "\u001b[39mwriting top-level names to TileCycles.egg-info/top_level.txt\u001b[0m\n",
            "\u001b[39mwriting manifest file 'TileCycles.egg-info/SOURCES.txt'\u001b[0m\n",
            "\u001b[39minstalling library code to build/bdist.linux-x86_64/egg\u001b[0m\n",
            "\u001b[39mrunning install_lib\u001b[0m\n",
            "\u001b[39mrunning build_py\u001b[0m\n",
            "\u001b[39mrunning build_ext\u001b[0m\n",
            "\u001b[39mcreating build/bdist.linux-x86_64/egg\u001b[0m\n",
            "\u001b[39mcreating build/bdist.linux-x86_64/egg/tilecycles\u001b[0m\n",
            "\u001b[39mcopying build/lib.linux-x86_64-3.7/tilecycles/Buch.py -> build/bdist.linux-x86_64/egg/tilecycles\u001b[0m\n",
            "\u001b[39mcopying build/lib.linux-x86_64-3.7/tilecycles/Dipole.py -> build/bdist.linux-x86_64/egg/tilecycles\u001b[0m\n",
            "\u001b[39mcopying build/lib.linux-x86_64-3.7/tilecycles/__init__.py -> build/bdist.linux-x86_64/egg/tilecycles\u001b[0m\n",
            "\u001b[39mcopying build/lib.linux-x86_64-3.7/tilecycles/Rahman.py -> build/bdist.linux-x86_64/egg/tilecycles\u001b[0m\n",
            "\u001b[39mcopying build/lib.linux-x86_64-3.7/tilecycles_c.cpython-37m-x86_64-linux-gnu.so -> build/bdist.linux-x86_64/egg\u001b[0m\n",
            "\u001b[39mbyte-compiling build/bdist.linux-x86_64/egg/tilecycles/Buch.py to Buch.cpython-37.pyc\u001b[0m\n",
            "\u001b[39mbyte-compiling build/bdist.linux-x86_64/egg/tilecycles/Dipole.py to Dipole.cpython-37.pyc\u001b[0m\n",
            "\u001b[39mbyte-compiling build/bdist.linux-x86_64/egg/tilecycles/__init__.py to __init__.cpython-37.pyc\u001b[0m\n",
            "\u001b[39mbyte-compiling build/bdist.linux-x86_64/egg/tilecycles/Rahman.py to Rahman.cpython-37.pyc\u001b[0m\n",
            "\u001b[39mcreating stub loader for tilecycles_c.cpython-37m-x86_64-linux-gnu.so\u001b[0m\n",
            "\u001b[39mbyte-compiling build/bdist.linux-x86_64/egg/tilecycles_c.py to tilecycles_c.cpython-37.pyc\u001b[0m\n",
            "\u001b[39mcreating build/bdist.linux-x86_64/egg/EGG-INFO\u001b[0m\n",
            "\u001b[39mcopying TileCycles.egg-info/PKG-INFO -> build/bdist.linux-x86_64/egg/EGG-INFO\u001b[0m\n",
            "\u001b[39mcopying TileCycles.egg-info/SOURCES.txt -> build/bdist.linux-x86_64/egg/EGG-INFO\u001b[0m\n",
            "\u001b[39mcopying TileCycles.egg-info/dependency_links.txt -> build/bdist.linux-x86_64/egg/EGG-INFO\u001b[0m\n",
            "\u001b[39mcopying TileCycles.egg-info/not-zip-safe -> build/bdist.linux-x86_64/egg/EGG-INFO\u001b[0m\n",
            "\u001b[39mcopying TileCycles.egg-info/requires.txt -> build/bdist.linux-x86_64/egg/EGG-INFO\u001b[0m\n",
            "\u001b[39mcopying TileCycles.egg-info/top_level.txt -> build/bdist.linux-x86_64/egg/EGG-INFO\u001b[0m\n",
            "\u001b[39mwriting build/bdist.linux-x86_64/egg/EGG-INFO/native_libs.txt\u001b[0m\n",
            "\u001b[39mcreating 'dist/TileCycles-0.1.5.1-py3.7-linux-x86_64.egg' and adding 'build/bdist.linux-x86_64/egg' to it\u001b[0m\n",
            "\u001b[39mremoving 'build/bdist.linux-x86_64/egg' (and everything under it)\u001b[0m\n",
            "\u001b[39mProcessing TileCycles-0.1.5.1-py3.7-linux-x86_64.egg\u001b[0m\n",
            "\u001b[39mremoving '/usr/local/lib/python3.7/dist-packages/TileCycles-0.1.5.1-py3.7-linux-x86_64.egg' (and everything under it)\u001b[0m\n",
            "\u001b[39mcreating /usr/local/lib/python3.7/dist-packages/TileCycles-0.1.5.1-py3.7-linux-x86_64.egg\u001b[0m\n",
            "\u001b[39mExtracting TileCycles-0.1.5.1-py3.7-linux-x86_64.egg to /usr/local/lib/python3.7/dist-packages\u001b[0m\n",
            "\u001b[39mTileCycles 0.1.5.1 is already the active version in easy-install.pth\u001b[0m\n",
            "\u001b[39m\n",
            "Installed /usr/local/lib/python3.7/dist-packages/TileCycles-0.1.5.1-py3.7-linux-x86_64.egg\u001b[0m\n",
            "\u001b[39mProcessing dependencies for TileCycles==0.1.5.1\u001b[0m\n",
            "\u001b[39mSearching for cycless==0.1.4\u001b[0m\n",
            "\u001b[39mBest match: cycless 0.1.4\u001b[0m\n",
            "\u001b[39mAdding cycless 0.1.4 to easy-install.pth file\u001b[0m\n",
            "\u001b[39m\n",
            "Using /usr/local/lib/python3.7/dist-packages\u001b[0m\n",
            "\u001b[39mSearching for networkx==2.5.1\u001b[0m\n",
            "\u001b[39mBest match: networkx 2.5.1\u001b[0m\n",
            "\u001b[39mAdding networkx 2.5.1 to easy-install.pth file\u001b[0m\n",
            "\u001b[39m\n",
            "Using /usr/local/lib/python3.7/dist-packages\u001b[0m\n",
            "\u001b[39mSearching for numpy==1.19.5\u001b[0m\n",
            "\u001b[39mBest match: numpy 1.19.5\u001b[0m\n",
            "\u001b[39mAdding numpy 1.19.5 to easy-install.pth file\u001b[0m\n",
            "\u001b[39mInstalling f2py script to /usr/local/bin\u001b[0m\n",
            "\u001b[39mInstalling f2py3 script to /usr/local/bin\u001b[0m\n",
            "\u001b[39mInstalling f2py3.7 script to /usr/local/bin\u001b[0m\n",
            "\u001b[39m\n",
            "Using /usr/local/lib/python3.7/dist-packages\u001b[0m\n",
            "\u001b[39mSearching for wheel==0.36.2\u001b[0m\n",
            "\u001b[39mBest match: wheel 0.36.2\u001b[0m\n",
            "\u001b[39mAdding wheel 0.36.2 to easy-install.pth file\u001b[0m\n",
            "\u001b[39mInstalling wheel script to /usr/local/bin\u001b[0m\n",
            "\u001b[39m\n",
            "Using /usr/local/lib/python3.7/dist-packages\u001b[0m\n",
            "\u001b[39mSearching for methodtools==0.4.2\u001b[0m\n",
            "\u001b[39mBest match: methodtools 0.4.2\u001b[0m\n",
            "\u001b[39mAdding methodtools 0.4.2 to easy-install.pth file\u001b[0m\n",
            "\u001b[39m\n",
            "Using /usr/local/lib/python3.7/dist-packages\u001b[0m\n",
            "\u001b[39mSearching for decorator==4.4.2\u001b[0m\n",
            "\u001b[39mBest match: decorator 4.4.2\u001b[0m\n",
            "\u001b[39mAdding decorator 4.4.2 to easy-install.pth file\u001b[0m\n",
            "\u001b[39m\n",
            "Using /usr/local/lib/python3.7/dist-packages\u001b[0m\n",
            "\u001b[39mSearching for wirerope==0.4.2\u001b[0m\n",
            "\u001b[39mBest match: wirerope 0.4.2\u001b[0m\n",
            "\u001b[39mAdding wirerope 0.4.2 to easy-install.pth file\u001b[0m\n",
            "\u001b[39m\n",
            "Using /usr/local/lib/python3.7/dist-packages\u001b[0m\n",
            "\u001b[39mSearching for six==1.15.0\u001b[0m\n",
            "\u001b[39mBest match: six 1.15.0\u001b[0m\n",
            "\u001b[39mAdding six 1.15.0 to easy-install.pth file\u001b[0m\n",
            "\u001b[39m\n",
            "Using /usr/local/lib/python3.7/dist-packages\u001b[0m\n",
            "\u001b[39mFinished processing dependencies for TileCycles==0.1.5.1\u001b[0m\n",
            "Requirement already satisfied: genice2 in /usr/local/lib/python3.7/dist-packages (2.1)\n",
            "Requirement already satisfied: openpyscad in /usr/local/lib/python3.7/dist-packages (from genice2) (0.4.0)\n",
            "Requirement already satisfied: cycless in /usr/local/lib/python3.7/dist-packages (from genice2) (0.1.4)\n",
            "Requirement already satisfied: wheel in /usr/local/lib/python3.7/dist-packages (from genice2) (0.36.2)\n",
            "Requirement already satisfied: pairlist>=0.2.11.1 in /usr/local/lib/python3.7/dist-packages (from genice2) (0.2.11.1)\n",
            "Requirement already satisfied: tilecycles>=0.1.4.3 in /usr/local/lib/python3.7/dist-packages/TileCycles-0.1.5.1-py3.7-linux-x86_64.egg (from genice2) (0.1.5.1)\n",
            "Requirement already satisfied: graphstat in /usr/local/lib/python3.7/dist-packages (from genice2) (0.2.1)\n",
            "Requirement already satisfied: networkx>=2.0.dev20160901144005 in /usr/local/lib/python3.7/dist-packages (from genice2) (2.5.1)\n",
            "Requirement already satisfied: numpy in /usr/local/lib/python3.7/dist-packages (from genice2) (1.19.5)\n",
            "Requirement already satisfied: yaplotlib>=0.1 in /usr/local/lib/python3.7/dist-packages (from genice2) (0.1.2)\n",
            "Requirement already satisfied: six<2.0.0,>=1.14.0 in /usr/local/lib/python3.7/dist-packages (from openpyscad->genice2) (1.15.0)\n",
            "Requirement already satisfied: methodtools in /usr/local/lib/python3.7/dist-packages (from cycless->genice2) (0.4.2)\n",
            "Requirement already satisfied: decorator<5,>=4.3 in /usr/local/lib/python3.7/dist-packages (from networkx>=2.0.dev20160901144005->genice2) (4.4.2)\n",
            "Requirement already satisfied: wirerope>=0.4.2 in /usr/local/lib/python3.7/dist-packages (from methodtools->cycless->genice2) (0.4.2)\n"
          ],
          "name": "stdout"
        }
      ]
    },
    {
      "cell_type": "code",
      "metadata": {
        "id": "B81EijSGgSlU",
        "outputId": "ecdc0d87-374a-43d4-da04-8f7ec317f0b6",
        "colab": {
          "base_uri": "https://localhost:8080/"
        }
      },
      "source": [
        "# in case the repository is updated.\n",
        "! cd github/TileCycles; git pull\n",
        "! cd github/TileCycles; make clean uninstall install\n",
        "exit()"
      ],
      "execution_count": 20,
      "outputs": [
        {
          "output_type": "stream",
          "text": [
            "Already up to date.\n",
            "rm  *.so *~ */*~ *.o *.gro *.rdf\n",
            "rm: cannot remove '*.so': No such file or directory\n",
            "rm: cannot remove '*~': No such file or directory\n",
            "rm: cannot remove '*/*~': No such file or directory\n",
            "rm: cannot remove '*.o': No such file or directory\n",
            "rm: cannot remove '*.gro': No such file or directory\n",
            "rm: cannot remove '*.rdf': No such file or directory\n",
            "Makefile:43: recipe for target 'clean' failed\n",
            "make: [clean] Error 1 (ignored)\n",
            "rm -rf build dist *.egg-info\n",
            "# -rm -rf PairList.egg-info\n",
            "pip uninstall -y tilecycles\n",
            "Uninstalling TileCycles-0.1.5.2:\n",
            "  Successfully uninstalled TileCycles-0.1.5.2\n",
            "python setup.py install\n",
            "\u001b[39mrunning install\u001b[0m\n",
            "\u001b[39mrunning bdist_egg\u001b[0m\n",
            "\u001b[39mrunning egg_info\u001b[0m\n",
            "\u001b[39mcreating TileCycles.egg-info\u001b[0m\n",
            "\u001b[39mwriting TileCycles.egg-info/PKG-INFO\u001b[0m\n",
            "\u001b[39mwriting dependency_links to TileCycles.egg-info/dependency_links.txt\u001b[0m\n",
            "\u001b[39mwriting requirements to TileCycles.egg-info/requires.txt\u001b[0m\n",
            "\u001b[39mwriting top-level names to TileCycles.egg-info/top_level.txt\u001b[0m\n",
            "\u001b[39mwriting manifest file 'TileCycles.egg-info/SOURCES.txt'\u001b[0m\n",
            "\u001b[39mwriting manifest file 'TileCycles.egg-info/SOURCES.txt'\u001b[0m\n",
            "\u001b[39minstalling library code to build/bdist.linux-x86_64/egg\u001b[0m\n",
            "\u001b[39mrunning install_lib\u001b[0m\n",
            "\u001b[39mrunning build_py\u001b[0m\n",
            "\u001b[39mcreating build\u001b[0m\n",
            "\u001b[39mcreating build/lib.linux-x86_64-3.7\u001b[0m\n",
            "\u001b[39mcreating build/lib.linux-x86_64-3.7/tilecycles\u001b[0m\n",
            "\u001b[39mcopying tilecycles/Buch.py -> build/lib.linux-x86_64-3.7/tilecycles\u001b[0m\n",
            "\u001b[39mcopying tilecycles/Dipole.py -> build/lib.linux-x86_64-3.7/tilecycles\u001b[0m\n",
            "\u001b[39mcopying tilecycles/__init__.py -> build/lib.linux-x86_64-3.7/tilecycles\u001b[0m\n",
            "\u001b[39mcopying tilecycles/Rahman.py -> build/lib.linux-x86_64-3.7/tilecycles\u001b[0m\n",
            "\u001b[39mrunning build_ext\u001b[0m\n",
            "\u001b[39mbuilding 'tilecycles_c' extension\u001b[0m\n",
            "\u001b[39mWarning: Can't read registry to find the necessary compiler setting\n",
            "Make sure that Python modules winreg, win32api or win32con are installed.\u001b[0m\n",
            "\u001b[39mC compiler: x86_64-linux-gnu-gcc -pthread -Wno-unused-result -Wsign-compare -DNDEBUG -g -fwrapv -O2 -Wall -g -fdebug-prefix-map=/build/python3.7-OGiuun/python3.7-3.7.10=. -fstack-protector-strong -Wformat -Werror=format-security -g -fdebug-prefix-map=/build/python3.7-OGiuun/python3.7-3.7.10=. -fstack-protector-strong -Wformat -Werror=format-security -Wdate-time -D_FORTIFY_SOURCE=2 -fPIC\n",
            "\u001b[0m\n",
            "\u001b[39mcreating build/temp.linux-x86_64-3.7\u001b[0m\n",
            "\u001b[39mcompile options: '-I/usr/local/lib/python3.7/dist-packages/numpy/core/include -I/usr/include/python3.7m -c'\n",
            "extra options: '-std=c++11'\u001b[0m\n",
            "\u001b[39mx86_64-linux-gnu-gcc: c_tilecycles.cpp\u001b[0m\n",
            "\u001b[39mx86_64-linux-gnu-gcc: tilecycles_c.cpp\u001b[0m\n",
            "In file included from \u001b[01m\u001b[K/usr/local/lib/python3.7/dist-packages/numpy/core/include/numpy/ndarraytypes.h:1822:0\u001b[m\u001b[K,\n",
            "                 from \u001b[01m\u001b[K/usr/local/lib/python3.7/dist-packages/numpy/core/include/numpy/ndarrayobject.h:12\u001b[m\u001b[K,\n",
            "                 from \u001b[01m\u001b[K/usr/local/lib/python3.7/dist-packages/numpy/core/include/numpy/arrayobject.h:4\u001b[m\u001b[K,\n",
            "                 from \u001b[01m\u001b[Kc_tilecycles.cpp:6\u001b[m\u001b[K:\n",
            "\u001b[01m\u001b[K/usr/local/lib/python3.7/dist-packages/numpy/core/include/numpy/npy_1_7_deprecated_api.h:17:2:\u001b[m\u001b[K \u001b[01;35m\u001b[Kwarning: \u001b[m\u001b[K#warning \"Using deprecated NumPy API, disable it with \" \"#define NPY_NO_DEPRECATED_API NPY_1_7_API_VERSION\" [\u001b[01;35m\u001b[K-Wcpp\u001b[m\u001b[K]\n",
            " #\u001b[01;35m\u001b[Kwarning\u001b[m\u001b[K \"Using deprecated NumPy API, disable it with \" \\\n",
            "  \u001b[01;35m\u001b[K^~~~~~~\u001b[m\u001b[K\n",
            "\u001b[39mx86_64-linux-gnu-g++ -pthread -shared -Wl,-O1 -Wl,-Bsymbolic-functions -Wl,-Bsymbolic-functions -Wl,-z,relro -Wl,-Bsymbolic-functions -Wl,-z,relro -g -fdebug-prefix-map=/build/python3.7-OGiuun/python3.7-3.7.10=. -fstack-protector-strong -Wformat -Werror=format-security -Wdate-time -D_FORTIFY_SOURCE=2 build/temp.linux-x86_64-3.7/c_tilecycles.o build/temp.linux-x86_64-3.7/tilecycles_c.o -o build/lib.linux-x86_64-3.7/tilecycles_c.cpython-37m-x86_64-linux-gnu.so\u001b[0m\n",
            "\u001b[39mcreating build/bdist.linux-x86_64\u001b[0m\n",
            "\u001b[39mcreating build/bdist.linux-x86_64/egg\u001b[0m\n",
            "\u001b[39mcreating build/bdist.linux-x86_64/egg/tilecycles\u001b[0m\n",
            "\u001b[39mcopying build/lib.linux-x86_64-3.7/tilecycles/Buch.py -> build/bdist.linux-x86_64/egg/tilecycles\u001b[0m\n",
            "\u001b[39mcopying build/lib.linux-x86_64-3.7/tilecycles/Dipole.py -> build/bdist.linux-x86_64/egg/tilecycles\u001b[0m\n",
            "\u001b[39mcopying build/lib.linux-x86_64-3.7/tilecycles/__init__.py -> build/bdist.linux-x86_64/egg/tilecycles\u001b[0m\n",
            "\u001b[39mcopying build/lib.linux-x86_64-3.7/tilecycles/Rahman.py -> build/bdist.linux-x86_64/egg/tilecycles\u001b[0m\n",
            "\u001b[39mcopying build/lib.linux-x86_64-3.7/tilecycles_c.cpython-37m-x86_64-linux-gnu.so -> build/bdist.linux-x86_64/egg\u001b[0m\n",
            "\u001b[39mbyte-compiling build/bdist.linux-x86_64/egg/tilecycles/Buch.py to Buch.cpython-37.pyc\u001b[0m\n",
            "\u001b[39mbyte-compiling build/bdist.linux-x86_64/egg/tilecycles/Dipole.py to Dipole.cpython-37.pyc\u001b[0m\n",
            "\u001b[39mbyte-compiling build/bdist.linux-x86_64/egg/tilecycles/__init__.py to __init__.cpython-37.pyc\u001b[0m\n",
            "\u001b[39mbyte-compiling build/bdist.linux-x86_64/egg/tilecycles/Rahman.py to Rahman.cpython-37.pyc\u001b[0m\n",
            "\u001b[39mcreating stub loader for tilecycles_c.cpython-37m-x86_64-linux-gnu.so\u001b[0m\n",
            "\u001b[39mbyte-compiling build/bdist.linux-x86_64/egg/tilecycles_c.py to tilecycles_c.cpython-37.pyc\u001b[0m\n",
            "\u001b[39mcreating build/bdist.linux-x86_64/egg/EGG-INFO\u001b[0m\n",
            "\u001b[39mcopying TileCycles.egg-info/PKG-INFO -> build/bdist.linux-x86_64/egg/EGG-INFO\u001b[0m\n",
            "\u001b[39mcopying TileCycles.egg-info/SOURCES.txt -> build/bdist.linux-x86_64/egg/EGG-INFO\u001b[0m\n",
            "\u001b[39mcopying TileCycles.egg-info/dependency_links.txt -> build/bdist.linux-x86_64/egg/EGG-INFO\u001b[0m\n",
            "\u001b[39mcopying TileCycles.egg-info/not-zip-safe -> build/bdist.linux-x86_64/egg/EGG-INFO\u001b[0m\n",
            "\u001b[39mcopying TileCycles.egg-info/requires.txt -> build/bdist.linux-x86_64/egg/EGG-INFO\u001b[0m\n",
            "\u001b[39mcopying TileCycles.egg-info/top_level.txt -> build/bdist.linux-x86_64/egg/EGG-INFO\u001b[0m\n",
            "\u001b[39mwriting build/bdist.linux-x86_64/egg/EGG-INFO/native_libs.txt\u001b[0m\n",
            "\u001b[39mcreating dist\u001b[0m\n",
            "\u001b[39mcreating 'dist/TileCycles-0.1.5.2-py3.7-linux-x86_64.egg' and adding 'build/bdist.linux-x86_64/egg' to it\u001b[0m\n",
            "\u001b[39mremoving 'build/bdist.linux-x86_64/egg' (and everything under it)\u001b[0m\n",
            "\u001b[39mProcessing TileCycles-0.1.5.2-py3.7-linux-x86_64.egg\u001b[0m\n",
            "\u001b[39mcreating /usr/local/lib/python3.7/dist-packages/TileCycles-0.1.5.2-py3.7-linux-x86_64.egg\u001b[0m\n",
            "\u001b[39mExtracting TileCycles-0.1.5.2-py3.7-linux-x86_64.egg to /usr/local/lib/python3.7/dist-packages\u001b[0m\n",
            "\u001b[39mAdding TileCycles 0.1.5.2 to easy-install.pth file\u001b[0m\n",
            "\u001b[39m\n",
            "Installed /usr/local/lib/python3.7/dist-packages/TileCycles-0.1.5.2-py3.7-linux-x86_64.egg\u001b[0m\n",
            "\u001b[39mProcessing dependencies for TileCycles==0.1.5.2\u001b[0m\n",
            "\u001b[39mSearching for cycless==0.1.4\u001b[0m\n",
            "\u001b[39mBest match: cycless 0.1.4\u001b[0m\n",
            "\u001b[39mAdding cycless 0.1.4 to easy-install.pth file\u001b[0m\n",
            "\u001b[39m\n",
            "Using /usr/local/lib/python3.7/dist-packages\u001b[0m\n",
            "\u001b[39mSearching for networkx==2.5.1\u001b[0m\n",
            "\u001b[39mBest match: networkx 2.5.1\u001b[0m\n",
            "\u001b[39mAdding networkx 2.5.1 to easy-install.pth file\u001b[0m\n",
            "\u001b[39m\n",
            "Using /usr/local/lib/python3.7/dist-packages\u001b[0m\n",
            "\u001b[39mSearching for numpy==1.19.5\u001b[0m\n",
            "\u001b[39mBest match: numpy 1.19.5\u001b[0m\n",
            "\u001b[39mAdding numpy 1.19.5 to easy-install.pth file\u001b[0m\n",
            "\u001b[39mInstalling f2py script to /usr/local/bin\u001b[0m\n",
            "\u001b[39mInstalling f2py3 script to /usr/local/bin\u001b[0m\n",
            "\u001b[39mInstalling f2py3.7 script to /usr/local/bin\u001b[0m\n",
            "\u001b[39m\n",
            "Using /usr/local/lib/python3.7/dist-packages\u001b[0m\n",
            "\u001b[39mSearching for wheel==0.36.2\u001b[0m\n",
            "\u001b[39mBest match: wheel 0.36.2\u001b[0m\n",
            "\u001b[39mAdding wheel 0.36.2 to easy-install.pth file\u001b[0m\n",
            "\u001b[39mInstalling wheel script to /usr/local/bin\u001b[0m\n",
            "\u001b[39m\n",
            "Using /usr/local/lib/python3.7/dist-packages\u001b[0m\n",
            "\u001b[39mSearching for methodtools==0.4.2\u001b[0m\n",
            "\u001b[39mBest match: methodtools 0.4.2\u001b[0m\n",
            "\u001b[39mAdding methodtools 0.4.2 to easy-install.pth file\u001b[0m\n",
            "\u001b[39m\n",
            "Using /usr/local/lib/python3.7/dist-packages\u001b[0m\n",
            "\u001b[39mSearching for decorator==4.4.2\u001b[0m\n",
            "\u001b[39mBest match: decorator 4.4.2\u001b[0m\n",
            "\u001b[39mAdding decorator 4.4.2 to easy-install.pth file\u001b[0m\n",
            "\u001b[39m\n",
            "Using /usr/local/lib/python3.7/dist-packages\u001b[0m\n",
            "\u001b[39mSearching for wirerope==0.4.2\u001b[0m\n",
            "\u001b[39mBest match: wirerope 0.4.2\u001b[0m\n",
            "\u001b[39mAdding wirerope 0.4.2 to easy-install.pth file\u001b[0m\n",
            "\u001b[39m\n",
            "Using /usr/local/lib/python3.7/dist-packages\u001b[0m\n",
            "\u001b[39mSearching for six==1.15.0\u001b[0m\n",
            "\u001b[39mBest match: six 1.15.0\u001b[0m\n",
            "\u001b[39mAdding six 1.15.0 to easy-install.pth file\u001b[0m\n",
            "\u001b[39m\n",
            "Using /usr/local/lib/python3.7/dist-packages\u001b[0m\n",
            "\u001b[39mFinished processing dependencies for TileCycles==0.1.5.2\u001b[0m\n"
          ],
          "name": "stdout"
        }
      ]
    },
    {
      "cell_type": "markdown",
      "metadata": {
        "id": "EXCoWxdvXGTZ"
      },
      "source": [
        "# Benchmark tests"
      ]
    },
    {
      "cell_type": "code",
      "metadata": {
        "id": "5OZQGRPxW0DE"
      },
      "source": [
        "from genice2.genice import GenIce\n",
        "from genice2.plugin import Lattice, Format, Molecule\n",
        "\n",
        "import networkx as nx\n",
        "import numpy as np\n",
        "import random\n",
        "import time\n",
        "\n",
        "\n",
        "# sampling parameters for benchmarking\n",
        "# Accurate\n",
        "maxRepeat = 100  # loops\n",
        "maxAccum  = 25   # sec\n",
        "maxProc   = 100  # sec\n",
        "maxNode   = 1000000\n",
        "\n",
        "# Rough estimate\n",
        "maxRepeat = 10  # loops\n",
        "maxAccum  = 5   # sec\n",
        "maxProc   = 10  # sec\n",
        "maxNode   = 100000\n",
        "\n",
        "# test for perfect ices\n",
        "def test_icerule(d, N):\n",
        "    assert d.number_of_nodes() == N\n",
        "    for node in d:\n",
        "        assert d.in_degree(node) == 2\n",
        "        assert d.in_degree(node) == 2   "
      ],
      "execution_count": 1,
      "outputs": []
    },
    {
      "cell_type": "markdown",
      "metadata": {
        "id": "pEvBXxOJY8h6"
      },
      "source": [
        "## Buch's algorithm\n",
        "\n",
        "There are two hydrogen sites between two neighboring oxygens, and Buch's algorithm assumes that the initial configuration is one in which all the hydrogens randomly occupy one of the two sites.\n",
        "\n",
        "In the initial configuration, there are many oxygen atoms with excess hydrogen. The algorithm migrates hydrogen from such an oxygen atom to a neighboring oxygen atom, and repeats the process randomly until there are two hydrogen species in every oxygen atom.\n"
      ]
    },
    {
      "cell_type": "code",
      "metadata": {
        "id": "pLfPxUgM8cBp",
        "outputId": "a96f0ebb-3b19-4cfd-d80b-3772c5a030ec",
        "colab": {
          "base_uri": "https://localhost:8080/"
        }
      },
      "source": [
        "import tilecycles.Buch as Buch\n",
        "\n",
        "\n",
        "lattice = Lattice(\"1c\")\n",
        "formatter = Format(\"raw\", stage=(2,))  # generates an undirected graph\n",
        "\n",
        "time_buch_icerule = []\n",
        "lastN = 0\n",
        "for NN in range(8, 100):\n",
        "    N = int(1.4**(NN/3))\n",
        "    if N == lastN:\n",
        "        continue\n",
        "    lastN = N\n",
        "    raw = GenIce(lattice, rep=[N, N, N]).generate_ice(formatter)\n",
        "    g = raw['graph']\n",
        "    Nnode = g.number_of_nodes()\n",
        "\n",
        "    delta = 0.0\n",
        "    Nrep = 0\n",
        "    while delta < maxAccum and Nrep < maxRepeat:\n",
        "        dd = nx.DiGraph()\n",
        "        for a, b in g.edges():\n",
        "            if random.randint(0, 1) == 1:\n",
        "                dd.add_edge(a, b)\n",
        "            else:\n",
        "                dd.add_edge(b, a)\n",
        "\n",
        "        now = time.time()\n",
        "        Buch.migrate(dd, set([x for x in dd.nodes if dd.out_degree(x) > 2]))\n",
        "        delta += time.time() - now\n",
        "        Nrep += 1\n",
        "    delta /= Nrep\n",
        "    time_buch_icerule.append([Nnode, delta, Nrep])\n",
        "    print(f\"{Nnode} molecules {delta} s avg. {Nrep} reps.\")\n",
        "    test_icerule(dd, Nnode)\n",
        "    if delta > maxProc:\n",
        "        break\n",
        "    if Nnode > maxNode:\n",
        "        break"
      ],
      "execution_count": 3,
      "outputs": [
        {
          "output_type": "stream",
          "text": [
            "64 molecules 0.0037578582763671876 s avg. 10 reps.\n",
            "216 molecules 0.015002584457397461 s avg. 10 reps.\n",
            "512 molecules 0.03644030094146729 s avg. 10 reps.\n",
            "1000 molecules 0.09190850257873535 s avg. 10 reps.\n",
            "1728 molecules 0.14869184494018556 s avg. 10 reps.\n",
            "2744 molecules 0.2798877239227295 s avg. 10 reps.\n",
            "4096 molecules 0.6572456061840057 s avg. 8 reps.\n",
            "5832 molecules 0.8535568373543876 s avg. 7 reps.\n",
            "8000 molecules 1.3885011672973633 s avg. 4 reps.\n",
            "10648 molecules 1.6809146404266357 s avg. 3 reps.\n",
            "17576 molecules 12.423659801483154 s avg. 1 reps.\n"
          ],
          "name": "stdout"
        }
      ]
    },
    {
      "cell_type": "markdown",
      "metadata": {
        "id": "ca3K1ckFY8h8"
      },
      "source": [
        "## (GenIce algorithm)\n",
        "\n",
        "The code to measure the processing time including the depolarization is in the next Section."
      ]
    },
    {
      "cell_type": "markdown",
      "metadata": {
        "id": "5MAt2xo6Y8h9"
      },
      "source": [
        "## Rahman's algorithm\n",
        "\n",
        "The algorithm prepares a depolarized structure in advance and generates a hydrogen-disordered structure by successively reversing randomly chosen homodromic cycles.\n",
        "\n",
        "Here, the ice Ic structure generated by GenIce is used as an initial structure, and the procedure is repeated until all the edges are inverted at least once."
      ]
    },
    {
      "cell_type": "code",
      "metadata": {
        "id": "Fui8sDpJ8cBr",
        "outputId": "3e107ed3-2cfb-4b26-cc27-dd6862da9ae7",
        "colab": {
          "base_uri": "https://localhost:8080/"
        }
      },
      "source": [
        "import tilecycles.Rahman as Rahman\n",
        "\n",
        "lattice = Lattice(\"1c\")\n",
        "formatter = Format(\"raw\", stage=(3,))  # We need the directed graph of ice!\n",
        "\n",
        "time_rahman_icerule = []\n",
        "for N in range(1, 20):\n",
        "    raw = GenIce(lattice, rep=[N, N, N]).generate_ice(formatter)\n",
        "    d = nx.DiGraph(raw['digraph'].edges())\n",
        "    Nnode = d.number_of_nodes()\n",
        "\n",
        "    delta = 0.0\n",
        "    Nrep = 0\n",
        "    while delta < maxAccum and Nrep < maxRepeat:\n",
        "        # footprint\n",
        "        g = nx.Graph(d)\n",
        "\n",
        "        now = time.time()\n",
        "        while g.number_of_edges() > 0:\n",
        "            cycle = Rahman.six(d, d.number_of_nodes())\n",
        "            Rahman.invertCycle(d, cycle, g)\n",
        "        delta += time.time() - now\n",
        "        Nrep += 1\n",
        "    delta /= Nrep\n",
        "    time_rahman_icerule.append([Nnode, delta, Nrep])\n",
        "    print(f\"{Nnode} molecules {delta} s avg. {Nrep} reps.\")\n",
        "    test_icerule(d, Nnode)\n",
        "    if delta > maxProc:\n",
        "        break"
      ],
      "execution_count": 4,
      "outputs": [
        {
          "output_type": "stream",
          "text": [
            "8 molecules 0.0027656078338623045 s avg. 10 reps.\n",
            "64 molecules 0.023506903648376466 s avg. 10 reps.\n",
            "216 molecules 0.09674634933471679 s avg. 10 reps.\n",
            "512 molecules 0.35381035804748534 s avg. 10 reps.\n",
            "1000 molecules 1.0022691249847413 s avg. 5 reps.\n",
            "1728 molecules 2.6800748109817505 s avg. 2 reps.\n",
            "2744 molecules 5.724560737609863 s avg. 1 reps.\n",
            "4096 molecules 14.762807846069336 s avg. 1 reps.\n"
          ],
          "name": "stdout"
        }
      ]
    },
    {
      "cell_type": "markdown",
      "metadata": {
        "id": "f7Dkgeeh9RYA"
      },
      "source": [
        "# With depolarization\n",
        "\n",
        "\n"
      ]
    },
    {
      "cell_type": "markdown",
      "metadata": {
        "id": "8mGvXGXX9iHW"
      },
      "source": [
        "## Buch's algorithm\n",
        "\n",
        "We implement the efficient algorithm to depolarize the HB network of ice which was developed for GenIce."
      ]
    },
    {
      "cell_type": "code",
      "metadata": {
        "colab": {
          "base_uri": "https://localhost:8080/"
        },
        "id": "HTwbpHCh9Qu4",
        "outputId": "aa1e0368-c550-4b1d-b67b-af3e0f0b8449"
      },
      "source": [
        "import tilecycles.Buch as Buch\n",
        "import tilecycles.Dipole as dp\n",
        "\n",
        "lattice = Lattice(\"1c\")\n",
        "formatter = Format(\"raw\", stage=(1,2,))  # generates an undirected graph\n",
        "\n",
        "N=8\n",
        "raw = GenIce(lattice, rep=[N, N, N]).generate_ice(formatter)\n",
        "g = raw['graph']\n",
        "Nnode = g.number_of_nodes()\n",
        "\n",
        "Nrep = 10\n",
        "time_buch_icerule = []\n",
        "time_buch_depol = []\n",
        "\n",
        "for loop in range(Nrep):\n",
        "    dd = nx.DiGraph()\n",
        "    for a, b in g.edges():\n",
        "        if random.randint(0, 1) == 1:\n",
        "            dd.add_edge(a, b)\n",
        "        else:\n",
        "            dd.add_edge(b, a)\n",
        "\n",
        "    now = time.time()\n",
        "    Buch.migrate(dd, set([x for x in dd.nodes if dd.out_degree(x) > 2]))\n",
        "    delta = time.time() - now\n",
        "    time_buch_icerule.append(delta)\n",
        "    \n",
        "    test_icerule(dd, Nnode)\n",
        "\n",
        "    rpos = raw['reppositions']\n",
        "    cell = raw['repcell']\n",
        "\n",
        "    dipoles = dict()\n",
        "    # make relative vectors\n",
        "    for a, b in dd.edges():\n",
        "        dr = rpos[b] - rpos[a]\n",
        "        dr -= np.floor(dr+0.5)\n",
        "        dipoles[a, b] = dr\n",
        "\n",
        "    now = time.time()\n",
        "    dp.force_depolarize(dd, rpos, cell, dipoles)\n",
        "    delta = time.time() - now\n",
        "    time_buch_depol.append(delta)\n",
        "\n",
        "    net = dp.net_polarization(dipoles)\n",
        "    print(net)\n",
        "\n",
        "print(np.mean(time_buch_icerule))\n",
        "print(np.mean(time_buch_depol))"
      ],
      "execution_count": null,
      "outputs": [
        {
          "output_type": "stream",
          "text": [
            "[0. 0. 0.]\n",
            "[0. 0. 0.]\n",
            "[0. 0. 0.]\n",
            "[0. 0. 0.]\n",
            "[0. 0. 0.]\n",
            "[0. 0. 0.]\n",
            "[0. 0. 0.]\n",
            "[0. 0. 0.]\n",
            "[0. 0. 0.]\n",
            "[0. 0. 0.]\n",
            "0.1745654821395874\n",
            "0.15979175567626952\n"
          ],
          "name": "stdout"
        }
      ]
    },
    {
      "cell_type": "markdown",
      "metadata": {
        "id": "TcI8MkSEOXDv"
      },
      "source": [
        "## Rahman's algorithm\n",
        "\n",
        "In Rahman's algorithm, the initial structure should be already depolarized. To avoid additional polarizations, a traversing cycle must be excluded in the process of shuffling the network, and that costs additionally."
      ]
    },
    {
      "cell_type": "code",
      "metadata": {
        "id": "bcGE9pO6OWP5",
        "outputId": "163b7a6a-a0a6-4c47-93a2-edfdeca50d03"
      },
      "source": [
        "import tilecycles.Rahman as Rahman\n",
        "\n",
        "\n",
        "lattice = Lattice(\"1c\")\n",
        "formatter = Format(\"raw\", stage=(3,))  # We need the directed graph of ice!\n",
        "\n",
        "N = 8\n",
        "raw = GenIce(lattice, rep=[N, N, N]).generate_ice(formatter)\n",
        "d = nx.DiGraph(raw['digraph'].edges())\n",
        "Nnode = d.number_of_nodes()\n",
        "\n",
        "Nrep = 2\n",
        "\n",
        "time_rahman_withdepol = []\n",
        "for loop in range(Nrep):\n",
        "    # footprint\n",
        "    g = nx.Graph(d)\n",
        "\n",
        "    now = time.time()\n",
        "    while g.number_of_edges() > 0:\n",
        "        cycle = Rahman.six(d, d.number_of_nodes())\n",
        "        Rahman.invertCycle(d, cycle, g)\n",
        "    delta = time.time() - now\n",
        "    print(delta)\n",
        "    time_rahman_withdepol.append(delta)\n",
        "    test_icerule(d, Nnode)\n",
        "\n",
        "time_rahman_icerule = []\n",
        "for loop in range(Nrep):\n",
        "    # footprint\n",
        "    g = nx.Graph(d)\n",
        "\n",
        "    # Shortest size of the traversing cycle\n",
        "    Ntra = N*4\n",
        "\n",
        "    now = time.time()\n",
        "    while g.number_of_edges() > 0:\n",
        "        cycle = Rahman.six(d, d.number_of_nodes(), Ntra)\n",
        "        Rahman.invertCycle(d, cycle, g)\n",
        "    delta = time.time() - now\n",
        "    print(delta)\n",
        "    time_rahman_icerule.append(delta)\n",
        "\n",
        "    test_icerule(d, Nnode)\n",
        "\n",
        "print(np.mean(time_rahman_withdepol))\n",
        "print(np.mean(time_rahman_icerule))"
      ],
      "execution_count": null,
      "outputs": [
        {
          "output_type": "stream",
          "text": [
            "4.366569995880127\n",
            "4.8850109577178955\n",
            "6.503124952316284\n",
            "7.61551308631897\n",
            "4.625790476799011\n",
            "7.059319019317627\n"
          ],
          "name": "stdout"
        }
      ]
    },
    {
      "cell_type": "markdown",
      "metadata": {
        "id": "wjX2bGYmRdZG"
      },
      "source": [
        "## GenIce algorithm"
      ]
    },
    {
      "cell_type": "code",
      "metadata": {
        "colab": {
          "base_uri": "https://localhost:8080/"
        },
        "id": "b3g5V0vxGFfW",
        "outputId": "0458b1f6-bb13-4795-b618-22941306ccbe"
      },
      "source": [
        "import tilecycles.Dipole as dp\n",
        "import tilecycles as tc\n",
        "\n",
        "lattice = Lattice(\"1c\")\n",
        "formatter = Format(\"raw\", stage=(1,2,))  # generates an undirected graph\n",
        "\n",
        "time_genice_icerule = []\n",
        "time_genice_depol = []\n",
        "for NN in range(4, 100):\n",
        "    N = int(2**(NN/3))\n",
        "    raw = GenIce(lattice, rep=[N, N, N]).generate_ice(formatter)\n",
        "    g0 = raw['graph']\n",
        "    rpos = raw['reppositions']\n",
        "    cell = raw['repcell']\n",
        "    Nnode = g0.number_of_nodes()\n",
        "\n",
        "    Nrep = 0\n",
        "    time_icerule = 0\n",
        "    time_depol = 0\n",
        "    Nfb = 0\n",
        "    delta = 0\n",
        "    while time_icerule < maxAccum and Nrep < maxRepeat:\n",
        "        g = nx.Graph(g0)\n",
        "\n",
        "        now = time.time()\n",
        "        dd = nx.DiGraph()\n",
        "        cycles = []\n",
        "        for cycle in tc.tileByCycles(g):\n",
        "            nx.add_cycle(dd, cycle)\n",
        "            cycles.append(cycle)\n",
        "        delta = time.time() - now\n",
        "        time_icerule += delta\n",
        "\n",
        "        test_icerule(dd, Nnode)\n",
        "\n",
        "        dipoles = dict()\n",
        "        # make relative vectors\n",
        "        for a, b in dd.edges():\n",
        "            dr = rpos[b] - rpos[a]\n",
        "            dr -= np.floor(dr+0.5)\n",
        "            dipoles[a, b] = dr\n",
        "\n",
        "        now = time.time()\n",
        "        fallback = tc.depolarize(cycles, dipoles, dd, rpos, cell)\n",
        "        Nfb += fallback\n",
        "        delta = time.time() - now\n",
        "        time_depol += delta\n",
        "\n",
        "        net = dp.net_polarization(dipoles)\n",
        "        assert np.allclose(net, 0)\n",
        "        \n",
        "        Nrep += 1\n",
        "    time_icerule /= Nrep\n",
        "    time_depol /= Nrep\n",
        "    time_genice_icerule.append([Nnode, time_icerule, Nrep])\n",
        "    time_genice_depol.append([Nnode, time_depol, Nrep, Nfb])\n",
        "    print(f\"{Nnode} molecules {delta} s avg. {Nrep} reps.\")\n",
        "    if Nnode >= maxNode:\n",
        "        break"
      ],
      "execution_count": 5,
      "outputs": [
        {
          "output_type": "stream",
          "text": [
            "give up depolarizing completely.\n",
            "Original GenIce algorithm.\n",
            "give up depolarizing completely.\n",
            "Original GenIce algorithm.\n",
            "give up depolarizing completely.\n",
            "Original GenIce algorithm.\n",
            "64 molecules 0.0013778209686279297 s avg. 10 reps.\n",
            "give up depolarizing completely.\n",
            "Original GenIce algorithm.\n",
            "give up depolarizing completely.\n",
            "Original GenIce algorithm.\n",
            "216 molecules 0.0024492740631103516 s avg. 10 reps.\n",
            "512 molecules 0.005668163299560547 s avg. 10 reps.\n",
            "1000 molecules 0.01037454605102539 s avg. 10 reps.\n",
            "1728 molecules 0.0184476375579834 s avg. 10 reps.\n",
            "4096 molecules 0.04131770133972168 s avg. 10 reps.\n",
            "8000 molecules 0.0954582691192627 s avg. 10 reps.\n",
            "13824 molecules 0.1549055576324463 s avg. 10 reps.\n",
            "32768 molecules 0.35439133644104004 s avg. 5 reps.\n",
            "64000 molecules 0.6922118663787842 s avg. 3 reps.\n",
            "125000 molecules 1.349839687347412 s avg. 2 reps.\n"
          ],
          "name": "stdout"
        }
      ]
    },
    {
      "cell_type": "code",
      "metadata": {
        "id": "Tnha9elHfdLg",
        "outputId": "c12a8a6d-2e75-4a52-e801-ae27bcb8afb6",
        "colab": {
          "base_uri": "https://localhost:8080/"
        }
      },
      "source": [
        "time_genice_icerule, time_genice_depol"
      ],
      "execution_count": 6,
      "outputs": [
        {
          "output_type": "execute_result",
          "data": {
            "text/plain": [
              "([[64, 0.005505919456481934, 10],\n",
              "  [216, 0.006479120254516602, 10],\n",
              "  [512, 0.014496946334838867, 10],\n",
              "  [1000, 0.025208520889282226, 10],\n",
              "  [1728, 0.04537687301635742, 10],\n",
              "  [4096, 0.11452908515930176, 10],\n",
              "  [8000, 0.23430793285369872, 10],\n",
              "  [13824, 0.44858479499816895, 10],\n",
              "  [32768, 1.1215882778167725, 5],\n",
              "  [64000, 2.3681859970092773, 3],\n",
              "  [125000, 4.803917407989502, 2]],\n",
              " [[64, 0.0045849323272705075, 10, 3],\n",
              "  [216, 0.006995058059692383, 10, 2],\n",
              "  [512, 0.006499004364013672, 10, 0],\n",
              "  [1000, 0.011461901664733886, 10, 0],\n",
              "  [1728, 0.018102097511291503, 10, 0],\n",
              "  [4096, 0.043877482414245605, 10, 0],\n",
              "  [8000, 0.08519117832183838, 10, 0],\n",
              "  [13824, 0.1531261682510376, 10, 0],\n",
              "  [32768, 0.35542807579040525, 5, 0],\n",
              "  [64000, 0.6842133204142252, 3, 0],\n",
              "  [125000, 1.3648793697357178, 2, 0]])"
            ]
          },
          "metadata": {
            "tags": []
          },
          "execution_count": 6
        }
      ]
    },
    {
      "cell_type": "code",
      "metadata": {
        "id": "jpQwVGmWfdLg",
        "outputId": "bb5e01db-a2ac-48d2-a199-bb8cd15d993e",
        "colab": {
          "base_uri": "https://localhost:8080/",
          "height": 303
        }
      },
      "source": [
        "from matplotlib import pyplot as plt\n",
        "\n",
        "\n",
        "time_buch_icerule = np.array(time_buch_icerule)\n",
        "time_genice_icerule = np.array(time_genice_icerule)\n",
        "time_rahman_icerule = np.array(time_rahman_icerule)\n",
        "\n",
        "\n",
        "fig1, ax = plt.subplots()\n",
        "\n",
        "# ax.set_aspect('square') #, adjustable='box')\n",
        "\n",
        "plt.plot(time_rahman_icerule[:, 0], time_rahman_icerule[:, 1], label=\"Rahman\")\n",
        "plt.plot(time_buch_icerule[:, 0], time_buch_icerule[:, 1], label=\"Buch\")\n",
        "plt.plot(time_genice_icerule[:, 0], time_genice_icerule[:, 1], label=\"This work\")\n",
        "plt.xlim(0, 130000)\n",
        "plt.legend()\n",
        "plt.xlabel(\"Number of molecules\")\n",
        "plt.ylabel(\"Time / s\")\n",
        "plt.ylim(0, 100)\n",
        "plt.show()\n",
        "\n",
        "# fig1.savefig(\"benchmark.pdf\")"
      ],
      "execution_count": 8,
      "outputs": [
        {
          "output_type": "display_data",
          "data": {
            "image/png": "[encoded data removed]",
            "text/plain": [
              "<Figure size 432x288 with 1 Axes>"
            ]
          },
          "metadata": {
            "tags": [],
            "needs_background": "light"
          }
        }
      ]
    },
    {
      "cell_type": "code",
      "metadata": {
        "id": "aMo1D7TkfdLg",
        "outputId": "a2828c9a-939b-49de-cdef-4af177698a34",
        "colab": {
          "base_uri": "https://localhost:8080/",
          "height": 320
        }
      },
      "source": [
        "from matplotlib import pyplot as plt\n",
        "import matplotlib as mpl\n",
        "mpl.rcParams['pdf.fonttype'] = 42\n",
        "\n",
        "time_genice_icerule = np.array(time_genice_icerule)\n",
        "time_genice_depol = np.array(time_genice_depol)\n",
        "\n",
        "fig1, ax = plt.subplots()\n",
        "\n",
        "lin = np.linspace(1e2, 1e5, 100)\n",
        "plt.loglog(time_rahman_icerule[:, 0], time_rahman_icerule[:, 1], label=\"Rahman\")\n",
        "plt.loglog(time_buch_icerule[:, 0], time_buch_icerule[:, 1], label=\"Buch\")\n",
        "plt.loglog(time_genice_icerule[:, 0], time_genice_icerule[:, 1], label=\"Ice rule\")\n",
        "plt.loglog(time_genice_depol[:, 0], time_genice_depol[:, 1], label=\"Depolarize\")\n",
        "\n",
        "plt.loglog(lin, lin*1e-5, label=r\"y=A x\")\n",
        "plt.legend()\n",
        "plt.xlabel(\"Number of molecules\")\n",
        "plt.ylabel(\"Time / s\")\n",
        "\n",
        "# fig1.savefig(\"benchmark-dep-loglog.pdf\")\n",
        "\n"
      ],
      "execution_count": 9,
      "outputs": [
        {
          "output_type": "execute_result",
          "data": {
            "text/plain": [
              "Text(0, 0.5, 'Time / s')"
            ]
          },
          "metadata": {
            "tags": []
          },
          "execution_count": 9
        },
        {
          "output_type": "display_data",
          "data": {
            "image/png": "[encoded data removed]",
            "text/plain": [
              "<Figure size 432x288 with 1 Axes>"
            ]
          },
          "metadata": {
            "tags": [],
            "needs_background": "light"
          }
        }
      ]
    },
    {
      "cell_type": "markdown",
      "metadata": {
        "id": "cjL_IDEkfdLg"
      },
      "source": [
        "# With defects\n",
        "\n",
        "If the ice includes defects, i.e., if the graph is not an even graph, it is impossible to tile with cycles only. However, it is still possible to tile it with cycles and some chains connecting the vertices of the odd degree. \n",
        "\n",
        "In the following algorithm, first we look up the shortest chains connecting odd vertices by Dijkstra algorithm, remove them from the undirected graph, and then we tile the graph with cycles.\n"
      ]
    },
    {
      "cell_type": "code",
      "metadata": {
        "id": "olKoL40FmeDK",
        "outputId": "49f536ed-ad47-4e33-9186-fa0a6b4c3051",
        "colab": {
          "base_uri": "https://localhost:8080/",
          "height": 286
        }
      },
      "source": [
        "# Visualize the odd-odd chains\n",
        "\n",
        "import numpy as np\n",
        "import networkx as nx\n",
        "import random\n",
        "\n",
        "from matplotlib import pyplot as plt\n",
        "import tilecycles as tc\n",
        "import tilecycles.Dipole as dp\n",
        "\n",
        "\n",
        "def draw_edge(edge, pos, threshold, color, linewidth=1):\n",
        "    a, b = edge\n",
        "    va = pos[a]\n",
        "    vb = pos[b]\n",
        "    d = vb - va\n",
        "    if d@d > threshold:\n",
        "        d -= np.floor(d+0.5)\n",
        "        seg = np.vstack([vb-d, vb])\n",
        "        plt.plot(seg[:, 0], seg[:, 1], color=color, linewidth=linewidth)\n",
        "    seg = np.vstack([va, va+d])\n",
        "    plt.plot(seg[:, 0], seg[:, 1], color=color, linewidth=linewidth)\n",
        "\n",
        "\n",
        "def draw_markers(a, pos, color):\n",
        "    va = pos[a, :]\n",
        "    plt.plot(va[:, 0], va[:, 1], 'o', color=color, markersize=5)\n",
        "\n",
        "\n",
        "def draw_cycle(cycle, pos, threshold, color):\n",
        "    for i in range(len(cycle)):\n",
        "        a = cycle[i-1]\n",
        "        b = cycle[i]\n",
        "        draw_edge((a,b), pos, threshold, color)\n",
        "\n",
        "\n",
        "def draw_path(path, pos, threshold, color):\n",
        "    for i in range(len(path)-1):\n",
        "        a = path[i]\n",
        "        b = path[i+1]\n",
        "        draw_edge((a,b), pos, threshold, color, linewidth=2)\n",
        "    draw_markers((path[0], path[-1]), pos, color)\n",
        "\n",
        "\n",
        "R = 5\n",
        "pos = []\n",
        "for x in range(-R, R+1):\n",
        "    for y in range(-R, R+1):\n",
        "        if (R+0.5)**2 > x**2 + y**2:\n",
        "            pos.append([x,y])\n",
        "\n",
        "pos = np.array(pos)\n",
        "g = nx.Graph()\n",
        "N = len(pos)\n",
        "for a in range(N):\n",
        "    for b in range(a):\n",
        "        d = pos[a] - pos[b]\n",
        "        if d@d < 1.1:\n",
        "            g.add_edge(a, b)\n",
        "\n",
        "fig1, ax = plt.subplots()\n",
        "\n",
        "dd = nx.DiGraph()\n",
        "\n",
        "# orientations of the chains may be changed later in order to reduce the polarization\n",
        "\n",
        "cm = plt.get_cmap('rainbow')\n",
        "\n",
        "# remove the chains from the graph.\n",
        "oochains = [path for path in tc.odd_chains(g)]\n",
        "for i, path in enumerate(oochains):\n",
        "    tc.remove_path(g, path)\n",
        "    nx.add_path(dd, path)\n",
        "    col = i / len(oochains)\n",
        "    draw_path(path, pos, 999999, cm(col))\n",
        "\n",
        "\n",
        "cycles = []\n",
        "for cycle in tc.tileByCycles(g, N):\n",
        "    cycles.append(cycle)\n",
        "    draw_cycle(cycle, pos, 999999, (0,0,0))\n",
        "\n",
        "\n",
        "ax.set_aspect('equal', adjustable='box')\n",
        "plt.show()\n",
        "fig1.savefig(\"surface.pdf\", bbox='tight')"
      ],
      "execution_count": 3,
      "outputs": [
        {
          "output_type": "display_data",
          "data": {
            "image/png": "[encoded data removed]",
            "text/plain": [
              "<Figure size 432x288 with 1 Axes>"
            ]
          },
          "metadata": {
            "tags": [],
            "needs_background": "light"
          }
        }
      ]
    },
    {
      "cell_type": "markdown",
      "metadata": {
        "id": "cZMfyTyv8cBs"
      },
      "source": [
        "# Validation\n",
        "\n",
        "生成した氷の構造が十分にランダムであるかどうかを確認するために、サイクルを構成する水素結合の向きの統計をとる。\n",
        "\n",
        "氷の結晶構造はさまざまなサイズのirreducible ringsで構成されている。氷Iは6員環のみで構成されている。アイスルールを満たすネットワークに含まれる1つの6員環に注目すると、それを構成する水素結合の配向パターンには統計的な特徴がある。ここでは計算を簡単にするために次のようなBethe tree 近似を導入する。ある4-connectedな無限無向グラフ$g$が、6-cycleを1つだけもち、ほかにはサイクルを持たないものとする。このグラフ$g$にアイスルールを導入して有向グラフに変換した時、6-cycleに沿った辺の配向パターンの分布は表1のようになる。(誰かすでにやってそうなものだ。Stillinger?)\n",
        "\n",
        "*Table 1 アイスルールを満たす有向グラフの六員環の配向パターンと、Bethe tree近似による出現確率*\n",
        "\n",
        "| pattern| probability|\n",
        "|------|--------|\n",
        "|→→→→→→| 64/365 |\n",
        "|→→→→→←| 96/365 |\n",
        "|→→→→←←| 96/365 |\n",
        "|→→→←→←| 24/365 |\n",
        "|→→→←←←| 48/365 |\n",
        "|→→←→→←| 12/365 |\n",
        "|→→←→←←| 24/365 |\n",
        "|→←→←→←|  1/365 |\n",
        "\n",
        "現実の氷には無数の六員環が含まれているが、均質にランダムな水素無秩序氷では、上の分布に極めて近い分布が得られる。そこで、表1の分布と、生成した氷構造での配向パターンの分布を比較し、それらの分布の間のKullback-Leibler divergence $d_{KL}$を、氷構造の均質さの尺度とみなす。均質にランダムな水素無秩序氷では、$d_{KL}$は0に近付くが、配向パターンに偏りがあると、より大きな値になる。\n",
        "\n",
        "Rahmanらのアルゴリズムと、Buchらのアルゴリズムはどちらも収束的なアルゴリズムで、計算サイクルを増やすほど均質な分布に近付く。Rahmanらのアルゴリズムに関しては、初期配置を氷XI構造とする。また、Buchのアルゴリズムでは、初期配置はice ruleを満たさない完全ランダムな有向グラフとする。そして、ステップを重ねるごとに、上の分布にどのように近接するかを観察する。\n",
        "\n",
        "\n",
        "# Validation\n",
        "\n",
        "To check whether the structure of the generated ice is sufficiently random, we take the statistics of the orientation of the hydrogen bonds that make up the cycle.\n",
        "\n",
        "The crystal structure of ice consists of irreducible rings of various sizes. Ice I consists of only six-membered rings. If we focus on a single six-membered ring in the network that satisfies the ice rules, the orientation pattern of the hydrogen bonds that make up the ring has a statistical characteristic. To simplify the calculation, we introduce the following Bethe tree approximation. Suppose that a 4-connected infinite undirected graph $g$ has only one 6-cycle and no other cycles. When this graph $g$ is transformed into a directed graph by introducing the ice rules, the distribution of  edge orientation patterns along the 6-cycle is as shown in Table 1.\n",
        "\n",
        "*Table 1 Orientation patterns of six-membered rings in directed graphs satisfying the ice rules and their probability of occurrence using the Bethe tree approximation*.\n",
        "\n",
        "| pattern| probability|\n",
        "|------|--------|\n",
        "|→→→→→→| 64/365 |\n",
        "|→→→→→←| 96/365 |\n",
        "|→→→→←←| 96/365 |\n",
        "|→→→←→←| 24/365 |\n",
        "|→→→←←←| 48/365 |\n",
        "|→→←→→←| 12/365 |\n",
        "|→→←→←←| 24/365 |\n",
        "|→←→←→←|  1/365 |\n",
        "\n",
        "Although real ice contains innumerable six-membered rings, homogeneously random hydrogen-disordered ice yields a distribution very close to the above one. Therefore, we compare the distributions in Table 1 with the distributions of the orientation patterns in the generated ice structure, and consider the Kullback-Leibler divergence $d_{KL}$ between these distributions as a measure of the homogeneity of the ice structure. For homogeneously random hydrogen-disordered ice, $d_{KL}$ approaches zero, while biases in the orientation pattern lead to larger values.\n",
        "\n",
        "Both Rahman et al.'s and Buch et al.'s algorithms are convergent algorithms, approaching a homogeneous distribution with increasing number of computational cycles. For Rahman et al.'s algorithm, we choose the ice XI structure as the initial configuration. For Buch's algorithm, the initial configuration is a completely random directed graph that does not satisfy the ice rules. Then, with each step, we observe how it approaches the distribution above."
      ]
    },
    {
      "cell_type": "code",
      "metadata": {
        "id": "hKolo_aI8cBs"
      },
      "source": [
        "# Taken from GenIce/_ringstat.py\n",
        "from genice2.formats._ringstat import probabilities, orientations, encode\n",
        "from collections import defaultdict\n",
        "from cycless.cycles import cycles_iter\n",
        "import networkx as nx\n",
        "from math import log\n",
        "\n",
        "\n",
        "def KLdiv(d, pos):\n",
        "    graph = nx.Graph(d)  # undirected\n",
        "    prob = probabilities(6)\n",
        "    stat = defaultdict(int)\n",
        "\n",
        "    for ring in cycles_iter(graph, 6,  pos=pos):\n",
        "        ori = orientations(ring, d)\n",
        "        c   = encode(ori)\n",
        "        n   = len(ring)\n",
        "        stat[c] += 1\n",
        "\n",
        "    #size code code(binary) Approx. Stat.\n",
        "    denom = 0\n",
        "    for c in stat:\n",
        "        denom += stat[c]\n",
        "    dKL = 0.0\n",
        "    for c in prob:\n",
        "        q = stat[c]/denom\n",
        "        p = prob[c]\n",
        "        if q > 0.0:\n",
        "            dKL += q*(log(q) - log(p))\n",
        "    dKL /= log(2.0)  #bit\n",
        "    return dKL"
      ],
      "execution_count": 11,
      "outputs": []
    },
    {
      "cell_type": "code",
      "metadata": {
        "id": "CY-lMzTF8cBs",
        "outputId": "65ddb66f-a064-4059-c4ea-8ea57ccc238c",
        "colab": {
          "base_uri": "https://localhost:8080/",
          "height": 520
        }
      },
      "source": [
        "# Rahman's\n",
        "import tilecycles.Rahman as Rahman\n",
        "\n",
        "lattice = Lattice(\"11\")\n",
        "formatter = Format(\"raw\", stage=(1,3,))\n",
        "\n",
        "N = 8\n",
        "raw = GenIce(lattice, rep=[N, N, N]).generate_ice(formatter)\n",
        "d = nx.DiGraph(raw['digraph'].edges())\n",
        "Nnode = d.number_of_nodes()\n",
        "rpos = raw['reppositions']\n",
        "\n",
        "# footprint\n",
        "g = nx.Graph(d)\n",
        "\n",
        "steps = 0\n",
        "watch = 1\n",
        "rahman_conv = []\n",
        "while g.number_of_edges() > 0:\n",
        "    steps += 1\n",
        "    if watch == steps:\n",
        "        # ring stat\n",
        "        dKL = KLdiv(d, rpos)\n",
        "        print(steps, dKL)\n",
        "        rahman_conv.append([steps, dKL])\n",
        "        # next watch interval\n",
        "        watch += 100  # watch\n",
        "\n",
        "    cycle = Rahman.six(d, d.number_of_nodes())\n",
        "    Rahman.invertCycle(d, cycle, g)\n",
        "\n",
        "dKL = KLdiv(d, rpos)\n",
        "print(steps, dKL)\n",
        "rahman_conv.append([steps, dKL])\n"
      ],
      "execution_count": 12,
      "outputs": [
        {
          "output_type": "stream",
          "text": [
            "1 0.8230307782265128\n",
            "101 0.46683523667930915\n",
            "201 0.2870459895577991\n",
            "301 0.16959492265426093\n",
            "401 0.120607158643624\n",
            "501 0.0863366204624626\n",
            "601 0.05969701766662183\n"
          ],
          "name": "stdout"
        },
        {
          "output_type": "error",
          "ename": "KeyboardInterrupt",
          "evalue": "ignored",
          "traceback": [
            "\u001b[0;31m---------------------------------------------------------------------------\u001b[0m",
            "\u001b[0;31mKeyboardInterrupt\u001b[0m                         Traceback (most recent call last)",
            "\u001b[0;32m<ipython-input-12-a2ae2abc86a6>\u001b[0m in \u001b[0;36m<module>\u001b[0;34m()\u001b[0m\n\u001b[1;32m     21\u001b[0m     \u001b[0;32mif\u001b[0m \u001b[0mwatch\u001b[0m \u001b[0;34m==\u001b[0m \u001b[0msteps\u001b[0m\u001b[0;34m:\u001b[0m\u001b[0;34m\u001b[0m\u001b[0;34m\u001b[0m\u001b[0m\n\u001b[1;32m     22\u001b[0m         \u001b[0;31m# ring stat\u001b[0m\u001b[0;34m\u001b[0m\u001b[0;34m\u001b[0m\u001b[0;34m\u001b[0m\u001b[0m\n\u001b[0;32m---> 23\u001b[0;31m         \u001b[0mdKL\u001b[0m \u001b[0;34m=\u001b[0m \u001b[0mKLdiv\u001b[0m\u001b[0;34m(\u001b[0m\u001b[0md\u001b[0m\u001b[0;34m,\u001b[0m \u001b[0mrpos\u001b[0m\u001b[0;34m)\u001b[0m\u001b[0;34m\u001b[0m\u001b[0;34m\u001b[0m\u001b[0m\n\u001b[0m\u001b[1;32m     24\u001b[0m         \u001b[0mprint\u001b[0m\u001b[0;34m(\u001b[0m\u001b[0msteps\u001b[0m\u001b[0;34m,\u001b[0m \u001b[0mdKL\u001b[0m\u001b[0;34m)\u001b[0m\u001b[0;34m\u001b[0m\u001b[0;34m\u001b[0m\u001b[0m\n\u001b[1;32m     25\u001b[0m         \u001b[0mrahman_conv\u001b[0m\u001b[0;34m.\u001b[0m\u001b[0mappend\u001b[0m\u001b[0;34m(\u001b[0m\u001b[0;34m[\u001b[0m\u001b[0msteps\u001b[0m\u001b[0;34m,\u001b[0m \u001b[0mdKL\u001b[0m\u001b[0;34m]\u001b[0m\u001b[0;34m)\u001b[0m\u001b[0;34m\u001b[0m\u001b[0;34m\u001b[0m\u001b[0m\n",
            "\u001b[0;32m<ipython-input-11-2f44cfc88200>\u001b[0m in \u001b[0;36mKLdiv\u001b[0;34m(d, pos)\u001b[0m\n\u001b[1;32m     12\u001b[0m     \u001b[0mstat\u001b[0m \u001b[0;34m=\u001b[0m \u001b[0mdefaultdict\u001b[0m\u001b[0;34m(\u001b[0m\u001b[0mint\u001b[0m\u001b[0;34m)\u001b[0m\u001b[0;34m\u001b[0m\u001b[0;34m\u001b[0m\u001b[0m\n\u001b[1;32m     13\u001b[0m \u001b[0;34m\u001b[0m\u001b[0m\n\u001b[0;32m---> 14\u001b[0;31m     \u001b[0;32mfor\u001b[0m \u001b[0mring\u001b[0m \u001b[0;32min\u001b[0m \u001b[0mcycles_iter\u001b[0m\u001b[0;34m(\u001b[0m\u001b[0mgraph\u001b[0m\u001b[0;34m,\u001b[0m \u001b[0;36m6\u001b[0m\u001b[0;34m,\u001b[0m  \u001b[0mpos\u001b[0m\u001b[0;34m=\u001b[0m\u001b[0mpos\u001b[0m\u001b[0;34m)\u001b[0m\u001b[0;34m:\u001b[0m\u001b[0;34m\u001b[0m\u001b[0;34m\u001b[0m\u001b[0m\n\u001b[0m\u001b[1;32m     15\u001b[0m         \u001b[0mori\u001b[0m \u001b[0;34m=\u001b[0m \u001b[0morientations\u001b[0m\u001b[0;34m(\u001b[0m\u001b[0mring\u001b[0m\u001b[0;34m,\u001b[0m \u001b[0md\u001b[0m\u001b[0;34m)\u001b[0m\u001b[0;34m\u001b[0m\u001b[0;34m\u001b[0m\u001b[0m\n\u001b[1;32m     16\u001b[0m         \u001b[0mc\u001b[0m   \u001b[0;34m=\u001b[0m \u001b[0mencode\u001b[0m\u001b[0;34m(\u001b[0m\u001b[0mori\u001b[0m\u001b[0;34m)\u001b[0m\u001b[0;34m\u001b[0m\u001b[0;34m\u001b[0m\u001b[0m\n",
            "\u001b[0;32m/usr/local/lib/python3.7/dist-packages/cycless/cycles.py\u001b[0m in \u001b[0;36mcycles_iter\u001b[0;34m(graph, maxsize, pos)\u001b[0m\n\u001b[1;32m     89\u001b[0m         \u001b[0;32mfor\u001b[0m \u001b[0my\u001b[0m\u001b[0;34m,\u001b[0m\u001b[0mz\u001b[0m \u001b[0;32min\u001b[0m \u001b[0mitertools\u001b[0m\u001b[0;34m.\u001b[0m\u001b[0mcombinations\u001b[0m\u001b[0;34m(\u001b[0m\u001b[0mneis\u001b[0m\u001b[0;34m,\u001b[0m \u001b[0;36m2\u001b[0m\u001b[0;34m)\u001b[0m\u001b[0;34m:\u001b[0m\u001b[0;34m\u001b[0m\u001b[0;34m\u001b[0m\u001b[0m\n\u001b[1;32m     90\u001b[0m             \u001b[0mtriplet\u001b[0m \u001b[0;34m=\u001b[0m \u001b[0;34m[\u001b[0m\u001b[0my\u001b[0m\u001b[0;34m,\u001b[0m\u001b[0mx\u001b[0m\u001b[0;34m,\u001b[0m\u001b[0mz\u001b[0m\u001b[0;34m]\u001b[0m\u001b[0;34m\u001b[0m\u001b[0;34m\u001b[0m\u001b[0m\n\u001b[0;32m---> 91\u001b[0;31m             \u001b[0;34m(\u001b[0m\u001b[0mmax\u001b[0m\u001b[0;34m,\u001b[0m \u001b[0mresults\u001b[0m\u001b[0;34m)\u001b[0m \u001b[0;34m=\u001b[0m \u001b[0m_findring\u001b[0m\u001b[0;34m(\u001b[0m \u001b[0mgraph\u001b[0m\u001b[0;34m,\u001b[0m \u001b[0mtriplet\u001b[0m\u001b[0;34m,\u001b[0m \u001b[0mmaxsize\u001b[0m \u001b[0;34m)\u001b[0m\u001b[0;34m\u001b[0m\u001b[0;34m\u001b[0m\u001b[0m\n\u001b[0m\u001b[1;32m     92\u001b[0m             \u001b[0;32mfor\u001b[0m \u001b[0mi\u001b[0m \u001b[0;32min\u001b[0m \u001b[0mresults\u001b[0m\u001b[0;34m:\u001b[0m\u001b[0;34m\u001b[0m\u001b[0;34m\u001b[0m\u001b[0m\n\u001b[1;32m     93\u001b[0m                 \u001b[0;31m#Make i immutable for the key.\u001b[0m\u001b[0;34m\u001b[0m\u001b[0;34m\u001b[0m\u001b[0;34m\u001b[0m\u001b[0m\n",
            "\u001b[0;32m/usr/local/lib/python3.7/dist-packages/cycless/cycles.py\u001b[0m in \u001b[0;36m_findring\u001b[0;34m(graph, members, max)\u001b[0m\n\u001b[1;32m     63\u001b[0m                     \u001b[0;32mpass\u001b[0m\u001b[0;34m\u001b[0m\u001b[0;34m\u001b[0m\u001b[0m\n\u001b[1;32m     64\u001b[0m             \u001b[0;32melse\u001b[0m\u001b[0;34m:\u001b[0m\u001b[0;34m\u001b[0m\u001b[0;34m\u001b[0m\u001b[0m\n\u001b[0;32m---> 65\u001b[0;31m                 \u001b[0;34m(\u001b[0m\u001b[0mnewmax\u001b[0m\u001b[0;34m,\u001b[0m\u001b[0mnewres\u001b[0m\u001b[0;34m)\u001b[0m \u001b[0;34m=\u001b[0m \u001b[0m_findring\u001b[0m\u001b[0;34m(\u001b[0m \u001b[0mgraph\u001b[0m\u001b[0;34m,\u001b[0m \u001b[0mmembers\u001b[0m \u001b[0;34m+\u001b[0m \u001b[0;34m[\u001b[0m\u001b[0madj\u001b[0m\u001b[0;34m]\u001b[0m\u001b[0;34m,\u001b[0m \u001b[0mmax\u001b[0m \u001b[0;34m)\u001b[0m\u001b[0;34m\u001b[0m\u001b[0;34m\u001b[0m\u001b[0m\n\u001b[0m\u001b[1;32m     66\u001b[0m                 \u001b[0;32mif\u001b[0m \u001b[0mnewmax\u001b[0m \u001b[0;34m<\u001b[0m \u001b[0mmax\u001b[0m\u001b[0;34m:\u001b[0m\u001b[0;34m\u001b[0m\u001b[0;34m\u001b[0m\u001b[0m\n\u001b[1;32m     67\u001b[0m                     \u001b[0mmax\u001b[0m \u001b[0;34m=\u001b[0m \u001b[0mnewmax\u001b[0m\u001b[0;34m\u001b[0m\u001b[0;34m\u001b[0m\u001b[0m\n",
            "\u001b[0;32m/usr/local/lib/python3.7/dist-packages/cycless/cycles.py\u001b[0m in \u001b[0;36m_findring\u001b[0;34m(graph, members, max)\u001b[0m\n\u001b[1;32m     63\u001b[0m                     \u001b[0;32mpass\u001b[0m\u001b[0;34m\u001b[0m\u001b[0;34m\u001b[0m\u001b[0m\n\u001b[1;32m     64\u001b[0m             \u001b[0;32melse\u001b[0m\u001b[0;34m:\u001b[0m\u001b[0;34m\u001b[0m\u001b[0;34m\u001b[0m\u001b[0m\n\u001b[0;32m---> 65\u001b[0;31m                 \u001b[0;34m(\u001b[0m\u001b[0mnewmax\u001b[0m\u001b[0;34m,\u001b[0m\u001b[0mnewres\u001b[0m\u001b[0;34m)\u001b[0m \u001b[0;34m=\u001b[0m \u001b[0m_findring\u001b[0m\u001b[0;34m(\u001b[0m \u001b[0mgraph\u001b[0m\u001b[0;34m,\u001b[0m \u001b[0mmembers\u001b[0m \u001b[0;34m+\u001b[0m \u001b[0;34m[\u001b[0m\u001b[0madj\u001b[0m\u001b[0;34m]\u001b[0m\u001b[0;34m,\u001b[0m \u001b[0mmax\u001b[0m \u001b[0;34m)\u001b[0m\u001b[0;34m\u001b[0m\u001b[0;34m\u001b[0m\u001b[0m\n\u001b[0m\u001b[1;32m     66\u001b[0m                 \u001b[0;32mif\u001b[0m \u001b[0mnewmax\u001b[0m \u001b[0;34m<\u001b[0m \u001b[0mmax\u001b[0m\u001b[0;34m:\u001b[0m\u001b[0;34m\u001b[0m\u001b[0;34m\u001b[0m\u001b[0m\n\u001b[1;32m     67\u001b[0m                     \u001b[0mmax\u001b[0m \u001b[0;34m=\u001b[0m \u001b[0mnewmax\u001b[0m\u001b[0;34m\u001b[0m\u001b[0;34m\u001b[0m\u001b[0m\n",
            "\u001b[0;32m/usr/local/lib/python3.7/dist-packages/cycless/cycles.py\u001b[0m in \u001b[0;36m_findring\u001b[0;34m(graph, members, max)\u001b[0m\n\u001b[1;32m     63\u001b[0m                     \u001b[0;32mpass\u001b[0m\u001b[0;34m\u001b[0m\u001b[0;34m\u001b[0m\u001b[0m\n\u001b[1;32m     64\u001b[0m             \u001b[0;32melse\u001b[0m\u001b[0;34m:\u001b[0m\u001b[0;34m\u001b[0m\u001b[0;34m\u001b[0m\u001b[0m\n\u001b[0;32m---> 65\u001b[0;31m                 \u001b[0;34m(\u001b[0m\u001b[0mnewmax\u001b[0m\u001b[0;34m,\u001b[0m\u001b[0mnewres\u001b[0m\u001b[0;34m)\u001b[0m \u001b[0;34m=\u001b[0m \u001b[0m_findring\u001b[0m\u001b[0;34m(\u001b[0m \u001b[0mgraph\u001b[0m\u001b[0;34m,\u001b[0m \u001b[0mmembers\u001b[0m \u001b[0;34m+\u001b[0m \u001b[0;34m[\u001b[0m\u001b[0madj\u001b[0m\u001b[0;34m]\u001b[0m\u001b[0;34m,\u001b[0m \u001b[0mmax\u001b[0m \u001b[0;34m)\u001b[0m\u001b[0;34m\u001b[0m\u001b[0;34m\u001b[0m\u001b[0m\n\u001b[0m\u001b[1;32m     66\u001b[0m                 \u001b[0;32mif\u001b[0m \u001b[0mnewmax\u001b[0m \u001b[0;34m<\u001b[0m \u001b[0mmax\u001b[0m\u001b[0;34m:\u001b[0m\u001b[0;34m\u001b[0m\u001b[0;34m\u001b[0m\u001b[0m\n\u001b[1;32m     67\u001b[0m                     \u001b[0mmax\u001b[0m \u001b[0;34m=\u001b[0m \u001b[0mnewmax\u001b[0m\u001b[0;34m\u001b[0m\u001b[0;34m\u001b[0m\u001b[0m\n",
            "\u001b[0;32m/usr/local/lib/python3.7/dist-packages/cycless/cycles.py\u001b[0m in \u001b[0;36m_findring\u001b[0;34m(graph, members, max)\u001b[0m\n\u001b[1;32m     63\u001b[0m                     \u001b[0;32mpass\u001b[0m\u001b[0;34m\u001b[0m\u001b[0;34m\u001b[0m\u001b[0m\n\u001b[1;32m     64\u001b[0m             \u001b[0;32melse\u001b[0m\u001b[0;34m:\u001b[0m\u001b[0;34m\u001b[0m\u001b[0;34m\u001b[0m\u001b[0m\n\u001b[0;32m---> 65\u001b[0;31m                 \u001b[0;34m(\u001b[0m\u001b[0mnewmax\u001b[0m\u001b[0;34m,\u001b[0m\u001b[0mnewres\u001b[0m\u001b[0;34m)\u001b[0m \u001b[0;34m=\u001b[0m \u001b[0m_findring\u001b[0m\u001b[0;34m(\u001b[0m \u001b[0mgraph\u001b[0m\u001b[0;34m,\u001b[0m \u001b[0mmembers\u001b[0m \u001b[0;34m+\u001b[0m \u001b[0;34m[\u001b[0m\u001b[0madj\u001b[0m\u001b[0;34m]\u001b[0m\u001b[0;34m,\u001b[0m \u001b[0mmax\u001b[0m \u001b[0;34m)\u001b[0m\u001b[0;34m\u001b[0m\u001b[0;34m\u001b[0m\u001b[0m\n\u001b[0m\u001b[1;32m     66\u001b[0m                 \u001b[0;32mif\u001b[0m \u001b[0mnewmax\u001b[0m \u001b[0;34m<\u001b[0m \u001b[0mmax\u001b[0m\u001b[0;34m:\u001b[0m\u001b[0;34m\u001b[0m\u001b[0;34m\u001b[0m\u001b[0m\n\u001b[1;32m     67\u001b[0m                     \u001b[0mmax\u001b[0m \u001b[0;34m=\u001b[0m \u001b[0mnewmax\u001b[0m\u001b[0;34m\u001b[0m\u001b[0;34m\u001b[0m\u001b[0m\n",
            "\u001b[0;32m/usr/local/lib/python3.7/dist-packages/cycless/cycles.py\u001b[0m in \u001b[0;36m_findring\u001b[0;34m(graph, members, max)\u001b[0m\n\u001b[1;32m     47\u001b[0m     \u001b[0;32mdef\u001b[0m \u001b[0m_findring\u001b[0m\u001b[0;34m(\u001b[0m \u001b[0mgraph\u001b[0m\u001b[0;34m,\u001b[0m \u001b[0mmembers\u001b[0m\u001b[0;34m,\u001b[0m \u001b[0mmax\u001b[0m \u001b[0;34m)\u001b[0m\u001b[0;34m:\u001b[0m\u001b[0;34m\u001b[0m\u001b[0;34m\u001b[0m\u001b[0m\n\u001b[1;32m     48\u001b[0m         \u001b[0;31m#print members, \"MAX:\", max\u001b[0m\u001b[0;34m\u001b[0m\u001b[0;34m\u001b[0m\u001b[0;34m\u001b[0m\u001b[0m\n\u001b[0;32m---> 49\u001b[0;31m         \u001b[0;32mif\u001b[0m \u001b[0mlen\u001b[0m\u001b[0;34m(\u001b[0m\u001b[0mmembers\u001b[0m\u001b[0;34m)\u001b[0m \u001b[0;34m>\u001b[0m \u001b[0mmax\u001b[0m\u001b[0;34m:\u001b[0m\u001b[0;34m\u001b[0m\u001b[0;34m\u001b[0m\u001b[0m\n\u001b[0m\u001b[1;32m     50\u001b[0m             \u001b[0;32mreturn\u001b[0m \u001b[0;34m(\u001b[0m\u001b[0mmax\u001b[0m\u001b[0;34m,\u001b[0m \u001b[0;34m[\u001b[0m\u001b[0;34m]\u001b[0m\u001b[0;34m)\u001b[0m\u001b[0;34m\u001b[0m\u001b[0;34m\u001b[0m\u001b[0m\n\u001b[1;32m     51\u001b[0m         \u001b[0ms\u001b[0m \u001b[0;34m=\u001b[0m \u001b[0mset\u001b[0m\u001b[0;34m(\u001b[0m\u001b[0mmembers\u001b[0m\u001b[0;34m)\u001b[0m\u001b[0;34m\u001b[0m\u001b[0;34m\u001b[0m\u001b[0m\n",
            "\u001b[0;31mKeyboardInterrupt\u001b[0m: "
          ]
        }
      ]
    },
    {
      "cell_type": "code",
      "metadata": {
        "id": "UW05AnwJ8cBs"
      },
      "source": [
        "# Buch's\n",
        "import tilecycles.Buch as Buch\n",
        "\n",
        "\n",
        "buch_conv = []\n",
        "\n",
        "def migrate2(d, excess):\n",
        "    \"\"\"\n",
        "    excess is a set of nodes having more than two outgoing edges\n",
        "    \"\"\"\n",
        "    steps = 0\n",
        "    watch = 1\n",
        "    while len(excess) > 0:\n",
        "        steps += 1\n",
        "        if watch <= steps:\n",
        "            # ring stat\n",
        "            dKL = KLdiv(d, rpos)\n",
        "            print(steps, dKL)\n",
        "            buch_conv.append([steps, dKL])\n",
        "            # next watch interval\n",
        "            watch += 1000  # watch / 2\n",
        "\n",
        "        head = random.choice(list(excess))\n",
        "        nexts = list(d.successors(head))\n",
        "        next = random.choice(nexts)\n",
        "        d.remove_edge(head, next)\n",
        "        d.add_edge(next, head)\n",
        "        # if head's outgoing order was three\n",
        "        if len(nexts) == 3:\n",
        "            # remove from the excess list\n",
        "            excess.remove(head)\n",
        "        # if next's outgoing orderis three\n",
        "        if d.out_degree(next) == 3:\n",
        "            # it becomes a new excess\n",
        "            excess.add(next)\n",
        "    dKL = KLdiv(d, rpos)\n",
        "    print(steps, dKL)\n",
        "    buch_conv.append([steps, dKL])\n",
        "\n",
        "\n",
        "lattice = Lattice(\"1h\")\n",
        "formatter = Format(\"raw\", stage=(1,2,))  # generates an undirected graph\n",
        "\n",
        "\n",
        "N = 8\n",
        "raw = GenIce(lattice, rep=[N, N, N]).generate_ice(formatter)\n",
        "g = raw['graph']\n",
        "rpos = raw['reppositions']\n",
        "Nnode = g.number_of_nodes()\n",
        "\n",
        "dd = nx.DiGraph()\n",
        "for a, b in g.edges():\n",
        "    if random.randint(0, 1) == 1:\n",
        "        dd.add_edge(a, b)\n",
        "    else:\n",
        "        dd.add_edge(b, a)\n",
        "\n",
        "migrate2(dd, set([x for x in dd.nodes if dd.out_degree(x) > 2]))\n"
      ],
      "execution_count": null,
      "outputs": []
    },
    {
      "cell_type": "code",
      "metadata": {
        "id": "21RS0Gl88cBt",
        "outputId": "3f81ee2b-6f16-4174-a462-a5009f7ff278"
      },
      "source": [
        "# GenIce's\n",
        "import tilecycles as tc\n",
        "\n",
        "lattice = Lattice(\"1h\")\n",
        "formatter = Format(\"raw\", stage=(1,2,))  # generates an undirected graph\n",
        "\n",
        "N=8\n",
        "raw = GenIce(lattice, rep=[N, N, N]).generate_ice(formatter)\n",
        "g = nx.Graph(raw['graph'])\n",
        "rpos = raw['reppositions']\n",
        "\n",
        "d = nx.DiGraph()\n",
        "for cycle in tc.tileByCycles(g):\n",
        "    nx.add_cycle(d, cycle)\n",
        "\n",
        "genice_dKL = KLdiv(d, rpos)\n",
        "print(genice_dKL)\n"
      ],
      "execution_count": null,
      "outputs": [
        {
          "output_type": "stream",
          "text": [
            "0.0005141507548805231\n"
          ],
          "name": "stdout"
        }
      ]
    },
    {
      "cell_type": "code",
      "metadata": {
        "id": "ThsQL_l18cBt"
      },
      "source": [
        "from matplotlib import pyplot as plt\n",
        "\n",
        "\n",
        "buch_conv = np.array(buch_conv)\n",
        "rahman_conv = np.array(rahman_conv)\n",
        "\n",
        "fig1, ax = plt.subplots()\n",
        "\n",
        "lin = np.linspace(1e2, 1e5, 100)\n",
        "plt.plot(rahman_conv[:, 0] / rahman_conv[-1, 0]*100, rahman_conv[:, 1], label=\"Rahman\")\n",
        "plt.plot(buch_conv[:, 0] / buch_conv[-1, 0]*100, buch_conv[:, 1], label=\"Buch\")\n",
        "plt.plot(100, genice_dKL, 'o', label=\"This work\")\n",
        "plt.yscale('log')\n",
        "plt.legend()\n",
        "plt.xlabel(\"Progress (%)\")\n",
        "plt.ylabel(r\"$d_\\mathrm{KL}$\")\n",
        "\n",
        "fig1.savefig(\"ringstat-log.pdf\")"
      ],
      "execution_count": null,
      "outputs": []
    },
    {
      "cell_type": "markdown",
      "metadata": {
        "id": "vwomtAslhf-m"
      },
      "source": [
        "# Comparison with C++ code"
      ]
    },
    {
      "cell_type": "code",
      "metadata": {
        "colab": {
          "base_uri": "https://localhost:8080/"
        },
        "id": "fHJIT5e8Di3C",
        "outputId": "d61426c1-0556-45d9-efb7-22d7088b61bb"
      },
      "source": [
        "# C++ implementation\n",
        "\n",
        "import tilecycles_c as ctc\n",
        "import numpy as np\n",
        "\n",
        "lattice = Lattice(\"1c\")\n",
        "formatter = Format(\"raw\", stage=(2,))  # generates an undirected graph\n",
        "\n",
        "seed = 1111\n",
        "\n",
        "time_cpp_icerule = []\n",
        "for NN in range(4, 100):\n",
        "    N = int(2**(NN/3))\n",
        "    raw = GenIce(lattice, rep=[N, N, N]).generate_ice(formatter)\n",
        "    g0 = raw['graph']\n",
        "    Nnode = g0.number_of_nodes()\n",
        "\n",
        "    pairs = np.array([(i, j) for i, j in g0.edges()], dtype=np.int32)\n",
        "\n",
        "    delta = 0.0\n",
        "    Nrep = 0\n",
        "    while delta < maxAccum and Nrep < maxRepeat:\n",
        "        now = time.time()\n",
        "        dd = nx.DiGraph()\n",
        "        for cycle in ctc.tile(pairs, Nnode, seed):\n",
        "            nx.add_cycle(dd, cycle)\n",
        "        delta += time.time() - now\n",
        "        Nrep += 1\n",
        "    delta /= Nrep\n",
        "    time_cpp_icerule.append([Nnode, delta, Nrep])\n",
        "    print(f\"{Nnode} molecules {delta} s avg. {Nrep} reps.\")\n",
        "    test_icerule(dd, Nnode)\n",
        "    if Nnode >= maxNode:\n",
        "        break"
      ],
      "execution_count": 13,
      "outputs": [
        {
          "output_type": "stream",
          "text": [
            "64 molecules 0.0006440162658691406 s avg. 10 reps.\n",
            "216 molecules 0.0021113157272338867 s avg. 10 reps.\n",
            "512 molecules 0.004456830024719238 s avg. 10 reps.\n",
            "1000 molecules 0.006614184379577637 s avg. 10 reps.\n",
            "1728 molecules 0.03276655673980713 s avg. 10 reps.\n",
            "4096 molecules 0.02827897071838379 s avg. 10 reps.\n",
            "8000 molecules 0.07872581481933594 s avg. 10 reps.\n",
            "13824 molecules 0.17251930236816407 s avg. 10 reps.\n",
            "32768 molecules 0.40622477531433104 s avg. 10 reps.\n",
            "64000 molecules 0.7546374797821045 s avg. 7 reps.\n",
            "125000 molecules 1.3998324275016785 s avg. 4 reps.\n"
          ],
          "name": "stdout"
        }
      ]
    },
    {
      "cell_type": "markdown",
      "metadata": {
        "id": "1yLRJPgB8cBs"
      },
      "source": [
        "The C++ implementation is not quite fast because the data conversion between python always take a linear time against the system size."
      ]
    },
    {
      "cell_type": "code",
      "metadata": {
        "colab": {
          "base_uri": "https://localhost:8080/",
          "height": 303
        },
        "id": "9fsJgRZ932FK",
        "outputId": "a80ac847-cb50-4acd-af97-adfff6311189"
      },
      "source": [
        "from matplotlib import pyplot as plt\n",
        "\n",
        "\n",
        "time_genice_icerule = np.array(time_genice_icerule)\n",
        "time_cpp_icerule = np.array(time_cpp_icerule)\n",
        "\n",
        "\n",
        "fig1, ax = plt.subplots()\n",
        "\n",
        "lin = np.linspace(1e2, 1e5, 100)\n",
        "plt.loglog(time_genice_icerule[:, 0], time_genice_icerule[:, 1], label=\"Python\")\n",
        "plt.loglog(time_cpp_icerule[:, 0], time_cpp_icerule[:, 1], label=\"C++\")\n",
        "\n",
        "plt.loglog(lin, lin*1e-5, label=r\"y=A x\")\n",
        "plt.legend()\n",
        "plt.xlabel(\"Number of molecules\")\n",
        "plt.ylabel(\"Time / s\")\n",
        "\n",
        "fig1.savefig(\"benchmark-cp-loglog.pdf\")\n",
        "\n",
        "# C++ is four times faster than python,\n",
        "# but Python is fast enough..."
      ],
      "execution_count": 15,
      "outputs": [
        {
          "output_type": "display_data",
          "data": {
            "image/png": "[encoded data removed]",
            "text/plain": [
              "<Figure size 432x288 with 1 Axes>"
            ]
          },
          "metadata": {
            "tags": [],
            "needs_background": "light"
          }
        }
      ]
    },
    {
      "cell_type": "markdown",
      "metadata": {
        "id": "ZSxmiFfhhC0t"
      },
      "source": [
        "# TOC Graphics"
      ]
    },
    {
      "cell_type": "code",
      "metadata": {
        "id": "ReSCKrZYZ4ND",
        "outputId": "bec884bd-2bf6-4f09-b0cf-162eadb7c0d4",
        "colab": {
          "base_uri": "https://localhost:8080/",
          "height": 302
        }
      },
      "source": [
        "# for TOC graphics\n",
        "\n",
        "from matplotlib import pyplot as plt\n",
        "import tilecycles as tc\n",
        "\n",
        "\n",
        "\n",
        "N = 8\n",
        "X = np.arange(N)\n",
        "Y = np.arange(N)\n",
        "X, Y = np.meshgrid(X, Y)\n",
        "X = X.reshape(N * N)\n",
        "Y = Y.reshape(N * N)\n",
        "pos = np.vstack([X, Y]).T / N  # fractional coordinate\n",
        "g = nx.Graph()\n",
        "for a in range(N*N):\n",
        "    for b in range(a):\n",
        "        d = pos[a] - pos[b]\n",
        "        d -= np.floor(d+0.5)\n",
        "        if (d@d)*N*N < 1.1:\n",
        "            g.add_edge(a, b)\n",
        "\n",
        "print(g.number_of_edges())\n",
        "\n",
        "\n",
        "fig1, ax = plt.subplots()\n",
        "\n",
        "cycles = []\n",
        "dd = nx.DiGraph()\n",
        "for cycle in tc.tileByCycles(g):\n",
        "    cycles.append(cycle)\n",
        "\n",
        "threshold = 1.1/N**2\n",
        "cm = plt.get_cmap('rainbow')\n",
        "for i, cycle in enumerate(cycles):\n",
        "    draw_cycle(cycle, pos, threshold, cm(i/len(cycles)))\n",
        "\n",
        "ax.set_aspect('equal', adjustable='box')\n",
        "plt.show()\n",
        "# fig1.savefig(\"map.pdf\", bbox='tight')"
      ],
      "execution_count": 4,
      "outputs": [
        {
          "output_type": "stream",
          "text": [
            "128\n"
          ],
          "name": "stdout"
        },
        {
          "output_type": "display_data",
          "data": {
            "image/png": "[encoded data removed]",
            "text/plain": [
              "<Figure size 432x288 with 1 Axes>"
            ]
          },
          "metadata": {
            "tags": [],
            "needs_background": "light"
          }
        }
      ]
    },
    {
      "cell_type": "code",
      "metadata": {
        "id": "at0t2yvG32FK"
      },
      "source": [
        "!pip install pycodestyle flake8 pycodestyle_magic"
      ],
      "execution_count": null,
      "outputs": []
    },
    {
      "cell_type": "code",
      "metadata": {
        "id": "nL82ivXZBBUo"
      },
      "source": [
        "%load_ext pycodestyle_magic"
      ],
      "execution_count": null,
      "outputs": []
    },
    {
      "cell_type": "code",
      "metadata": {
        "id": "CH4HtfTGBGPg"
      },
      "source": [
        ""
      ],
      "execution_count": null,
      "outputs": []
    }
  ]
}