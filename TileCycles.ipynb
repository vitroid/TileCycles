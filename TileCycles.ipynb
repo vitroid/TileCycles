{
  "nbformat": 4,
  "nbformat_minor": 0,
  "metadata": {
    "colab": {
      "name": "TileCycles.ipynb",
      "provenance": [],
      "collapsed_sections": [],
      "include_colab_link": true
    },
    "kernelspec": {
      "display_name": "Python 3",
      "language": "python",
      "name": "python3"
    },
    "language_info": {
      "codemirror_mode": {
        "name": "ipython",
        "version": 3
      },
      "file_extension": ".py",
      "mimetype": "text/x-python",
      "name": "python",
      "nbconvert_exporter": "python",
      "pygments_lexer": "ipython3",
      "version": "3.9.1rc1"
    }
  },
  "cells": [
    {
      "cell_type": "markdown",
      "metadata": {
        "id": "view-in-github",
        "colab_type": "text"
      },
      "source": [
        "<a href=\"https://colab.research.google.com/github/vitroid/TileCycles/blob/main/TileCycles.ipynb\" target=\"_parent\"><img src=\"https://colab.research.google.com/assets/colab-badge.svg\" alt=\"Open In Colab\"/></a>"
      ]
    },
    {
      "cell_type": "code",
      "metadata": {
        "id": "Bo8eSXMuECsU"
      },
      "source": [
        "# install genice to generate the structure of ice.\n",
        "! pip install genice2"
      ],
      "execution_count": null,
      "outputs": []
    },
    {
      "cell_type": "markdown",
      "metadata": {
        "id": "EXCoWxdvXGTZ"
      },
      "source": [
        "## benchmark test"
      ]
    },
    {
      "cell_type": "code",
      "metadata": {
        "id": "5OZQGRPxW0DE"
      },
      "source": [
        "from genice2.genice import GenIce\n",
        "from genice2.plugin import Lattice, Format, Molecule\n",
        "\n",
        "import networkx as nx\n",
        "import numpy as np\n",
        "import random\n",
        "import time\n",
        "\n"
      ],
      "execution_count": 7,
      "outputs": []
    },
    {
      "cell_type": "code",
      "metadata": {
        "id": "ysFVcLaoY8h5"
      },
      "source": [
        "def test_icerule(d, N):\n",
        "    assert d.number_of_nodes() == N\n",
        "    for node in d:\n",
        "        assert d.in_degree(node) == 2\n",
        "        assert d.in_degree(node) == 2        "
      ],
      "execution_count": 8,
      "outputs": []
    },
    {
      "cell_type": "markdown",
      "metadata": {
        "id": "pEvBXxOJY8h6"
      },
      "source": [
        "## Buch's algorithm\n",
        "\n",
        "2つの隣接する酸素の間に、水素のサイトが二箇所ある。Buchのアルゴリズムは、すべての水素が二箇所のいずれかをランダムに占有した状態を初期配置とする。\n",
        "\n",
        "初期配置では、水素を過剰にもつ酸素が多数ある。そのような酸素から水素をmigrateして隣りの酸素に渡し、それをランダムに繰り返すことで、すべての酸素に水素が2個ずつになるまで繰り返す。\n"
      ]
    },
    {
      "cell_type": "code",
      "metadata": {
        "id": "L33jRCUTY8h7"
      },
      "source": [
        "def migrate(d, excess):\n",
        "    \"\"\"\n",
        "    excess is a set of nodes having more than two outgoing edges\n",
        "    \"\"\"\n",
        "    while len(excess) > 0:\n",
        "        head = random.choice(list(excess))\n",
        "        nexts = list(d.successors(head))\n",
        "        next = random.choice(nexts)\n",
        "        d.remove_edge(head, next)\n",
        "        d.add_edge(next, head)\n",
        "        # if head's outgoing order was three\n",
        "        if len(nexts) == 3:\n",
        "            # remove from the excess list\n",
        "            excess.remove(head)\n",
        "        # if next's outgoing orderis three\n",
        "        if d.out_degree(next) == 3:\n",
        "            # it becomes a new excess\n",
        "            excess.add(next)\n",
        "\n",
        "lattice    = Lattice(\"1c\") \n",
        "formatter  = Format(\"raw\", stage=(2,))\n",
        "water      = Molecule(\"spce\")\n",
        "            \n",
        "buch = []\n",
        "for i in (2,4,8,12,16,18,20,22,24):\n",
        "    raw = GenIce(lattice, rep=[i,i,i]).generate_ice(water, formatter)\n",
        "    g = raw['graph']\n",
        "    Nnode = g.number_of_nodes()\n",
        "\n",
        "    delta = 0.0\n",
        "    Nrep  = 0\n",
        "    while delta < 2.0:\n",
        "        # すべての辺をランダムに向けた有向グラフを再生成する。\n",
        "        dd = nx.DiGraph()\n",
        "        for a,b in g.edges():\n",
        "            if random.randint(0,1) == 1:\n",
        "                dd.add_edge(a,b)\n",
        "            else:\n",
        "                dd.add_edge(b,a)\n",
        "\n",
        "        now = time.time()\n",
        "        migrate(dd, set([x for x in dd.nodes if len(list(dd.successors(x)))>2]))\n",
        "        delta += time.time() - now\n",
        "        Nrep  += 1\n",
        "    delta /= Nrep\n",
        "    buch.append([Nnode,delta, Nrep])\n",
        "    print(Nnode, delta, Nrep, \"buch\")\n",
        "    test_icerule(dd, Nnode)"
      ],
      "execution_count": null,
      "outputs": []
    },
    {
      "cell_type": "markdown",
      "metadata": {
        "id": "ca3K1ckFY8h8"
      },
      "source": [
        "## GenIce algorithm\n",
        "\n",
        "第一段階の、サイクルによるタイリングを実装。"
      ]
    },
    {
      "cell_type": "code",
      "metadata": {
        "id": "1Bolpy9AY8h8"
      },
      "source": [
        "from collections import defaultdict\n",
        "\n",
        "def find_cycle(g, chain):\n",
        "    head = chain[-1]\n",
        "    last = -1\n",
        "    if len(chain) > 1:\n",
        "        last = chain[-2]\n",
        "    nexts = [i for i in g[head] if i != last]\n",
        "    while True:\n",
        "        last=head\n",
        "        head = random.choice(nexts)\n",
        "        if head in chain:\n",
        "            i = chain.index(head)\n",
        "            return chain[:i], chain[i:]\n",
        "        chain.append(head)\n",
        "        nexts = [i for i in g[head] if i != last]\n",
        "\n",
        "def remove_cycle(g, cycle):\n",
        "    for i in range(len(cycle)):\n",
        "        a = cycle[i-1]\n",
        "        b = cycle[i]\n",
        "        g.remove_edge(a,b)\n",
        "        if g.degree(a) == 0:\n",
        "            g.remove_node(a)\n",
        "        if g.degree(b) == 0:\n",
        "            g.remove_node(b)\n",
        "\n",
        "\n",
        "def tileByCycles(g):\n",
        "    chain = []\n",
        "    while g.number_of_nodes() > 0:\n",
        "        if len(chain) == 0:\n",
        "            head = random.choice(list(g.nodes()))\n",
        "            chain = [head]\n",
        "        chain, cycle = find_cycle(g, chain)\n",
        "        yield cycle\n",
        "        remove_cycle(g, cycle)\n",
        "\n",
        "\n",
        "lattice    = Lattice(\"1c\") \n",
        "formatter  = Format(\"raw\", stage=(2,))\n",
        "water      = Molecule(\"spce\")\n",
        "\n",
        "gen  = []\n",
        "for i in (2,4,8,12,16,18,20,22,24):\n",
        "    raw = GenIce(lattice, rep=[i,i,i]).generate_ice(water, formatter)\n",
        "    g0 = raw['graph']\n",
        "    Nnode = d.number_of_nodes()\n",
        "\n",
        "    # 一旦無向グラフになおし、\n",
        "\n",
        "    delta = 0.0\n",
        "    Nrep  = 0\n",
        "    while delta < 5.0:\n",
        "        g = nx.Graph(g0)\n",
        "\n",
        "        now = time.time()\n",
        "        dd = nx.DiGraph()\n",
        "        for cycle in tileByCycles(g):\n",
        "            if random.randint(0,1) == 0:\n",
        "                for i in range(len(cycle)):\n",
        "                    a,b = cycle[i-1], cycle[i]\n",
        "                    dd.add_edge(a,b)\n",
        "            else:\n",
        "                for i in range(len(cycle)):\n",
        "                    a,b = cycle[i-1], cycle[i]\n",
        "                    dd.add_edge(b,a)\n",
        "        delta += time.time() - now\n",
        "        Nrep  += 1\n",
        "    delta /= Nrep\n",
        "    gen.append([Nnode,delta,Nrep])\n",
        "    print(Nnode, delta, Nrep, \"GenIce\")\n",
        "    test_icerule(dd, Nnode)\n"
      ],
      "execution_count": null,
      "outputs": []
    },
    {
      "cell_type": "markdown",
      "metadata": {
        "id": "5MAt2xo6Y8h9"
      },
      "source": [
        "## Rahman's algorithm\n",
        "\n",
        "このアルゴリズムは、あらかじめ脱分極された構造を準備しておき、ランダムに選んだhomodromic cycleを次々に反転することで、水素無秩序構造を生成する。\n",
        "\n",
        "ここでは、GenIceにより生成した氷Icの構造を出発点とし、すべての辺が少なくとも一度は反転するまで手続きを繰り返す。"
      ]
    },
    {
      "cell_type": "code",
      "metadata": {
        "id": "pb1gv00kY8h-"
      },
      "source": [
        "import random\n",
        "\n",
        "def six(d, Nnode):\n",
        "    \"\"\"\n",
        "    find a cyclic path in the given digraph.\n",
        "    d: digraph (networkx.DiGraph)\n",
        "    \"\"\"\n",
        "    head = random.randint(0, Nnode-1)\n",
        "    path = [head]\n",
        "    while True:\n",
        "        nexts = list(d.neighbors(head))\n",
        "        next = random.choice(nexts)\n",
        "        if next in path:\n",
        "            i = path.index(next)\n",
        "            return path[i:]\n",
        "        path.append(next)\n",
        "        head = next\n",
        "\n",
        "def invertCycle(d, cycle, g):\n",
        "    for i in range(len(cycle)):\n",
        "        a, b = cycle[i-1], cycle[i]\n",
        "        d.remove_edge(a,b)\n",
        "        d.add_edge(a,b)\n",
        "        # footprint\n",
        "        if g.has_edge(a,b):\n",
        "            g.remove_edge(a,b)\n",
        "\n",
        "\n",
        "lattice    = Lattice(\"1c\") \n",
        "formatter  = Format(\"raw\", stage=(3,)) # We need the directed graph of ice!\n",
        "water      = Molecule(\"spce\")\n",
        "\n",
        "rahman  = []\n",
        "for i in range(1,20):\n",
        "    raw = GenIce(lattice, rep=[i,i,i]).generate_ice(water, formatter)\n",
        "    d = nx.DiGraph(raw['digraph'].edges())\n",
        "    Nnode = d.number_of_nodes()\n",
        "\n",
        "    delta = 0.0\n",
        "    Nrep  = 0\n",
        "    while delta < 2.0:\n",
        "        # footprint\n",
        "        g = nx.Graph(d)\n",
        "\n",
        "        now = time.time()\n",
        "        while g.number_of_edges() > 0:\n",
        "            cycle = six(d, d.number_of_nodes())\n",
        "            invertCycle(d, cycle, g)\n",
        "        delta += time.time() - now\n",
        "        Nrep  += 1\n",
        "    delta /= Nrep\n",
        "    rahman.append([Nnode,delta, Nrep])\n",
        "    print(Nnode, delta, Nrep, \"Rahman\")\n",
        "    test_icerule(d, Nnode)\n",
        "    if delta > 50:\n",
        "        break\n"
      ],
      "execution_count": null,
      "outputs": []
    },
    {
      "cell_type": "code",
      "metadata": {
        "colab": {
          "base_uri": "https://localhost:8080/",
          "height": 446
        },
        "id": "KIFEzT3BYD8w",
        "outputId": "2153d23a-1349-43a1-c64d-e4be581114f8"
      },
      "source": [
        "from matplotlib import pyplot as plt\n",
        "\n",
        "\n",
        "buch = np.array(buch)\n",
        "gen  = np.array(gen)\n",
        "rahman = np.array(rahman)\n",
        "\n",
        "plt.plot(rahman[:,0], rahman[:,1], label=\"Rahman\")\n",
        "plt.plot(buch[:,0], buch[:,1], label=\"Buch\")\n",
        "plt.plot(gen[:,0], gen[:,1], label=\"GenIce\")\n",
        "plt.legend()\n",
        "plt.xlabel(\"Number of molecules\")\n",
        "plt.ylabel(\"Time / s\")\n",
        "\n"
      ],
      "execution_count": null,
      "outputs": [
        {
          "output_type": "execute_result",
          "data": {
            "text/plain": [
              "Text(0, 0.5, 'Time / s')"
            ]
          },
          "metadata": {
            "tags": []
          },
          "execution_count": 30
        },
        {
          "output_type": "display_data",
          "data": {
            "image/png": "[encoded data removed]",
            "text/plain": [
              "<Figure size 432x288 with 1 Axes>"
            ]
          },
          "metadata": {
            "tags": [],
            "needs_background": "light"
          }
        }
      ]
    },
    {
      "cell_type": "code",
      "metadata": {
        "colab": {
          "base_uri": "https://localhost:8080/"
        },
        "id": "HzBzS47LZysp",
        "outputId": "72944c68-9818-45af-fbe8-15a50e44db37"
      },
      "source": [
        "plt.loglog(rahman[:,0], rahman[:,1], label=\"Rahman\")\n",
        "plt.loglog(buch[:,0], buch[:,1], label=\"Buch\")\n",
        "plt.loglog(gen[:,0], gen[:,1], label=\"GenIce\")\n",
        "plt.loglog(lin, lin*1e-5, label=\"y=x\")\n",
        "plt.legend()\n",
        "plt.xlabel(\"Number of molecules\")\n",
        "plt.ylabel(\"Time / s\")\n",
        "lin = np.linspace(1e2, 1e5,100)\n"
      ],
      "execution_count": null,
      "outputs": [
        {
          "output_type": "display_data",
          "data": {
            "image/png": "[encoded data removed]",
            "text/plain": [
              "<Figure size 432x288 with 1 Axes>"
            ]
          },
          "metadata": {
            "tags": [],
            "needs_background": "light"
          }
        }
      ]
    },
    {
      "cell_type": "code",
      "metadata": {
        "id": "ReSCKrZYZ4ND"
      },
      "source": [
        ""
      ],
      "execution_count": null,
      "outputs": []
    }
  ]
}