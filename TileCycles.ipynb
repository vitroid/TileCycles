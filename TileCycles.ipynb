{
  "nbformat": 4,
  "nbformat_minor": 0,
  "metadata": {
    "colab": {
      "name": "TileCycles.ipynb",
      "provenance": [],
      "collapsed_sections": [],
      "toc_visible": true,
      "include_colab_link": true
    },
    "kernelspec": {
      "display_name": "Python 3",
      "language": "python",
      "name": "python3"
    },
    "language_info": {
      "codemirror_mode": {
        "name": "ipython",
        "version": 3
      },
      "file_extension": ".py",
      "mimetype": "text/x-python",
      "name": "python",
      "nbconvert_exporter": "python",
      "pygments_lexer": "ipython3",
      "version": "3.9.1rc1"
    }
  },
  "cells": [
    {
      "cell_type": "markdown",
      "metadata": {
        "id": "view-in-github",
        "colab_type": "text"
      },
      "source": [
        "<a href=\"https://colab.research.google.com/github/vitroid/TileCycles/blob/main/TileCycles.ipynb\" target=\"_parent\"><img src=\"https://colab.research.google.com/assets/colab-badge.svg\" alt=\"Open In Colab\"/></a>"
      ]
    },
    {
      "cell_type": "code",
      "metadata": {
        "colab": {
          "base_uri": "https://localhost:8080/"
        },
        "id": "Bo8eSXMuECsU",
        "outputId": "9d1c6a34-a664-4789-f49f-dbc9c6c9179e"
      },
      "source": [
        "# install genice to generate the structure of ice.\n",
        "! pip install genice2"
      ],
      "execution_count": 1,
      "outputs": [
        {
          "output_type": "stream",
          "text": [
            "Collecting genice2\n",
            "\u001b[?25l  Downloading https://files.pythonhosted.org/packages/ee/be/7f8733f2037c32031319bfee82e0e40ebb5c7eb7a9cca4695f2088021ced/GenIce2-2.1.tar.gz (695kB)\n",
            "\u001b[K     |████████████████████████████████| 696kB 6.9MB/s \n",
            "\u001b[?25hRequirement already satisfied: networkx>=2.0.dev20160901144005 in /usr/local/lib/python3.7/dist-packages (from genice2) (2.5.1)\n",
            "Collecting cycless\n",
            "  Downloading https://files.pythonhosted.org/packages/3f/21/cfd53149cc03cacfb9485e0d113091a8bf613526e5eb775b74732db3b7e4/cycless-0.1.4-py2.py3-none-any.whl\n",
            "Collecting pairlist>=0.2.11.1\n",
            "  Downloading https://files.pythonhosted.org/packages/5a/75/8edea732c97737fc59363026a2a6f23936b227e13612505120a135f1792d/PairList-0.2.11.1.tar.gz\n",
            "Collecting yaplotlib>=0.1\n",
            "  Downloading https://files.pythonhosted.org/packages/00/61/9939682d23a1384a2f0fd54e3e7c9d3397846bff203eff8f0716229fbc4f/yaplotlib-0.1.2-py2.py3-none-any.whl\n",
            "Requirement already satisfied: numpy in /usr/local/lib/python3.7/dist-packages (from genice2) (1.19.5)\n",
            "Requirement already satisfied: wheel in /usr/local/lib/python3.7/dist-packages (from genice2) (0.36.2)\n",
            "Collecting openpyscad\n",
            "  Downloading https://files.pythonhosted.org/packages/18/7a/ded2e0274762842e7fdffe62229cdaaa8102a35c793a44727b7900db159c/openpyscad-0.4.0-py3-none-any.whl\n",
            "Collecting graphstat\n",
            "  Downloading https://files.pythonhosted.org/packages/1b/d2/28744fa6f3fd0f06f3a43eb040592df196fa605bfd14631546673ef2096f/graphstat-0.2.1-py2.py3-none-any.whl\n",
            "Collecting tilecycles>=0.1.4.3\n",
            "  Downloading https://files.pythonhosted.org/packages/cd/bf/50741432c1cc4103be99fd2f7aa786bb504a4782beebe12543e6f190d28b/TileCycles-0.1.4.3.tar.gz\n",
            "Requirement already satisfied: decorator<5,>=4.3 in /usr/local/lib/python3.7/dist-packages (from networkx>=2.0.dev20160901144005->genice2) (4.4.2)\n",
            "Collecting methodtools\n",
            "  Downloading https://files.pythonhosted.org/packages/cf/08/b0557009f7b0e8038a7982fa13fd87ea94b8b8c32e6026eb3a0bbaa03ae8/methodtools-0.4.2.tar.gz\n",
            "Requirement already satisfied: six<2.0.0,>=1.14.0 in /usr/local/lib/python3.7/dist-packages (from openpyscad->genice2) (1.15.0)\n",
            "Collecting wirerope>=0.4.2\n",
            "  Downloading https://files.pythonhosted.org/packages/9d/dd/05bf03320c45e8831c3b88388a9457205939d5e9a802fc6f1252ea0c9a7f/wirerope-0.4.2.tar.gz\n",
            "Building wheels for collected packages: genice2, pairlist, tilecycles, methodtools, wirerope\n",
            "  Building wheel for genice2 (setup.py) ... \u001b[?25l\u001b[?25hdone\n",
            "  Created wheel for genice2: filename=GenIce2-2.1-py2.py3-none-any.whl size=838351 sha256=05a59bfa502a32ad59d304c4142aa5add9c33f03ed6671d1e49435a7af54a6ee\n",
            "  Stored in directory: /root/.cache/pip/wheels/25/09/2b/6cea2585ee839a02fb6df3c5857b429e48ca147bf07732e448\n",
            "  Building wheel for pairlist (setup.py) ... \u001b[?25l\u001b[?25hdone\n",
            "  Created wheel for pairlist: filename=PairList-0.2.11.1-cp37-cp37m-linux_x86_64.whl size=35275 sha256=c3af16beac949b914c8d0018d29af2285f34db2fe7d840e38947abf669552eac\n",
            "  Stored in directory: /root/.cache/pip/wheels/74/20/2f/64c940bb1f1046f7859faad73d7ea02597b5f224153795e2d1\n",
            "  Building wheel for tilecycles (setup.py) ... \u001b[?25l\u001b[?25hdone\n",
            "  Created wheel for tilecycles: filename=TileCycles-0.1.4.3-cp37-cp37m-linux_x86_64.whl size=96706 sha256=609f574700cee2a0135fac1f6dd4a01582203cbd395b526a83bce9583e5e6262\n",
            "  Stored in directory: /root/.cache/pip/wheels/a8/64/11/4f98b26dcb12140fce9086aebf70667585b32c3c8400c319fa\n",
            "  Building wheel for methodtools (setup.py) ... \u001b[?25l\u001b[?25hdone\n",
            "  Created wheel for methodtools: filename=methodtools-0.4.2-cp37-none-any.whl size=2986 sha256=119fab1d44b0b312407a7ce21123ff1ab33737e6f96f03eb40cf4bf72d6a042e\n",
            "  Stored in directory: /root/.cache/pip/wheels/94/6a/63/a364e72d0abc8869f68b3fd19d701b428b9a0d2579d06f78ae\n",
            "  Building wheel for wirerope (setup.py) ... \u001b[?25l\u001b[?25hdone\n",
            "  Created wheel for wirerope: filename=wirerope-0.4.2-cp37-none-any.whl size=8749 sha256=d274acfe797006d88efc794d492640df424a646a15ce006e60047a42eba808ea\n",
            "  Stored in directory: /root/.cache/pip/wheels/0f/96/85/60a4f8d39c55f2f54dc322249a1ba526aae558a007b224e053\n",
            "Successfully built genice2 pairlist tilecycles methodtools wirerope\n",
            "Installing collected packages: wirerope, methodtools, cycless, pairlist, yaplotlib, openpyscad, graphstat, tilecycles, genice2\n",
            "Successfully installed cycless-0.1.4 genice2-2.1 graphstat-0.2.1 methodtools-0.4.2 openpyscad-0.4.0 pairlist-0.2.11.1 tilecycles-0.1.4.3 wirerope-0.4.2 yaplotlib-0.1.2\n"
          ],
          "name": "stdout"
        }
      ]
    },
    {
      "cell_type": "markdown",
      "metadata": {
        "id": "EXCoWxdvXGTZ"
      },
      "source": [
        "# Benchmark tests"
      ]
    },
    {
      "cell_type": "code",
      "metadata": {
        "id": "5OZQGRPxW0DE"
      },
      "source": [
        "from genice2.genice import GenIce\n",
        "from genice2.plugin import Lattice, Format, Molecule\n",
        "\n",
        "import networkx as nx\n",
        "import numpy as np\n",
        "import random\n",
        "import time\n",
        "\n",
        "\n",
        "# sampling parameters for benchmarking\n",
        "# Accurate\n",
        "maxRepeat = 100  # loops\n",
        "maxAccum  = 25   # sec\n",
        "maxProc   = 100  # sec\n",
        "maxNode   = 1000000\n",
        "\n",
        "# Rough estimate\n",
        "# maxRepeat = 10  # loops\n",
        "# maxAccum  = 5   # sec\n",
        "# maxProc   = 10  # sec\n",
        "# maxNode   = 100000"
      ],
      "execution_count": 2,
      "outputs": []
    },
    {
      "cell_type": "code",
      "metadata": {
        "id": "ysFVcLaoY8h5"
      },
      "source": [
        "def test_icerule(d, N):\n",
        "    assert d.number_of_nodes() == N\n",
        "    for node in d:\n",
        "        assert d.in_degree(node) == 2\n",
        "        assert d.in_degree(node) == 2        "
      ],
      "execution_count": 3,
      "outputs": []
    },
    {
      "cell_type": "markdown",
      "metadata": {
        "id": "pEvBXxOJY8h6"
      },
      "source": [
        "## Buch's algorithm\n",
        "\n",
        "There are two hydrogen sites between two neighboring oxygens, and Buch's algorithm assumes that the initial configuration is one in which all the hydrogens randomly occupy one of the two sites.\n",
        "\n",
        "In the initial configuration, there are many oxygen atoms with excess hydrogen. The algorithm migrates hydrogen from such an oxygen atom to a neighboring oxygen atom, and repeats the process randomly until there are two hydrogen species in every oxygen atom.\n"
      ]
    },
    {
      "cell_type": "code",
      "metadata": {
        "id": "L33jRCUTY8h7"
      },
      "source": [
        "def migrate(d, excess):\n",
        "    \"\"\"\n",
        "    excess is a set of nodes having more than two outgoing edges\n",
        "    \"\"\"\n",
        "    while len(excess) > 0:\n",
        "        # random choice from candidates;\n",
        "        # there may be faster ways\n",
        "        head = random.choice(list(excess))\n",
        "        nexts = list(d.successors(head))\n",
        "        next = random.choice(nexts)\n",
        "        d.remove_edge(head, next)\n",
        "        d.add_edge(next, head)\n",
        "        # if head's outgoing order was three\n",
        "        if len(nexts) == 3:\n",
        "            # remove from the excess list\n",
        "            excess.remove(head)\n",
        "        # if next's outgoing orderis three\n",
        "        if d.out_degree(next) == 3:\n",
        "            # it becomes a new excess\n",
        "            excess.add(next)"
      ],
      "execution_count": 4,
      "outputs": []
    },
    {
      "cell_type": "code",
      "metadata": {
        "id": "pLfPxUgM8cBp"
      },
      "source": [
        "lattice = Lattice(\"1c\")\n",
        "formatter = Format(\"raw\", stage=(2,))  # generates an undirected graph\n",
        "\n",
        "buch = []\n",
        "lastN = 0\n",
        "for NN in range(8, 100):\n",
        "    N = int(1.4**(NN/3))\n",
        "    if N == lastN:\n",
        "        continue\n",
        "    lastN = N\n",
        "    raw = GenIce(lattice, rep=[N, N, N]).generate_ice(formatter)\n",
        "    g = raw['graph']\n",
        "    Nnode = g.number_of_nodes()\n",
        "\n",
        "    delta = 0.0\n",
        "    Nrep = 0\n",
        "    while delta < maxAccum and Nrep < maxRepeat:\n",
        "        dd = nx.DiGraph()\n",
        "        for a, b in g.edges():\n",
        "            if random.randint(0, 1) == 1:\n",
        "                dd.add_edge(a, b)\n",
        "            else:\n",
        "                dd.add_edge(b, a)\n",
        "\n",
        "        now = time.time()\n",
        "        migrate(dd, set([x for x in dd.nodes if dd.out_degree(x) > 2]))\n",
        "        delta += time.time() - now\n",
        "        Nrep += 1\n",
        "    delta /= Nrep\n",
        "    buch.append([Nnode, delta, Nrep])\n",
        "    print(f\"{Nnode} molecules {delta} s avg. {Nrep} reps.\")\n",
        "    test_icerule(dd, Nnode)\n",
        "    if delta > maxProc:\n",
        "        break\n",
        "    if Nnode > maxNode:\n",
        "        break"
      ],
      "execution_count": null,
      "outputs": []
    },
    {
      "cell_type": "markdown",
      "metadata": {
        "id": "ca3K1ckFY8h8"
      },
      "source": [
        "## GenIce algorithm\n",
        "\n",
        "Tiling by cycles."
      ]
    },
    {
      "cell_type": "code",
      "metadata": {
        "id": "kac5T4NGC9DL"
      },
      "source": [
        "from collections import defaultdict\n",
        "\n",
        "\n",
        "def find_cycle(g, chain, order):\n",
        "    # head of the snake\n",
        "    head = chain[-1]\n",
        "    # neck is the vertex next to head\n",
        "    neck = -1\n",
        "    if len(chain) > 1:\n",
        "        neck = chain[-2]\n",
        "    while True:\n",
        "        # candidates for the next step\n",
        "        candids = [i for i in g[head] if i != neck]\n",
        "        # go ahead\n",
        "        neck = head\n",
        "        head = random.choice(candids)\n",
        "        # lookup the new head in the markers\n",
        "        i = order[head]\n",
        "        # if it is marked as the tail end of the snake,\n",
        "        if i == 0:\n",
        "            # the random walk returns to the first node of the chain;\n",
        "            # unmark the head.\n",
        "            order[head] = -1\n",
        "            # return an empty chain and a cycle\n",
        "            return [], chain\n",
        "        # if the random walk crosses at an intermediate node of the chain,\n",
        "        elif i > 0:\n",
        "            # return a chain and a cycle\n",
        "            return chain[:i+1], chain[i:]\n",
        "        # otherwise, mark the new head position\n",
        "        order[head] = len(chain)\n",
        "        chain.append(head)\n",
        "\n",
        "\n",
        "def remove_cycle(g, cycle, order):\n",
        "    # unmark vertices in the cycle (except for the first vertecx)\n",
        "    for i in range(1, len(cycle)):\n",
        "        order[cycle[i]] = -1\n",
        "    # remove edges of the cycle\n",
        "    for i in range(len(cycle)):\n",
        "        a = cycle[i-1]\n",
        "        b = cycle[i]\n",
        "        g.remove_edge(a, b)\n",
        "    # remove edgeless vertices in the graph\n",
        "    for a in cycle:\n",
        "        if g.degree(a) == 0:\n",
        "            g.remove_node(a)\n",
        "\n",
        "\n",
        "def tileByCycles(g):\n",
        "    # random walk path\n",
        "    chain = []\n",
        "    # markers that indicate the orders in the path\n",
        "    order = -np.ones(g.number_of_nodes(), dtype=np.int)\n",
        "    while g.number_of_nodes() > 0:\n",
        "        # if the chain is empty\n",
        "        if len(chain) == 0:\n",
        "            # randomly select the \"head\" node.\n",
        "            head = random.choice(list(g.nodes()))\n",
        "            chain = [head]\n",
        "            # mark it as the first node.\n",
        "            order[head] = 0\n",
        "        # walk randomly to find a cycle.\n",
        "        chain, cycle = find_cycle(g, chain, order)\n",
        "        # found.\n",
        "        yield cycle\n",
        "        # remove it from the graph and unmark.\n",
        "        remove_cycle(g, cycle, order)"
      ],
      "execution_count": 87,
      "outputs": []
    },
    {
      "cell_type": "code",
      "metadata": {
        "colab": {
          "base_uri": "https://localhost:8080/"
        },
        "id": "ycWKHjKo8cBp",
        "outputId": "93e8e4a0-c945-4759-8257-de9539d1cc7a"
      },
      "source": [
        "lattice = Lattice(\"1c\")\n",
        "formatter = Format(\"raw\", stage=(2,))  # generates an undirected graph\n",
        "\n",
        "gen = []\n",
        "for NN in range(4, 100):\n",
        "    N = int(2**(NN/3))\n",
        "    raw = GenIce(lattice, rep=[N, N, N]).generate_ice(formatter)\n",
        "    g0 = raw['graph']\n",
        "    Nnode = g0.number_of_nodes()\n",
        "\n",
        "    delta = 0.0\n",
        "    Nrep = 0\n",
        "    while delta < maxAccum and Nrep < maxRepeat:\n",
        "        g = nx.Graph(g0)\n",
        "\n",
        "        now = time.time()\n",
        "        dd = nx.DiGraph()\n",
        "        for cycle in tileByCycles(g):\n",
        "            nx.add_cycle(dd, cycle)\n",
        "        delta += time.time() - now\n",
        "        Nrep += 1\n",
        "    delta /= Nrep\n",
        "    gen.append([Nnode, delta, Nrep])\n",
        "    print(f\"{Nnode} molecules {delta} s avg. {Nrep} reps.\")\n",
        "    test_icerule(dd, Nnode)\n",
        "    if Nnode >= maxNode:\n",
        "        break"
      ],
      "execution_count": null,
      "outputs": [
        {
          "output_type": "stream",
          "text": [
            "64 molecules 0.0011054754257202148 s avg. 10 reps.\n",
            "216 molecules 0.002221560478210449 s avg. 10 reps.\n",
            "512 molecules 0.003977227210998535 s avg. 10 reps.\n",
            "1000 molecules 0.007809114456176758 s avg. 10 reps.\n",
            "1728 molecules 0.015598368644714356 s avg. 10 reps.\n",
            "4096 molecules 0.03353116512298584 s avg. 10 reps.\n",
            "8000 molecules 0.06730248928070068 s avg. 10 reps.\n",
            "13824 molecules 0.12879233360290526 s avg. 10 reps.\n",
            "32768 molecules 0.3576754808425903 s avg. 10 reps.\n",
            "64000 molecules 0.7928772653852191 s avg. 7 reps.\n",
            "125000 molecules 1.6485790014266968 s avg. 4 reps.\n"
          ],
          "name": "stdout"
        }
      ]
    },
    {
      "cell_type": "markdown",
      "metadata": {
        "id": "5MAt2xo6Y8h9"
      },
      "source": [
        "## Rahman's algorithm\n",
        "\n",
        "The algorithm prepares a depolarized structure in advance and generates a hydrogen-disordered structure by successively reversing randomly chosen homodromic cycles.\n",
        "\n",
        "Here, the ice Ic structure generated by GenIce is used as an initial structure, and the procedure is repeated until all the edges are inverted at least once."
      ]
    },
    {
      "cell_type": "code",
      "metadata": {
        "id": "pb1gv00kY8h-"
      },
      "source": [
        "import random\n",
        "\n",
        "\n",
        "def six(d, Nnode):\n",
        "    \"\"\"\n",
        "    find a cyclic path in the given digraph.\n",
        "    d: digraph (networkx.DiGraph)\n",
        "    \"\"\"\n",
        "    head = random.randint(0, Nnode-1)\n",
        "    path = [head]\n",
        "    while True:\n",
        "        nexts = list(d.neighbors(head))\n",
        "        next = random.choice(nexts)\n",
        "        if next in path:\n",
        "            i = path.index(next)\n",
        "            return path[i:]\n",
        "        path.append(next)\n",
        "        head = next\n",
        "\n",
        "\n",
        "def invertCycle(d, cycle, g):\n",
        "    for i in range(len(cycle)):\n",
        "        a, b = cycle[i-1], cycle[i]\n",
        "        d.remove_edge(a, b)\n",
        "        d.add_edge(b, a)\n",
        "        # footprint\n",
        "        if g.has_edge(a, b):\n",
        "            g.remove_edge(a, b)"
      ],
      "execution_count": 76,
      "outputs": []
    },
    {
      "cell_type": "code",
      "metadata": {
        "id": "Fui8sDpJ8cBr"
      },
      "source": [
        "lattice = Lattice(\"1c\")\n",
        "formatter = Format(\"raw\", stage=(3,))  # We need the directed graph of ice!\n",
        "\n",
        "rahman = []\n",
        "for N in range(1, 20):\n",
        "    raw = GenIce(lattice, rep=[N, N, N]).generate_ice(formatter)\n",
        "    d = nx.DiGraph(raw['digraph'].edges())\n",
        "    Nnode = d.number_of_nodes()\n",
        "\n",
        "    delta = 0.0\n",
        "    Nrep = 0\n",
        "    while delta < maxAccum and Nrep < maxRepeat:\n",
        "        # footprint\n",
        "        g = nx.Graph(d)\n",
        "\n",
        "        now = time.time()\n",
        "        while g.number_of_edges() > 0:\n",
        "            cycle = six(d, d.number_of_nodes())\n",
        "            invertCycle(d, cycle, g)\n",
        "        delta += time.time() - now\n",
        "        Nrep += 1\n",
        "    delta /= Nrep\n",
        "    rahman.append([Nnode, delta, Nrep])\n",
        "    print(f\"{Nnode} molecules {delta} s avg. {Nrep} reps.\")\n",
        "    test_icerule(d, Nnode)\n",
        "    if delta > maxProc:\n",
        "        break"
      ],
      "execution_count": null,
      "outputs": []
    },
    {
      "cell_type": "code",
      "metadata": {
        "id": "KIFEzT3BYD8w"
      },
      "source": [
        "from matplotlib import pyplot as plt\n",
        "\n",
        "\n",
        "buch = np.array(buch)\n",
        "gen = np.array(gen)\n",
        "rahman = np.array(rahman)\n",
        "\n",
        "\n",
        "fig1, ax = plt.subplots()\n",
        "\n",
        "# ax.set_aspect('square') #, adjustable='box')\n",
        "\n",
        "plt.plot(rahman[:, 0], rahman[:, 1], label=\"Rahman\")\n",
        "plt.plot(buch[:, 0], buch[:, 1], label=\"Buch\")\n",
        "plt.plot(gen[:, 0], gen[:, 1], label=\"This work\")\n",
        "plt.xlim(0, 130000)\n",
        "plt.legend()\n",
        "plt.xlabel(\"Number of molecules\")\n",
        "plt.ylabel(\"Time / s\")\n",
        "plt.ylim(0, 100)\n",
        "plt.show()\n",
        "\n",
        "fig1.savefig(\"benchmark.pdf\")"
      ],
      "execution_count": null,
      "outputs": []
    },
    {
      "cell_type": "code",
      "metadata": {
        "id": "HzBzS47LZysp"
      },
      "source": [
        "fig1, ax = plt.subplots()\n",
        "\n",
        "lin = np.linspace(1e2, 1e5, 100)\n",
        "plt.loglog(rahman[:, 0], rahman[:, 1], label=\"Rahman\")\n",
        "plt.loglog(buch[:, 0], buch[:, 1], label=\"Buch\")\n",
        "plt.loglog(gen[:, 0], gen[:, 1], label=\"This work\")\n",
        "plt.loglog(lin, lin*1e-5, label=r\"y=A x\")\n",
        "plt.legend()\n",
        "plt.xlabel(\"Number of molecules\")\n",
        "plt.ylabel(\"Time / s\")\n",
        "\n",
        "fig1.savefig(\"benchmark-loglog.pdf\")\n"
      ],
      "execution_count": null,
      "outputs": []
    },
    {
      "cell_type": "code",
      "metadata": {
        "id": "ReSCKrZYZ4ND"
      },
      "source": [
        "# for TOC graphics\n",
        "\n",
        "from matplotlib import pyplot as plt\n",
        "\n",
        "\n",
        "# make a 2D 6x6 ice.\n",
        "def draw_cycle(cycle, pos, N, col):\n",
        "    threshold = 1.1/N**2\n",
        "    cm = plt.get_cmap('rainbow')\n",
        "    for i in range(len(cycle)):\n",
        "        a = cycle[i-1]\n",
        "        b = cycle[i]\n",
        "        va = pos[a]\n",
        "        vb = pos[b]\n",
        "        d = vb - va\n",
        "        if d@d > threshold:\n",
        "            d -= np.floor(d+0.5)\n",
        "            seg = np.vstack([vb-d, vb])\n",
        "            plt.plot(seg[:, 0], seg[:, 1], color=cm(col))\n",
        "        seg = np.vstack([va, va+d])\n",
        "        plt.plot(seg[:, 0], seg[:, 1], color=cm(col))\n",
        "\n",
        "\n",
        "N = 8\n",
        "X = np.arange(N)\n",
        "Y = np.arange(N)\n",
        "X, Y = np.meshgrid(X, Y)\n",
        "X = X.reshape(N * N)\n",
        "Y = Y.reshape(N * N)\n",
        "pos = np.vstack([X, Y]).T / N  # fractional coordinate\n",
        "g = nx.Graph()\n",
        "for a in range(N*N):\n",
        "    for b in range(a):\n",
        "        d = pos[a] - pos[b]\n",
        "        d -= np.floor(d+0.5)\n",
        "        if (d@d)*N*N < 1.1:\n",
        "            g.add_edge(a, b)\n",
        "\n",
        "print(g.number_of_edges())\n",
        "\n",
        "\n",
        "fig1, ax = plt.subplots()\n",
        "\n",
        "cycles = []\n",
        "dd = nx.DiGraph()\n",
        "for cycle in tileByCycles(g):\n",
        "    cycles.append(cycle)\n",
        "\n",
        "for i, cycle in enumerate(cycles):\n",
        "    draw_cycle(cycle, pos, N, i/len(cycles))\n",
        "\n",
        "ax.set_aspect('equal', adjustable='box')\n",
        "plt.show()\n",
        "fig1.savefig(\"map.pdf\", bbox='tight')"
      ],
      "execution_count": null,
      "outputs": []
    },
    {
      "cell_type": "code",
      "metadata": {
        "id": "MXKWtxSb_eI-"
      },
      "source": [
        "!pip install tilecycles"
      ],
      "execution_count": null,
      "outputs": []
    },
    {
      "cell_type": "code",
      "metadata": {
        "colab": {
          "base_uri": "https://localhost:8080/"
        },
        "id": "fHJIT5e8Di3C",
        "outputId": "6730229a-8e36-403b-f378-212861d8d2f2"
      },
      "source": [
        "# C++ implementation\n",
        "\n",
        "import tilecycles_c as tc\n",
        "import numpy as np\n",
        "\n",
        "lattice = Lattice(\"1c\")\n",
        "formatter = Format(\"raw\", stage=(2,))  # generates an undirected graph\n",
        "\n",
        "seed = 1111\n",
        "\n",
        "cpp = []\n",
        "for NN in range(4, 100):\n",
        "    N = int(2**(NN/3))\n",
        "    raw = GenIce(lattice, rep=[N, N, N]).generate_ice(formatter)\n",
        "    g0 = raw['graph']\n",
        "    Nnode = g0.number_of_nodes()\n",
        "\n",
        "    pairs = np.array([(i, j) for i, j in g0.edges()], dtype=np.int32)\n",
        "\n",
        "    delta = 0.0\n",
        "    Nrep = 0\n",
        "    while delta < maxAccum and Nrep < maxRepeat:\n",
        "        now = time.time()\n",
        "        dd = nx.DiGraph()\n",
        "        for cycle in tc.tile(pairs, Nnode, seed):\n",
        "            nx.add_cycle(dd, cycle)\n",
        "        delta += time.time() - now\n",
        "        Nrep += 1\n",
        "    delta /= Nrep\n",
        "    cpp.append([Nnode, delta, Nrep])\n",
        "    print(f\"{Nnode} molecules {delta} s avg. {Nrep} reps.\")\n",
        "    test_icerule(dd, Nnode)\n",
        "    if Nnode >= maxNode:\n",
        "        break"
      ],
      "execution_count": null,
      "outputs": [
        {
          "output_type": "stream",
          "text": [
            "64 molecules 0.0084136962890625 s avg. 10 reps.\n",
            "216 molecules 0.0004415273666381836 s avg. 10 reps.\n",
            "512 molecules 0.0009991884231567382 s avg. 10 reps.\n",
            "1000 molecules 0.0019438028335571288 s avg. 10 reps.\n",
            "1728 molecules 0.003788447380065918 s avg. 10 reps.\n",
            "4096 molecules 0.00989081859588623 s avg. 10 reps.\n",
            "8000 molecules 0.024692177772521973 s avg. 10 reps.\n",
            "13824 molecules 0.04694764614105225 s avg. 10 reps.\n",
            "32768 molecules 0.12904930114746094 s avg. 10 reps.\n",
            "64000 molecules 0.2868978261947632 s avg. 10 reps.\n",
            "125000 molecules 0.642167717218399 s avg. 8 reps.\n"
          ],
          "name": "stdout"
        }
      ]
    },
    {
      "cell_type": "markdown",
      "metadata": {
        "id": "1yLRJPgB8cBs"
      },
      "source": [
        "The C++ implementation is not quite fast because the data conversion between python always take a linear time against the system size."
      ]
    },
    {
      "cell_type": "code",
      "metadata": {
        "colab": {
          "base_uri": "https://localhost:8080/"
        },
        "id": "9fsJgRZ932FK",
        "outputId": "779b22e0-f576-48f2-d291-b83d603aa45f"
      },
      "source": [
        "from matplotlib import pyplot as plt\n",
        "\n",
        "\n",
        "gen = np.array(gen)\n",
        "cpp = np.array(cpp)\n",
        "\n",
        "\n",
        "fig1, ax = plt.subplots()\n",
        "\n",
        "lin = np.linspace(1e2, 1e5, 100)\n",
        "plt.loglog(gen[:, 0], gen[:, 1], label=\"Python\")\n",
        "plt.loglog(cpp[:, 0], cpp[:, 1], label=\"C++\")\n",
        "\n",
        "plt.loglog(lin, lin*1e-5, label=r\"y=A x\")\n",
        "plt.legend()\n",
        "plt.xlabel(\"Number of molecules\")\n",
        "plt.ylabel(\"Time / s\")\n",
        "\n",
        "fig1.savefig(\"benchmark-cp-loglog.pdf\")\n",
        "\n",
        "# C++ is four times faster than python,\n",
        "# but Python is fast enough..."
      ],
      "execution_count": null,
      "outputs": [
        {
          "output_type": "display_data",
          "data": {
            "image/png": "[encoded data removed]",
            "text/plain": [
              "<Figure size 432x288 with 1 Axes>"
            ]
          },
          "metadata": {
            "tags": [],
            "needs_background": "light"
          }
        }
      ]
    },
    {
      "cell_type": "markdown",
      "metadata": {
        "id": "f7Dkgeeh9RYA"
      },
      "source": [
        "# With depolarization\n",
        "\n",
        "\n"
      ]
    },
    {
      "cell_type": "markdown",
      "metadata": {
        "id": "8mGvXGXX9iHW"
      },
      "source": [
        "## Buch's algorithm\n",
        "\n",
        "We implement the efficient algorithm to depolarize the HB network of ice which was developed for GenIce."
      ]
    },
    {
      "cell_type": "code",
      "metadata": {
        "id": "rD7NQLut_d5H"
      },
      "source": [
        "import heapq\n",
        "\n",
        "def shortest_paths(G, start, ends):\n",
        "    \"\"\"\n",
        "    Find all shortests paths from the start to one of the ends.\n",
        "\n",
        "    Returns:\n",
        "    list of shortest paths from the start to one of the ends.\n",
        "    \"\"\"\n",
        "    q = [(0, [start, ])]  # Heap of (cost, path)\n",
        "    visited = set()       # Visited vertices.\n",
        "    cheapest = 999999\n",
        "    while len(q):\n",
        "        # logger.debug(q)\n",
        "        (cost, path) = heapq.heappop(q)\n",
        "        if cost > cheapest:\n",
        "            break\n",
        "        v0 = path[-1]\n",
        "        if v0 in ends:\n",
        "            cheapest = cost  # first arrived\n",
        "            yield path\n",
        "        else:\n",
        "            if v0 in visited:\n",
        "                continue\n",
        "            visited.add(v0)\n",
        "            for v1 in G[v0]:\n",
        "                if v1 not in visited:\n",
        "                    heapq.heappush(q, (cost + 1, path + [v1]))\n",
        "\n",
        "\n",
        "def nearest_to_origin(vertices, coord, cell):\n",
        "    \"\"\"\n",
        "    vertices: a subset of vertices\n",
        "    coord: fractional coordinates of all vertices\n",
        "    cell: cell shape\n",
        "    \"\"\"\n",
        "    v = coord[vertices] # fancy indexing\n",
        "    v -= np.floor(v+0.5)\n",
        "    d = np.sum(v*v, axis=1)\n",
        "    nearest = np.argmin(d)\n",
        "    # print(nearest, d[nearest])\n",
        "    return vertices[nearest]\n",
        "\n",
        "\n",
        "def net_polarization(dipoles):\n",
        "    net = np.zeros(3)\n",
        "    for edge in dipoles:\n",
        "        net += dipoles[edge]\n",
        "    return net\n",
        "\n",
        "\n",
        "def cycle_dipole(cycle, dipoles):\n",
        "    net = np.zeros(3)\n",
        "    for i in range(len(cycle)):\n",
        "        a, b = cycle[i-1], cycle[i]\n",
        "        net += dipoles[a, b]\n",
        "    return net\n",
        "\n",
        "\n",
        "def invert(cycle, G, dipoles):\n",
        "    # print(cycle)\n",
        "    for i in range(len(cycle)):\n",
        "        a, b = cycle[i-1], cycle[i]\n",
        "        dipoles[b, a] = -dipoles[a, b]\n",
        "        del dipoles[a, b]\n",
        "        G.remove_edge(a, b)\n",
        "        G.add_edge(b, a)\n",
        "    \n",
        "\n",
        "def depolarize(G, rpos, cell, dipoles):\n",
        "    net = net_polarization(dipoles)\n",
        "    print(net)\n",
        "\n",
        "    # all vertices.\n",
        "    # It should be divided into subcells if the system is huge.\n",
        "    vertices = [x for x in range(rpos.shape[0])]\n",
        "    for axis in (0,1,2):\n",
        "        unitvec = np.zeros(3)\n",
        "        unitvec[axis] += 1\n",
        "        while abs(net[axis]) > 0.1:\n",
        "            # depolarize in z axis\n",
        "\n",
        "            # choose a vertex\n",
        "            center = random.sample(vertices, 1)[0]\n",
        "\n",
        "            # find the apsis\n",
        "            apsis = nearest_to_origin(vertices, rpos - (rpos[center] + unitvec/2), cell)\n",
        "            # for v in (center, apsis):\n",
        "            #     print(v, rpos[v])\n",
        "\n",
        "            # find paths and make a directed cycle\n",
        "            for c2a in shortest_paths(G, center, [apsis]):\n",
        "                for a2c in shortest_paths(G, apsis, [center]):\n",
        "                    cycle = c2a[:-1] + a2c[:-1]\n",
        "                    dip = cycle_dipole(cycle, dipoles)\n",
        "                    # print(dip)\n",
        "                    newnet = net - dip*2\n",
        "                    if net @ net > newnet @ newnet:\n",
        "                        # accept and invert.\n",
        "                        print(f\"axis {axis} accepted {len(cycle)}\")\n",
        "                        invert(cycle, G, dipoles)\n",
        "                        net = newnet\n",
        "                    break\n",
        "                break\n"
      ],
      "execution_count": 79,
      "outputs": []
    },
    {
      "cell_type": "code",
      "metadata": {
        "id": "HTwbpHCh9Qu4",
        "outputId": "aa1e0368-c550-4b1d-b67b-af3e0f0b8449",
        "colab": {
          "base_uri": "https://localhost:8080/"
        }
      },
      "source": [
        "lattice = Lattice(\"1c\")\n",
        "formatter = Format(\"raw\", stage=(1,2,))  # generates an undirected graph\n",
        "\n",
        "N=8\n",
        "raw = GenIce(lattice, rep=[N, N, N]).generate_ice(formatter)\n",
        "g = raw['graph']\n",
        "Nnode = g.number_of_nodes()\n",
        "\n",
        "dd = nx.DiGraph()\n",
        "for a, b in g.edges():\n",
        "    if random.randint(0, 1) == 1:\n",
        "        dd.add_edge(a, b)\n",
        "    else:\n",
        "        dd.add_edge(b, a)\n",
        "\n",
        "migrate(dd, set([x for x in dd.nodes if dd.out_degree(x) > 2]))\n",
        "test_icerule(dd, Nnode)\n",
        "\n",
        "rpos = raw['reppositions']\n",
        "cell = raw['repcell']\n",
        "\n",
        "dipoles = dict()\n",
        "# make relative vectors\n",
        "for a, b in dd.edges():\n",
        "    dr = rpos[b] - rpos[a]\n",
        "    dr -= np.floor(dr+0.5)\n",
        "    dipoles[a, b] = dr\n",
        "\n",
        "depolarize(dd, rpos, cell, dipoles)\n",
        "\n",
        "net = net_polarization(dipoles)\n",
        "print(net)"
      ],
      "execution_count": 83,
      "outputs": [
        {
          "output_type": "stream",
          "text": [
            "[6. 2. 2.]\n",
            "axis 0 accepted 32\n",
            "axis 0 accepted 32\n",
            "axis 0 accepted 32\n",
            "axis 1 accepted 32\n",
            "axis 2 accepted 32\n",
            "[0. 0. 0.]\n"
          ],
          "name": "stdout"
        }
      ]
    },
    {
      "cell_type": "markdown",
      "metadata": {
        "id": "TcI8MkSEOXDv"
      },
      "source": [
        "## Rahman's algorithm\n",
        "\n",
        "In Rahman's algorithm, the initial structure should be already depolarized. To avoid additional polarizations, a traversing cycle must be excluded in the process of shuffling the network, and that costs additionally."
      ]
    },
    {
      "cell_type": "code",
      "metadata": {
        "id": "bcGE9pO6OWP5"
      },
      "source": [
        "import random\n",
        "\n",
        "\n",
        "def six(d, Nnode, Ntra):\n",
        "    \"\"\"\n",
        "    find a cyclic path in the given digraph.\n",
        "    d: digraph (networkx.DiGraph)\n",
        "    \"\"\"\n",
        "    head = random.randint(0, Nnode-1)\n",
        "    path = [head]\n",
        "    while True:\n",
        "        nexts = list(d.neighbors(head))\n",
        "        next = random.choice(nexts)\n",
        "        if next in path:\n",
        "            i = path.index(next)\n",
        "            if len(path[i:]) >= Ntra:\n",
        "                # print(\"Drop.\")\n",
        "                return []\n",
        "            return path[i:]\n",
        "        path.append(next)\n",
        "        head = next\n",
        "\n",
        "\n",
        "def invertCycle(d, cycle, g):\n",
        "    for i in range(len(cycle)):\n",
        "        a, b = cycle[i-1], cycle[i]\n",
        "        d.remove_edge(a, b)\n",
        "        d.add_edge(b, a)\n",
        "        # footprint\n",
        "        if g.has_edge(a, b):\n",
        "            g.remove_edge(a, b)\n",
        "\n",
        "\n",
        "lattice = Lattice(\"1c\")\n",
        "formatter = Format(\"raw\", stage=(3,))  # We need the directed graph of ice!\n",
        "\n",
        "N = 8\n",
        "raw = GenIce(lattice, rep=[N, N, N]).generate_ice(formatter)\n",
        "d = nx.DiGraph(raw['digraph'].edges())\n",
        "Nnode = d.number_of_nodes()\n",
        "\n",
        "# footprint\n",
        "g = nx.Graph(d)\n",
        "\n",
        "# Shortest size of the traversing cycle\n",
        "Ntra = N*4\n",
        "\n",
        "while g.number_of_edges() > 0:\n",
        "    cycle = six(d, d.number_of_nodes(), Ntra)\n",
        "    invertCycle(d, cycle, g)\n",
        "test_icerule(d, Nnode)\n",
        "\n"
      ],
      "execution_count": 85,
      "outputs": []
    },
    {
      "cell_type": "markdown",
      "metadata": {
        "id": "wjX2bGYmRdZG"
      },
      "source": [
        "## GenIce algorithm\n",
        "\n"
      ]
    },
    {
      "cell_type": "code",
      "metadata": {
        "id": "b3g5V0vxGFfW",
        "outputId": "9a18feff-e1ca-47ac-e3bb-f960d94c53a4",
        "colab": {
          "base_uri": "https://localhost:8080/"
        }
      },
      "source": [
        "lattice = Lattice(\"1c\")\n",
        "formatter = Format(\"raw\", stage=(2,))  # generates an undirected graph\n",
        "\n",
        "N = 8\n",
        "raw = GenIce(lattice, rep=[N, N, N]).generate_ice(formatter)\n",
        "g0 = raw['graph']\n",
        "Nnode = g0.number_of_nodes()\n",
        "\n",
        "g = nx.Graph(g0)\n",
        "\n",
        "dd = nx.DiGraph()\n",
        "cycles = []\n",
        "for cycle in tileByCycles(g):\n",
        "    nx.add_cycle(dd, cycle)\n",
        "    cycles.append(cycle)\n",
        "test_icerule(dd, Nnode)\n",
        "\n",
        "dipoles = dict()\n",
        "# make relative vectors\n",
        "for a, b in dd.edges():\n",
        "    dr = rpos[b] - rpos[a]\n",
        "    dr -= np.floor(dr+0.5)\n",
        "    dipoles[a, b] = dr\n",
        "\n",
        "cid = []\n",
        "cycdip = []\n",
        "direction = []\n",
        "for i, cycle in enumerate(cycles):\n",
        "    dip = cycle_dipole(cycle, dipoles)\n",
        "    if not np.allclose(dip, 0):\n",
        "        cid.append(i)\n",
        "        cycdip.append(dip)\n",
        "        direction.append(1)\n",
        "cycdip = np.array(cycdip)\n",
        "direction = np.array(direction)\n",
        "Ncycle = cycdip.shape[0]\n",
        "\n",
        "# reduce polarization by flipping cycles randomly\n",
        "net = net_polarization(dipoles)\n",
        "while not np.allclose(net, 0):\n",
        "    r = random.randint(0, Ncycle-1)\n",
        "    newnet = net - 2*direction[r]*cycdip[r]\n",
        "    if net @ net > newnet @ newnet:\n",
        "        direction[r] = -direction[r]\n",
        "        net = newnet\n",
        "\n",
        "# reflect the inversions to the dipoles and graph\n",
        "for i in range(Ncycle):\n",
        "    if direction[i] < 0:\n",
        "        invert(cycles[cid[i]], dd, dipoles)\n",
        "\n",
        "# depolarize(dd, rpos, cell, dipoles)\n",
        "\n",
        "net = net_polarization(dipoles)\n",
        "print(net)"
      ],
      "execution_count": 96,
      "outputs": [
        {
          "output_type": "stream",
          "text": [
            "[0. 0. 0.]\n"
          ],
          "name": "stdout"
        }
      ]
    },
    {
      "cell_type": "markdown",
      "metadata": {
        "id": "cZMfyTyv8cBs"
      },
      "source": [
        "# Validation\n",
        "\n",
        "生成した氷の構造が十分にランダムであるかどうかを確認するために、サイクルを構成する水素結合の向きの統計をとる。\n",
        "\n",
        "氷の結晶構造はさまざまなサイズのirreducible ringsで構成されている。氷Iは6員環のみで構成されている。アイスルールを満たすネットワークに含まれる1つの6員環に注目すると、それを構成する水素結合の配向パターンには統計的な特徴がある。ここでは計算を簡単にするために次のようなBethe tree 近似を導入する。ある4-connectedな無限無向グラフ$g$が、6-cycleを1つだけもち、ほかにはサイクルを持たないものとする。このグラフ$g$にアイスルールを導入して有向グラフに変換した時、6-cycleに沿った辺の配向パターンの分布は表1のようになる。(誰かすでにやってそうなものだ。Stillinger?)\n",
        "\n",
        "*Table 1 アイスルールを満たす有向グラフの六員環の配向パターンと、Bethe tree近似による出現確率*\n",
        "\n",
        "| pattern| probability|\n",
        "|------|--------|\n",
        "|→→→→→→| 64/365 |\n",
        "|→→→→→←| 96/365 |\n",
        "|→→→→←←| 96/365 |\n",
        "|→→→←→←| 24/365 |\n",
        "|→→→←←←| 48/365 |\n",
        "|→→←→→←| 12/365 |\n",
        "|→→←→←←| 24/365 |\n",
        "|→←→←→←|  1/365 |\n",
        "\n",
        "現実の氷には無数の六員環が含まれているが、均質にランダムな水素無秩序氷では、上の分布に極めて近い分布が得られる。そこで、表1の分布と、生成した氷構造での配向パターンの分布を比較し、それらの分布の間のKullback-Leibler divergence $d_{KL}$を、氷構造の均質さの尺度とみなす。均質にランダムな水素無秩序氷では、$d_{KL}$は0に近付くが、配向パターンに偏りがあると、より大きな値になる。\n",
        "\n",
        "Rahmanらのアルゴリズムと、Buchらのアルゴリズムはどちらも収束的なアルゴリズムで、計算サイクルを増やすほど均質な分布に近付く。Rahmanらのアルゴリズムに関しては、初期配置を氷XI構造とする。また、Buchのアルゴリズムでは、初期配置はice ruleを満たさない完全ランダムな有向グラフとする。そして、ステップを重ねるごとに、上の分布にどのように近接するかを観察する。\n",
        "\n",
        "\n",
        "## Test\n",
        "\n",
        "To check whether the structure of the generated ice is sufficiently random, we take the statistics of the orientation of the hydrogen bonds that make up the cycle.\n",
        "\n",
        "The crystal structure of ice consists of irreducible rings of various sizes. Ice I consists of only six-membered rings. If we focus on a single six-membered ring in the network that satisfies the ice rules, the orientation pattern of the hydrogen bonds that make up the ring has a statistical characteristic. To simplify the calculation, we introduce the following Bethe tree approximation. Suppose that a 4-connected infinite undirected graph $g$ has only one 6-cycle and no other cycles. When this graph $g$ is transformed into a directed graph by introducing the ice rules, the distribution of  edge orientation patterns along the 6-cycle is as shown in Table 1.\n",
        "\n",
        "*Table 1 Orientation patterns of six-membered rings in directed graphs satisfying the ice rules and their probability of occurrence using the Bethe tree approximation*.\n",
        "\n",
        "| pattern| probability|\n",
        "|------|--------|\n",
        "|→→→→→→| 64/365 |\n",
        "|→→→→→←| 96/365 |\n",
        "|→→→→←←| 96/365 |\n",
        "|→→→←→←| 24/365 |\n",
        "|→→→←←←| 48/365 |\n",
        "|→→←→→←| 12/365 |\n",
        "|→→←→←←| 24/365 |\n",
        "|→←→←→←|  1/365 |\n",
        "\n",
        "Although real ice contains innumerable six-membered rings, homogeneously random hydrogen-disordered ice yields a distribution very close to the above one. Therefore, we compare the distributions in Table 1 with the distributions of the orientation patterns in the generated ice structure, and consider the Kullback-Leibler divergence $d_{KL}$ between these distributions as a measure of the homogeneity of the ice structure. For homogeneously random hydrogen-disordered ice, $d_{KL}$ approaches zero, while biases in the orientation pattern lead to larger values.\n",
        "\n",
        "Both Rahman et al.'s and Buch et al.'s algorithms are convergent algorithms, approaching a homogeneous distribution with increasing number of computational cycles. For Rahman et al.'s algorithm, we choose the ice XI structure as the initial configuration. For Buch's algorithm, the initial configuration is a completely random directed graph that does not satisfy the ice rules. Then, with each step, we observe how it approaches the distribution above."
      ]
    },
    {
      "cell_type": "code",
      "metadata": {
        "id": "hKolo_aI8cBs"
      },
      "source": [
        "# Taken from GenIce/_ringstat.py\n",
        "from genice2.formats._ringstat import probabilities, orientations, encode\n",
        "\n",
        "\n",
        "def KLdiv(d, pos):\n",
        "    graph = nx.Graph(d)  # undirected\n",
        "    prob = probabilities(6)\n",
        "    stat = defaultdict(int)\n",
        "\n",
        "    for ring in cycles_iter(graph, 6,  pos=pos):\n",
        "        ori = orientations(ring, d)\n",
        "        c   = encode(ori)\n",
        "        n   = len(ring)\n",
        "        stat[c] += 1\n",
        "\n",
        "    #size code code(binary) Approx. Stat.\n",
        "    denom = 0\n",
        "    for c in stat:\n",
        "        denom += stat[c]\n",
        "    dKL = 0.0\n",
        "    for c in prob:\n",
        "        q = stat[c]/denom\n",
        "        p = prob[c]\n",
        "        if q > 0.0:\n",
        "            dKL += q*(log(q) - log(p))\n",
        "    dKL /= log(2.0)  #bit\n",
        "    return dKL"
      ],
      "execution_count": null,
      "outputs": []
    },
    {
      "cell_type": "code",
      "metadata": {
        "id": "CY-lMzTF8cBs"
      },
      "source": [
        "# Rahman's\n",
        "\n",
        "lattice = Lattice(\"11\")\n",
        "formatter = Format(\"raw\", stage=(1,3,))\n",
        "\n",
        "N = 8\n",
        "raw = GenIce(lattice, rep=[N, N, N]).generate_ice(formatter)\n",
        "d = nx.DiGraph(raw['digraph'].edges())\n",
        "Nnode = d.number_of_nodes()\n",
        "rpos = raw['reppositions']\n",
        "\n",
        "# footprint\n",
        "g = nx.Graph(d)\n",
        "\n",
        "steps = 0\n",
        "watch = 1\n",
        "rahman_conv = []\n",
        "while g.number_of_edges() > 0:\n",
        "    steps += 1\n",
        "    if watch == steps:\n",
        "        # ring stat\n",
        "        dKL = KLdiv(d, rpos)\n",
        "        print(steps, dKL)\n",
        "        rahman_conv.append([steps, dKL])\n",
        "        # next watch interval\n",
        "        watch += 100  # watch\n",
        "\n",
        "    cycle = six(d, d.number_of_nodes())\n",
        "    invertCycle(d, cycle, g)\n",
        "\n",
        "dKL = KLdiv(d, rpos)\n",
        "print(steps, dKL)\n",
        "rahman_conv.append([steps, dKL])\n"
      ],
      "execution_count": null,
      "outputs": []
    },
    {
      "cell_type": "code",
      "metadata": {
        "id": "UW05AnwJ8cBs"
      },
      "source": [
        "# Buch's\n",
        "\n",
        "buch_conv = []\n",
        "\n",
        "def migrate2(d, excess):\n",
        "    \"\"\"\n",
        "    excess is a set of nodes having more than two outgoing edges\n",
        "    \"\"\"\n",
        "    steps = 0\n",
        "    watch = 1\n",
        "    while len(excess) > 0:\n",
        "        steps += 1\n",
        "        if watch <= steps:\n",
        "            # ring stat\n",
        "            dKL = KLdiv(d, rpos)\n",
        "            print(steps, dKL)\n",
        "            buch_conv.append([steps, dKL])\n",
        "            # next watch interval\n",
        "            watch += 1000  # watch / 2\n",
        "\n",
        "        head = random.choice(list(excess))\n",
        "        nexts = list(d.successors(head))\n",
        "        next = random.choice(nexts)\n",
        "        d.remove_edge(head, next)\n",
        "        d.add_edge(next, head)\n",
        "        # if head's outgoing order was three\n",
        "        if len(nexts) == 3:\n",
        "            # remove from the excess list\n",
        "            excess.remove(head)\n",
        "        # if next's outgoing orderis three\n",
        "        if d.out_degree(next) == 3:\n",
        "            # it becomes a new excess\n",
        "            excess.add(next)\n",
        "    dKL = KLdiv(d, rpos)\n",
        "    print(steps, dKL)\n",
        "    buch_conv.append([steps, dKL])\n",
        "\n",
        "\n",
        "lattice = Lattice(\"1h\")\n",
        "formatter = Format(\"raw\", stage=(1,2,))  # generates an undirected graph\n",
        "water = Molecule(\"spce\")\n",
        "\n",
        "\n",
        "N = 8\n",
        "raw = GenIce(lattice, rep=[N, N, N]).generate_ice(water, formatter)\n",
        "g = raw['graph']\n",
        "rpos = raw['reppositions']\n",
        "Nnode = g.number_of_nodes()\n",
        "\n",
        "dd = nx.DiGraph()\n",
        "for a, b in g.edges():\n",
        "    if random.randint(0, 1) == 1:\n",
        "        dd.add_edge(a, b)\n",
        "    else:\n",
        "        dd.add_edge(b, a)\n",
        "\n",
        "migrate2(dd, set([x for x in dd.nodes if dd.out_degree(x) > 2]))\n"
      ],
      "execution_count": null,
      "outputs": []
    },
    {
      "cell_type": "code",
      "metadata": {
        "id": "21RS0Gl88cBt"
      },
      "source": [
        "# GenIce's\n",
        "\n",
        "lattice = Lattice(\"1h\")\n",
        "formatter = Format(\"raw\", stage=(1,2,))  # generates an undirected graph\n",
        "water = Molecule(\"spce\")\n",
        "N=8\n",
        "raw = GenIce(lattice, rep=[N, N, N]).generate_ice(water, formatter)\n",
        "g = nx.Graph(raw['graph'])\n",
        "print(raw)\n",
        "rpos = raw['reppositions']\n",
        "\n",
        "d = nx.DiGraph()\n",
        "for cycle in tileByCycles(g):\n",
        "    nx.add_cycle(d, cycle)\n",
        "\n",
        "genice_dKL = KLdiv(d, rpos)\n",
        "print(genice_dKL)\n"
      ],
      "execution_count": null,
      "outputs": []
    },
    {
      "cell_type": "code",
      "metadata": {
        "id": "ThsQL_l18cBt"
      },
      "source": [
        "from matplotlib import pyplot as plt\n",
        "\n",
        "\n",
        "buch_conv = np.array(buch_conv)\n",
        "rahman_conv = np.array(rahman_conv)\n",
        "\n",
        "fig1, ax = plt.subplots()\n",
        "\n",
        "lin = np.linspace(1e2, 1e5, 100)\n",
        "plt.plot(rahman_conv[:, 0] / rahman_conv[-1, 0]*100, rahman_conv[:, 1], label=\"Rahman\")\n",
        "plt.plot(buch_conv[:, 0] / buch_conv[-1, 0]*100, buch_conv[:, 1], label=\"Buch\")\n",
        "plt.plot(100, genice_dKL, 'o', label=\"This work\")\n",
        "plt.yscale('log')\n",
        "plt.legend()\n",
        "plt.xlabel(\"Progress (%)\")\n",
        "plt.ylabel(r\"$d_\\mathrm{KL}$\")\n",
        "\n",
        "fig1.savefig(\"ringstat-log.pdf\")"
      ],
      "execution_count": null,
      "outputs": []
    },
    {
      "cell_type": "code",
      "metadata": {
        "id": "at0t2yvG32FK"
      },
      "source": [
        "!pip install pycodestyle flake8 pycodestyle_magic"
      ],
      "execution_count": null,
      "outputs": []
    },
    {
      "cell_type": "code",
      "metadata": {
        "id": "nL82ivXZBBUo"
      },
      "source": [
        "%load_ext pycodestyle_magic"
      ],
      "execution_count": null,
      "outputs": []
    },
    {
      "cell_type": "code",
      "metadata": {
        "id": "CH4HtfTGBGPg"
      },
      "source": [
        ""
      ],
      "execution_count": null,
      "outputs": []
    }
  ]
}