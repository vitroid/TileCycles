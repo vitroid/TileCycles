{
 "cells": [
  {
   "cell_type": "markdown",
   "metadata": {
    "colab_type": "text",
    "id": "view-in-github"
   },
   "source": [
    "<a href=\"https://colab.research.google.com/github/vitroid/TileCycles/blob/main/TileCycles.ipynb\" target=\"_parent\"><img src=\"https://colab.research.google.com/assets/colab-badge.svg\" alt=\"Open In Colab\"/></a>"
   ]
  },
  {
   "cell_type": "markdown",
   "metadata": {},
   "source": [
    "# Preparations to run it on Google Colaboratory"
   ]
  },
  {
   "cell_type": "code",
   "execution_count": 1,
   "metadata": {
    "colab": {
     "base_uri": "https://localhost:8080/"
    },
    "id": "Bo8eSXMuECsU",
    "outputId": "9d1c6a34-a664-4789-f49f-dbc9c6c9179e"
   },
   "outputs": [
    {
     "name": "stdout",
     "output_type": "stream",
     "text": [
      "Collecting genice2\n",
      "\u001b[?25l  Downloading https://files.pythonhosted.org/packages/ee/be/7f8733f2037c32031319bfee82e0e40ebb5c7eb7a9cca4695f2088021ced/GenIce2-2.1.tar.gz (695kB)\n",
      "\u001b[K     |████████████████████████████████| 696kB 6.9MB/s \n",
      "\u001b[?25hRequirement already satisfied: networkx>=2.0.dev20160901144005 in /usr/local/lib/python3.7/dist-packages (from genice2) (2.5.1)\n",
      "Collecting cycless\n",
      "  Downloading https://files.pythonhosted.org/packages/3f/21/cfd53149cc03cacfb9485e0d113091a8bf613526e5eb775b74732db3b7e4/cycless-0.1.4-py2.py3-none-any.whl\n",
      "Collecting pairlist>=0.2.11.1\n",
      "  Downloading https://files.pythonhosted.org/packages/5a/75/8edea732c97737fc59363026a2a6f23936b227e13612505120a135f1792d/PairList-0.2.11.1.tar.gz\n",
      "Collecting yaplotlib>=0.1\n",
      "  Downloading https://files.pythonhosted.org/packages/00/61/9939682d23a1384a2f0fd54e3e7c9d3397846bff203eff8f0716229fbc4f/yaplotlib-0.1.2-py2.py3-none-any.whl\n",
      "Requirement already satisfied: numpy in /usr/local/lib/python3.7/dist-packages (from genice2) (1.19.5)\n",
      "Requirement already satisfied: wheel in /usr/local/lib/python3.7/dist-packages (from genice2) (0.36.2)\n",
      "Collecting openpyscad\n",
      "  Downloading https://files.pythonhosted.org/packages/18/7a/ded2e0274762842e7fdffe62229cdaaa8102a35c793a44727b7900db159c/openpyscad-0.4.0-py3-none-any.whl\n",
      "Collecting graphstat\n",
      "  Downloading https://files.pythonhosted.org/packages/1b/d2/28744fa6f3fd0f06f3a43eb040592df196fa605bfd14631546673ef2096f/graphstat-0.2.1-py2.py3-none-any.whl\n",
      "Collecting tilecycles>=0.1.4.3\n",
      "  Downloading https://files.pythonhosted.org/packages/cd/bf/50741432c1cc4103be99fd2f7aa786bb504a4782beebe12543e6f190d28b/TileCycles-0.1.4.3.tar.gz\n",
      "Requirement already satisfied: decorator<5,>=4.3 in /usr/local/lib/python3.7/dist-packages (from networkx>=2.0.dev20160901144005->genice2) (4.4.2)\n",
      "Collecting methodtools\n",
      "  Downloading https://files.pythonhosted.org/packages/cf/08/b0557009f7b0e8038a7982fa13fd87ea94b8b8c32e6026eb3a0bbaa03ae8/methodtools-0.4.2.tar.gz\n",
      "Requirement already satisfied: six<2.0.0,>=1.14.0 in /usr/local/lib/python3.7/dist-packages (from openpyscad->genice2) (1.15.0)\n",
      "Collecting wirerope>=0.4.2\n",
      "  Downloading https://files.pythonhosted.org/packages/9d/dd/05bf03320c45e8831c3b88388a9457205939d5e9a802fc6f1252ea0c9a7f/wirerope-0.4.2.tar.gz\n",
      "Building wheels for collected packages: genice2, pairlist, tilecycles, methodtools, wirerope\n",
      "  Building wheel for genice2 (setup.py) ... \u001b[?25l\u001b[?25hdone\n",
      "  Created wheel for genice2: filename=GenIce2-2.1-py2.py3-none-any.whl size=838351 sha256=05a59bfa502a32ad59d304c4142aa5add9c33f03ed6671d1e49435a7af54a6ee\n",
      "  Stored in directory: /root/.cache/pip/wheels/25/09/2b/6cea2585ee839a02fb6df3c5857b429e48ca147bf07732e448\n",
      "  Building wheel for pairlist (setup.py) ... \u001b[?25l\u001b[?25hdone\n",
      "  Created wheel for pairlist: filename=PairList-0.2.11.1-cp37-cp37m-linux_x86_64.whl size=35275 sha256=c3af16beac949b914c8d0018d29af2285f34db2fe7d840e38947abf669552eac\n",
      "  Stored in directory: /root/.cache/pip/wheels/74/20/2f/64c940bb1f1046f7859faad73d7ea02597b5f224153795e2d1\n",
      "  Building wheel for tilecycles (setup.py) ... \u001b[?25l\u001b[?25hdone\n",
      "  Created wheel for tilecycles: filename=TileCycles-0.1.4.3-cp37-cp37m-linux_x86_64.whl size=96706 sha256=609f574700cee2a0135fac1f6dd4a01582203cbd395b526a83bce9583e5e6262\n",
      "  Stored in directory: /root/.cache/pip/wheels/a8/64/11/4f98b26dcb12140fce9086aebf70667585b32c3c8400c319fa\n",
      "  Building wheel for methodtools (setup.py) ... \u001b[?25l\u001b[?25hdone\n",
      "  Created wheel for methodtools: filename=methodtools-0.4.2-cp37-none-any.whl size=2986 sha256=119fab1d44b0b312407a7ce21123ff1ab33737e6f96f03eb40cf4bf72d6a042e\n",
      "  Stored in directory: /root/.cache/pip/wheels/94/6a/63/a364e72d0abc8869f68b3fd19d701b428b9a0d2579d06f78ae\n",
      "  Building wheel for wirerope (setup.py) ... \u001b[?25l\u001b[?25hdone\n",
      "  Created wheel for wirerope: filename=wirerope-0.4.2-cp37-none-any.whl size=8749 sha256=d274acfe797006d88efc794d492640df424a646a15ce006e60047a42eba808ea\n",
      "  Stored in directory: /root/.cache/pip/wheels/0f/96/85/60a4f8d39c55f2f54dc322249a1ba526aae558a007b224e053\n",
      "Successfully built genice2 pairlist tilecycles methodtools wirerope\n",
      "Installing collected packages: wirerope, methodtools, cycless, pairlist, yaplotlib, openpyscad, graphstat, tilecycles, genice2\n",
      "Successfully installed cycless-0.1.4 genice2-2.1 graphstat-0.2.1 methodtools-0.4.2 openpyscad-0.4.0 pairlist-0.2.11.1 tilecycles-0.1.4.3 wirerope-0.4.2 yaplotlib-0.1.2\n"
     ]
    }
   ],
   "source": [
    "# install genice to generate the structure of ice.\n",
    "! pip install genice2"
   ]
  },
  {
   "cell_type": "markdown",
   "metadata": {
    "id": "EXCoWxdvXGTZ"
   },
   "source": [
    "# Benchmark tests"
   ]
  },
  {
   "cell_type": "code",
   "execution_count": 2,
   "metadata": {
    "id": "5OZQGRPxW0DE"
   },
   "outputs": [],
   "source": [
    "from genice2.genice import GenIce\n",
    "from genice2.plugin import Lattice, Format, Molecule\n",
    "\n",
    "import networkx as nx\n",
    "import numpy as np\n",
    "import random\n",
    "import time\n",
    "\n",
    "\n",
    "# sampling parameters for benchmarking\n",
    "# Accurate\n",
    "maxRepeat = 100  # loops\n",
    "maxAccum  = 25   # sec\n",
    "maxProc   = 100  # sec\n",
    "maxNode   = 1000000\n",
    "\n",
    "# Rough estimate\n",
    "maxRepeat = 10  # loops\n",
    "maxAccum  = 5   # sec\n",
    "maxProc   = 10  # sec\n",
    "maxNode   = 100000\n",
    "\n",
    "# test for perfect ices\n",
    "def test_icerule(d, N):\n",
    "    assert d.number_of_nodes() == N\n",
    "    for node in d:\n",
    "        assert d.in_degree(node) == 2\n",
    "        assert d.in_degree(node) == 2   "
   ]
  },
  {
   "cell_type": "markdown",
   "metadata": {
    "id": "pEvBXxOJY8h6"
   },
   "source": [
    "## Buch's algorithm\n",
    "\n",
    "There are two hydrogen sites between two neighboring oxygens, and Buch's algorithm assumes that the initial configuration is one in which all the hydrogens randomly occupy one of the two sites.\n",
    "\n",
    "In the initial configuration, there are many oxygen atoms with excess hydrogen. The algorithm migrates hydrogen from such an oxygen atom to a neighboring oxygen atom, and repeats the process randomly until there are two hydrogen species in every oxygen atom.\n"
   ]
  },
  {
   "cell_type": "code",
   "execution_count": 3,
   "metadata": {
    "id": "pLfPxUgM8cBp"
   },
   "outputs": [
    {
     "name": "stdout",
     "output_type": "stream",
     "text": [
      "64 molecules 0.0014697551727294923 s avg. 10 reps.\n",
      "216 molecules 0.004504656791687012 s avg. 10 reps.\n",
      "512 molecules 0.009522747993469239 s avg. 10 reps.\n",
      "1000 molecules 0.025644683837890626 s avg. 10 reps.\n",
      "1728 molecules 0.05015168190002441 s avg. 10 reps.\n",
      "2744 molecules 0.09642622470855713 s avg. 10 reps.\n"
     ]
    },
    {
     "ename": "KeyboardInterrupt",
     "evalue": "",
     "output_type": "error",
     "traceback": [
      "\u001b[0;31m---------------------------------------------------------------------------\u001b[0m",
      "\u001b[0;31mKeyboardInterrupt\u001b[0m                         Traceback (most recent call last)",
      "\u001b[0;32m<ipython-input-3-4acc30cd3d6a>\u001b[0m in \u001b[0;36m<module>\u001b[0;34m\u001b[0m\n\u001b[1;32m     27\u001b[0m \u001b[0;34m\u001b[0m\u001b[0m\n\u001b[1;32m     28\u001b[0m         \u001b[0mnow\u001b[0m \u001b[0;34m=\u001b[0m \u001b[0mtime\u001b[0m\u001b[0;34m.\u001b[0m\u001b[0mtime\u001b[0m\u001b[0;34m(\u001b[0m\u001b[0;34m)\u001b[0m\u001b[0;34m\u001b[0m\u001b[0;34m\u001b[0m\u001b[0m\n\u001b[0;32m---> 29\u001b[0;31m         \u001b[0mBuch\u001b[0m\u001b[0;34m.\u001b[0m\u001b[0mmigrate\u001b[0m\u001b[0;34m(\u001b[0m\u001b[0mdd\u001b[0m\u001b[0;34m,\u001b[0m \u001b[0mset\u001b[0m\u001b[0;34m(\u001b[0m\u001b[0;34m[\u001b[0m\u001b[0mx\u001b[0m \u001b[0;32mfor\u001b[0m \u001b[0mx\u001b[0m \u001b[0;32min\u001b[0m \u001b[0mdd\u001b[0m\u001b[0;34m.\u001b[0m\u001b[0mnodes\u001b[0m \u001b[0;32mif\u001b[0m \u001b[0mdd\u001b[0m\u001b[0;34m.\u001b[0m\u001b[0mout_degree\u001b[0m\u001b[0;34m(\u001b[0m\u001b[0mx\u001b[0m\u001b[0;34m)\u001b[0m \u001b[0;34m>\u001b[0m \u001b[0;36m2\u001b[0m\u001b[0;34m]\u001b[0m\u001b[0;34m)\u001b[0m\u001b[0;34m)\u001b[0m\u001b[0;34m\u001b[0m\u001b[0;34m\u001b[0m\u001b[0m\n\u001b[0m\u001b[1;32m     30\u001b[0m         \u001b[0mdelta\u001b[0m \u001b[0;34m+=\u001b[0m \u001b[0mtime\u001b[0m\u001b[0;34m.\u001b[0m\u001b[0mtime\u001b[0m\u001b[0;34m(\u001b[0m\u001b[0;34m)\u001b[0m \u001b[0;34m-\u001b[0m \u001b[0mnow\u001b[0m\u001b[0;34m\u001b[0m\u001b[0;34m\u001b[0m\u001b[0m\n\u001b[1;32m     31\u001b[0m         \u001b[0mNrep\u001b[0m \u001b[0;34m+=\u001b[0m \u001b[0;36m1\u001b[0m\u001b[0;34m\u001b[0m\u001b[0;34m\u001b[0m\u001b[0m\n",
      "\u001b[0;32m~/Dropbox/gitbox/TileCycles/tilecycles/Buch.py\u001b[0m in \u001b[0;36mmigrate\u001b[0;34m(d, excess)\u001b[0m\n\u001b[1;32m      9\u001b[0m         \u001b[0;31m# random choice from candidates;\u001b[0m\u001b[0;34m\u001b[0m\u001b[0;34m\u001b[0m\u001b[0;34m\u001b[0m\u001b[0m\n\u001b[1;32m     10\u001b[0m         \u001b[0;31m# there may be faster ways\u001b[0m\u001b[0;34m\u001b[0m\u001b[0;34m\u001b[0m\u001b[0;34m\u001b[0m\u001b[0m\n\u001b[0;32m---> 11\u001b[0;31m         \u001b[0mhead\u001b[0m \u001b[0;34m=\u001b[0m \u001b[0mrandom\u001b[0m\u001b[0;34m.\u001b[0m\u001b[0mchoice\u001b[0m\u001b[0;34m(\u001b[0m\u001b[0mlist\u001b[0m\u001b[0;34m(\u001b[0m\u001b[0mexcess\u001b[0m\u001b[0;34m)\u001b[0m\u001b[0;34m)\u001b[0m\u001b[0;34m\u001b[0m\u001b[0;34m\u001b[0m\u001b[0m\n\u001b[0m\u001b[1;32m     12\u001b[0m         \u001b[0mnexts\u001b[0m \u001b[0;34m=\u001b[0m \u001b[0mlist\u001b[0m\u001b[0;34m(\u001b[0m\u001b[0md\u001b[0m\u001b[0;34m.\u001b[0m\u001b[0msuccessors\u001b[0m\u001b[0;34m(\u001b[0m\u001b[0mhead\u001b[0m\u001b[0;34m)\u001b[0m\u001b[0;34m)\u001b[0m\u001b[0;34m\u001b[0m\u001b[0;34m\u001b[0m\u001b[0m\n\u001b[1;32m     13\u001b[0m         \u001b[0mnext\u001b[0m \u001b[0;34m=\u001b[0m \u001b[0mrandom\u001b[0m\u001b[0;34m.\u001b[0m\u001b[0mchoice\u001b[0m\u001b[0;34m(\u001b[0m\u001b[0mnexts\u001b[0m\u001b[0;34m)\u001b[0m\u001b[0;34m\u001b[0m\u001b[0;34m\u001b[0m\u001b[0m\n",
      "\u001b[0;31mKeyboardInterrupt\u001b[0m: "
     ]
    }
   ],
   "source": [
    "import tilecycles.Buch as Buch\n",
    "\n",
    "\n",
    "lattice = Lattice(\"1c\")\n",
    "formatter = Format(\"raw\", stage=(2,))  # generates an undirected graph\n",
    "\n",
    "time_buch_icerule = []\n",
    "lastN = 0\n",
    "for NN in range(8, 100):\n",
    "    N = int(1.4**(NN/3))\n",
    "    if N == lastN:\n",
    "        continue\n",
    "    lastN = N\n",
    "    raw = GenIce(lattice, rep=[N, N, N]).generate_ice(formatter)\n",
    "    g = raw['graph']\n",
    "    Nnode = g.number_of_nodes()\n",
    "\n",
    "    delta = 0.0\n",
    "    Nrep = 0\n",
    "    while delta < maxAccum and Nrep < maxRepeat:\n",
    "        dd = nx.DiGraph()\n",
    "        for a, b in g.edges():\n",
    "            if random.randint(0, 1) == 1:\n",
    "                dd.add_edge(a, b)\n",
    "            else:\n",
    "                dd.add_edge(b, a)\n",
    "\n",
    "        now = time.time()\n",
    "        Buch.migrate(dd, set([x for x in dd.nodes if dd.out_degree(x) > 2]))\n",
    "        delta += time.time() - now\n",
    "        Nrep += 1\n",
    "    delta /= Nrep\n",
    "    time_buch_icerule.append([Nnode, delta, Nrep])\n",
    "    print(f\"{Nnode} molecules {delta} s avg. {Nrep} reps.\")\n",
    "    test_icerule(dd, Nnode)\n",
    "    if delta > maxProc:\n",
    "        break\n",
    "    if Nnode > maxNode:\n",
    "        break"
   ]
  },
  {
   "cell_type": "markdown",
   "metadata": {
    "id": "ca3K1ckFY8h8"
   },
   "source": [
    "## GenIce algorithm\n",
    "\n",
    "The code to measure the processing time including the depolarization is in the next Section."
   ]
  },
  {
   "cell_type": "markdown",
   "metadata": {
    "id": "5MAt2xo6Y8h9"
   },
   "source": [
    "## Rahman's algorithm\n",
    "\n",
    "The algorithm prepares a depolarized structure in advance and generates a hydrogen-disordered structure by successively reversing randomly chosen homodromic cycles.\n",
    "\n",
    "Here, the ice Ic structure generated by GenIce is used as an initial structure, and the procedure is repeated until all the edges are inverted at least once."
   ]
  },
  {
   "cell_type": "code",
   "execution_count": 4,
   "metadata": {
    "id": "Fui8sDpJ8cBr"
   },
   "outputs": [
    {
     "name": "stdout",
     "output_type": "stream",
     "text": [
      "8 molecules 0.0009952306747436524 s avg. 10 reps.\n",
      "64 molecules 0.008002543449401855 s avg. 10 reps.\n",
      "216 molecules 0.034788894653320315 s avg. 10 reps.\n",
      "512 molecules 0.13414008617401124 s avg. 10 reps.\n"
     ]
    },
    {
     "ename": "KeyboardInterrupt",
     "evalue": "",
     "output_type": "error",
     "traceback": [
      "\u001b[0;31m---------------------------------------------------------------------------\u001b[0m",
      "\u001b[0;31mKeyboardInterrupt\u001b[0m                         Traceback (most recent call last)",
      "\u001b[0;32m<ipython-input-4-ee5829d526da>\u001b[0m in \u001b[0;36m<module>\u001b[0;34m\u001b[0m\n\u001b[1;32m     18\u001b[0m         \u001b[0mnow\u001b[0m \u001b[0;34m=\u001b[0m \u001b[0mtime\u001b[0m\u001b[0;34m.\u001b[0m\u001b[0mtime\u001b[0m\u001b[0;34m(\u001b[0m\u001b[0;34m)\u001b[0m\u001b[0;34m\u001b[0m\u001b[0;34m\u001b[0m\u001b[0m\n\u001b[1;32m     19\u001b[0m         \u001b[0;32mwhile\u001b[0m \u001b[0mg\u001b[0m\u001b[0;34m.\u001b[0m\u001b[0mnumber_of_edges\u001b[0m\u001b[0;34m(\u001b[0m\u001b[0;34m)\u001b[0m \u001b[0;34m>\u001b[0m \u001b[0;36m0\u001b[0m\u001b[0;34m:\u001b[0m\u001b[0;34m\u001b[0m\u001b[0;34m\u001b[0m\u001b[0m\n\u001b[0;32m---> 20\u001b[0;31m             \u001b[0mcycle\u001b[0m \u001b[0;34m=\u001b[0m \u001b[0mRahman\u001b[0m\u001b[0;34m.\u001b[0m\u001b[0msix\u001b[0m\u001b[0;34m(\u001b[0m\u001b[0md\u001b[0m\u001b[0;34m,\u001b[0m \u001b[0md\u001b[0m\u001b[0;34m.\u001b[0m\u001b[0mnumber_of_nodes\u001b[0m\u001b[0;34m(\u001b[0m\u001b[0;34m)\u001b[0m\u001b[0;34m)\u001b[0m\u001b[0;34m\u001b[0m\u001b[0;34m\u001b[0m\u001b[0m\n\u001b[0m\u001b[1;32m     21\u001b[0m             \u001b[0mRahman\u001b[0m\u001b[0;34m.\u001b[0m\u001b[0minvertCycle\u001b[0m\u001b[0;34m(\u001b[0m\u001b[0md\u001b[0m\u001b[0;34m,\u001b[0m \u001b[0mcycle\u001b[0m\u001b[0;34m,\u001b[0m \u001b[0mg\u001b[0m\u001b[0;34m)\u001b[0m\u001b[0;34m\u001b[0m\u001b[0;34m\u001b[0m\u001b[0m\n\u001b[1;32m     22\u001b[0m         \u001b[0mdelta\u001b[0m \u001b[0;34m+=\u001b[0m \u001b[0mtime\u001b[0m\u001b[0;34m.\u001b[0m\u001b[0mtime\u001b[0m\u001b[0;34m(\u001b[0m\u001b[0;34m)\u001b[0m \u001b[0;34m-\u001b[0m \u001b[0mnow\u001b[0m\u001b[0;34m\u001b[0m\u001b[0;34m\u001b[0m\u001b[0m\n",
      "\u001b[0;32m~/Dropbox/gitbox/TileCycles/tilecycles/Rahman.py\u001b[0m in \u001b[0;36msix\u001b[0;34m(d, Nnode, MaxSize)\u001b[0m\n\u001b[1;32m     10\u001b[0m     \u001b[0mpath\u001b[0m \u001b[0;34m=\u001b[0m \u001b[0;34m[\u001b[0m\u001b[0mhead\u001b[0m\u001b[0;34m]\u001b[0m\u001b[0;34m\u001b[0m\u001b[0;34m\u001b[0m\u001b[0m\n\u001b[1;32m     11\u001b[0m     \u001b[0;32mwhile\u001b[0m \u001b[0;32mTrue\u001b[0m\u001b[0;34m:\u001b[0m\u001b[0;34m\u001b[0m\u001b[0;34m\u001b[0m\u001b[0m\n\u001b[0;32m---> 12\u001b[0;31m         \u001b[0mnexts\u001b[0m \u001b[0;34m=\u001b[0m \u001b[0mlist\u001b[0m\u001b[0;34m(\u001b[0m\u001b[0md\u001b[0m\u001b[0;34m.\u001b[0m\u001b[0mneighbors\u001b[0m\u001b[0;34m(\u001b[0m\u001b[0mhead\u001b[0m\u001b[0;34m)\u001b[0m\u001b[0;34m)\u001b[0m\u001b[0;34m\u001b[0m\u001b[0;34m\u001b[0m\u001b[0m\n\u001b[0m\u001b[1;32m     13\u001b[0m         \u001b[0mnext\u001b[0m \u001b[0;34m=\u001b[0m \u001b[0mrandom\u001b[0m\u001b[0;34m.\u001b[0m\u001b[0mchoice\u001b[0m\u001b[0;34m(\u001b[0m\u001b[0mnexts\u001b[0m\u001b[0;34m)\u001b[0m\u001b[0;34m\u001b[0m\u001b[0;34m\u001b[0m\u001b[0m\n\u001b[1;32m     14\u001b[0m         \u001b[0;32mif\u001b[0m \u001b[0mnext\u001b[0m \u001b[0;32min\u001b[0m \u001b[0mpath\u001b[0m\u001b[0;34m:\u001b[0m\u001b[0;34m\u001b[0m\u001b[0;34m\u001b[0m\u001b[0m\n",
      "\u001b[0;31mKeyboardInterrupt\u001b[0m: "
     ]
    }
   ],
   "source": [
    "import tilecycles.Rahman as Rahman\n",
    "\n",
    "lattice = Lattice(\"1c\")\n",
    "formatter = Format(\"raw\", stage=(3,))  # We need the directed graph of ice!\n",
    "\n",
    "time_rahman_icerule = []\n",
    "for N in range(1, 20):\n",
    "    raw = GenIce(lattice, rep=[N, N, N]).generate_ice(formatter)\n",
    "    d = nx.DiGraph(raw['digraph'].edges())\n",
    "    Nnode = d.number_of_nodes()\n",
    "\n",
    "    delta = 0.0\n",
    "    Nrep = 0\n",
    "    while delta < maxAccum and Nrep < maxRepeat:\n",
    "        # footprint\n",
    "        g = nx.Graph(d)\n",
    "\n",
    "        now = time.time()\n",
    "        while g.number_of_edges() > 0:\n",
    "            cycle = Rahman.six(d, d.number_of_nodes())\n",
    "            Rahman.invertCycle(d, cycle, g)\n",
    "        delta += time.time() - now\n",
    "        Nrep += 1\n",
    "    delta /= Nrep\n",
    "    time_rahman_icerule.append([Nnode, delta, Nrep])\n",
    "    print(f\"{Nnode} molecules {delta} s avg. {Nrep} reps.\")\n",
    "    test_icerule(d, Nnode)\n",
    "    if delta > maxProc:\n",
    "        break"
   ]
  },
  {
   "cell_type": "markdown",
   "metadata": {},
   "source": [
    "# TOC Graphics"
   ]
  },
  {
   "cell_type": "code",
   "execution_count": 5,
   "metadata": {
    "id": "ReSCKrZYZ4ND"
   },
   "outputs": [
    {
     "name": "stdout",
     "output_type": "stream",
     "text": [
      "128\n"
     ]
    },
    {
     "data": {
      "image/png": "[encoded data removed]",
      "text/plain": [
       "<Figure size 432x288 with 1 Axes>"
      ]
     },
     "metadata": {
      "needs_background": "light"
     },
     "output_type": "display_data"
    }
   ],
   "source": [
    "# for TOC graphics\n",
    "\n",
    "from matplotlib import pyplot as plt\n",
    "import tilecycles as tc\n",
    "\n",
    "# make a 2D 6x6 ice.\n",
    "def draw_cycle(cycle, pos, N, col):\n",
    "    threshold = 1.1/N**2\n",
    "    cm = plt.get_cmap('rainbow')\n",
    "    for i in range(len(cycle)):\n",
    "        a = cycle[i-1]\n",
    "        b = cycle[i]\n",
    "        va = pos[a]\n",
    "        vb = pos[b]\n",
    "        d = vb - va\n",
    "        if d@d > threshold:\n",
    "            d -= np.floor(d+0.5)\n",
    "            seg = np.vstack([vb-d, vb])\n",
    "            plt.plot(seg[:, 0], seg[:, 1], color=cm(col))\n",
    "        seg = np.vstack([va, va+d])\n",
    "        plt.plot(seg[:, 0], seg[:, 1], color=cm(col))\n",
    "\n",
    "\n",
    "N = 8\n",
    "X = np.arange(N)\n",
    "Y = np.arange(N)\n",
    "X, Y = np.meshgrid(X, Y)\n",
    "X = X.reshape(N * N)\n",
    "Y = Y.reshape(N * N)\n",
    "pos = np.vstack([X, Y]).T / N  # fractional coordinate\n",
    "g = nx.Graph()\n",
    "for a in range(N*N):\n",
    "    for b in range(a):\n",
    "        d = pos[a] - pos[b]\n",
    "        d -= np.floor(d+0.5)\n",
    "        if (d@d)*N*N < 1.1:\n",
    "            g.add_edge(a, b)\n",
    "\n",
    "print(g.number_of_edges())\n",
    "\n",
    "\n",
    "fig1, ax = plt.subplots()\n",
    "\n",
    "cycles = []\n",
    "dd = nx.DiGraph()\n",
    "for cycle in tc.tileByCycles(g):\n",
    "    cycles.append(cycle)\n",
    "\n",
    "for i, cycle in enumerate(cycles):\n",
    "    draw_cycle(cycle, pos, N, i/len(cycles))\n",
    "\n",
    "ax.set_aspect('equal', adjustable='box')\n",
    "plt.show()\n",
    "# fig1.savefig(\"map.pdf\", bbox='tight')"
   ]
  },
  {
   "cell_type": "markdown",
   "metadata": {},
   "source": [
    "# Comparison with C++ code"
   ]
  },
  {
   "cell_type": "code",
   "execution_count": null,
   "metadata": {
    "id": "MXKWtxSb_eI-"
   },
   "outputs": [],
   "source": [
    "!pip install tilecycles"
   ]
  },
  {
   "cell_type": "code",
   "execution_count": null,
   "metadata": {
    "colab": {
     "base_uri": "https://localhost:8080/"
    },
    "id": "fHJIT5e8Di3C",
    "outputId": "6730229a-8e36-403b-f378-212861d8d2f2"
   },
   "outputs": [
    {
     "name": "stdout",
     "output_type": "stream",
     "text": [
      "64 molecules 0.0084136962890625 s avg. 10 reps.\n",
      "216 molecules 0.0004415273666381836 s avg. 10 reps.\n",
      "512 molecules 0.0009991884231567382 s avg. 10 reps.\n",
      "1000 molecules 0.0019438028335571288 s avg. 10 reps.\n",
      "1728 molecules 0.003788447380065918 s avg. 10 reps.\n",
      "4096 molecules 0.00989081859588623 s avg. 10 reps.\n",
      "8000 molecules 0.024692177772521973 s avg. 10 reps.\n",
      "13824 molecules 0.04694764614105225 s avg. 10 reps.\n",
      "32768 molecules 0.12904930114746094 s avg. 10 reps.\n",
      "64000 molecules 0.2868978261947632 s avg. 10 reps.\n",
      "125000 molecules 0.642167717218399 s avg. 8 reps.\n"
     ]
    }
   ],
   "source": [
    "# C++ implementation\n",
    "\n",
    "import tilecycles_c as ctc\n",
    "import numpy as np\n",
    "\n",
    "lattice = Lattice(\"1c\")\n",
    "formatter = Format(\"raw\", stage=(2,))  # generates an undirected graph\n",
    "\n",
    "seed = 1111\n",
    "\n",
    "cpp = []\n",
    "for NN in range(4, 100):\n",
    "    N = int(2**(NN/3))\n",
    "    raw = GenIce(lattice, rep=[N, N, N]).generate_ice(formatter)\n",
    "    g0 = raw['graph']\n",
    "    Nnode = g0.number_of_nodes()\n",
    "\n",
    "    pairs = np.array([(i, j) for i, j in g0.edges()], dtype=np.int32)\n",
    "\n",
    "    delta = 0.0\n",
    "    Nrep = 0\n",
    "    while delta < maxAccum and Nrep < maxRepeat:\n",
    "        now = time.time()\n",
    "        dd = nx.DiGraph()\n",
    "        for cycle in ctc.tile(pairs, Nnode, seed):\n",
    "            nx.add_cycle(dd, cycle)\n",
    "        delta += time.time() - now\n",
    "        Nrep += 1\n",
    "    delta /= Nrep\n",
    "    cpp.append([Nnode, delta, Nrep])\n",
    "    print(f\"{Nnode} molecules {delta} s avg. {Nrep} reps.\")\n",
    "    test_icerule(dd, Nnode)\n",
    "    if Nnode >= maxNode:\n",
    "        break"
   ]
  },
  {
   "cell_type": "markdown",
   "metadata": {
    "id": "1yLRJPgB8cBs"
   },
   "source": [
    "The C++ implementation is not quite fast because the data conversion between python always take a linear time against the system size."
   ]
  },
  {
   "cell_type": "code",
   "execution_count": null,
   "metadata": {
    "colab": {
     "base_uri": "https://localhost:8080/"
    },
    "id": "9fsJgRZ932FK",
    "outputId": "779b22e0-f576-48f2-d291-b83d603aa45f"
   },
   "outputs": [
    {
     "data": {
      "image/png": "[encoded data removed]",
      "text/plain": [
       "<Figure size 432x288 with 1 Axes>"
      ]
     },
     "metadata": {
      "needs_background": "light",
      "tags": []
     },
     "output_type": "display_data"
    }
   ],
   "source": [
    "from matplotlib import pyplot as plt\n",
    "\n",
    "\n",
    "gen = np.array(gen)\n",
    "cpp = np.array(cpp)\n",
    "\n",
    "\n",
    "fig1, ax = plt.subplots()\n",
    "\n",
    "lin = np.linspace(1e2, 1e5, 100)\n",
    "plt.loglog(gen[:, 0], gen[:, 1], label=\"Python\")\n",
    "plt.loglog(cpp[:, 0], cpp[:, 1], label=\"C++\")\n",
    "\n",
    "plt.loglog(lin, lin*1e-5, label=r\"y=A x\")\n",
    "plt.legend()\n",
    "plt.xlabel(\"Number of molecules\")\n",
    "plt.ylabel(\"Time / s\")\n",
    "\n",
    "fig1.savefig(\"benchmark-cp-loglog.pdf\")\n",
    "\n",
    "# C++ is four times faster than python,\n",
    "# but Python is fast enough..."
   ]
  },
  {
   "cell_type": "markdown",
   "metadata": {
    "id": "f7Dkgeeh9RYA"
   },
   "source": [
    "# With depolarization\n",
    "\n",
    "\n"
   ]
  },
  {
   "cell_type": "markdown",
   "metadata": {
    "id": "8mGvXGXX9iHW"
   },
   "source": [
    "## Buch's algorithm\n",
    "\n",
    "We implement the efficient algorithm to depolarize the HB network of ice which was developed for GenIce."
   ]
  },
  {
   "cell_type": "code",
   "execution_count": 6,
   "metadata": {
    "colab": {
     "base_uri": "https://localhost:8080/"
    },
    "id": "HTwbpHCh9Qu4",
    "outputId": "aa1e0368-c550-4b1d-b67b-af3e0f0b8449"
   },
   "outputs": [
    {
     "name": "stdout",
     "output_type": "stream",
     "text": [
      "[0. 0. 0.]\n",
      "[0. 0. 0.]\n",
      "[0. 0. 0.]\n",
      "[0. 0. 0.]\n",
      "[0. 0. 0.]\n",
      "[0. 0. 0.]\n",
      "[0. 0. 0.]\n",
      "[0. 0. 0.]\n",
      "[0. 0. 0.]\n",
      "[0. 0. 0.]\n",
      "0.1745654821395874\n",
      "0.15979175567626952\n"
     ]
    }
   ],
   "source": [
    "import tilecycles.Buch as Buch\n",
    "import tilecycles.Dipole as dp\n",
    "\n",
    "lattice = Lattice(\"1c\")\n",
    "formatter = Format(\"raw\", stage=(1,2,))  # generates an undirected graph\n",
    "\n",
    "N=8\n",
    "raw = GenIce(lattice, rep=[N, N, N]).generate_ice(formatter)\n",
    "g = raw['graph']\n",
    "Nnode = g.number_of_nodes()\n",
    "\n",
    "Nrep = 10\n",
    "time_buch_icerule = []\n",
    "time_buch_depol = []\n",
    "\n",
    "for loop in range(Nrep):\n",
    "    dd = nx.DiGraph()\n",
    "    for a, b in g.edges():\n",
    "        if random.randint(0, 1) == 1:\n",
    "            dd.add_edge(a, b)\n",
    "        else:\n",
    "            dd.add_edge(b, a)\n",
    "\n",
    "    now = time.time()\n",
    "    Buch.migrate(dd, set([x for x in dd.nodes if dd.out_degree(x) > 2]))\n",
    "    delta = time.time() - now\n",
    "    time_buch_icerule.append(delta)\n",
    "    \n",
    "    test_icerule(dd, Nnode)\n",
    "\n",
    "    rpos = raw['reppositions']\n",
    "    cell = raw['repcell']\n",
    "\n",
    "    dipoles = dict()\n",
    "    # make relative vectors\n",
    "    for a, b in dd.edges():\n",
    "        dr = rpos[b] - rpos[a]\n",
    "        dr -= np.floor(dr+0.5)\n",
    "        dipoles[a, b] = dr\n",
    "\n",
    "    now = time.time()\n",
    "    dp.force_depolarize(dd, rpos, cell, dipoles)\n",
    "    delta = time.time() - now\n",
    "    time_buch_depol.append(delta)\n",
    "\n",
    "    net = dp.net_polarization(dipoles)\n",
    "    print(net)\n",
    "\n",
    "print(np.mean(time_buch_icerule))\n",
    "print(np.mean(time_buch_depol))"
   ]
  },
  {
   "cell_type": "markdown",
   "metadata": {
    "id": "TcI8MkSEOXDv"
   },
   "source": [
    "## Rahman's algorithm\n",
    "\n",
    "In Rahman's algorithm, the initial structure should be already depolarized. To avoid additional polarizations, a traversing cycle must be excluded in the process of shuffling the network, and that costs additionally."
   ]
  },
  {
   "cell_type": "code",
   "execution_count": 7,
   "metadata": {
    "id": "bcGE9pO6OWP5"
   },
   "outputs": [
    {
     "name": "stdout",
     "output_type": "stream",
     "text": [
      "4.366569995880127\n",
      "4.8850109577178955\n",
      "6.503124952316284\n",
      "7.61551308631897\n",
      "4.625790476799011\n",
      "7.059319019317627\n"
     ]
    }
   ],
   "source": [
    "import tilecycles.Rahman as Rahman\n",
    "\n",
    "\n",
    "lattice = Lattice(\"1c\")\n",
    "formatter = Format(\"raw\", stage=(3,))  # We need the directed graph of ice!\n",
    "\n",
    "N = 8\n",
    "raw = GenIce(lattice, rep=[N, N, N]).generate_ice(formatter)\n",
    "d = nx.DiGraph(raw['digraph'].edges())\n",
    "Nnode = d.number_of_nodes()\n",
    "\n",
    "Nrep = 2\n",
    "\n",
    "time_rahman_withdepol = []\n",
    "for loop in range(Nrep):\n",
    "    # footprint\n",
    "    g = nx.Graph(d)\n",
    "\n",
    "    now = time.time()\n",
    "    while g.number_of_edges() > 0:\n",
    "        cycle = Rahman.six(d, d.number_of_nodes())\n",
    "        Rahman.invertCycle(d, cycle, g)\n",
    "    delta = time.time() - now\n",
    "    print(delta)\n",
    "    time_rahman_withdepol.append(delta)\n",
    "    test_icerule(d, Nnode)\n",
    "\n",
    "time_rahman_icerule = []\n",
    "for loop in range(Nrep):\n",
    "    # footprint\n",
    "    g = nx.Graph(d)\n",
    "\n",
    "    # Shortest size of the traversing cycle\n",
    "    Ntra = N*4\n",
    "\n",
    "    now = time.time()\n",
    "    while g.number_of_edges() > 0:\n",
    "        cycle = Rahman.six(d, d.number_of_nodes(), Ntra)\n",
    "        Rahman.invertCycle(d, cycle, g)\n",
    "    delta = time.time() - now\n",
    "    print(delta)\n",
    "    time_rahman_icerule.append(delta)\n",
    "\n",
    "    test_icerule(d, Nnode)\n",
    "\n",
    "print(np.mean(time_rahman_withdepol))\n",
    "print(np.mean(time_rahman_icerule))"
   ]
  },
  {
   "cell_type": "markdown",
   "metadata": {
    "id": "wjX2bGYmRdZG"
   },
   "source": [
    "## GenIce algorithm"
   ]
  },
  {
   "cell_type": "code",
   "execution_count": 8,
   "metadata": {
    "colab": {
     "base_uri": "https://localhost:8080/"
    },
    "id": "b3g5V0vxGFfW",
    "outputId": "9a18feff-e1ca-47ac-e3bb-f960d94c53a4"
   },
   "outputs": [
    {
     "name": "stdout",
     "output_type": "stream",
     "text": [
      "give up depolarizing completely.\n",
      "Original GenIce algorithm.\n",
      "give up depolarizing completely.\n",
      "Original GenIce algorithm.\n",
      "give up depolarizing completely.\n",
      "Original GenIce algorithm.\n",
      "64 molecules 0.00048279762268066406 s avg. 10 reps.\n",
      "give up depolarizing completely.\n",
      "Original GenIce algorithm.\n",
      "give up depolarizing completely.\n",
      "Original GenIce algorithm.\n",
      "216 molecules 0.0008649826049804688 s avg. 10 reps.\n",
      "512 molecules 0.002050161361694336 s avg. 10 reps.\n",
      "1000 molecules 0.0034339427947998047 s avg. 10 reps.\n",
      "1728 molecules 0.005852937698364258 s avg. 10 reps.\n",
      "4096 molecules 0.012814760208129883 s avg. 10 reps.\n",
      "8000 molecules 0.03013896942138672 s avg. 10 reps.\n",
      "13824 molecules 0.04606199264526367 s avg. 10 reps.\n",
      "32768 molecules 0.11138033866882324 s avg. 10 reps.\n",
      "64000 molecules 0.23987507820129395 s avg. 6 reps.\n",
      "125000 molecules 0.49775099754333496 s avg. 3 reps.\n"
     ]
    }
   ],
   "source": [
    "import tilecycles.Dipole as dp\n",
    "import tilecycles as tc\n",
    "\n",
    "lattice = Lattice(\"1c\")\n",
    "formatter = Format(\"raw\", stage=(1,2,))  # generates an undirected graph\n",
    "\n",
    "time_genice_icerule = []\n",
    "time_genice_depol = []\n",
    "for NN in range(4, 100):\n",
    "    N = int(2**(NN/3))\n",
    "    raw = GenIce(lattice, rep=[N, N, N]).generate_ice(formatter)\n",
    "    g0 = raw['graph']\n",
    "    rpos = raw['reppositions']\n",
    "    cell = raw['repcell']\n",
    "    Nnode = g0.number_of_nodes()\n",
    "\n",
    "    Nrep = 0\n",
    "    time_icerule = 0\n",
    "    time_depol = 0\n",
    "    Nfb = 0\n",
    "    delta = 0\n",
    "    while time_icerule < maxAccum and Nrep < maxRepeat:\n",
    "        g = nx.Graph(g0)\n",
    "\n",
    "        now = time.time()\n",
    "        dd = nx.DiGraph()\n",
    "        cycles = []\n",
    "        for cycle in tc.tileByCycles(g):\n",
    "            nx.add_cycle(dd, cycle)\n",
    "            cycles.append(cycle)\n",
    "        delta = time.time() - now\n",
    "        time_icerule += delta\n",
    "\n",
    "        test_icerule(dd, Nnode)\n",
    "\n",
    "        dipoles = dict()\n",
    "        # make relative vectors\n",
    "        for a, b in dd.edges():\n",
    "            dr = rpos[b] - rpos[a]\n",
    "            dr -= np.floor(dr+0.5)\n",
    "            dipoles[a, b] = dr\n",
    "\n",
    "        now = time.time()\n",
    "        fallback = tc.depolarize(cycles, dipoles, dd, rpos, cell)\n",
    "        Nfb += fallback\n",
    "        delta = time.time() - now\n",
    "        time_depol += delta\n",
    "\n",
    "        net = dp.net_polarization(dipoles)\n",
    "        assert np.allclose(net, 0)\n",
    "        \n",
    "        Nrep += 1\n",
    "    time_icerule /= Nrep\n",
    "    time_depol /= Nrep\n",
    "    time_genice_icerule.append([Nnode, time_icerule, Nrep])\n",
    "    time_genice_depol.append([Nnode, time_depol, Nrep, Nfb])\n",
    "    print(f\"{Nnode} molecules {delta} s avg. {Nrep} reps.\")\n",
    "    if Nnode >= maxNode:\n",
    "        break"
   ]
  },
  {
   "cell_type": "code",
   "execution_count": 6,
   "metadata": {},
   "outputs": [
    {
     "data": {
      "text/plain": [
       "([[64, 0.0039643049240112305, 10],\n",
       "  [216, 0.0017377853393554688, 10],\n",
       "  [512, 0.004029536247253418, 10],\n",
       "  [1000, 0.008107948303222656, 10],\n",
       "  [1728, 0.015476155281066894, 10],\n",
       "  [4096, 0.03364453315734863, 10],\n",
       "  [8000, 0.06765930652618408, 10],\n",
       "  [13824, 0.12507350444793702, 10],\n",
       "  [32768, 0.37516107559204104, 10],\n",
       "  [64000, 0.8037611416407994, 7],\n",
       "  [125000, 1.722546100616455, 3]],\n",
       " [[64, 0.0013276100158691405, 10, 3],\n",
       "  [216, 0.0020185232162475584, 10, 2],\n",
       "  [512, 0.0021476984024047852, 10, 0],\n",
       "  [1000, 0.0038010120391845704, 10, 0],\n",
       "  [1728, 0.006149435043334961, 10, 0],\n",
       "  [4096, 0.013801383972167968, 10, 0],\n",
       "  [8000, 0.026169300079345703, 10, 0],\n",
       "  [13824, 0.045233726501464844, 10, 0],\n",
       "  [32768, 0.11421535015106202, 10, 0],\n",
       "  [64000, 0.22836715834481375, 7, 0],\n",
       "  [125000, 0.4884149233500163, 3, 0]])"
      ]
     },
     "execution_count": 6,
     "metadata": {},
     "output_type": "execute_result"
    }
   ],
   "source": [
    "time_genice_icerule, time_genice_depol"
   ]
  },
  {
   "cell_type": "code",
   "execution_count": 11,
   "metadata": {},
   "outputs": [
    {
     "ename": "IndexError",
     "evalue": "too many indices for array: array is 1-dimensional, but 2 were indexed",
     "output_type": "error",
     "traceback": [
      "\u001b[0;31m---------------------------------------------------------------------------\u001b[0m",
      "\u001b[0;31mIndexError\u001b[0m                                Traceback (most recent call last)",
      "\u001b[0;32m<ipython-input-11-e8341c2aa266>\u001b[0m in \u001b[0;36m<module>\u001b[0;34m\u001b[0m\n\u001b[1;32m     11\u001b[0m \u001b[0;31m# ax.set_aspect('square') #, adjustable='box')\u001b[0m\u001b[0;34m\u001b[0m\u001b[0;34m\u001b[0m\u001b[0;34m\u001b[0m\u001b[0m\n\u001b[1;32m     12\u001b[0m \u001b[0;34m\u001b[0m\u001b[0m\n\u001b[0;32m---> 13\u001b[0;31m \u001b[0mplt\u001b[0m\u001b[0;34m.\u001b[0m\u001b[0mplot\u001b[0m\u001b[0;34m(\u001b[0m\u001b[0mtime_rahman_icerule\u001b[0m\u001b[0;34m[\u001b[0m\u001b[0;34m:\u001b[0m\u001b[0;34m,\u001b[0m \u001b[0;36m0\u001b[0m\u001b[0;34m]\u001b[0m\u001b[0;34m,\u001b[0m \u001b[0mtime_rahman_icerule\u001b[0m\u001b[0;34m[\u001b[0m\u001b[0;34m:\u001b[0m\u001b[0;34m,\u001b[0m \u001b[0;36m1\u001b[0m\u001b[0;34m]\u001b[0m\u001b[0;34m,\u001b[0m \u001b[0mlabel\u001b[0m\u001b[0;34m=\u001b[0m\u001b[0;34m\"Rahman\"\u001b[0m\u001b[0;34m)\u001b[0m\u001b[0;34m\u001b[0m\u001b[0;34m\u001b[0m\u001b[0m\n\u001b[0m\u001b[1;32m     14\u001b[0m \u001b[0mplt\u001b[0m\u001b[0;34m.\u001b[0m\u001b[0mplot\u001b[0m\u001b[0;34m(\u001b[0m\u001b[0mtime_buch_icerule\u001b[0m\u001b[0;34m[\u001b[0m\u001b[0;34m:\u001b[0m\u001b[0;34m,\u001b[0m \u001b[0;36m0\u001b[0m\u001b[0;34m]\u001b[0m\u001b[0;34m,\u001b[0m \u001b[0mtime_buch_icerule\u001b[0m\u001b[0;34m[\u001b[0m\u001b[0;34m:\u001b[0m\u001b[0;34m,\u001b[0m \u001b[0;36m1\u001b[0m\u001b[0;34m]\u001b[0m\u001b[0;34m,\u001b[0m \u001b[0mlabel\u001b[0m\u001b[0;34m=\u001b[0m\u001b[0;34m\"Buch\"\u001b[0m\u001b[0;34m)\u001b[0m\u001b[0;34m\u001b[0m\u001b[0;34m\u001b[0m\u001b[0m\n\u001b[1;32m     15\u001b[0m \u001b[0mplt\u001b[0m\u001b[0;34m.\u001b[0m\u001b[0mplot\u001b[0m\u001b[0;34m(\u001b[0m\u001b[0mtime_genice_icerule\u001b[0m\u001b[0;34m[\u001b[0m\u001b[0;34m:\u001b[0m\u001b[0;34m,\u001b[0m \u001b[0;36m0\u001b[0m\u001b[0;34m]\u001b[0m\u001b[0;34m,\u001b[0m \u001b[0mtime_genice_icerule\u001b[0m\u001b[0;34m[\u001b[0m\u001b[0;34m:\u001b[0m\u001b[0;34m,\u001b[0m \u001b[0;36m1\u001b[0m\u001b[0;34m]\u001b[0m\u001b[0;34m,\u001b[0m \u001b[0mlabel\u001b[0m\u001b[0;34m=\u001b[0m\u001b[0;34m\"This work\"\u001b[0m\u001b[0;34m)\u001b[0m\u001b[0;34m\u001b[0m\u001b[0;34m\u001b[0m\u001b[0m\n",
      "\u001b[0;31mIndexError\u001b[0m: too many indices for array: array is 1-dimensional, but 2 were indexed"
     ]
    },
    {
     "data": {
      "image/png": "[encoded data removed]",
      "text/plain": [
       "<Figure size 432x288 with 1 Axes>"
      ]
     },
     "metadata": {
      "needs_background": "light"
     },
     "output_type": "display_data"
    }
   ],
   "source": [
    "from matplotlib import pyplot as plt\n",
    "\n",
    "\n",
    "time_buch_icerule = np.array(time_buch_icerule)\n",
    "time_genice_icerule = np.array(time_genice_icerule)\n",
    "time_rahman_icerule = np.array(time_rahman_icerule)\n",
    "\n",
    "\n",
    "fig1, ax = plt.subplots()\n",
    "\n",
    "# ax.set_aspect('square') #, adjustable='box')\n",
    "\n",
    "plt.plot(time_rahman_icerule[:, 0], time_rahman_icerule[:, 1], label=\"Rahman\")\n",
    "plt.plot(time_buch_icerule[:, 0], time_buch_icerule[:, 1], label=\"Buch\")\n",
    "plt.plot(time_genice_icerule[:, 0], time_genice_icerule[:, 1], label=\"This work\")\n",
    "plt.xlim(0, 130000)\n",
    "plt.legend()\n",
    "plt.xlabel(\"Number of molecules\")\n",
    "plt.ylabel(\"Time / s\")\n",
    "plt.ylim(0, 100)\n",
    "plt.show()\n",
    "\n",
    "# fig1.savefig(\"benchmark.pdf\")"
   ]
  },
  {
   "cell_type": "code",
   "execution_count": 8,
   "metadata": {},
   "outputs": [
    {
     "data": {
      "text/plain": [
       "Text(0, 0.5, 'Time / s')"
      ]
     },
     "execution_count": 8,
     "metadata": {},
     "output_type": "execute_result"
    },
    {
     "data": {
      "image/png": "[encoded data removed]",
      "text/plain": [
       "<Figure size 432x288 with 1 Axes>"
      ]
     },
     "metadata": {
      "needs_background": "light"
     },
     "output_type": "display_data"
    }
   ],
   "source": [
    "from matplotlib import pyplot as plt\n",
    "import matplotlib as mpl\n",
    "mpl.rcParams['pdf.fonttype'] = 42\n",
    "\n",
    "time_genice_icerule = np.array(time_genice_icerule)\n",
    "time_genice_depol = np.array(time_genice_depol)\n",
    "\n",
    "fig1, ax = plt.subplots()\n",
    "\n",
    "lin = np.linspace(1e2, 1e5, 100)\n",
    "plt.loglog(time_rahman_icerule[:, 0], time_rahman_icerule[:, 1], label=\"Rahman\")\n",
    "plt.loglog(time_buch_icerule[:, 0], time_buch_icerule[:, 1], label=\"Buch\")\n",
    "plt.loglog(time_genice_icerule[:, 0], time_genice_icerule[:, 1], label=\"Ice rule\")\n",
    "plt.loglog(time_genice_depol[:, 0], time_genice_depol[:, 1], label=\"Depolarize\")\n",
    "\n",
    "plt.loglog(lin, lin*1e-5, label=r\"y=A x\")\n",
    "plt.legend()\n",
    "plt.xlabel(\"Number of molecules\")\n",
    "plt.ylabel(\"Time / s\")\n",
    "\n",
    "# fig1.savefig(\"benchmark-dep-loglog.pdf\")\n",
    "\n"
   ]
  },
  {
   "cell_type": "markdown",
   "metadata": {},
   "source": [
    "# With defects\n",
    "\n",
    "If the ice includes defects, i.e., if the graph is not an even graph, it is impossible to tile with cycles only. However, it is still possible to tile it with cycles and some chains connecting the vertices of the odd degree. \n",
    "\n",
    "In the following algorithm, first we look up the shortest chains connecting odd vertices by Dijkstra algorithm, remove them from the undirected graph, and then we tile the graph with cycles.\n"
   ]
  },
  {
   "cell_type": "code",
   "execution_count": 9,
   "metadata": {},
   "outputs": [
    {
     "name": "stderr",
     "output_type": "stream",
     "text": [
      "WARNING:root:Ice rule is not satisfied.\n"
     ]
    }
   ],
   "source": [
    "import tilecycles.Dipole as dp\n",
    "import tilecycles as tc\n",
    "\n",
    "                    \n",
    "def remove_path(G, path):\n",
    "    for i in range(len(path)-1):\n",
    "        G.remove_edge(path[i], path[i+1])\n",
    "    for node in path:\n",
    "        if len(G[node]) == 0:\n",
    "            G.remove_node(node)\n",
    "\n",
    "\n",
    "def odd_chains(g):\n",
    "    # make a list of odd vertices\n",
    "    odds = set([node for node in g if len(g[node]) % 2 == 1])\n",
    "\n",
    "    # couple them.\n",
    "    while len(odds) > 0:\n",
    "        node = odds.pop()\n",
    "        for path in dp.shortest_paths(g, node, odds):\n",
    "            end = path[-1]\n",
    "            assert end in odds\n",
    "            odds.remove(end)\n",
    "            yield path\n",
    "            break\n",
    "\n",
    "            \n",
    "lattice = Lattice(\"2D3\") # tri-layer ice with many surface defects\n",
    "formatter = Format(\"raw\", stage=(2,))  # generates an undirected graph\n",
    "\n",
    "N = 4\n",
    "raw = GenIce(lattice, rep=[N, N, 1]).generate_ice(formatter)\n",
    "g0 = raw['graph']\n",
    "Nnode = g0.number_of_nodes()\n",
    "\n",
    "g = nx.Graph(g0)\n",
    "\n",
    "dd = nx.DiGraph()\n",
    "\n",
    "# orientations of the chains may be changed later in order to reduce the polarization\n",
    "\n",
    "# remove the chains from the graph.\n",
    "for path in odd_chains(g):\n",
    "    remove_path(g, path)\n",
    "    nx.add_path(dd, path)\n",
    "\n",
    "\n",
    "# Tile it by cycles as usual.\n",
    "for cycle in tc.tileByCycles(g, Nnode):\n",
    "    nx.add_cycle(dd, cycle)\n",
    "\n"
   ]
  },
  {
   "cell_type": "markdown",
   "metadata": {
    "id": "cZMfyTyv8cBs"
   },
   "source": [
    "# Validation\n",
    "\n",
    "生成した氷の構造が十分にランダムであるかどうかを確認するために、サイクルを構成する水素結合の向きの統計をとる。\n",
    "\n",
    "氷の結晶構造はさまざまなサイズのirreducible ringsで構成されている。氷Iは6員環のみで構成されている。アイスルールを満たすネットワークに含まれる1つの6員環に注目すると、それを構成する水素結合の配向パターンには統計的な特徴がある。ここでは計算を簡単にするために次のようなBethe tree 近似を導入する。ある4-connectedな無限無向グラフ$g$が、6-cycleを1つだけもち、ほかにはサイクルを持たないものとする。このグラフ$g$にアイスルールを導入して有向グラフに変換した時、6-cycleに沿った辺の配向パターンの分布は表1のようになる。(誰かすでにやってそうなものだ。Stillinger?)\n",
    "\n",
    "*Table 1 アイスルールを満たす有向グラフの六員環の配向パターンと、Bethe tree近似による出現確率*\n",
    "\n",
    "| pattern| probability|\n",
    "|------|--------|\n",
    "|→→→→→→| 64/365 |\n",
    "|→→→→→←| 96/365 |\n",
    "|→→→→←←| 96/365 |\n",
    "|→→→←→←| 24/365 |\n",
    "|→→→←←←| 48/365 |\n",
    "|→→←→→←| 12/365 |\n",
    "|→→←→←←| 24/365 |\n",
    "|→←→←→←|  1/365 |\n",
    "\n",
    "現実の氷には無数の六員環が含まれているが、均質にランダムな水素無秩序氷では、上の分布に極めて近い分布が得られる。そこで、表1の分布と、生成した氷構造での配向パターンの分布を比較し、それらの分布の間のKullback-Leibler divergence $d_{KL}$を、氷構造の均質さの尺度とみなす。均質にランダムな水素無秩序氷では、$d_{KL}$は0に近付くが、配向パターンに偏りがあると、より大きな値になる。\n",
    "\n",
    "Rahmanらのアルゴリズムと、Buchらのアルゴリズムはどちらも収束的なアルゴリズムで、計算サイクルを増やすほど均質な分布に近付く。Rahmanらのアルゴリズムに関しては、初期配置を氷XI構造とする。また、Buchのアルゴリズムでは、初期配置はice ruleを満たさない完全ランダムな有向グラフとする。そして、ステップを重ねるごとに、上の分布にどのように近接するかを観察する。\n",
    "\n",
    "\n",
    "# Validation\n",
    "\n",
    "To check whether the structure of the generated ice is sufficiently random, we take the statistics of the orientation of the hydrogen bonds that make up the cycle.\n",
    "\n",
    "The crystal structure of ice consists of irreducible rings of various sizes. Ice I consists of only six-membered rings. If we focus on a single six-membered ring in the network that satisfies the ice rules, the orientation pattern of the hydrogen bonds that make up the ring has a statistical characteristic. To simplify the calculation, we introduce the following Bethe tree approximation. Suppose that a 4-connected infinite undirected graph $g$ has only one 6-cycle and no other cycles. When this graph $g$ is transformed into a directed graph by introducing the ice rules, the distribution of  edge orientation patterns along the 6-cycle is as shown in Table 1.\n",
    "\n",
    "*Table 1 Orientation patterns of six-membered rings in directed graphs satisfying the ice rules and their probability of occurrence using the Bethe tree approximation*.\n",
    "\n",
    "| pattern| probability|\n",
    "|------|--------|\n",
    "|→→→→→→| 64/365 |\n",
    "|→→→→→←| 96/365 |\n",
    "|→→→→←←| 96/365 |\n",
    "|→→→←→←| 24/365 |\n",
    "|→→→←←←| 48/365 |\n",
    "|→→←→→←| 12/365 |\n",
    "|→→←→←←| 24/365 |\n",
    "|→←→←→←|  1/365 |\n",
    "\n",
    "Although real ice contains innumerable six-membered rings, homogeneously random hydrogen-disordered ice yields a distribution very close to the above one. Therefore, we compare the distributions in Table 1 with the distributions of the orientation patterns in the generated ice structure, and consider the Kullback-Leibler divergence $d_{KL}$ between these distributions as a measure of the homogeneity of the ice structure. For homogeneously random hydrogen-disordered ice, $d_{KL}$ approaches zero, while biases in the orientation pattern lead to larger values.\n",
    "\n",
    "Both Rahman et al.'s and Buch et al.'s algorithms are convergent algorithms, approaching a homogeneous distribution with increasing number of computational cycles. For Rahman et al.'s algorithm, we choose the ice XI structure as the initial configuration. For Buch's algorithm, the initial configuration is a completely random directed graph that does not satisfy the ice rules. Then, with each step, we observe how it approaches the distribution above."
   ]
  },
  {
   "cell_type": "code",
   "execution_count": 3,
   "metadata": {
    "id": "hKolo_aI8cBs"
   },
   "outputs": [],
   "source": [
    "# Taken from GenIce/_ringstat.py\n",
    "from genice2.formats._ringstat import probabilities, orientations, encode\n",
    "from collections import defaultdict\n",
    "from cycless.cycles import cycles_iter\n",
    "import networkx as nx\n",
    "from math import log\n",
    "\n",
    "\n",
    "def KLdiv(d, pos):\n",
    "    graph = nx.Graph(d)  # undirected\n",
    "    prob = probabilities(6)\n",
    "    stat = defaultdict(int)\n",
    "\n",
    "    for ring in cycles_iter(graph, 6,  pos=pos):\n",
    "        ori = orientations(ring, d)\n",
    "        c   = encode(ori)\n",
    "        n   = len(ring)\n",
    "        stat[c] += 1\n",
    "\n",
    "    #size code code(binary) Approx. Stat.\n",
    "    denom = 0\n",
    "    for c in stat:\n",
    "        denom += stat[c]\n",
    "    dKL = 0.0\n",
    "    for c in prob:\n",
    "        q = stat[c]/denom\n",
    "        p = prob[c]\n",
    "        if q > 0.0:\n",
    "            dKL += q*(log(q) - log(p))\n",
    "    dKL /= log(2.0)  #bit\n",
    "    return dKL"
   ]
  },
  {
   "cell_type": "code",
   "execution_count": 10,
   "metadata": {
    "id": "CY-lMzTF8cBs"
   },
   "outputs": [
    {
     "ename": "NameError",
     "evalue": "name 'KLdiv' is not defined",
     "output_type": "error",
     "traceback": [
      "\u001b[0;31m---------------------------------------------------------------------------\u001b[0m",
      "\u001b[0;31mNameError\u001b[0m                                 Traceback (most recent call last)",
      "\u001b[0;32m<ipython-input-10-a2ae2abc86a6>\u001b[0m in \u001b[0;36m<module>\u001b[0;34m\u001b[0m\n\u001b[1;32m     21\u001b[0m     \u001b[0;32mif\u001b[0m \u001b[0mwatch\u001b[0m \u001b[0;34m==\u001b[0m \u001b[0msteps\u001b[0m\u001b[0;34m:\u001b[0m\u001b[0;34m\u001b[0m\u001b[0;34m\u001b[0m\u001b[0m\n\u001b[1;32m     22\u001b[0m         \u001b[0;31m# ring stat\u001b[0m\u001b[0;34m\u001b[0m\u001b[0;34m\u001b[0m\u001b[0;34m\u001b[0m\u001b[0m\n\u001b[0;32m---> 23\u001b[0;31m         \u001b[0mdKL\u001b[0m \u001b[0;34m=\u001b[0m \u001b[0mKLdiv\u001b[0m\u001b[0;34m(\u001b[0m\u001b[0md\u001b[0m\u001b[0;34m,\u001b[0m \u001b[0mrpos\u001b[0m\u001b[0;34m)\u001b[0m\u001b[0;34m\u001b[0m\u001b[0;34m\u001b[0m\u001b[0m\n\u001b[0m\u001b[1;32m     24\u001b[0m         \u001b[0mprint\u001b[0m\u001b[0;34m(\u001b[0m\u001b[0msteps\u001b[0m\u001b[0;34m,\u001b[0m \u001b[0mdKL\u001b[0m\u001b[0;34m)\u001b[0m\u001b[0;34m\u001b[0m\u001b[0;34m\u001b[0m\u001b[0m\n\u001b[1;32m     25\u001b[0m         \u001b[0mrahman_conv\u001b[0m\u001b[0;34m.\u001b[0m\u001b[0mappend\u001b[0m\u001b[0;34m(\u001b[0m\u001b[0;34m[\u001b[0m\u001b[0msteps\u001b[0m\u001b[0;34m,\u001b[0m \u001b[0mdKL\u001b[0m\u001b[0;34m]\u001b[0m\u001b[0;34m)\u001b[0m\u001b[0;34m\u001b[0m\u001b[0;34m\u001b[0m\u001b[0m\n",
      "\u001b[0;31mNameError\u001b[0m: name 'KLdiv' is not defined"
     ]
    }
   ],
   "source": [
    "# Rahman's\n",
    "import tilecycles.Rahman as Rahman\n",
    "\n",
    "lattice = Lattice(\"11\")\n",
    "formatter = Format(\"raw\", stage=(1,3,))\n",
    "\n",
    "N = 8\n",
    "raw = GenIce(lattice, rep=[N, N, N]).generate_ice(formatter)\n",
    "d = nx.DiGraph(raw['digraph'].edges())\n",
    "Nnode = d.number_of_nodes()\n",
    "rpos = raw['reppositions']\n",
    "\n",
    "# footprint\n",
    "g = nx.Graph(d)\n",
    "\n",
    "steps = 0\n",
    "watch = 1\n",
    "rahman_conv = []\n",
    "while g.number_of_edges() > 0:\n",
    "    steps += 1\n",
    "    if watch == steps:\n",
    "        # ring stat\n",
    "        dKL = KLdiv(d, rpos)\n",
    "        print(steps, dKL)\n",
    "        rahman_conv.append([steps, dKL])\n",
    "        # next watch interval\n",
    "        watch += 100  # watch\n",
    "\n",
    "    cycle = Rahman.six(d, d.number_of_nodes())\n",
    "    Rahman.invertCycle(d, cycle, g)\n",
    "\n",
    "dKL = KLdiv(d, rpos)\n",
    "print(steps, dKL)\n",
    "rahman_conv.append([steps, dKL])\n"
   ]
  },
  {
   "cell_type": "code",
   "execution_count": null,
   "metadata": {
    "id": "UW05AnwJ8cBs"
   },
   "outputs": [],
   "source": [
    "# Buch's\n",
    "import tilecycles.Buch as Buch\n",
    "\n",
    "\n",
    "buch_conv = []\n",
    "\n",
    "def migrate2(d, excess):\n",
    "    \"\"\"\n",
    "    excess is a set of nodes having more than two outgoing edges\n",
    "    \"\"\"\n",
    "    steps = 0\n",
    "    watch = 1\n",
    "    while len(excess) > 0:\n",
    "        steps += 1\n",
    "        if watch <= steps:\n",
    "            # ring stat\n",
    "            dKL = KLdiv(d, rpos)\n",
    "            print(steps, dKL)\n",
    "            buch_conv.append([steps, dKL])\n",
    "            # next watch interval\n",
    "            watch += 1000  # watch / 2\n",
    "\n",
    "        head = random.choice(list(excess))\n",
    "        nexts = list(d.successors(head))\n",
    "        next = random.choice(nexts)\n",
    "        d.remove_edge(head, next)\n",
    "        d.add_edge(next, head)\n",
    "        # if head's outgoing order was three\n",
    "        if len(nexts) == 3:\n",
    "            # remove from the excess list\n",
    "            excess.remove(head)\n",
    "        # if next's outgoing orderis three\n",
    "        if d.out_degree(next) == 3:\n",
    "            # it becomes a new excess\n",
    "            excess.add(next)\n",
    "    dKL = KLdiv(d, rpos)\n",
    "    print(steps, dKL)\n",
    "    buch_conv.append([steps, dKL])\n",
    "\n",
    "\n",
    "lattice = Lattice(\"1h\")\n",
    "formatter = Format(\"raw\", stage=(1,2,))  # generates an undirected graph\n",
    "\n",
    "\n",
    "N = 8\n",
    "raw = GenIce(lattice, rep=[N, N, N]).generate_ice(formatter)\n",
    "g = raw['graph']\n",
    "rpos = raw['reppositions']\n",
    "Nnode = g.number_of_nodes()\n",
    "\n",
    "dd = nx.DiGraph()\n",
    "for a, b in g.edges():\n",
    "    if random.randint(0, 1) == 1:\n",
    "        dd.add_edge(a, b)\n",
    "    else:\n",
    "        dd.add_edge(b, a)\n",
    "\n",
    "migrate2(dd, set([x for x in dd.nodes if dd.out_degree(x) > 2]))\n"
   ]
  },
  {
   "cell_type": "code",
   "execution_count": 6,
   "metadata": {
    "id": "21RS0Gl88cBt"
   },
   "outputs": [
    {
     "name": "stdout",
     "output_type": "stream",
     "text": [
      "0.0005141507548805231\n"
     ]
    }
   ],
   "source": [
    "# GenIce's\n",
    "import tilecycles as tc\n",
    "\n",
    "lattice = Lattice(\"1h\")\n",
    "formatter = Format(\"raw\", stage=(1,2,))  # generates an undirected graph\n",
    "\n",
    "N=8\n",
    "raw = GenIce(lattice, rep=[N, N, N]).generate_ice(formatter)\n",
    "g = nx.Graph(raw['graph'])\n",
    "rpos = raw['reppositions']\n",
    "\n",
    "d = nx.DiGraph()\n",
    "for cycle in tc.tileByCycles(g):\n",
    "    nx.add_cycle(d, cycle)\n",
    "\n",
    "genice_dKL = KLdiv(d, rpos)\n",
    "print(genice_dKL)\n"
   ]
  },
  {
   "cell_type": "code",
   "execution_count": null,
   "metadata": {
    "id": "ThsQL_l18cBt"
   },
   "outputs": [],
   "source": [
    "from matplotlib import pyplot as plt\n",
    "\n",
    "\n",
    "buch_conv = np.array(buch_conv)\n",
    "rahman_conv = np.array(rahman_conv)\n",
    "\n",
    "fig1, ax = plt.subplots()\n",
    "\n",
    "lin = np.linspace(1e2, 1e5, 100)\n",
    "plt.plot(rahman_conv[:, 0] / rahman_conv[-1, 0]*100, rahman_conv[:, 1], label=\"Rahman\")\n",
    "plt.plot(buch_conv[:, 0] / buch_conv[-1, 0]*100, buch_conv[:, 1], label=\"Buch\")\n",
    "plt.plot(100, genice_dKL, 'o', label=\"This work\")\n",
    "plt.yscale('log')\n",
    "plt.legend()\n",
    "plt.xlabel(\"Progress (%)\")\n",
    "plt.ylabel(r\"$d_\\mathrm{KL}$\")\n",
    "\n",
    "fig1.savefig(\"ringstat-log.pdf\")"
   ]
  },
  {
   "cell_type": "code",
   "execution_count": 8,
   "metadata": {},
   "outputs": [
    {
     "name": "stdout",
     "output_type": "stream",
     "text": [
      "800\n"
     ]
    },
    {
     "data": {
      "image/png": "[encoded data removed]",
      "text/plain": [
       "<Figure size 432x288 with 1 Axes>"
      ]
     },
     "metadata": {
      "needs_background": "light"
     },
     "output_type": "display_data"
    }
   ],
   "source": [
    "# for Cover graphics\n",
    "import numpy as np\n",
    "import networkx as nx\n",
    "import random\n",
    "\n",
    "from matplotlib import pyplot as plt\n",
    "\n",
    "\n",
    "# make a 2D 6x6 ice.\n",
    "def draw_cycle(cycle, pos, N, col):\n",
    "    threshold = 1.1/N**2\n",
    "    cm = plt.get_cmap('rainbow')\n",
    "    for i in range(len(cycle)):\n",
    "        a = cycle[i-1]\n",
    "        b = cycle[i]\n",
    "        va = pos[a]\n",
    "        vb = pos[b]\n",
    "        d = vb - va\n",
    "        if d@d > threshold:\n",
    "            d -= np.floor(d+0.5)\n",
    "            seg = np.vstack([vb-d, vb])\n",
    "            plt.plot(seg[:, 0], seg[:, 1], color=cm(col))\n",
    "        seg = np.vstack([va, va+d])\n",
    "        plt.plot(seg[:, 0], seg[:, 1], color=cm(col))\n",
    "\n",
    "\n",
    "N = 20\n",
    "X = np.arange(N)\n",
    "Y = np.arange(N)\n",
    "X, Y = np.meshgrid(X, Y)\n",
    "X = X.reshape(N * N)\n",
    "Y = Y.reshape(N * N)\n",
    "pos = np.vstack([X, Y]).T / N  # fractional coordinate\n",
    "g = nx.Graph()\n",
    "for a in range(N*N):\n",
    "    for b in range(a):\n",
    "        d = pos[a] - pos[b]\n",
    "        d -= np.floor(d+0.5)\n",
    "        if (d@d)*N*N < 1.1:\n",
    "            g.add_edge(a, b)\n",
    "\n",
    "print(g.number_of_edges())\n",
    "\n",
    "\n",
    "fig1, ax = plt.subplots()\n",
    "\n",
    "cycles = []\n",
    "dd = nx.DiGraph()\n",
    "for cycle in tileByCycles(g, N*N):\n",
    "    cycles.append(cycle)\n",
    "\n",
    "for i, cycle in enumerate(cycles):\n",
    "    draw_cycle(cycle, pos, N, i/len(cycles))\n",
    "\n",
    "ax.set_aspect('equal', adjustable='box')\n",
    "plt.show()\n",
    "# fig1.savefig(\"map.pdf\", bbox='tight')"
   ]
  },
  {
   "cell_type": "code",
   "execution_count": null,
   "metadata": {
    "id": "at0t2yvG32FK"
   },
   "outputs": [],
   "source": [
    "!pip install pycodestyle flake8 pycodestyle_magic"
   ]
  },
  {
   "cell_type": "code",
   "execution_count": null,
   "metadata": {
    "id": "nL82ivXZBBUo"
   },
   "outputs": [],
   "source": [
    "%load_ext pycodestyle_magic"
   ]
  },
  {
   "cell_type": "code",
   "execution_count": null,
   "metadata": {
    "id": "CH4HtfTGBGPg"
   },
   "outputs": [],
   "source": []
  }
 ],
 "metadata": {
  "colab": {
   "collapsed_sections": [],
   "include_colab_link": true,
   "name": "TileCycles.ipynb",
   "provenance": [],
   "toc_visible": true
  },
  "kernelspec": {
   "display_name": "Python 3",
   "language": "python",
   "name": "python3"
  },
  "language_info": {
   "codemirror_mode": {
    "name": "ipython",
    "version": 3
   },
   "file_extension": ".py",
   "mimetype": "text/x-python",
   "name": "python",
   "nbconvert_exporter": "python",
   "pygments_lexer": "ipython3",
   "version": "3.9.1rc1"
  }
 },
 "nbformat": 4,
 "nbformat_minor": 1
}
