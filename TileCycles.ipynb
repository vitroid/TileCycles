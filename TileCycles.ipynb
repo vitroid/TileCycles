{
  "nbformat": 4,
  "nbformat_minor": 0,
  "metadata": {
    "colab": {
      "name": "TileCycles.ipynb",
      "provenance": [],
      "collapsed_sections": [],
      "toc_visible": true,
      "include_colab_link": true
    },
    "kernelspec": {
      "display_name": "Python 3",
      "language": "python",
      "name": "python3"
    },
    "language_info": {
      "codemirror_mode": {
        "name": "ipython",
        "version": 3
      },
      "file_extension": ".py",
      "mimetype": "text/x-python",
      "name": "python",
      "nbconvert_exporter": "python",
      "pygments_lexer": "ipython3",
      "version": "3.9.1rc1"
    }
  },
  "cells": [
    {
      "cell_type": "markdown",
      "metadata": {
        "id": "view-in-github",
        "colab_type": "text"
      },
      "source": [
        "<a href=\"https://colab.research.google.com/github/vitroid/TileCycles/blob/main/TileCycles.ipynb\" target=\"_parent\"><img src=\"https://colab.research.google.com/assets/colab-badge.svg\" alt=\"Open In Colab\"/></a>"
      ]
    },
    {
      "cell_type": "code",
      "metadata": {
        "id": "Bo8eSXMuECsU"
      },
      "source": [
        "# install genice to generate the structure of ice.\n",
        "! pip install genice2"
      ],
      "execution_count": null,
      "outputs": []
    },
    {
      "cell_type": "markdown",
      "metadata": {
        "id": "EXCoWxdvXGTZ"
      },
      "source": [
        "## benchmark test"
      ]
    },
    {
      "cell_type": "code",
      "metadata": {
        "id": "5OZQGRPxW0DE"
      },
      "source": [
        "from genice2.genice import GenIce\n",
        "from genice2.plugin import Lattice, Format, Molecule\n",
        "\n",
        "import networkx as nx\n",
        "import numpy as np\n",
        "import random\n",
        "import time\n",
        "\n",
        "\n",
        "# sampling parameters for benchmarking\n",
        "# Accurate\n",
        "maxRepeat = 100  # loops\n",
        "maxAccum  = 25   # sec\n",
        "maxProc   = 100  # sec\n",
        "\n",
        "# Rough\n",
        "# maxRepeat = 10  # loops\n",
        "# maxAccum  = 5   # sec\n",
        "# maxProc   = 10  # sec"
      ],
      "execution_count": 2,
      "outputs": []
    },
    {
      "cell_type": "code",
      "metadata": {
        "id": "ysFVcLaoY8h5"
      },
      "source": [
        "def test_icerule(d, N):\n",
        "    assert d.number_of_nodes() == N\n",
        "    for node in d:\n",
        "        assert d.in_degree(node) == 2\n",
        "        assert d.in_degree(node) == 2        "
      ],
      "execution_count": 14,
      "outputs": []
    },
    {
      "cell_type": "markdown",
      "metadata": {
        "id": "pEvBXxOJY8h6"
      },
      "source": [
        "## Buch's algorithm\n",
        "\n",
        "There are two hydrogen sites between two neighboring oxygens, and Buch's algorithm assumes that the initial configuration is one in which all the hydrogens randomly occupy one of the two sites.\n",
        "\n",
        "In the initial configuration, there are many oxygen atoms with excess hydrogen. The algorithm migrates hydrogen from such an oxygen atom to a neighboring oxygen atom, and repeats the process randomly until there are two hydrogen species in every oxygen atom.\n"
      ]
    },
    {
      "cell_type": "code",
      "metadata": {
        "id": "L33jRCUTY8h7"
      },
      "source": [
        "def migrate(d, excess):\n",
        "    \"\"\"\n",
        "    excess is a set of nodes having more than two outgoing edges\n",
        "    \"\"\"\n",
        "    while len(excess) > 0:\n",
        "        head = random.choice(list(excess))\n",
        "        nexts = list(d.successors(head))\n",
        "        next = random.choice(nexts)\n",
        "        d.remove_edge(head, next)\n",
        "        d.add_edge(next, head)\n",
        "        # if head's outgoing order was three\n",
        "        if len(nexts) == 3:\n",
        "            # remove from the excess list\n",
        "            excess.remove(head)\n",
        "        # if next's outgoing orderis three\n",
        "        if d.out_degree(next) == 3:\n",
        "            # it becomes a new excess\n",
        "            excess.add(next)\n",
        "\n",
        "lattice    = Lattice(\"1c\") \n",
        "formatter  = Format(\"raw\", stage=(2,)) # generates an undirected graph\n",
        "water      = Molecule(\"spce\")\n",
        "            \n",
        "buch = []\n",
        "lastN = 0\n",
        "for NN in range(8,100):\n",
        "    N = int(1.4**(NN/3))\n",
        "    if N == lastN:\n",
        "        continue\n",
        "    lastN = N\n",
        "    raw = GenIce(lattice, rep=[N,N,N]).generate_ice(water, formatter)\n",
        "    g = raw['graph']\n",
        "    Nnode = g.number_of_nodes()\n",
        "\n",
        "    delta = 0.0\n",
        "    Nrep  = 0\n",
        "    while delta < maxAccum and Nrep < maxRepeat:\n",
        "        dd = nx.DiGraph()\n",
        "        for a,b in g.edges():\n",
        "            if random.randint(0,1) == 1:\n",
        "                dd.add_edge(a,b)\n",
        "            else:\n",
        "                dd.add_edge(b,a)\n",
        "\n",
        "        now = time.time()\n",
        "        migrate(dd, set([x for x in dd.nodes if dd.out_degree(x)>2]))\n",
        "        delta += time.time() - now\n",
        "        Nrep  += 1\n",
        "    delta /= Nrep\n",
        "    buch.append([Nnode,delta, Nrep])\n",
        "    print(f\"{Nnode} molecules {delta} s avg. {Nrep} reps.\")\n",
        "    test_icerule(dd, Nnode)\n",
        "    if delta > maxProc:\n",
        "        break"
      ],
      "execution_count": null,
      "outputs": []
    },
    {
      "cell_type": "markdown",
      "metadata": {
        "id": "ca3K1ckFY8h8"
      },
      "source": [
        "## GenIce algorithm\n",
        "\n",
        "Tiling by cycles."
      ]
    },
    {
      "cell_type": "code",
      "metadata": {
        "id": "kac5T4NGC9DL"
      },
      "source": [
        "from collections import defaultdict\n",
        "\n",
        "def find_cycle(g, chain, order):\n",
        "    head = chain[-1]\n",
        "    last = -1\n",
        "    if len(chain) > 1:\n",
        "        last = chain[-2]\n",
        "    while True:\n",
        "        nexts = [i for i in g[head] if i != last]\n",
        "        last = head\n",
        "        head = random.choice(nexts)\n",
        "        i = order[head]\n",
        "        if i == 0:\n",
        "            # returns to the first node of the chain\n",
        "            order[head] = -1\n",
        "            return [], chain\n",
        "        elif i > 0:\n",
        "            # crosses at an intermediate node of the chain\n",
        "            return chain[:i+1], chain[i:]\n",
        "        order[head] = len(chain)\n",
        "        chain.append(head)\n",
        "\n",
        "        \n",
        "def remove_cycle(g, cycle, order):\n",
        "    for i in range(1,len(cycle)):\n",
        "        order[cycle[i]] = -1\n",
        "    for i in range(len(cycle)):\n",
        "        a = cycle[i-1]\n",
        "        b = cycle[i]\n",
        "        g.remove_edge(a,b)\n",
        "    for a in cycle:\n",
        "        if g.degree(a) == 0:\n",
        "            g.remove_node(a)\n",
        "\n",
        "\n",
        "def tileByCycles(g):\n",
        "    chain = []\n",
        "    order = -np.ones(g.number_of_nodes(), dtype=np.int)\n",
        "    while g.number_of_nodes() > 0:\n",
        "        if len(chain) == 0:\n",
        "            head  = random.choice(list(g.nodes()))\n",
        "            chain = [head]\n",
        "            # \"order\" stores the order of a node in the chain\n",
        "            order[head] = 0\n",
        "        chain, cycle = find_cycle(g, chain, order)\n",
        "        yield cycle\n",
        "#         print(chain, cycle, order, \"before removal\")\n",
        "        remove_cycle(g, cycle, order)\n",
        "#         print(chain, cycle, order)\n",
        "\n",
        "\n",
        "lattice    = Lattice(\"1c\") \n",
        "formatter  = Format(\"raw\", stage=(2,)) # generates an undirected graph\n",
        "water      = Molecule(\"spce\")\n",
        "\n",
        "gen  = []\n",
        "for NN in range(4,100):\n",
        "    N = int(2**(NN/3))\n",
        "    raw = GenIce(lattice, rep=[N,N,N]).generate_ice(water, formatter)\n",
        "    g0 = raw['graph']\n",
        "    Nnode = g0.number_of_nodes()\n",
        "\n",
        "    # 一旦無向グラフになおし、\n",
        "\n",
        "    delta = 0.0\n",
        "    Nrep  = 0\n",
        "    while delta < maxAccum and Nrep < maxRepeat:\n",
        "        g = nx.Graph(g0)\n",
        "\n",
        "        now = time.time()\n",
        "        dd = nx.DiGraph()\n",
        "        for cycle in tileByCycles(g):\n",
        "            if random.randint(0,1) == 0:\n",
        "                nx.add_cycle(dd, cycle)\n",
        "            else:\n",
        "                nx.add_cycle(dd, cycle[::-1])\n",
        "        delta += time.time() - now\n",
        "        Nrep  += 1\n",
        "    delta /= Nrep\n",
        "    gen.append([Nnode,delta,Nrep])\n",
        "    print(f\"{Nnode} molecules {delta} s avg. {Nrep} reps.\")\n",
        "    test_icerule(dd, Nnode)\n",
        "    if Nnode >= 1e6:\n",
        "        break"
      ],
      "execution_count": null,
      "outputs": []
    },
    {
      "cell_type": "markdown",
      "metadata": {
        "id": "5MAt2xo6Y8h9"
      },
      "source": [
        "## Rahman's algorithm\n",
        "\n",
        "The algorithm prepares a depolarized structure in advance and generates a hydrogen-disordered structure by successively reversing randomly chosen homodromic cycles.\n",
        "\n",
        "Here, the ice Ic structure generated by GenIce is used as an initial structure, and the procedure is repeated until all the edges are inverted at least once."
      ]
    },
    {
      "cell_type": "code",
      "metadata": {
        "id": "pb1gv00kY8h-"
      },
      "source": [
        "import random\n",
        "\n",
        "def six(d, Nnode):\n",
        "    \"\"\"\n",
        "    find a cyclic path in the given digraph.\n",
        "    d: digraph (networkx.DiGraph)\n",
        "    \"\"\"\n",
        "    head = random.randint(0, Nnode-1)\n",
        "    path = [head]\n",
        "    while True:\n",
        "        nexts = list(d.neighbors(head))\n",
        "        next = random.choice(nexts)\n",
        "        if next in path:\n",
        "            i = path.index(next)\n",
        "            return path[i:]\n",
        "        path.append(next)\n",
        "        head = next\n",
        "\n",
        "def invertCycle(d, cycle, g):\n",
        "    for i in range(len(cycle)):\n",
        "        a, b = cycle[i-1], cycle[i]\n",
        "        d.remove_edge(a,b)\n",
        "        d.add_edge(b,a)\n",
        "        # footprint\n",
        "        if g.has_edge(a,b):\n",
        "            g.remove_edge(a,b)\n",
        "\n",
        "\n",
        "lattice    = Lattice(\"1c\") \n",
        "formatter  = Format(\"raw\", stage=(3,)) # We need the directed graph of ice!\n",
        "water      = Molecule(\"spce\")\n",
        "\n",
        "rahman  = []\n",
        "for N in range(1,20):\n",
        "    raw = GenIce(lattice, rep=[N,N,N]).generate_ice(water, formatter)\n",
        "    d = nx.DiGraph(raw['digraph'].edges())\n",
        "    Nnode = d.number_of_nodes()\n",
        "\n",
        "    delta = 0.0\n",
        "    Nrep  = 0\n",
        "    while delta < maxAccum and Nrep < maxRepeat:\n",
        "        # footprint\n",
        "        g = nx.Graph(d)\n",
        "\n",
        "        now = time.time()\n",
        "        while g.number_of_edges() > 0:\n",
        "            cycle = six(d, d.number_of_nodes())\n",
        "            invertCycle(d, cycle, g)\n",
        "        delta += time.time() - now\n",
        "        Nrep  += 1\n",
        "    delta /= Nrep\n",
        "    rahman.append([Nnode,delta, Nrep])\n",
        "    print(f\"{Nnode} molecules {delta} s avg. {Nrep} reps.\")\n",
        "    test_icerule(d, Nnode)\n",
        "    if delta > maxProc:\n",
        "        break\n"
      ],
      "execution_count": null,
      "outputs": []
    },
    {
      "cell_type": "code",
      "metadata": {
        "colab": {
          "base_uri": "https://localhost:8080/",
          "height": 446
        },
        "id": "KIFEzT3BYD8w",
        "outputId": "2153d23a-1349-43a1-c64d-e4be581114f8"
      },
      "source": [
        "from matplotlib import pyplot as plt\n",
        "\n",
        "\n",
        "buch = np.array(buch)\n",
        "gen  = np.array(gen)\n",
        "rahman = np.array(rahman)\n",
        "\n",
        "plt.plot(rahman[:,0], rahman[:,1], label=\"Rahman\")\n",
        "plt.plot(buch[:,0], buch[:,1], label=\"Buch\")\n",
        "plt.plot(gen[:,0], gen[:,1], label=\"This work\")\n",
        "plt.xlim(0,130000)\n",
        "plt.legend()\n",
        "plt.xlabel(\"Number of molecules\")\n",
        "plt.ylabel(\"Time / s\")\n",
        "\n"
      ],
      "execution_count": null,
      "outputs": [
        {
          "output_type": "execute_result",
          "data": {
            "text/plain": [
              "Text(0, 0.5, 'Time / s')"
            ]
          },
          "metadata": {
            "tags": []
          },
          "execution_count": 68
        },
        {
          "output_type": "display_data",
          "data": {
            "image/png": "[encoded data removed]",
            "text/plain": [
              "<Figure size 432x288 with 1 Axes>"
            ]
          },
          "metadata": {
            "tags": [],
            "needs_background": "light"
          }
        }
      ]
    },
    {
      "cell_type": "code",
      "metadata": {
        "colab": {
          "base_uri": "https://localhost:8080/"
        },
        "id": "HzBzS47LZysp",
        "outputId": "72944c68-9818-45af-fbe8-15a50e44db37"
      },
      "source": [
        "lin = np.linspace(1e2, 1e5,100)\n",
        "plt.loglog(rahman[:,0], rahman[:,1], label=\"Rahman\")\n",
        "plt.loglog(buch[:,0], buch[:,1], label=\"Buch\")\n",
        "plt.loglog(gen[:,0], gen[:,1], label=\"This work\")\n",
        "plt.loglog(lin, lin*1e-5, label=\"y=x\")\n",
        "plt.legend()\n",
        "plt.xlabel(\"Number of molecules\")\n",
        "plt.ylabel(\"Time / s\")\n"
      ],
      "execution_count": null,
      "outputs": [
        {
          "output_type": "execute_result",
          "data": {
            "text/plain": [
              "Text(0, 0.5, 'Time / s')"
            ]
          },
          "metadata": {
            "tags": []
          },
          "execution_count": 69
        },
        {
          "output_type": "display_data",
          "data": {
            "image/png": "[encoded data removed]",
            "text/plain": [
              "<Figure size 432x288 with 1 Axes>"
            ]
          },
          "metadata": {
            "tags": [],
            "needs_background": "light"
          }
        }
      ]
    },
    {
      "cell_type": "code",
      "metadata": {
        "id": "ReSCKrZYZ4ND",
        "outputId": "32a2c17c-961b-470e-d059-6d05c838b239",
        "colab": {
          "base_uri": "https://localhost:8080/",
          "height": 282
        }
      },
      "source": [
        "# for TOC graphics\n",
        "\n",
        "from matplotlib import pyplot as plt\n",
        "\n",
        "# make a 2D 6x6 ice.\n",
        "\n",
        "def draw_cycle(cycle, pos, N, col):\n",
        "    threshold = 1.1/N**2\n",
        "    cm = plt.get_cmap('rainbow')\n",
        "    segs = []\n",
        "    for i in range(len(cycle)):\n",
        "        a = cycle[i-1]\n",
        "        b = cycle[i]\n",
        "        va = pos[a]\n",
        "        vb = pos[b]\n",
        "        d = vb - va\n",
        "        if d@d > threshold:\n",
        "            d -= np.floor(d+0.5)\n",
        "            seg = np.vstack([vb-d, vb])\n",
        "            plt.plot(seg[:,0], seg[:,1], color=cm(col))\n",
        "        seg = np.vstack([va, va+d])\n",
        "        plt.plot(seg[:,0], seg[:,1], color=cm(col))\n",
        "\n",
        "N = 8\n",
        "X = np.arange(N)\n",
        "Y = np.arange(N)\n",
        "X,Y = np.meshgrid(X,Y)\n",
        "X = X.reshape(N*N)\n",
        "Y = Y.reshape(N*N)\n",
        "pos = np.vstack([X,Y]).T / N # fractional coordinate\n",
        "g = nx.Graph()\n",
        "for a in range(N*N):\n",
        "    for b in range(a):\n",
        "        d = pos[a] - pos[b]\n",
        "        d -= np.floor(d+0.5)\n",
        "        if (d@d)*N*N < 1.1:\n",
        "            g.add_edge(a,b)\n",
        "\n",
        "print(g.number_of_edges())\n",
        "\n",
        "\n",
        "fig1, ax = plt.subplots()\n",
        "\n",
        "cycles = []\n",
        "dd = nx.DiGraph()\n",
        "for cycle in tileByCycles(g):\n",
        "    cycles.append(cycle)\n",
        "\n",
        "for i, cycle in enumerate(cycles):\n",
        "    draw_cycle(cycle, pos, N, i/len(cycles))\n",
        "\n",
        "ax.set_aspect('equal', adjustable='box')\n",
        "plt.show()\n",
        "fig1.savefig(\"map.pdf\", bbox='tight')"
      ],
      "execution_count": 51,
      "outputs": [
        {
          "output_type": "stream",
          "text": [
            "128\n"
          ],
          "name": "stdout"
        },
        {
          "output_type": "display_data",
          "data": {
            "image/png": "[encoded data removed]",
            "text/plain": [
              "<Figure size 432x288 with 1 Axes>"
            ]
          },
          "metadata": {
            "tags": [],
            "needs_background": "light"
          }
        }
      ]
    },
    {
      "cell_type": "code",
      "metadata": {
        "id": "fHJIT5e8Di3C"
      },
      "source": [
        ""
      ],
      "execution_count": null,
      "outputs": []
    }
  ]
}