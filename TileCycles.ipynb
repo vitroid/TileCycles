{
 "cells": [
  {
   "cell_type": "markdown",
   "metadata": {
    "colab_type": "text",
    "id": "view-in-github"
   },
   "source": [
    "<a href=\"https://colab.research.google.com/github/vitroid/TileCycles/blob/main/TileCycles.ipynb\" target=\"_parent\"><img src=\"https://colab.research.google.com/assets/colab-badge.svg\" alt=\"Open In Colab\"/></a>"
   ]
  },
  {
   "cell_type": "code",
   "execution_count": null,
   "metadata": {
    "id": "Bo8eSXMuECsU"
   },
   "outputs": [],
   "source": [
    "# install genice to generate the structure of ice.\n",
    "! pip install genice2"
   ]
  },
  {
   "cell_type": "markdown",
   "metadata": {
    "id": "EXCoWxdvXGTZ"
   },
   "source": [
    "## benchmark test"
   ]
  },
  {
   "cell_type": "code",
   "execution_count": 10,
   "metadata": {
    "id": "5OZQGRPxW0DE"
   },
   "outputs": [],
   "source": [
    "from genice2.genice import GenIce\n",
    "from genice2.plugin import Lattice, Format, Molecule\n",
    "\n",
    "import networkx as nx\n",
    "import numpy as np\n",
    "import random\n",
    "import time\n",
    "\n",
    "\n",
    "# sampling parameters for benchmarking\n",
    "# Accurate\n",
    "maxRepeat = 100  # loops\n",
    "maxAccum  = 25   # sec\n",
    "maxProc   = 100  # sec\n",
    "\n",
    "# Rough estimate\n",
    "# maxRepeat = 10  # loops\n",
    "# maxAccum  = 5   # sec\n",
    "# maxProc   = 10  # sec"
   ]
  },
  {
   "cell_type": "code",
   "execution_count": 3,
   "metadata": {
    "id": "ysFVcLaoY8h5"
   },
   "outputs": [],
   "source": [
    "def test_icerule(d, N):\n",
    "    assert d.number_of_nodes() == N\n",
    "    for node in d:\n",
    "        assert d.in_degree(node) == 2\n",
    "        assert d.in_degree(node) == 2        "
   ]
  },
  {
   "cell_type": "markdown",
   "metadata": {
    "id": "pEvBXxOJY8h6"
   },
   "source": [
    "## Buch's algorithm\n",
    "\n",
    "There are two hydrogen sites between two neighboring oxygens, and Buch's algorithm assumes that the initial configuration is one in which all the hydrogens randomly occupy one of the two sites.\n",
    "\n",
    "In the initial configuration, there are many oxygen atoms with excess hydrogen. The algorithm migrates hydrogen from such an oxygen atom to a neighboring oxygen atom, and repeats the process randomly until there are two hydrogen species in every oxygen atom.\n"
   ]
  },
  {
   "cell_type": "code",
   "execution_count": 3,
   "metadata": {
    "id": "L33jRCUTY8h7"
   },
   "outputs": [
    {
     "name": "stdout",
     "output_type": "stream",
     "text": [
      "64 molecules 0.0009588623046875 s avg. 100 reps.\n",
      "216 molecules 0.003646407127380371 s avg. 100 reps.\n",
      "512 molecules 0.010696017742156982 s avg. 100 reps.\n",
      "1000 molecules 0.026830813884735107 s avg. 100 reps.\n",
      "1728 molecules 0.0525518798828125 s avg. 100 reps.\n",
      "2744 molecules 0.09188459157943725 s avg. 100 reps.\n",
      "4096 molecules 0.17154123067855834 s avg. 100 reps.\n",
      "5832 molecules 0.27664460978665195 s avg. 91 reps.\n",
      "8000 molecules 0.45384529658726286 s avg. 56 reps.\n",
      "10648 molecules 0.8092939007666803 s avg. 31 reps.\n",
      "17576 molecules 2.3292704929005015 s avg. 11 reps.\n",
      "21952 molecules 3.543711245059967 s avg. 8 reps.\n",
      "32768 molecules 7.854432702064514 s avg. 4 reps.\n",
      "46656 molecules 15.33465301990509 s avg. 2 reps.\n",
      "64000 molecules 31.81002378463745 s avg. 1 reps.\n",
      "97336 molecules 69.92082571983337 s avg. 1 reps.\n",
      "125000 molecules 120.40048098564148 s avg. 1 reps.\n"
     ]
    }
   ],
   "source": [
    "def migrate(d, excess):\n",
    "    \"\"\"\n",
    "    excess is a set of nodes having more than two outgoing edges\n",
    "    \"\"\"\n",
    "    while len(excess) > 0:\n",
    "        head = random.choice(list(excess))\n",
    "        nexts = list(d.successors(head))\n",
    "        next = random.choice(nexts)\n",
    "        d.remove_edge(head, next)\n",
    "        d.add_edge(next, head)\n",
    "        # if head's outgoing order was three\n",
    "        if len(nexts) == 3:\n",
    "            # remove from the excess list\n",
    "            excess.remove(head)\n",
    "        # if next's outgoing orderis three\n",
    "        if d.out_degree(next) == 3:\n",
    "            # it becomes a new excess\n",
    "            excess.add(next)\n",
    "\n",
    "lattice    = Lattice(\"1c\") \n",
    "formatter  = Format(\"raw\", stage=(2,)) # generates an undirected graph\n",
    "water      = Molecule(\"spce\")\n",
    "            \n",
    "buch = []\n",
    "lastN = 0\n",
    "for NN in range(8,100):\n",
    "    N = int(1.4**(NN/3))\n",
    "    if N == lastN:\n",
    "        continue\n",
    "    lastN = N\n",
    "    raw = GenIce(lattice, rep=[N,N,N]).generate_ice(water, formatter)\n",
    "    g = raw['graph']\n",
    "    Nnode = g.number_of_nodes()\n",
    "\n",
    "    delta = 0.0\n",
    "    Nrep  = 0\n",
    "    while delta < maxAccum and Nrep < maxRepeat:\n",
    "        dd = nx.DiGraph()\n",
    "        for a,b in g.edges():\n",
    "            if random.randint(0,1) == 1:\n",
    "                dd.add_edge(a,b)\n",
    "            else:\n",
    "                dd.add_edge(b,a)\n",
    "\n",
    "        now = time.time()\n",
    "        migrate(dd, set([x for x in dd.nodes if dd.out_degree(x)>2]))\n",
    "        delta += time.time() - now\n",
    "        Nrep  += 1\n",
    "    delta /= Nrep\n",
    "    buch.append([Nnode,delta, Nrep])\n",
    "    print(f\"{Nnode} molecules {delta} s avg. {Nrep} reps.\")\n",
    "    test_icerule(dd, Nnode)\n",
    "    if delta > maxProc:\n",
    "        break"
   ]
  },
  {
   "cell_type": "markdown",
   "metadata": {
    "id": "ca3K1ckFY8h8"
   },
   "source": [
    "## GenIce algorithm\n",
    "\n",
    "Tiling by cycles."
   ]
  },
  {
   "cell_type": "code",
   "execution_count": 11,
   "metadata": {
    "id": "kac5T4NGC9DL"
   },
   "outputs": [
    {
     "name": "stdout",
     "output_type": "stream",
     "text": [
      "64 molecules 0.0034427642822265625 s avg. 10 reps.\n",
      "216 molecules 0.002259349822998047 s avg. 10 reps.\n",
      "512 molecules 0.005154943466186524 s avg. 10 reps.\n",
      "1000 molecules 0.00974419116973877 s avg. 10 reps.\n",
      "1728 molecules 0.014621710777282715 s avg. 10 reps.\n",
      "4096 molecules 0.04753882884979248 s avg. 10 reps.\n",
      "8000 molecules 0.09013049602508545 s avg. 10 reps.\n",
      "13824 molecules 0.14758007526397704 s avg. 10 reps.\n",
      "32768 molecules 0.38166348934173583 s avg. 10 reps.\n",
      "64000 molecules 0.8257481711251395 s avg. 7 reps.\n",
      "125000 molecules 1.689017613728841 s avg. 3 reps.\n",
      "262144 molecules 4.110708475112915 s avg. 2 reps.\n",
      "512000 molecules 9.641914129257202 s avg. 1 reps.\n",
      "1000000 molecules 21.748023986816406 s avg. 1 reps.\n"
     ]
    }
   ],
   "source": [
    "from collections import defaultdict\n",
    "\n",
    "def find_cycle(g, chain, order):\n",
    "    head = chain[-1]\n",
    "    last = -1\n",
    "    if len(chain) > 1:\n",
    "        last = chain[-2]\n",
    "    while True:\n",
    "        nexts = [i for i in g[head] if i != last]\n",
    "        last = head\n",
    "        head = random.choice(nexts)\n",
    "        i = order[head]\n",
    "        if i == 0:\n",
    "            # returns to the first node of the chain\n",
    "            order[head] = -1\n",
    "            return [], chain\n",
    "        elif i > 0:\n",
    "            # crosses at an intermediate node of the chain\n",
    "            return chain[:i+1], chain[i:]\n",
    "        order[head] = len(chain)\n",
    "        chain.append(head)\n",
    "\n",
    "        \n",
    "def remove_cycle(g, cycle, order):\n",
    "    for i in range(1,len(cycle)):\n",
    "        order[cycle[i]] = -1\n",
    "    for i in range(len(cycle)):\n",
    "        a = cycle[i-1]\n",
    "        b = cycle[i]\n",
    "        g.remove_edge(a,b)\n",
    "    for a in cycle:\n",
    "        if g.degree(a) == 0:\n",
    "            g.remove_node(a)\n",
    "\n",
    "\n",
    "def tileByCycles(g):\n",
    "    chain = []\n",
    "    order = -np.ones(g.number_of_nodes(), dtype=np.int)\n",
    "    while g.number_of_nodes() > 0:\n",
    "        if len(chain) == 0:\n",
    "            head  = random.choice(list(g.nodes()))\n",
    "            chain = [head]\n",
    "            # \"order\" stores the order of a node in the chain\n",
    "            order[head] = 0\n",
    "        chain, cycle = find_cycle(g, chain, order)\n",
    "        yield cycle\n",
    "#         print(chain, cycle, order, \"before removal\")\n",
    "        remove_cycle(g, cycle, order)\n",
    "#         print(chain, cycle, order)\n",
    "\n",
    "\n",
    "lattice    = Lattice(\"1c\") \n",
    "formatter  = Format(\"raw\", stage=(2,)) # generates an undirected graph\n",
    "water      = Molecule(\"spce\")\n",
    "\n",
    "gen  = []\n",
    "for NN in range(4,100):\n",
    "    N = int(2**(NN/3))\n",
    "    raw = GenIce(lattice, rep=[N,N,N]).generate_ice(water, formatter)\n",
    "    g0 = raw['graph']\n",
    "    Nnode = g0.number_of_nodes()\n",
    "\n",
    "    delta = 0.0\n",
    "    Nrep  = 0\n",
    "    while delta < maxAccum and Nrep < maxRepeat:\n",
    "        g = nx.Graph(g0)\n",
    "\n",
    "        now = time.time()\n",
    "        dd = nx.DiGraph()\n",
    "        for cycle in tileByCycles(g):\n",
    "            nx.add_cycle(dd, cycle)\n",
    "        delta += time.time() - now\n",
    "        Nrep  += 1\n",
    "    delta /= Nrep\n",
    "    gen.append([Nnode,delta,Nrep])\n",
    "    print(f\"{Nnode} molecules {delta} s avg. {Nrep} reps.\")\n",
    "    test_icerule(dd, Nnode)\n",
    "    if Nnode >= 1e6:\n",
    "        break"
   ]
  },
  {
   "cell_type": "markdown",
   "metadata": {
    "id": "5MAt2xo6Y8h9"
   },
   "source": [
    "## Rahman's algorithm\n",
    "\n",
    "The algorithm prepares a depolarized structure in advance and generates a hydrogen-disordered structure by successively reversing randomly chosen homodromic cycles.\n",
    "\n",
    "Here, the ice Ic structure generated by GenIce is used as an initial structure, and the procedure is repeated until all the edges are inverted at least once."
   ]
  },
  {
   "cell_type": "code",
   "execution_count": 5,
   "metadata": {
    "id": "pb1gv00kY8h-"
   },
   "outputs": [
    {
     "name": "stdout",
     "output_type": "stream",
     "text": [
      "8 molecules 0.0005725836753845215 s avg. 100 reps.\n",
      "64 molecules 0.006042015552520752 s avg. 100 reps.\n",
      "216 molecules 0.03559020757675171 s avg. 100 reps.\n",
      "512 molecules 0.13644211530685424 s avg. 100 reps.\n",
      "1000 molecules 0.5256063044071198 s avg. 48 reps.\n",
      "1728 molecules 1.4246844980451796 s avg. 18 reps.\n",
      "2744 molecules 3.209210501776801 s avg. 9 reps.\n",
      "4096 molecules 5.763437032699585 s avg. 5 reps.\n",
      "5832 molecules 10.19284168879191 s avg. 3 reps.\n",
      "8000 molecules 20.532631993293762 s avg. 2 reps.\n",
      "10648 molecules 32.4906051158905 s avg. 1 reps.\n",
      "13824 molecules 60.52833604812622 s avg. 1 reps.\n",
      "17576 molecules 101.49427103996277 s avg. 1 reps.\n"
     ]
    }
   ],
   "source": [
    "import random\n",
    "\n",
    "def six(d, Nnode):\n",
    "    \"\"\"\n",
    "    find a cyclic path in the given digraph.\n",
    "    d: digraph (networkx.DiGraph)\n",
    "    \"\"\"\n",
    "    head = random.randint(0, Nnode-1)\n",
    "    path = [head]\n",
    "    while True:\n",
    "        nexts = list(d.neighbors(head))\n",
    "        next = random.choice(nexts)\n",
    "        if next in path:\n",
    "            i = path.index(next)\n",
    "            return path[i:]\n",
    "        path.append(next)\n",
    "        head = next\n",
    "\n",
    "def invertCycle(d, cycle, g):\n",
    "    for i in range(len(cycle)):\n",
    "        a, b = cycle[i-1], cycle[i]\n",
    "        d.remove_edge(a,b)\n",
    "        d.add_edge(b,a)\n",
    "        # footprint\n",
    "        if g.has_edge(a,b):\n",
    "            g.remove_edge(a,b)\n",
    "\n",
    "\n",
    "lattice    = Lattice(\"1c\") \n",
    "formatter  = Format(\"raw\", stage=(3,)) # We need the directed graph of ice!\n",
    "water      = Molecule(\"spce\")\n",
    "\n",
    "rahman  = []\n",
    "for N in range(1,20):\n",
    "    raw = GenIce(lattice, rep=[N,N,N]).generate_ice(water, formatter)\n",
    "    d = nx.DiGraph(raw['digraph'].edges())\n",
    "    Nnode = d.number_of_nodes()\n",
    "\n",
    "    delta = 0.0\n",
    "    Nrep  = 0\n",
    "    while delta < maxAccum and Nrep < maxRepeat:\n",
    "        # footprint\n",
    "        g = nx.Graph(d)\n",
    "\n",
    "        now = time.time()\n",
    "        while g.number_of_edges() > 0:\n",
    "            cycle = six(d, d.number_of_nodes())\n",
    "            invertCycle(d, cycle, g)\n",
    "        delta += time.time() - now\n",
    "        Nrep  += 1\n",
    "    delta /= Nrep\n",
    "    rahman.append([Nnode,delta, Nrep])\n",
    "    print(f\"{Nnode} molecules {delta} s avg. {Nrep} reps.\")\n",
    "    test_icerule(d, Nnode)\n",
    "    if delta > maxProc:\n",
    "        break\n"
   ]
  },
  {
   "cell_type": "code",
   "execution_count": 13,
   "metadata": {
    "colab": {
     "base_uri": "https://localhost:8080/",
     "height": 446
    },
    "id": "KIFEzT3BYD8w",
    "outputId": "2153d23a-1349-43a1-c64d-e4be581114f8"
   },
   "outputs": [
    {
     "data": {
      "image/png": "[encoded data removed]",
      "text/plain": [
       "<Figure size 432x288 with 1 Axes>"
      ]
     },
     "metadata": {
      "needs_background": "light"
     },
     "output_type": "display_data"
    }
   ],
   "source": [
    "from matplotlib import pyplot as plt\n",
    "\n",
    "\n",
    "buch = np.array(buch)\n",
    "gen  = np.array(gen)\n",
    "rahman = np.array(rahman)\n",
    "\n",
    "\n",
    "fig1, ax = plt.subplots()\n",
    "\n",
    "# ax.set_aspect('square') #, adjustable='box')\n",
    "\n",
    "plt.plot(rahman[:,0], rahman[:,1], label=\"Rahman\")\n",
    "plt.plot(buch[:,0], buch[:,1], label=\"Buch\")\n",
    "plt.plot(gen[:,0], gen[:,1], label=\"This work\")\n",
    "plt.xlim(0,130000)\n",
    "plt.legend()\n",
    "plt.xlabel(\"Number of molecules\")\n",
    "plt.ylabel(\"Time / s\")\n",
    "plt.ylim(0,100)\n",
    "plt.show()\n",
    "\n",
    "fig1.savefig(\"benchmark.pdf\") #, bbox='tight')\n"
   ]
  },
  {
   "cell_type": "code",
   "execution_count": 17,
   "metadata": {
    "colab": {
     "base_uri": "https://localhost:8080/"
    },
    "id": "HzBzS47LZysp",
    "outputId": "72944c68-9818-45af-fbe8-15a50e44db37"
   },
   "outputs": [
    {
     "data": {
      "image/png": "[encoded data removed]",
      "text/plain": [
       "<Figure size 432x288 with 1 Axes>"
      ]
     },
     "metadata": {
      "needs_background": "light"
     },
     "output_type": "display_data"
    }
   ],
   "source": [
    "fig1, ax = plt.subplots()\n",
    "\n",
    "lin = np.linspace(1e2, 1e5,100)\n",
    "plt.loglog(rahman[:,0], rahman[:,1], label=\"Rahman\")\n",
    "plt.loglog(buch[:,0], buch[:,1], label=\"Buch\")\n",
    "plt.loglog(gen[:,0], gen[:,1], label=\"This work\")\n",
    "plt.loglog(lin, lin*1e-5, label=r\"y=A x\")\n",
    "plt.legend()\n",
    "plt.xlabel(\"Number of molecules\")\n",
    "plt.ylabel(\"Time / s\")\n",
    "\n",
    "fig1.savefig(\"benchmark-loglog.pdf\")\n"
   ]
  },
  {
   "cell_type": "code",
   "execution_count": 51,
   "metadata": {
    "colab": {
     "base_uri": "https://localhost:8080/",
     "height": 282
    },
    "id": "ReSCKrZYZ4ND",
    "outputId": "32a2c17c-961b-470e-d059-6d05c838b239"
   },
   "outputs": [
    {
     "name": "stdout",
     "output_type": "stream",
     "text": [
      "128\n"
     ]
    },
    {
     "data": {
      "image/png": "[encoded data removed]",
      "text/plain": [
       "<Figure size 432x288 with 1 Axes>"
      ]
     },
     "metadata": {
      "needs_background": "light",
      "tags": []
     },
     "output_type": "display_data"
    }
   ],
   "source": [
    "# for TOC graphics\n",
    "\n",
    "from matplotlib import pyplot as plt\n",
    "\n",
    "# make a 2D 6x6 ice.\n",
    "\n",
    "def draw_cycle(cycle, pos, N, col):\n",
    "    threshold = 1.1/N**2\n",
    "    cm = plt.get_cmap('rainbow')\n",
    "    segs = []\n",
    "    for i in range(len(cycle)):\n",
    "        a = cycle[i-1]\n",
    "        b = cycle[i]\n",
    "        va = pos[a]\n",
    "        vb = pos[b]\n",
    "        d = vb - va\n",
    "        if d@d > threshold:\n",
    "            d -= np.floor(d+0.5)\n",
    "            seg = np.vstack([vb-d, vb])\n",
    "            plt.plot(seg[:,0], seg[:,1], color=cm(col))\n",
    "        seg = np.vstack([va, va+d])\n",
    "        plt.plot(seg[:,0], seg[:,1], color=cm(col))\n",
    "\n",
    "N = 8\n",
    "X = np.arange(N)\n",
    "Y = np.arange(N)\n",
    "X,Y = np.meshgrid(X,Y)\n",
    "X = X.reshape(N*N)\n",
    "Y = Y.reshape(N*N)\n",
    "pos = np.vstack([X,Y]).T / N # fractional coordinate\n",
    "g = nx.Graph()\n",
    "for a in range(N*N):\n",
    "    for b in range(a):\n",
    "        d = pos[a] - pos[b]\n",
    "        d -= np.floor(d+0.5)\n",
    "        if (d@d)*N*N < 1.1:\n",
    "            g.add_edge(a,b)\n",
    "\n",
    "print(g.number_of_edges())\n",
    "\n",
    "\n",
    "fig1, ax = plt.subplots()\n",
    "\n",
    "cycles = []\n",
    "dd = nx.DiGraph()\n",
    "for cycle in tileByCycles(g):\n",
    "    cycles.append(cycle)\n",
    "\n",
    "for i, cycle in enumerate(cycles):\n",
    "    draw_cycle(cycle, pos, N, i/len(cycles))\n",
    "\n",
    "ax.set_aspect('equal', adjustable='box')\n",
    "plt.show()\n",
    "fig1.savefig(\"map.pdf\", bbox='tight')"
   ]
  },
  {
   "cell_type": "code",
   "execution_count": 12,
   "metadata": {
    "id": "fHJIT5e8Di3C"
   },
   "outputs": [
    {
     "name": "stdout",
     "output_type": "stream",
     "text": [
      "64 molecules 0.07685179710388183 s avg. 10 reps.\n",
      "216 molecules 0.00046458244323730467 s avg. 10 reps.\n",
      "512 molecules 0.0010532379150390626 s avg. 10 reps.\n",
      "1000 molecules 0.002032828330993652 s avg. 10 reps.\n",
      "1728 molecules 0.0034823179244995116 s avg. 10 reps.\n",
      "4096 molecules 0.008349800109863281 s avg. 10 reps.\n",
      "8000 molecules 0.017378878593444825 s avg. 10 reps.\n",
      "13824 molecules 0.03195834159851074 s avg. 10 reps.\n",
      "32768 molecules 0.12450575828552246 s avg. 10 reps.\n",
      "64000 molecules 0.3010960578918457 s avg. 10 reps.\n",
      "125000 molecules 0.6649147570133209 s avg. 8 reps.\n",
      "262144 molecules 1.3767372965812683 s avg. 4 reps.\n",
      "512000 molecules 2.969234824180603 s avg. 2 reps.\n",
      "1000000 molecules 5.52209746837616 s avg. 2 reps.\n"
     ]
    }
   ],
   "source": [
    "# C++ implementation\n",
    "\n",
    "import tilecycles as tc\n",
    "import numpy as np\n",
    "\n",
    "lattice    = Lattice(\"1c\") \n",
    "formatter  = Format(\"raw\", stage=(2,)) # generates an undirected graph\n",
    "water      = Molecule(\"spce\")\n",
    "\n",
    "seed = 1111\n",
    "\n",
    "cpp  = []\n",
    "for NN in range(4,100):\n",
    "    N = int(2**(NN/3))\n",
    "    raw = GenIce(lattice, rep=[N,N,N]).generate_ice(water, formatter)\n",
    "    g0 = raw['graph']\n",
    "    Nnode = g0.number_of_nodes()\n",
    "\n",
    "    pairs = np.array([(i,j) for i,j in g0.edges()], dtype=np.int32)\n",
    "\n",
    "    delta = 0.0\n",
    "    Nrep  = 0\n",
    "    while delta < maxAccum and Nrep < maxRepeat:\n",
    "        now = time.time()\n",
    "        dd = nx.DiGraph()\n",
    "        for cycle in tc.tile(pairs, Nnode, seed):\n",
    "            nx.add_cycle(dd, cycle)\n",
    "        delta += time.time() - now\n",
    "        Nrep  += 1\n",
    "    delta /= Nrep\n",
    "    cpp.append([Nnode,delta,Nrep])\n",
    "    print(f\"{Nnode} molecules {delta} s avg. {Nrep} reps.\")\n",
    "    test_icerule(dd, Nnode)\n",
    "    if Nnode >= 1e6:\n",
    "        break"
   ]
  },
  {
   "cell_type": "code",
   "execution_count": 14,
   "metadata": {},
   "outputs": [
    {
     "data": {
      "image/png": "[encoded data removed]",
      "text/plain": [
       "<Figure size 432x288 with 1 Axes>"
      ]
     },
     "metadata": {
      "needs_background": "light"
     },
     "output_type": "display_data"
    }
   ],
   "source": [
    "from matplotlib import pyplot as plt\n",
    "\n",
    "\n",
    "gen  = np.array(gen)\n",
    "cpp  = np.array(cpp)\n",
    "\n",
    "\n",
    "fig1, ax = plt.subplots()\n",
    "\n",
    "lin = np.linspace(1e2, 1e5,100)\n",
    "plt.loglog(gen[:,0], gen[:,1], label=\"Python\")\n",
    "plt.loglog(cpp[:,0], cpp[:,1], label=\"C++\")\n",
    "\n",
    "plt.loglog(lin, lin*1e-5, label=r\"y=A x\")\n",
    "plt.legend()\n",
    "plt.xlabel(\"Number of molecules\")\n",
    "plt.ylabel(\"Time / s\")\n",
    "\n",
    "fig1.savefig(\"benchmark-cp-loglog.pdf\")\n",
    "\n",
    "# C++ is four times faster than python,\n",
    "# but Python is fast enough..."
   ]
  },
  {
   "cell_type": "code",
   "execution_count": null,
   "metadata": {},
   "outputs": [],
   "source": []
  }
 ],
 "metadata": {
  "colab": {
   "collapsed_sections": [],
   "include_colab_link": true,
   "name": "TileCycles.ipynb",
   "provenance": [],
   "toc_visible": true
  },
  "kernelspec": {
   "display_name": "Python 3",
   "language": "python",
   "name": "python3"
  },
  "language_info": {
   "codemirror_mode": {
    "name": "ipython",
    "version": 3
   },
   "file_extension": ".py",
   "mimetype": "text/x-python",
   "name": "python",
   "nbconvert_exporter": "python",
   "pygments_lexer": "ipython3",
   "version": "3.9.1rc1"
  }
 },
 "nbformat": 4,
 "nbformat_minor": 1
}
