{
 "cells": [
  {
   "cell_type": "markdown",
   "metadata": {
    "colab_type": "text",
    "id": "view-in-github"
   },
   "source": [
    "<a href=\"https://colab.research.google.com/github/vitroid/TileCycles/blob/main/TileCycles.ipynb\" target=\"_parent\"><img src=\"https://colab.research.google.com/assets/colab-badge.svg\" alt=\"Open In Colab\"/></a>"
   ]
  },
  {
   "cell_type": "code",
   "execution_count": null,
   "metadata": {
    "id": "Bo8eSXMuECsU"
   },
   "outputs": [],
   "source": [
    "# install genice to generate the structure of ice.\n",
    "! pip install genice2"
   ]
  },
  {
   "cell_type": "markdown",
   "metadata": {
    "id": "EXCoWxdvXGTZ"
   },
   "source": [
    "## benchmark test"
   ]
  },
  {
   "cell_type": "code",
   "execution_count": 1,
   "metadata": {
    "id": "5OZQGRPxW0DE"
   },
   "outputs": [],
   "source": [
    "from genice2.genice import GenIce\n",
    "from genice2.plugin import Lattice, Format, Molecule\n",
    "\n",
    "import networkx as nx\n",
    "import numpy as np\n",
    "import random\n",
    "import time\n",
    "\n"
   ]
  },
  {
   "cell_type": "code",
   "execution_count": 2,
   "metadata": {
    "id": "ysFVcLaoY8h5"
   },
   "outputs": [],
   "source": [
    "def test_icerule(d, N):\n",
    "    assert d.number_of_nodes() == N\n",
    "    for node in d:\n",
    "        assert d.in_degree(node) == 2\n",
    "        assert d.in_degree(node) == 2        "
   ]
  },
  {
   "cell_type": "markdown",
   "metadata": {
    "id": "pEvBXxOJY8h6"
   },
   "source": [
    "## Buch's algorithm\n",
    "\n",
    "There are two hydrogen sites between two neighboring oxygens, and Buch's algorithm assumes that the initial configuration is one in which all the hydrogens randomly occupy one of the two sites.\n",
    "\n",
    "In the initial configuration, there are many oxygen atoms with excess hydrogen. The algorithm migrates hydrogen from such an oxygen atom to a neighboring oxygen atom, and repeats the process randomly until there are two hydrogen species in every oxygen atom.\n"
   ]
  },
  {
   "cell_type": "code",
   "execution_count": 17,
   "metadata": {
    "id": "L33jRCUTY8h7"
   },
   "outputs": [
    {
     "name": "stdout",
     "output_type": "stream",
     "text": [
      "64 molecules 0.0007976794242858887 s avg. 100 reps.\n",
      "216 molecules 0.0037792372703552247 s avg. 100 reps.\n",
      "512 molecules 0.010907974243164063 s avg. 100 reps.\n",
      "1000 molecules 0.026852226257324217 s avg. 100 reps.\n",
      "1728 molecules 0.05287705898284912 s avg. 100 reps.\n",
      "4096 molecules 0.17555171251296997 s avg. 100 reps.\n",
      "8000 molecules 0.46322732943075673 s avg. 54 reps.\n",
      "13824 molecules 1.3208919449856407 s avg. 19 reps.\n",
      "32768 molecules 7.883743464946747 s avg. 4 reps.\n",
      "64000 molecules 31.755836009979248 s avg. 1 reps.\n",
      "125000 molecules 135.1386969089508 s avg. 1 reps.\n"
     ]
    }
   ],
   "source": [
    "def migrate(d, excess):\n",
    "    \"\"\"\n",
    "    excess is a set of nodes having more than two outgoing edges\n",
    "    \"\"\"\n",
    "    while len(excess) > 0:\n",
    "        head = random.choice(list(excess))\n",
    "        nexts = list(d.successors(head))\n",
    "        next = random.choice(nexts)\n",
    "        d.remove_edge(head, next)\n",
    "        d.add_edge(next, head)\n",
    "        # if head's outgoing order was three\n",
    "        if len(nexts) == 3:\n",
    "            # remove from the excess list\n",
    "            excess.remove(head)\n",
    "        # if next's outgoing orderis three\n",
    "        if d.out_degree(next) == 3:\n",
    "            # it becomes a new excess\n",
    "            excess.add(next)\n",
    "\n",
    "lattice    = Lattice(\"1c\") \n",
    "formatter  = Format(\"raw\", stage=(2,)) # generates an undirected graph\n",
    "water      = Molecule(\"spce\")\n",
    "            \n",
    "buch = []\n",
    "for NN in range(4,100):\n",
    "    N = int(2**(NN/3))\n",
    "    raw = GenIce(lattice, rep=[N,N,N]).generate_ice(water, formatter)\n",
    "    g = raw['graph']\n",
    "    Nnode = g.number_of_nodes()\n",
    "\n",
    "    delta = 0.0\n",
    "    Nrep  = 0\n",
    "    while delta < 25.0 and Nrep < 100:\n",
    "        dd = nx.DiGraph()\n",
    "        for a,b in g.edges():\n",
    "            if random.randint(0,1) == 1:\n",
    "                dd.add_edge(a,b)\n",
    "            else:\n",
    "                dd.add_edge(b,a)\n",
    "\n",
    "        now = time.time()\n",
    "        migrate(dd, set([x for x in dd.nodes if dd.out_degree(x)>2]))\n",
    "        delta += time.time() - now\n",
    "        Nrep  += 1\n",
    "    delta /= Nrep\n",
    "    buch.append([Nnode,delta, Nrep])\n",
    "    print(f\"{Nnode} molecules {delta} s avg. {Nrep} reps.\")\n",
    "    test_icerule(dd, Nnode)\n",
    "    if delta > 100:\n",
    "        break"
   ]
  },
  {
   "cell_type": "markdown",
   "metadata": {
    "id": "ca3K1ckFY8h8"
   },
   "source": [
    "## GenIce algorithm\n",
    "\n",
    "Tiling by cycles."
   ]
  },
  {
   "cell_type": "code",
   "execution_count": 42,
   "metadata": {},
   "outputs": [
    {
     "name": "stdout",
     "output_type": "stream",
     "text": [
      "64 molecules 0.0005005240440368652 s avg. 100 reps.\n",
      "216 molecules 0.0016349220275878905 s avg. 100 reps.\n",
      "512 molecules 0.003937056064605713 s avg. 100 reps.\n",
      "1000 molecules 0.0077289390563964845 s avg. 100 reps.\n",
      "1728 molecules 0.014181249141693116 s avg. 100 reps.\n",
      "4096 molecules 0.0341080641746521 s avg. 100 reps.\n",
      "8000 molecules 0.08347035408020019 s avg. 100 reps.\n",
      "13824 molecules 0.15946095705032348 s avg. 100 reps.\n",
      "32768 molecules 0.3914722725749016 s avg. 64 reps.\n",
      "64000 molecules 0.9315587591241907 s avg. 27 reps.\n",
      "125000 molecules 2.035205529286311 s avg. 13 reps.\n",
      "262144 molecules 5.030002236366272 s avg. 6 reps.\n",
      "512000 molecules 12.650138020515442 s avg. 2 reps.\n",
      "1000000 molecules 29.20327877998352 s avg. 1 reps.\n"
     ]
    }
   ],
   "source": [
    "from collections import defaultdict\n",
    "\n",
    "def find_cycle(g, chain, order):\n",
    "    head = chain[-1]\n",
    "    last = -1\n",
    "    if len(chain) > 1:\n",
    "        last = chain[-2]\n",
    "    while True:\n",
    "        nexts = [i for i in g[head] if i != last]\n",
    "        last = head\n",
    "        head = random.choice(nexts)\n",
    "        if head in order:\n",
    "            i = order[head]\n",
    "            assert i == chain.index(head)\n",
    "            if i == 0:\n",
    "                return [], chain\n",
    "            return chain[:i+1], chain[i:]\n",
    "        order[head] = len(chain)\n",
    "        chain.append(head)\n",
    "\n",
    "        \n",
    "def remove_cycle(g, cycle, order):\n",
    "    for i in range(1,len(cycle)):\n",
    "        del order[cycle[i]]\n",
    "    for i in range(len(cycle)):\n",
    "        a = cycle[i-1]\n",
    "        b = cycle[i]\n",
    "        g.remove_edge(a,b)\n",
    "    for a in cycle:\n",
    "        if g.degree(a) == 0:\n",
    "            g.remove_node(a)\n",
    "\n",
    "\n",
    "def tileByCycles(g):\n",
    "    chain = []\n",
    "    while g.number_of_nodes() > 0:\n",
    "        if len(chain) == 0:\n",
    "            head  = random.choice(list(g.nodes()))\n",
    "            chain = [head]\n",
    "            # \"order\" stores the order of a node in the chain\n",
    "            order = dict()\n",
    "            order[head] = 0\n",
    "        chain, cycle = find_cycle(g, chain, order)\n",
    "        yield cycle\n",
    "        remove_cycle(g, cycle, order)\n",
    "\n",
    "\n",
    "lattice    = Lattice(\"1c\") \n",
    "formatter  = Format(\"raw\", stage=(2,)) # generates an undirected graph\n",
    "water      = Molecule(\"spce\")\n",
    "\n",
    "gen  = []\n",
    "for NN in range(4,100):\n",
    "    N = int(2**(NN/3))\n",
    "    raw = GenIce(lattice, rep=[N,N,N]).generate_ice(water, formatter)\n",
    "    g0 = raw['graph']\n",
    "    Nnode = g0.number_of_nodes()\n",
    "\n",
    "    # 一旦無向グラフになおし、\n",
    "\n",
    "    delta = 0.0\n",
    "    Nrep  = 0\n",
    "    while delta < 25.0 and Nrep < 100:\n",
    "        g = nx.Graph(g0)\n",
    "\n",
    "        now = time.time()\n",
    "        dd = nx.DiGraph()\n",
    "        for cycle in tileByCycles(g):\n",
    "            if random.randint(0,1) == 0:\n",
    "                nx.add_cycle(dd, cycle)\n",
    "            else:\n",
    "                nx.add_cycle(dd, cycle[::-1])\n",
    "        delta += time.time() - now\n",
    "        Nrep  += 1\n",
    "    delta /= Nrep\n",
    "    gen.append([Nnode,delta,Nrep])\n",
    "    print(f\"{Nnode} molecules {delta} s avg. {Nrep} reps.\")\n",
    "    test_icerule(dd, Nnode)\n",
    "    if Nnode >= 1e6:\n",
    "        break"
   ]
  },
  {
   "cell_type": "markdown",
   "metadata": {
    "id": "5MAt2xo6Y8h9"
   },
   "source": [
    "## Rahman's algorithm\n",
    "\n",
    "The algorithm prepares a depolarized structure in advance and generates a hydrogen-disordered structure by successively reversing randomly chosen homodromic cycles.\n",
    "\n",
    "Here, the ice Ic structure generated by GenIce is used as an initial structure, and the procedure is repeated until all the edges are inverted at least once."
   ]
  },
  {
   "cell_type": "code",
   "execution_count": 18,
   "metadata": {
    "id": "pb1gv00kY8h-"
   },
   "outputs": [
    {
     "name": "stdout",
     "output_type": "stream",
     "text": [
      "8 molecules 0.00042351756640064144 s avg. 4723 reps.\n",
      "64 molecules 0.0059551504396256946 s avg. 336 reps.\n",
      "216 molecules 0.04169024030367533 s avg. 48 reps.\n",
      "512 molecules 0.1640445085672232 s avg. 13 reps.\n",
      "1000 molecules 0.3777349392573039 s avg. 6 reps.\n",
      "1728 molecules 0.9683992862701416 s avg. 3 reps.\n",
      "2744 molecules 2.4667809009552 s avg. 1 reps.\n",
      "4096 molecules 4.229054927825928 s avg. 1 reps.\n",
      "5832 molecules 8.157728910446167 s avg. 1 reps.\n",
      "8000 molecules 21.52269196510315 s avg. 1 reps.\n",
      "10648 molecules 30.895194053649902 s avg. 1 reps.\n",
      "13824 molecules 56.96268081665039 s avg. 1 reps.\n"
     ]
    }
   ],
   "source": [
    "import random\n",
    "\n",
    "def six(d, Nnode):\n",
    "    \"\"\"\n",
    "    find a cyclic path in the given digraph.\n",
    "    d: digraph (networkx.DiGraph)\n",
    "    \"\"\"\n",
    "    head = random.randint(0, Nnode-1)\n",
    "    path = [head]\n",
    "    while True:\n",
    "        nexts = list(d.neighbors(head))\n",
    "        next = random.choice(nexts)\n",
    "        if next in path:\n",
    "            i = path.index(next)\n",
    "            return path[i:]\n",
    "        path.append(next)\n",
    "        head = next\n",
    "\n",
    "def invertCycle(d, cycle, g):\n",
    "    for i in range(len(cycle)):\n",
    "        a, b = cycle[i-1], cycle[i]\n",
    "        d.remove_edge(a,b)\n",
    "        d.add_edge(b,a)\n",
    "        # footprint\n",
    "        if g.has_edge(a,b):\n",
    "            g.remove_edge(a,b)\n",
    "\n",
    "\n",
    "lattice    = Lattice(\"1c\") \n",
    "formatter  = Format(\"raw\", stage=(3,)) # We need the directed graph of ice!\n",
    "water      = Molecule(\"spce\")\n",
    "\n",
    "rahman  = []\n",
    "for N in range(1,20):\n",
    "    raw = GenIce(lattice, rep=[N,N,N]).generate_ice(water, formatter)\n",
    "    d = nx.DiGraph(raw['digraph'].edges())\n",
    "    Nnode = d.number_of_nodes()\n",
    "\n",
    "    delta = 0.0\n",
    "    Nrep  = 0\n",
    "    while delta < 25.0 and Nrep < 100:\n",
    "        # footprint\n",
    "        g = nx.Graph(d)\n",
    "\n",
    "        now = time.time()\n",
    "        while g.number_of_edges() > 0:\n",
    "            cycle = six(d, d.number_of_nodes())\n",
    "            invertCycle(d, cycle, g)\n",
    "        delta += time.time() - now\n",
    "        Nrep  += 1\n",
    "    delta /= Nrep\n",
    "    rahman.append([Nnode,delta, Nrep])\n",
    "    print(f\"{Nnode} molecules {delta} s avg. {Nrep} reps.\")\n",
    "    test_icerule(d, Nnode)\n",
    "    if delta > 50:\n",
    "        break\n"
   ]
  },
  {
   "cell_type": "code",
   "execution_count": 44,
   "metadata": {
    "colab": {
     "base_uri": "https://localhost:8080/",
     "height": 446
    },
    "id": "KIFEzT3BYD8w",
    "outputId": "2153d23a-1349-43a1-c64d-e4be581114f8"
   },
   "outputs": [
    {
     "data": {
      "text/plain": [
       "Text(0, 0.5, 'Time / s')"
      ]
     },
     "execution_count": 44,
     "metadata": {},
     "output_type": "execute_result"
    },
    {
     "data": {
      "image/png": "[encoded data removed]",
      "text/plain": [
       "<Figure size 432x288 with 1 Axes>"
      ]
     },
     "metadata": {
      "needs_background": "light"
     },
     "output_type": "display_data"
    }
   ],
   "source": [
    "from matplotlib import pyplot as plt\n",
    "\n",
    "\n",
    "buch = np.array(buch)\n",
    "gen  = np.array(gen)\n",
    "rahman = np.array(rahman)\n",
    "\n",
    "plt.plot(rahman[:,0], rahman[:,1], label=\"Rahman\")\n",
    "plt.plot(buch[:,0], buch[:,1], label=\"Buch\")\n",
    "plt.plot(gen[:,0], gen[:,1], label=\"GenIce\")\n",
    "plt.xlim(0,130000)\n",
    "plt.legend()\n",
    "plt.xlabel(\"Number of molecules\")\n",
    "plt.ylabel(\"Time / s\")\n",
    "\n"
   ]
  },
  {
   "cell_type": "code",
   "execution_count": 37,
   "metadata": {
    "colab": {
     "base_uri": "https://localhost:8080/"
    },
    "id": "HzBzS47LZysp",
    "outputId": "72944c68-9818-45af-fbe8-15a50e44db37"
   },
   "outputs": [
    {
     "data": {
      "text/plain": [
       "Text(0, 0.5, 'Time / s')"
      ]
     },
     "execution_count": 37,
     "metadata": {},
     "output_type": "execute_result"
    },
    {
     "data": {
      "image/png": "[encoded data removed]",
      "text/plain": [
       "<Figure size 432x288 with 1 Axes>"
      ]
     },
     "metadata": {
      "needs_background": "light"
     },
     "output_type": "display_data"
    }
   ],
   "source": [
    "lin = np.linspace(1e2, 1e5,100)\n",
    "plt.loglog(rahman[:,0], rahman[:,1], label=\"Rahman\")\n",
    "plt.loglog(buch[:,0], buch[:,1], label=\"Buch\")\n",
    "plt.loglog(gen[:,0], gen[:,1], label=\"GenIce\")\n",
    "plt.loglog(lin, lin*1e-5, label=\"y=x\")\n",
    "plt.legend()\n",
    "plt.xlabel(\"Number of molecules\")\n",
    "plt.ylabel(\"Time / s\")\n"
   ]
  },
  {
   "cell_type": "code",
   "execution_count": null,
   "metadata": {
    "id": "ReSCKrZYZ4ND"
   },
   "outputs": [],
   "source": []
  }
 ],
 "metadata": {
  "colab": {
   "collapsed_sections": [],
   "include_colab_link": true,
   "name": "TileCycles.ipynb",
   "provenance": []
  },
  "kernelspec": {
   "display_name": "Python 3",
   "language": "python",
   "name": "python3"
  },
  "language_info": {
   "codemirror_mode": {
    "name": "ipython",
    "version": 3
   },
   "file_extension": ".py",
   "mimetype": "text/x-python",
   "name": "python",
   "nbconvert_exporter": "python",
   "pygments_lexer": "ipython3",
   "version": "3.9.1rc1"
  }
 },
 "nbformat": 4,
 "nbformat_minor": 1
}
